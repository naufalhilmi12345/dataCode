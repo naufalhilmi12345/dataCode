{
 "cells": [
  {
   "cell_type": "markdown",
   "metadata": {
    "id": "E2xdGXAyQ4Ny"
   },
   "source": [
    "<center><h1>Analisis Kata pada Korpus</h1></center>"
   ]
  },
  {
   "cell_type": "markdown",
   "metadata": {},
   "source": [
    "# Setup"
   ]
  },
  {
   "cell_type": "code",
   "execution_count": null,
   "metadata": {
    "colab": {
     "base_uri": "https://localhost:8080/"
    },
    "executionInfo": {
     "elapsed": 3133,
     "status": "ok",
     "timestamp": 1633430221959,
     "user": {
      "displayName": "Naufal Hilmi",
      "photoUrl": "https://lh3.googleusercontent.com/a-/AOh14Gj7UB8yAHzIcK8gtuCV9hf44dCQUmF8XqLkQI3C=s64",
      "userId": "02567910694508979199"
     },
     "user_tz": -420
    },
    "id": "10FmXdsQjMjD",
    "outputId": "b8933130-a2a3-4c53-e5b5-90e2196d3e9a"
   },
   "outputs": [],
   "source": [
    "!pip install PySastrawi"
   ]
  },
  {
   "cell_type": "code",
   "execution_count": null,
   "metadata": {
    "id": "9NeZBJoERYxC"
   },
   "outputs": [],
   "source": [
    "import pandas as pd\n",
    "import numpy as np\n",
    "import string\n",
    "import nltk\n",
    "from Sastrawi.Stemmer.StemmerFactory import StemmerFactory"
   ]
  },
  {
   "cell_type": "markdown",
   "metadata": {
    "id": "NrOFZH5CUStC"
   },
   "source": [
    "# Word Edit Distance"
   ]
  },
  {
   "cell_type": "markdown",
   "metadata": {
    "id": "eKEuqt0TUYUP"
   },
   "source": [
    "## Algoritma Levenshtein Distance"
   ]
  },
  {
   "cell_type": "code",
   "execution_count": null,
   "metadata": {
    "id": "miJnDzWlnV8T"
   },
   "outputs": [],
   "source": [
    "## Algoritma Levenshtein Distance\n",
    "## Sumber pengetahuan: https://www.youtube.com/watch?v=MiqoA-yF-0M&t=873s\n",
    "\n",
    "def levenshtein_dist(string_a, string_b):\n",
    "  memo = []\n",
    "  for i in range(len(string_a)+1):\n",
    "    new = []\n",
    "    for j in range(len(string_b)+1):\n",
    "      new.append(0)\n",
    "    memo.append(new)\n",
    "\n",
    "  for i in range(len(string_a)):\n",
    "    memo[i+1][0] = i+1\n",
    "\n",
    "  for i in range(len(string_b)):\n",
    "    memo[0][i+1] = i+1\n",
    "\n",
    "  memo = ld_helper(memo, string_a, string_b,1,1)\n",
    "\n",
    "  return memo[len(string_a)][len(string_b)]"
   ]
  },
  {
   "cell_type": "code",
   "execution_count": null,
   "metadata": {
    "id": "rL_JPoQHuUtS"
   },
   "outputs": [],
   "source": [
    "## Proses DP untuk levenshtein Distance\n",
    "\n",
    "def ld_helper(memo, string_a, string_b, idx_a, idx_b):\n",
    "  if idx_a == len(string_a) and idx_b == len(string_b):\n",
    "    tmp2 = min(memo[idx_a-1][idx_b],memo[idx_a][idx_b-1],memo[idx_a-1][idx_b-1])\n",
    "    if string_a[idx_a-1] == string_b[idx_b-1]:\n",
    "      memo[idx_a][idx_b] = tmp2\n",
    "    else:\n",
    "      memo[idx_a][idx_b] = tmp2+1\n",
    "    return memo\n",
    "  elif idx_b == len(string_b)+1:\n",
    "    return ld_helper(memo, string_a, string_b, idx_a+1,1)\n",
    "  else:\n",
    "    tmp = min(memo[idx_a-1][idx_b],memo[idx_a][idx_b-1],memo[idx_a-1][idx_b-1])\n",
    "    if string_a[idx_a-1] == string_b[idx_b-1]:\n",
    "      memo[idx_a][idx_b] = tmp\n",
    "    else:\n",
    "      memo[idx_a][idx_b] = tmp+1\n",
    "    return ld_helper(memo, string_a, string_b, idx_a,idx_b+1)"
   ]
  },
  {
   "cell_type": "markdown",
   "metadata": {
    "id": "mvtO0CU7MfUS"
   },
   "source": [
    "## Penerapan Levenshtein Distance"
   ]
  },
  {
   "cell_type": "code",
   "execution_count": null,
   "metadata": {
    "colab": {
     "base_uri": "https://localhost:8080/"
    },
    "executionInfo": {
     "elapsed": 38,
     "status": "ok",
     "timestamp": 1633430224529,
     "user": {
      "displayName": "Naufal Hilmi",
      "photoUrl": "https://lh3.googleusercontent.com/a-/AOh14Gj7UB8yAHzIcK8gtuCV9hf44dCQUmF8XqLkQI3C=s64",
      "userId": "02567910694508979199"
     },
     "user_tz": -420
    },
    "id": "mn2mg8P3qa31",
    "outputId": "d6a7ab10-7ac8-454a-bf0a-e42abb567e06"
   },
   "outputs": [
    {
     "data": {
      "text/plain": [
       "7"
      ]
     },
     "execution_count": 6,
     "metadata": {},
     "output_type": "execute_result"
    }
   ],
   "source": [
    "levenshtein_dist('phasmophobia', 'puafnilhotik')"
   ]
  },
  {
   "cell_type": "code",
   "execution_count": null,
   "metadata": {
    "colab": {
     "base_uri": "https://localhost:8080/"
    },
    "executionInfo": {
     "elapsed": 35,
     "status": "ok",
     "timestamp": 1633430224530,
     "user": {
      "displayName": "Naufal Hilmi",
      "photoUrl": "https://lh3.googleusercontent.com/a-/AOh14Gj7UB8yAHzIcK8gtuCV9hf44dCQUmF8XqLkQI3C=s64",
      "userId": "02567910694508979199"
     },
     "user_tz": -420
    },
    "id": "sGX7xiqCLGoS",
    "outputId": "b2b5981d-8b66-4147-9dc7-b260c5c10aae"
   },
   "outputs": [
    {
     "data": {
      "text/plain": [
       "5"
      ]
     },
     "execution_count": 7,
     "metadata": {},
     "output_type": "execute_result"
    }
   ],
   "source": [
    "levenshtein_dist('genetik', 'ganteng')"
   ]
  },
  {
   "cell_type": "markdown",
   "metadata": {
    "id": "JvBEPjHfXCoi"
   },
   "source": [
    "## Algoritma Keyboard Distance"
   ]
  },
  {
   "cell_type": "markdown",
   "metadata": {},
   "source": [
    "Algoritma ini menggunakan cara dengan melihat jarak dari bentuk keyboard qwerty. Setiap huruf yang bersebelahan diberikan weight 1."
   ]
  },
  {
   "cell_type": "code",
   "execution_count": null,
   "metadata": {
    "id": "56B_dLTaO4a4"
   },
   "outputs": [],
   "source": [
    "## Algoritma Djikstra\n",
    "## Sumber algoritma: https://www.pythonpool.com/dijkstras-algorithm-python/\n",
    "\n",
    "def findDistance(nodes,edges,start):\n",
    "  unvisited = {node: None for node in nodes}\n",
    "  visited = {}\n",
    "  current_node = start\n",
    "  current_dist = 0\n",
    "  unvisited[current_node] = current_dist\n",
    "  while True:\n",
    "    for neighbour, distance in edges[current_node].items():\n",
    "      if neighbour not in unvisited:\n",
    "        continue\n",
    "      tmp_dist = current_dist + distance\n",
    "      if unvisited[neighbour] is None or unvisited[neighbour] > tmp_dist:\n",
    "        unvisited[neighbour] = tmp_dist\n",
    "    visited[current_node] = current_dist\n",
    "    unvisited.pop(current_node)\n",
    "    if len(unvisited) == 0:\n",
    "      break\n",
    "    next_nodes = [node for node in unvisited.items() if node[1] != None]\n",
    "    current_node, current_dist = sorted(next_nodes, key=lambda x : x[1])[0]\n",
    "  return visited"
   ]
  },
  {
   "cell_type": "code",
   "execution_count": null,
   "metadata": {
    "id": "KKV3X9FfCkjM"
   },
   "outputs": [],
   "source": [
    "def generate_matrix():\n",
    "  nodes = ['a', 'b', 'c', 'd', 'e', 'f', 'g', 'h', 'i', 'j', 'k', 'l', 'm', 'n', 'o', 'p', 'q', 'r', 's', 't', 'u', 'v', 'w', 'x', 'y', 'z']\n",
    "  edges = {'a':{'q':1,'z':1,'s':1,'z':1},\n",
    "          'b':{'g':1,'v':1,'h':1,'n':1},\n",
    "          'c':{'d':1,'f':1,'x':1,'v':1},\n",
    "          'd':{'e':1,'r':1,'s':1,'f':1,'x':1,'c':1},\n",
    "          'e':{'w':1,'r':1,'s':1,'d':1},\n",
    "          'f':{'r':1,'t':1,'d':1,'g':1,'c':1,'v':1},\n",
    "          'g':{'t':1,'y':1,'f':1,'h':1,'v':1,'b':1},\n",
    "          'h':{'y':1,'u':1,'g':1,'j':1,'b':1,'n':1},\n",
    "          'i':{'u':1,'o':1,'j':1,'k':1},\n",
    "          'j':{'u':1,'i':1,'h':1,'k':1,'n':1,'m':1},\n",
    "          'k':{'i':1,'o':1,'j':1,'l':1,'m':1},\n",
    "          'l':{'o':1,'p':1,'k':1},\n",
    "          'm':{'j':1,'k':1,'n':1},\n",
    "          'n':{'h':1,'j':1,'b':1,'m':1},\n",
    "          'o':{'i':1,'p':1,'k':1,'l':1},\n",
    "          'p':{'l':1,'o':1},\n",
    "          'q':{'w':1,'a':1},\n",
    "          'r':{'e':1,'t':1,'d':1,'f':1},\n",
    "          's':{'w':1,'e':1,'a':1,'d':1,'z':1,'x':1},\n",
    "          't':{'r':1,'y':1,'f':1,'g':1},\n",
    "          'u':{'y':1,'i':1,'h':1,'j':1},\n",
    "          'v':{'f':1,'g':1,'c':1,'b':1},\n",
    "          'w':{'q':1,'e':1,'a':1,'s':1},\n",
    "          'x':{'s':1,'d':1,'z':1,'c':1},\n",
    "          'y':{'t':1,'u':1,'g':1,'h':1},\n",
    "          'z':{'a':1,'s':1,'x':1}}\n",
    "  matrix = []\n",
    "  for i in nodes:\n",
    "    distance = []\n",
    "    distance_dict = findDistance(nodes,edges,i)\n",
    "    for j in nodes:\n",
    "      distance.append(distance_dict[j])\n",
    "    matrix.append(distance)\n",
    "  return matrix"
   ]
  },
  {
   "cell_type": "code",
   "execution_count": null,
   "metadata": {
    "colab": {
     "base_uri": "https://localhost:8080/",
     "height": 850
    },
    "executionInfo": {
     "elapsed": 32,
     "status": "ok",
     "timestamp": 1633430224532,
     "user": {
      "displayName": "Naufal Hilmi",
      "photoUrl": "https://lh3.googleusercontent.com/a-/AOh14Gj7UB8yAHzIcK8gtuCV9hf44dCQUmF8XqLkQI3C=s64",
      "userId": "02567910694508979199"
     },
     "user_tz": -420
    },
    "id": "_HFYDMumQ7Bi",
    "outputId": "17509d5e-d2e3-4acf-cb18-8382eb4f9ce9"
   },
   "outputs": [
    {
     "data": {
      "text/html": [
       "<div>\n",
       "<style scoped>\n",
       "    .dataframe tbody tr th:only-of-type {\n",
       "        vertical-align: middle;\n",
       "    }\n",
       "\n",
       "    .dataframe tbody tr th {\n",
       "        vertical-align: top;\n",
       "    }\n",
       "\n",
       "    .dataframe thead th {\n",
       "        text-align: right;\n",
       "    }\n",
       "</style>\n",
       "<table border=\"1\" class=\"dataframe\">\n",
       "  <thead>\n",
       "    <tr style=\"text-align: right;\">\n",
       "      <th></th>\n",
       "      <th>a</th>\n",
       "      <th>b</th>\n",
       "      <th>c</th>\n",
       "      <th>d</th>\n",
       "      <th>e</th>\n",
       "      <th>f</th>\n",
       "      <th>g</th>\n",
       "      <th>h</th>\n",
       "      <th>i</th>\n",
       "      <th>j</th>\n",
       "      <th>k</th>\n",
       "      <th>l</th>\n",
       "      <th>m</th>\n",
       "      <th>n</th>\n",
       "      <th>o</th>\n",
       "      <th>p</th>\n",
       "      <th>q</th>\n",
       "      <th>r</th>\n",
       "      <th>s</th>\n",
       "      <th>t</th>\n",
       "      <th>u</th>\n",
       "      <th>v</th>\n",
       "      <th>w</th>\n",
       "      <th>x</th>\n",
       "      <th>y</th>\n",
       "      <th>z</th>\n",
       "    </tr>\n",
       "  </thead>\n",
       "  <tbody>\n",
       "    <tr>\n",
       "      <th>a</th>\n",
       "      <td>0</td>\n",
       "      <td>5</td>\n",
       "      <td>3</td>\n",
       "      <td>2</td>\n",
       "      <td>2</td>\n",
       "      <td>3</td>\n",
       "      <td>4</td>\n",
       "      <td>5</td>\n",
       "      <td>7</td>\n",
       "      <td>6</td>\n",
       "      <td>7</td>\n",
       "      <td>8</td>\n",
       "      <td>7</td>\n",
       "      <td>6</td>\n",
       "      <td>8</td>\n",
       "      <td>9</td>\n",
       "      <td>1</td>\n",
       "      <td>3</td>\n",
       "      <td>1</td>\n",
       "      <td>4</td>\n",
       "      <td>6</td>\n",
       "      <td>4</td>\n",
       "      <td>2</td>\n",
       "      <td>2</td>\n",
       "      <td>5</td>\n",
       "      <td>1</td>\n",
       "    </tr>\n",
       "    <tr>\n",
       "      <th>b</th>\n",
       "      <td>5</td>\n",
       "      <td>0</td>\n",
       "      <td>2</td>\n",
       "      <td>3</td>\n",
       "      <td>4</td>\n",
       "      <td>2</td>\n",
       "      <td>1</td>\n",
       "      <td>1</td>\n",
       "      <td>3</td>\n",
       "      <td>2</td>\n",
       "      <td>3</td>\n",
       "      <td>4</td>\n",
       "      <td>2</td>\n",
       "      <td>1</td>\n",
       "      <td>4</td>\n",
       "      <td>5</td>\n",
       "      <td>6</td>\n",
       "      <td>3</td>\n",
       "      <td>4</td>\n",
       "      <td>2</td>\n",
       "      <td>2</td>\n",
       "      <td>1</td>\n",
       "      <td>5</td>\n",
       "      <td>3</td>\n",
       "      <td>2</td>\n",
       "      <td>4</td>\n",
       "    </tr>\n",
       "    <tr>\n",
       "      <th>c</th>\n",
       "      <td>3</td>\n",
       "      <td>2</td>\n",
       "      <td>0</td>\n",
       "      <td>1</td>\n",
       "      <td>2</td>\n",
       "      <td>1</td>\n",
       "      <td>2</td>\n",
       "      <td>3</td>\n",
       "      <td>5</td>\n",
       "      <td>4</td>\n",
       "      <td>5</td>\n",
       "      <td>6</td>\n",
       "      <td>4</td>\n",
       "      <td>3</td>\n",
       "      <td>6</td>\n",
       "      <td>7</td>\n",
       "      <td>4</td>\n",
       "      <td>2</td>\n",
       "      <td>2</td>\n",
       "      <td>2</td>\n",
       "      <td>4</td>\n",
       "      <td>1</td>\n",
       "      <td>3</td>\n",
       "      <td>1</td>\n",
       "      <td>3</td>\n",
       "      <td>2</td>\n",
       "    </tr>\n",
       "    <tr>\n",
       "      <th>d</th>\n",
       "      <td>2</td>\n",
       "      <td>3</td>\n",
       "      <td>1</td>\n",
       "      <td>0</td>\n",
       "      <td>1</td>\n",
       "      <td>1</td>\n",
       "      <td>2</td>\n",
       "      <td>3</td>\n",
       "      <td>5</td>\n",
       "      <td>4</td>\n",
       "      <td>5</td>\n",
       "      <td>6</td>\n",
       "      <td>5</td>\n",
       "      <td>4</td>\n",
       "      <td>6</td>\n",
       "      <td>7</td>\n",
       "      <td>3</td>\n",
       "      <td>1</td>\n",
       "      <td>1</td>\n",
       "      <td>2</td>\n",
       "      <td>4</td>\n",
       "      <td>2</td>\n",
       "      <td>2</td>\n",
       "      <td>1</td>\n",
       "      <td>3</td>\n",
       "      <td>2</td>\n",
       "    </tr>\n",
       "    <tr>\n",
       "      <th>e</th>\n",
       "      <td>2</td>\n",
       "      <td>4</td>\n",
       "      <td>2</td>\n",
       "      <td>1</td>\n",
       "      <td>0</td>\n",
       "      <td>2</td>\n",
       "      <td>3</td>\n",
       "      <td>4</td>\n",
       "      <td>5</td>\n",
       "      <td>5</td>\n",
       "      <td>6</td>\n",
       "      <td>7</td>\n",
       "      <td>6</td>\n",
       "      <td>5</td>\n",
       "      <td>6</td>\n",
       "      <td>7</td>\n",
       "      <td>2</td>\n",
       "      <td>1</td>\n",
       "      <td>1</td>\n",
       "      <td>2</td>\n",
       "      <td>4</td>\n",
       "      <td>3</td>\n",
       "      <td>1</td>\n",
       "      <td>2</td>\n",
       "      <td>3</td>\n",
       "      <td>2</td>\n",
       "    </tr>\n",
       "    <tr>\n",
       "      <th>f</th>\n",
       "      <td>3</td>\n",
       "      <td>2</td>\n",
       "      <td>1</td>\n",
       "      <td>1</td>\n",
       "      <td>2</td>\n",
       "      <td>0</td>\n",
       "      <td>1</td>\n",
       "      <td>2</td>\n",
       "      <td>4</td>\n",
       "      <td>3</td>\n",
       "      <td>4</td>\n",
       "      <td>5</td>\n",
       "      <td>4</td>\n",
       "      <td>3</td>\n",
       "      <td>5</td>\n",
       "      <td>6</td>\n",
       "      <td>4</td>\n",
       "      <td>1</td>\n",
       "      <td>2</td>\n",
       "      <td>1</td>\n",
       "      <td>3</td>\n",
       "      <td>1</td>\n",
       "      <td>3</td>\n",
       "      <td>2</td>\n",
       "      <td>2</td>\n",
       "      <td>3</td>\n",
       "    </tr>\n",
       "    <tr>\n",
       "      <th>g</th>\n",
       "      <td>4</td>\n",
       "      <td>1</td>\n",
       "      <td>2</td>\n",
       "      <td>2</td>\n",
       "      <td>3</td>\n",
       "      <td>1</td>\n",
       "      <td>0</td>\n",
       "      <td>1</td>\n",
       "      <td>3</td>\n",
       "      <td>2</td>\n",
       "      <td>3</td>\n",
       "      <td>4</td>\n",
       "      <td>3</td>\n",
       "      <td>2</td>\n",
       "      <td>4</td>\n",
       "      <td>5</td>\n",
       "      <td>5</td>\n",
       "      <td>2</td>\n",
       "      <td>3</td>\n",
       "      <td>1</td>\n",
       "      <td>2</td>\n",
       "      <td>1</td>\n",
       "      <td>4</td>\n",
       "      <td>3</td>\n",
       "      <td>1</td>\n",
       "      <td>4</td>\n",
       "    </tr>\n",
       "    <tr>\n",
       "      <th>h</th>\n",
       "      <td>5</td>\n",
       "      <td>1</td>\n",
       "      <td>3</td>\n",
       "      <td>3</td>\n",
       "      <td>4</td>\n",
       "      <td>2</td>\n",
       "      <td>1</td>\n",
       "      <td>0</td>\n",
       "      <td>2</td>\n",
       "      <td>1</td>\n",
       "      <td>2</td>\n",
       "      <td>3</td>\n",
       "      <td>2</td>\n",
       "      <td>1</td>\n",
       "      <td>3</td>\n",
       "      <td>4</td>\n",
       "      <td>6</td>\n",
       "      <td>3</td>\n",
       "      <td>4</td>\n",
       "      <td>2</td>\n",
       "      <td>1</td>\n",
       "      <td>2</td>\n",
       "      <td>5</td>\n",
       "      <td>4</td>\n",
       "      <td>1</td>\n",
       "      <td>5</td>\n",
       "    </tr>\n",
       "    <tr>\n",
       "      <th>i</th>\n",
       "      <td>7</td>\n",
       "      <td>3</td>\n",
       "      <td>5</td>\n",
       "      <td>5</td>\n",
       "      <td>5</td>\n",
       "      <td>4</td>\n",
       "      <td>3</td>\n",
       "      <td>2</td>\n",
       "      <td>0</td>\n",
       "      <td>1</td>\n",
       "      <td>1</td>\n",
       "      <td>2</td>\n",
       "      <td>2</td>\n",
       "      <td>2</td>\n",
       "      <td>1</td>\n",
       "      <td>2</td>\n",
       "      <td>7</td>\n",
       "      <td>4</td>\n",
       "      <td>6</td>\n",
       "      <td>3</td>\n",
       "      <td>1</td>\n",
       "      <td>4</td>\n",
       "      <td>6</td>\n",
       "      <td>6</td>\n",
       "      <td>2</td>\n",
       "      <td>7</td>\n",
       "    </tr>\n",
       "    <tr>\n",
       "      <th>j</th>\n",
       "      <td>6</td>\n",
       "      <td>2</td>\n",
       "      <td>4</td>\n",
       "      <td>4</td>\n",
       "      <td>5</td>\n",
       "      <td>3</td>\n",
       "      <td>2</td>\n",
       "      <td>1</td>\n",
       "      <td>1</td>\n",
       "      <td>0</td>\n",
       "      <td>1</td>\n",
       "      <td>2</td>\n",
       "      <td>1</td>\n",
       "      <td>1</td>\n",
       "      <td>2</td>\n",
       "      <td>3</td>\n",
       "      <td>7</td>\n",
       "      <td>4</td>\n",
       "      <td>5</td>\n",
       "      <td>3</td>\n",
       "      <td>1</td>\n",
       "      <td>3</td>\n",
       "      <td>6</td>\n",
       "      <td>5</td>\n",
       "      <td>2</td>\n",
       "      <td>6</td>\n",
       "    </tr>\n",
       "    <tr>\n",
       "      <th>k</th>\n",
       "      <td>7</td>\n",
       "      <td>3</td>\n",
       "      <td>5</td>\n",
       "      <td>5</td>\n",
       "      <td>6</td>\n",
       "      <td>4</td>\n",
       "      <td>3</td>\n",
       "      <td>2</td>\n",
       "      <td>1</td>\n",
       "      <td>1</td>\n",
       "      <td>0</td>\n",
       "      <td>1</td>\n",
       "      <td>1</td>\n",
       "      <td>2</td>\n",
       "      <td>1</td>\n",
       "      <td>2</td>\n",
       "      <td>8</td>\n",
       "      <td>5</td>\n",
       "      <td>6</td>\n",
       "      <td>4</td>\n",
       "      <td>2</td>\n",
       "      <td>4</td>\n",
       "      <td>7</td>\n",
       "      <td>6</td>\n",
       "      <td>3</td>\n",
       "      <td>7</td>\n",
       "    </tr>\n",
       "    <tr>\n",
       "      <th>l</th>\n",
       "      <td>8</td>\n",
       "      <td>4</td>\n",
       "      <td>6</td>\n",
       "      <td>6</td>\n",
       "      <td>7</td>\n",
       "      <td>5</td>\n",
       "      <td>4</td>\n",
       "      <td>3</td>\n",
       "      <td>2</td>\n",
       "      <td>2</td>\n",
       "      <td>1</td>\n",
       "      <td>0</td>\n",
       "      <td>2</td>\n",
       "      <td>3</td>\n",
       "      <td>1</td>\n",
       "      <td>1</td>\n",
       "      <td>9</td>\n",
       "      <td>6</td>\n",
       "      <td>7</td>\n",
       "      <td>5</td>\n",
       "      <td>3</td>\n",
       "      <td>5</td>\n",
       "      <td>8</td>\n",
       "      <td>7</td>\n",
       "      <td>4</td>\n",
       "      <td>8</td>\n",
       "    </tr>\n",
       "    <tr>\n",
       "      <th>m</th>\n",
       "      <td>7</td>\n",
       "      <td>2</td>\n",
       "      <td>4</td>\n",
       "      <td>5</td>\n",
       "      <td>6</td>\n",
       "      <td>4</td>\n",
       "      <td>3</td>\n",
       "      <td>2</td>\n",
       "      <td>2</td>\n",
       "      <td>1</td>\n",
       "      <td>1</td>\n",
       "      <td>2</td>\n",
       "      <td>0</td>\n",
       "      <td>1</td>\n",
       "      <td>2</td>\n",
       "      <td>3</td>\n",
       "      <td>8</td>\n",
       "      <td>5</td>\n",
       "      <td>6</td>\n",
       "      <td>4</td>\n",
       "      <td>2</td>\n",
       "      <td>3</td>\n",
       "      <td>7</td>\n",
       "      <td>5</td>\n",
       "      <td>3</td>\n",
       "      <td>6</td>\n",
       "    </tr>\n",
       "    <tr>\n",
       "      <th>n</th>\n",
       "      <td>6</td>\n",
       "      <td>1</td>\n",
       "      <td>3</td>\n",
       "      <td>4</td>\n",
       "      <td>5</td>\n",
       "      <td>3</td>\n",
       "      <td>2</td>\n",
       "      <td>1</td>\n",
       "      <td>2</td>\n",
       "      <td>1</td>\n",
       "      <td>2</td>\n",
       "      <td>3</td>\n",
       "      <td>1</td>\n",
       "      <td>0</td>\n",
       "      <td>3</td>\n",
       "      <td>4</td>\n",
       "      <td>7</td>\n",
       "      <td>4</td>\n",
       "      <td>5</td>\n",
       "      <td>3</td>\n",
       "      <td>2</td>\n",
       "      <td>2</td>\n",
       "      <td>6</td>\n",
       "      <td>4</td>\n",
       "      <td>2</td>\n",
       "      <td>5</td>\n",
       "    </tr>\n",
       "    <tr>\n",
       "      <th>o</th>\n",
       "      <td>8</td>\n",
       "      <td>4</td>\n",
       "      <td>6</td>\n",
       "      <td>6</td>\n",
       "      <td>6</td>\n",
       "      <td>5</td>\n",
       "      <td>4</td>\n",
       "      <td>3</td>\n",
       "      <td>1</td>\n",
       "      <td>2</td>\n",
       "      <td>1</td>\n",
       "      <td>1</td>\n",
       "      <td>2</td>\n",
       "      <td>3</td>\n",
       "      <td>0</td>\n",
       "      <td>1</td>\n",
       "      <td>8</td>\n",
       "      <td>5</td>\n",
       "      <td>7</td>\n",
       "      <td>4</td>\n",
       "      <td>2</td>\n",
       "      <td>5</td>\n",
       "      <td>7</td>\n",
       "      <td>7</td>\n",
       "      <td>3</td>\n",
       "      <td>8</td>\n",
       "    </tr>\n",
       "    <tr>\n",
       "      <th>p</th>\n",
       "      <td>9</td>\n",
       "      <td>5</td>\n",
       "      <td>7</td>\n",
       "      <td>7</td>\n",
       "      <td>7</td>\n",
       "      <td>6</td>\n",
       "      <td>5</td>\n",
       "      <td>4</td>\n",
       "      <td>2</td>\n",
       "      <td>3</td>\n",
       "      <td>2</td>\n",
       "      <td>1</td>\n",
       "      <td>3</td>\n",
       "      <td>4</td>\n",
       "      <td>1</td>\n",
       "      <td>0</td>\n",
       "      <td>9</td>\n",
       "      <td>6</td>\n",
       "      <td>8</td>\n",
       "      <td>5</td>\n",
       "      <td>3</td>\n",
       "      <td>6</td>\n",
       "      <td>8</td>\n",
       "      <td>8</td>\n",
       "      <td>4</td>\n",
       "      <td>9</td>\n",
       "    </tr>\n",
       "    <tr>\n",
       "      <th>q</th>\n",
       "      <td>1</td>\n",
       "      <td>6</td>\n",
       "      <td>4</td>\n",
       "      <td>3</td>\n",
       "      <td>2</td>\n",
       "      <td>4</td>\n",
       "      <td>5</td>\n",
       "      <td>6</td>\n",
       "      <td>7</td>\n",
       "      <td>7</td>\n",
       "      <td>8</td>\n",
       "      <td>9</td>\n",
       "      <td>8</td>\n",
       "      <td>7</td>\n",
       "      <td>8</td>\n",
       "      <td>9</td>\n",
       "      <td>0</td>\n",
       "      <td>3</td>\n",
       "      <td>2</td>\n",
       "      <td>4</td>\n",
       "      <td>6</td>\n",
       "      <td>5</td>\n",
       "      <td>1</td>\n",
       "      <td>3</td>\n",
       "      <td>5</td>\n",
       "      <td>2</td>\n",
       "    </tr>\n",
       "    <tr>\n",
       "      <th>r</th>\n",
       "      <td>3</td>\n",
       "      <td>3</td>\n",
       "      <td>2</td>\n",
       "      <td>1</td>\n",
       "      <td>1</td>\n",
       "      <td>1</td>\n",
       "      <td>2</td>\n",
       "      <td>3</td>\n",
       "      <td>4</td>\n",
       "      <td>4</td>\n",
       "      <td>5</td>\n",
       "      <td>6</td>\n",
       "      <td>5</td>\n",
       "      <td>4</td>\n",
       "      <td>5</td>\n",
       "      <td>6</td>\n",
       "      <td>3</td>\n",
       "      <td>0</td>\n",
       "      <td>2</td>\n",
       "      <td>1</td>\n",
       "      <td>3</td>\n",
       "      <td>2</td>\n",
       "      <td>2</td>\n",
       "      <td>2</td>\n",
       "      <td>2</td>\n",
       "      <td>3</td>\n",
       "    </tr>\n",
       "    <tr>\n",
       "      <th>s</th>\n",
       "      <td>1</td>\n",
       "      <td>4</td>\n",
       "      <td>2</td>\n",
       "      <td>1</td>\n",
       "      <td>1</td>\n",
       "      <td>2</td>\n",
       "      <td>3</td>\n",
       "      <td>4</td>\n",
       "      <td>6</td>\n",
       "      <td>5</td>\n",
       "      <td>6</td>\n",
       "      <td>7</td>\n",
       "      <td>6</td>\n",
       "      <td>5</td>\n",
       "      <td>7</td>\n",
       "      <td>8</td>\n",
       "      <td>2</td>\n",
       "      <td>2</td>\n",
       "      <td>0</td>\n",
       "      <td>3</td>\n",
       "      <td>5</td>\n",
       "      <td>3</td>\n",
       "      <td>1</td>\n",
       "      <td>1</td>\n",
       "      <td>4</td>\n",
       "      <td>1</td>\n",
       "    </tr>\n",
       "    <tr>\n",
       "      <th>t</th>\n",
       "      <td>4</td>\n",
       "      <td>2</td>\n",
       "      <td>2</td>\n",
       "      <td>2</td>\n",
       "      <td>2</td>\n",
       "      <td>1</td>\n",
       "      <td>1</td>\n",
       "      <td>2</td>\n",
       "      <td>3</td>\n",
       "      <td>3</td>\n",
       "      <td>4</td>\n",
       "      <td>5</td>\n",
       "      <td>4</td>\n",
       "      <td>3</td>\n",
       "      <td>4</td>\n",
       "      <td>5</td>\n",
       "      <td>4</td>\n",
       "      <td>1</td>\n",
       "      <td>3</td>\n",
       "      <td>0</td>\n",
       "      <td>2</td>\n",
       "      <td>2</td>\n",
       "      <td>3</td>\n",
       "      <td>3</td>\n",
       "      <td>1</td>\n",
       "      <td>4</td>\n",
       "    </tr>\n",
       "    <tr>\n",
       "      <th>u</th>\n",
       "      <td>6</td>\n",
       "      <td>2</td>\n",
       "      <td>4</td>\n",
       "      <td>4</td>\n",
       "      <td>4</td>\n",
       "      <td>3</td>\n",
       "      <td>2</td>\n",
       "      <td>1</td>\n",
       "      <td>1</td>\n",
       "      <td>1</td>\n",
       "      <td>2</td>\n",
       "      <td>3</td>\n",
       "      <td>2</td>\n",
       "      <td>2</td>\n",
       "      <td>2</td>\n",
       "      <td>3</td>\n",
       "      <td>6</td>\n",
       "      <td>3</td>\n",
       "      <td>5</td>\n",
       "      <td>2</td>\n",
       "      <td>0</td>\n",
       "      <td>3</td>\n",
       "      <td>5</td>\n",
       "      <td>5</td>\n",
       "      <td>1</td>\n",
       "      <td>6</td>\n",
       "    </tr>\n",
       "    <tr>\n",
       "      <th>v</th>\n",
       "      <td>4</td>\n",
       "      <td>1</td>\n",
       "      <td>1</td>\n",
       "      <td>2</td>\n",
       "      <td>3</td>\n",
       "      <td>1</td>\n",
       "      <td>1</td>\n",
       "      <td>2</td>\n",
       "      <td>4</td>\n",
       "      <td>3</td>\n",
       "      <td>4</td>\n",
       "      <td>5</td>\n",
       "      <td>3</td>\n",
       "      <td>2</td>\n",
       "      <td>5</td>\n",
       "      <td>6</td>\n",
       "      <td>5</td>\n",
       "      <td>2</td>\n",
       "      <td>3</td>\n",
       "      <td>2</td>\n",
       "      <td>3</td>\n",
       "      <td>0</td>\n",
       "      <td>4</td>\n",
       "      <td>2</td>\n",
       "      <td>2</td>\n",
       "      <td>3</td>\n",
       "    </tr>\n",
       "    <tr>\n",
       "      <th>w</th>\n",
       "      <td>1</td>\n",
       "      <td>5</td>\n",
       "      <td>3</td>\n",
       "      <td>2</td>\n",
       "      <td>1</td>\n",
       "      <td>3</td>\n",
       "      <td>4</td>\n",
       "      <td>5</td>\n",
       "      <td>6</td>\n",
       "      <td>6</td>\n",
       "      <td>7</td>\n",
       "      <td>8</td>\n",
       "      <td>7</td>\n",
       "      <td>6</td>\n",
       "      <td>7</td>\n",
       "      <td>8</td>\n",
       "      <td>1</td>\n",
       "      <td>2</td>\n",
       "      <td>1</td>\n",
       "      <td>3</td>\n",
       "      <td>5</td>\n",
       "      <td>4</td>\n",
       "      <td>0</td>\n",
       "      <td>2</td>\n",
       "      <td>4</td>\n",
       "      <td>2</td>\n",
       "    </tr>\n",
       "    <tr>\n",
       "      <th>x</th>\n",
       "      <td>2</td>\n",
       "      <td>3</td>\n",
       "      <td>1</td>\n",
       "      <td>1</td>\n",
       "      <td>2</td>\n",
       "      <td>2</td>\n",
       "      <td>3</td>\n",
       "      <td>4</td>\n",
       "      <td>6</td>\n",
       "      <td>5</td>\n",
       "      <td>6</td>\n",
       "      <td>7</td>\n",
       "      <td>5</td>\n",
       "      <td>4</td>\n",
       "      <td>7</td>\n",
       "      <td>8</td>\n",
       "      <td>3</td>\n",
       "      <td>2</td>\n",
       "      <td>1</td>\n",
       "      <td>3</td>\n",
       "      <td>5</td>\n",
       "      <td>2</td>\n",
       "      <td>2</td>\n",
       "      <td>0</td>\n",
       "      <td>4</td>\n",
       "      <td>1</td>\n",
       "    </tr>\n",
       "    <tr>\n",
       "      <th>y</th>\n",
       "      <td>5</td>\n",
       "      <td>2</td>\n",
       "      <td>3</td>\n",
       "      <td>3</td>\n",
       "      <td>3</td>\n",
       "      <td>2</td>\n",
       "      <td>1</td>\n",
       "      <td>1</td>\n",
       "      <td>2</td>\n",
       "      <td>2</td>\n",
       "      <td>3</td>\n",
       "      <td>4</td>\n",
       "      <td>3</td>\n",
       "      <td>2</td>\n",
       "      <td>3</td>\n",
       "      <td>4</td>\n",
       "      <td>5</td>\n",
       "      <td>2</td>\n",
       "      <td>4</td>\n",
       "      <td>1</td>\n",
       "      <td>1</td>\n",
       "      <td>2</td>\n",
       "      <td>4</td>\n",
       "      <td>4</td>\n",
       "      <td>0</td>\n",
       "      <td>5</td>\n",
       "    </tr>\n",
       "    <tr>\n",
       "      <th>z</th>\n",
       "      <td>1</td>\n",
       "      <td>4</td>\n",
       "      <td>2</td>\n",
       "      <td>2</td>\n",
       "      <td>2</td>\n",
       "      <td>3</td>\n",
       "      <td>4</td>\n",
       "      <td>5</td>\n",
       "      <td>7</td>\n",
       "      <td>6</td>\n",
       "      <td>7</td>\n",
       "      <td>8</td>\n",
       "      <td>6</td>\n",
       "      <td>5</td>\n",
       "      <td>8</td>\n",
       "      <td>9</td>\n",
       "      <td>2</td>\n",
       "      <td>3</td>\n",
       "      <td>1</td>\n",
       "      <td>4</td>\n",
       "      <td>6</td>\n",
       "      <td>3</td>\n",
       "      <td>2</td>\n",
       "      <td>1</td>\n",
       "      <td>5</td>\n",
       "      <td>0</td>\n",
       "    </tr>\n",
       "  </tbody>\n",
       "</table>\n",
       "</div>"
      ],
      "text/plain": [
       "   a  b  c  d  e  f  g  h  i  j  k  l  m  n  o  p  q  r  s  t  u  v  w  x  y  z\n",
       "a  0  5  3  2  2  3  4  5  7  6  7  8  7  6  8  9  1  3  1  4  6  4  2  2  5  1\n",
       "b  5  0  2  3  4  2  1  1  3  2  3  4  2  1  4  5  6  3  4  2  2  1  5  3  2  4\n",
       "c  3  2  0  1  2  1  2  3  5  4  5  6  4  3  6  7  4  2  2  2  4  1  3  1  3  2\n",
       "d  2  3  1  0  1  1  2  3  5  4  5  6  5  4  6  7  3  1  1  2  4  2  2  1  3  2\n",
       "e  2  4  2  1  0  2  3  4  5  5  6  7  6  5  6  7  2  1  1  2  4  3  1  2  3  2\n",
       "f  3  2  1  1  2  0  1  2  4  3  4  5  4  3  5  6  4  1  2  1  3  1  3  2  2  3\n",
       "g  4  1  2  2  3  1  0  1  3  2  3  4  3  2  4  5  5  2  3  1  2  1  4  3  1  4\n",
       "h  5  1  3  3  4  2  1  0  2  1  2  3  2  1  3  4  6  3  4  2  1  2  5  4  1  5\n",
       "i  7  3  5  5  5  4  3  2  0  1  1  2  2  2  1  2  7  4  6  3  1  4  6  6  2  7\n",
       "j  6  2  4  4  5  3  2  1  1  0  1  2  1  1  2  3  7  4  5  3  1  3  6  5  2  6\n",
       "k  7  3  5  5  6  4  3  2  1  1  0  1  1  2  1  2  8  5  6  4  2  4  7  6  3  7\n",
       "l  8  4  6  6  7  5  4  3  2  2  1  0  2  3  1  1  9  6  7  5  3  5  8  7  4  8\n",
       "m  7  2  4  5  6  4  3  2  2  1  1  2  0  1  2  3  8  5  6  4  2  3  7  5  3  6\n",
       "n  6  1  3  4  5  3  2  1  2  1  2  3  1  0  3  4  7  4  5  3  2  2  6  4  2  5\n",
       "o  8  4  6  6  6  5  4  3  1  2  1  1  2  3  0  1  8  5  7  4  2  5  7  7  3  8\n",
       "p  9  5  7  7  7  6  5  4  2  3  2  1  3  4  1  0  9  6  8  5  3  6  8  8  4  9\n",
       "q  1  6  4  3  2  4  5  6  7  7  8  9  8  7  8  9  0  3  2  4  6  5  1  3  5  2\n",
       "r  3  3  2  1  1  1  2  3  4  4  5  6  5  4  5  6  3  0  2  1  3  2  2  2  2  3\n",
       "s  1  4  2  1  1  2  3  4  6  5  6  7  6  5  7  8  2  2  0  3  5  3  1  1  4  1\n",
       "t  4  2  2  2  2  1  1  2  3  3  4  5  4  3  4  5  4  1  3  0  2  2  3  3  1  4\n",
       "u  6  2  4  4  4  3  2  1  1  1  2  3  2  2  2  3  6  3  5  2  0  3  5  5  1  6\n",
       "v  4  1  1  2  3  1  1  2  4  3  4  5  3  2  5  6  5  2  3  2  3  0  4  2  2  3\n",
       "w  1  5  3  2  1  3  4  5  6  6  7  8  7  6  7  8  1  2  1  3  5  4  0  2  4  2\n",
       "x  2  3  1  1  2  2  3  4  6  5  6  7  5  4  7  8  3  2  1  3  5  2  2  0  4  1\n",
       "y  5  2  3  3  3  2  1  1  2  2  3  4  3  2  3  4  5  2  4  1  1  2  4  4  0  5\n",
       "z  1  4  2  2  2  3  4  5  7  6  7  8  6  5  8  9  2  3  1  4  6  3  2  1  5  0"
      ]
     },
     "execution_count": 10,
     "metadata": {},
     "output_type": "execute_result"
    }
   ],
   "source": [
    "matriks_edit_distance = generate_matrix()\n",
    "lst_alpha = ['a', 'b', 'c', 'd', 'e', 'f', 'g', 'h', 'i', 'j', 'k', 'l', 'm', 'n', 'o', 'p', 'q', 'r', 's', 't', 'u', 'v', 'w', 'x', 'y', 'z']\n",
    "df = pd.DataFrame(matriks_edit_distance, columns = lst_alpha, index = lst_alpha)\n",
    "df"
   ]
  },
  {
   "cell_type": "markdown",
   "metadata": {
    "id": "fRaw8qsZXEOI"
   },
   "source": [
    "## Pengaplikasian Keyboard Distance"
   ]
  },
  {
   "cell_type": "code",
   "execution_count": null,
   "metadata": {
    "id": "K5845zd_izXD"
   },
   "outputs": [],
   "source": [
    "def edit_distance_keyboard(word1, word2):\n",
    "  edit_distance_val = 0\n",
    "  for i in range(len(word1)):\n",
    "    edit_distance_val = edit_distance_val + get_distance(word1[i], word2[i])\n",
    "  return edit_distance_val\n",
    "\n",
    "def get_distance(letter1, letter2):\n",
    "  alpha = string.ascii_uppercase\n",
    "  index1 = alpha.index(letter1.upper())\n",
    "  index2 = alpha.index(letter2.upper())\n",
    "  return matriks_edit_distance[index1][index2]"
   ]
  },
  {
   "cell_type": "code",
   "execution_count": null,
   "metadata": {
    "colab": {
     "base_uri": "https://localhost:8080/"
    },
    "executionInfo": {
     "elapsed": 31,
     "status": "ok",
     "timestamp": 1633430224534,
     "user": {
      "displayName": "Naufal Hilmi",
      "photoUrl": "https://lh3.googleusercontent.com/a-/AOh14Gj7UB8yAHzIcK8gtuCV9hf44dCQUmF8XqLkQI3C=s64",
      "userId": "02567910694508979199"
     },
     "user_tz": -420
    },
    "id": "6-NlKmx-j2CO",
    "outputId": "74c54f67-db31-4a60-a130-fedbc23f0b45"
   },
   "outputs": [
    {
     "data": {
      "text/plain": [
       "15"
      ]
     },
     "execution_count": 12,
     "metadata": {},
     "output_type": "execute_result"
    }
   ],
   "source": [
    "edit_distance_keyboard('phasmophobia', 'puafnilhotik')"
   ]
  },
  {
   "cell_type": "code",
   "execution_count": null,
   "metadata": {
    "colab": {
     "base_uri": "https://localhost:8080/"
    },
    "executionInfo": {
     "elapsed": 28,
     "status": "ok",
     "timestamp": 1633430224535,
     "user": {
      "displayName": "Naufal Hilmi",
      "photoUrl": "https://lh3.googleusercontent.com/a-/AOh14Gj7UB8yAHzIcK8gtuCV9hf44dCQUmF8XqLkQI3C=s64",
      "userId": "02567910694508979199"
     },
     "user_tz": -420
    },
    "id": "GkIERQOPm2k1",
    "outputId": "cafe88ce-ab56-4651-c61b-bf31413af21c"
   },
   "outputs": [
    {
     "data": {
      "text/plain": [
       "11"
      ]
     },
     "execution_count": 13,
     "metadata": {},
     "output_type": "execute_result"
    }
   ],
   "source": [
    "edit_distance_keyboard('genetik', 'ganteng')"
   ]
  },
  {
   "cell_type": "markdown",
   "metadata": {
    "id": "FW2U8l2KXGRx"
   },
   "source": [
    "## Perbedaan hasil kedua algoritma"
   ]
  },
  {
   "cell_type": "markdown",
   "metadata": {
    "id": "WSDASSZ5A358"
   },
   "source": [
    "Dari hasil yang didapatkan pada algoritma yang digunakan, terdapat perbedaan dari segi hasil. Levenshtein memperlihatkan bagaimana cara terkecil untuk merubah kata menjadi kata yang diinginkan. Cara yang dilakukan yaitu bisa melakukan Deletion, Insertion, Substitution atau Transposition. Sedangkan untuk nilai Keyboard Distance melihat jarak dari huruf pada keyboard qwerty.\n",
    "\n",
    "Hal yang saya simpulkan yaitu proses levenshtein distance menghitung cara yang lebih cepat untuk mengganti string menjadi string lain dibandingkan dengan keyboard distance. Hal ini dikarenakan nilai dari pergantian huruf di levenshtein distance hanya bernilai 1 operasi saja sedangkan dalam keyboard distance memiliki nilai jarak antar huruf tersebut. Dari sini membuat nilai perubahan yang dibutuhkan akan lebih kecil pada proses levenshtein distance. \n",
    "\n",
    "Menurut saya kedua algoritma diatas cukup dalam menentukan berapa cost dari perubahan suatu kata namun algoritma levenshtein cenderung lebih bagus dibandingkan keyboard distance karena dalam perhitungannya cukup akurat. Namun keyboard distance juga dapat digunakan karena dalam typo terkadang terjadi karena meleset dalam mengklik keyboard dan disini lah keyboard distance beraksi dengan baik."
   ]
  },
  {
   "cell_type": "markdown",
   "metadata": {
    "id": "B7VPurOdXHTF"
   },
   "source": [
    "# N-Gram Language Model"
   ]
  },
  {
   "cell_type": "markdown",
   "metadata": {
    "id": "yy6RYZgWXKP3"
   },
   "source": [
    "## Penggunaan Bigrams dan Trigrams"
   ]
  },
  {
   "cell_type": "code",
   "execution_count": null,
   "metadata": {
    "id": "O7ZogNNwMPEo"
   },
   "outputs": [],
   "source": [
    "K1 = 'orang itu menjadi kepala rumah sakit di desa'\n",
    "K2 = 'kepala orang itu sedang sakit di rumah sakit'\n",
    "K3 = 'kepala rumah sakit itu memakan kelapa bersama warga desa'\n",
    "K4 = 'orang sakit itu memakan kelapa bersama kepala rumah sakit'"
   ]
  },
  {
   "cell_type": "code",
   "execution_count": null,
   "metadata": {
    "id": "MtYlH8UDM324"
   },
   "outputs": [],
   "source": [
    "# N-grams from korpus\n",
    "unigrams_corpus = K1.split() + K2.split() + K3.split() + K4.split()\n",
    "bigrams_corpus  = list(nltk.bigrams(K1.split())) + list(nltk.bigrams(K2.split())) + list(nltk.bigrams(K3.split())) + list(nltk.bigrams(K4.split()))\n",
    "trigrams_corpus  = list(nltk.trigrams(K1.split())) + list(nltk.trigrams(K2.split())) + list(nltk.trigrams(K3.split())) + list(nltk.trigrams(K4.split()))"
   ]
  },
  {
   "cell_type": "code",
   "execution_count": null,
   "metadata": {
    "id": "fLIWxrfuOyI9"
   },
   "outputs": [],
   "source": [
    "string_a = 'warga desa sedang sakit kelapa di rumah sakit'\n",
    "string_b = 'orang itu sedang berada di rumah sakit'\n",
    "string_c = 'rumah sakit di desa itu tempat warga memakan kepala'\n",
    "string_d = 'orang sakit sedang memakan kelapa bersama warga desa'\n",
    "lst_string = [string_a, string_b, string_c, string_d]"
   ]
  },
  {
   "cell_type": "code",
   "execution_count": null,
   "metadata": {
    "id": "vgLzYU6Gaty_"
   },
   "outputs": [],
   "source": [
    "def prob_bigrams(bigrams):\n",
    "  nilai = 1\n",
    "  for j in bigrams:\n",
    "    tmp = bigrams_corpus.count(j)\n",
    "    if tmp == 0:\n",
    "      tmp = tmp + 1\n",
    "      tmp2 = unigrams_corpus.count(j[1]) + len(set(unigrams_corpus))\n",
    "      nilai = nilai * (tmp/tmp2)\n",
    "    else:\n",
    "      tmp2 = unigrams_corpus.count(j[1])\n",
    "      nilai = nilai * (tmp/tmp2)\n",
    "  return nilai"
   ]
  },
  {
   "cell_type": "code",
   "execution_count": null,
   "metadata": {
    "id": "p0xj_jYeddNe"
   },
   "outputs": [],
   "source": [
    "def prob_trigrams(trigrams):\n",
    "  nilai = 1\n",
    "  for i in trigrams:\n",
    "    tmp = trigrams_corpus.count(i)\n",
    "    if tmp == 0:\n",
    "      tmp = tmp + 1\n",
    "      tmp2 = bigrams_corpus.count((i[1],i[2])) + len(set(bigrams_corpus))\n",
    "      nilai = nilai * (tmp/tmp2)\n",
    "    else:\n",
    "      tmp2 = bigrams_corpus.count((i[1],i[2])) + len(set(bigrams_corpus))\n",
    "      nilai = nilai * (tmp/tmp2)\n",
    "  return nilai"
   ]
  },
  {
   "cell_type": "code",
   "execution_count": null,
   "metadata": {
    "colab": {
     "base_uri": "https://localhost:8080/",
     "height": 172
    },
    "executionInfo": {
     "elapsed": 24,
     "status": "ok",
     "timestamp": 1633430224538,
     "user": {
      "displayName": "Naufal Hilmi",
      "photoUrl": "https://lh3.googleusercontent.com/a-/AOh14Gj7UB8yAHzIcK8gtuCV9hf44dCQUmF8XqLkQI3C=s64",
      "userId": "02567910694508979199"
     },
     "user_tz": -420
    },
    "id": "ogD2w4Oca7aj",
    "outputId": "684ef393-60ff-4a96-ea05-c223e33583fb"
   },
   "outputs": [
    {
     "data": {
      "text/html": [
       "<div>\n",
       "<style scoped>\n",
       "    .dataframe tbody tr th:only-of-type {\n",
       "        vertical-align: middle;\n",
       "    }\n",
       "\n",
       "    .dataframe tbody tr th {\n",
       "        vertical-align: top;\n",
       "    }\n",
       "\n",
       "    .dataframe thead th {\n",
       "        text-align: right;\n",
       "    }\n",
       "</style>\n",
       "<table border=\"1\" class=\"dataframe\">\n",
       "  <thead>\n",
       "    <tr style=\"text-align: right;\">\n",
       "      <th></th>\n",
       "      <th>text</th>\n",
       "      <th>probability</th>\n",
       "      <th>validation</th>\n",
       "    </tr>\n",
       "  </thead>\n",
       "  <tbody>\n",
       "    <tr>\n",
       "      <th>a</th>\n",
       "      <td>warga desa sedang sakit kelapa di rumah sakit</td>\n",
       "      <td>3.391670e-07</td>\n",
       "      <td>valid</td>\n",
       "    </tr>\n",
       "    <tr>\n",
       "      <th>b</th>\n",
       "      <td>orang itu sedang berada di rumah sakit</td>\n",
       "      <td>9.861933e-05</td>\n",
       "      <td>valid</td>\n",
       "    </tr>\n",
       "    <tr>\n",
       "      <th>c</th>\n",
       "      <td>rumah sakit di desa itu tempat warga memakan k...</td>\n",
       "      <td>1.299975e-07</td>\n",
       "      <td>valid</td>\n",
       "    </tr>\n",
       "    <tr>\n",
       "      <th>d</th>\n",
       "      <td>orang sakit sedang memakan kelapa bersama warg...</td>\n",
       "      <td>9.157509e-05</td>\n",
       "      <td>valid</td>\n",
       "    </tr>\n",
       "  </tbody>\n",
       "</table>\n",
       "</div>"
      ],
      "text/plain": [
       "                                                text   probability validation\n",
       "a      warga desa sedang sakit kelapa di rumah sakit  3.391670e-07      valid\n",
       "b             orang itu sedang berada di rumah sakit  9.861933e-05      valid\n",
       "c  rumah sakit di desa itu tempat warga memakan k...  1.299975e-07      valid\n",
       "d  orang sakit sedang memakan kelapa bersama warg...  9.157509e-05      valid"
      ]
     },
     "execution_count": 19,
     "metadata": {},
     "output_type": "execute_result"
    }
   ],
   "source": [
    "hasil_bigrams = {}\n",
    "\n",
    "for i in lst_string:\n",
    "  bigrams = list(nltk.bigrams(i.split()))\n",
    "  unigrams = i.split()[0]\n",
    "  nilai = prob_bigrams(bigrams) * unigrams_corpus.count(unigrams)/len(set(unigrams_corpus))\n",
    "  hasil_bigrams[i] = nilai\n",
    "\n",
    "df_bigrams = pd.DataFrame(list(hasil_bigrams.items()), columns = ['text', 'probability'], index = ['a','b','c','d'])\n",
    "df_bigrams['validation'] = np.where(df_bigrams['probability']>10**(-12), 'valid', 'no valid')\n",
    "df_bigrams"
   ]
  },
  {
   "cell_type": "code",
   "execution_count": null,
   "metadata": {
    "colab": {
     "base_uri": "https://localhost:8080/",
     "height": 172
    },
    "executionInfo": {
     "elapsed": 24,
     "status": "ok",
     "timestamp": 1633430224539,
     "user": {
      "displayName": "Naufal Hilmi",
      "photoUrl": "https://lh3.googleusercontent.com/a-/AOh14Gj7UB8yAHzIcK8gtuCV9hf44dCQUmF8XqLkQI3C=s64",
      "userId": "02567910694508979199"
     },
     "user_tz": -420
    },
    "id": "yyY-zhXMO6fI",
    "outputId": "1a3279a8-fffc-4f36-e763-6b158acb92b2"
   },
   "outputs": [
    {
     "data": {
      "text/html": [
       "<div>\n",
       "<style scoped>\n",
       "    .dataframe tbody tr th:only-of-type {\n",
       "        vertical-align: middle;\n",
       "    }\n",
       "\n",
       "    .dataframe tbody tr th {\n",
       "        vertical-align: top;\n",
       "    }\n",
       "\n",
       "    .dataframe thead th {\n",
       "        text-align: right;\n",
       "    }\n",
       "</style>\n",
       "<table border=\"1\" class=\"dataframe\">\n",
       "  <thead>\n",
       "    <tr style=\"text-align: right;\">\n",
       "      <th></th>\n",
       "      <th>text</th>\n",
       "      <th>probability</th>\n",
       "      <th>validation</th>\n",
       "    </tr>\n",
       "  </thead>\n",
       "  <tbody>\n",
       "    <tr>\n",
       "      <th>a</th>\n",
       "      <td>warga desa sedang sakit kelapa di rumah sakit</td>\n",
       "      <td>1.219012e-09</td>\n",
       "      <td>valid</td>\n",
       "    </tr>\n",
       "    <tr>\n",
       "      <th>b</th>\n",
       "      <td>orang itu sedang berada di rumah sakit</td>\n",
       "      <td>6.948369e-08</td>\n",
       "      <td>valid</td>\n",
       "    </tr>\n",
       "    <tr>\n",
       "      <th>c</th>\n",
       "      <td>rumah sakit di desa itu tempat warga memakan k...</td>\n",
       "      <td>2.958689e-10</td>\n",
       "      <td>valid</td>\n",
       "    </tr>\n",
       "    <tr>\n",
       "      <th>d</th>\n",
       "      <td>orang sakit sedang memakan kelapa bersama warg...</td>\n",
       "      <td>7.247732e-09</td>\n",
       "      <td>valid</td>\n",
       "    </tr>\n",
       "  </tbody>\n",
       "</table>\n",
       "</div>"
      ],
      "text/plain": [
       "                                                text   probability validation\n",
       "a      warga desa sedang sakit kelapa di rumah sakit  1.219012e-09      valid\n",
       "b             orang itu sedang berada di rumah sakit  6.948369e-08      valid\n",
       "c  rumah sakit di desa itu tempat warga memakan k...  2.958689e-10      valid\n",
       "d  orang sakit sedang memakan kelapa bersama warg...  7.247732e-09      valid"
      ]
     },
     "execution_count": 20,
     "metadata": {},
     "output_type": "execute_result"
    }
   ],
   "source": [
    "hasil_trigrams = {}\n",
    "\n",
    "for i in lst_string:\n",
    "  trigrams = list(nltk.trigrams(i.split()))\n",
    "  unigrams = i.split()[0]\n",
    "  nilai = prob_trigrams(trigrams) * unigrams_corpus.count(unigrams)/len(set(unigrams_corpus))\n",
    "  hasil_trigrams[i] = nilai\n",
    "\n",
    "df_trigrams = pd.DataFrame(list(hasil_trigrams.items()), columns = ['text', 'probability'], index = ['a','b','c','d'])\n",
    "df_trigrams['validation'] = np.where(df_trigrams['probability']>10**(-12), 'valid', 'no valid')\n",
    "df_trigrams"
   ]
  },
  {
   "cell_type": "markdown",
   "metadata": {
    "id": "6aOUh49LXOMF"
   },
   "source": [
    "## Perbedaan menggunakan Bigrams dan Trigrams"
   ]
  },
  {
   "cell_type": "markdown",
   "metadata": {
    "id": "jVBMzq8I1cXi"
   },
   "source": [
    "Menurut saya penggunaan Bigrams dan Trigrams lebih baik menggunakan Trigrams. Hal ini dikarenakan Trigrams akan mengelompokan kalimat lebih detail dibandingkan Bigrams sehingga akan lebih melihat lagi keterhubungan antara kata dalam query dan dari keterhubungan kata tersebut dapat terlihat apakah konten tersebut benar atau terdapat kesalahan. Namun kelemahan Trigrams adalah space yang dibutuhkan cukup besar dibandingkan Bigrams karena dalam perhitungan Trigrams dibutuhkan Bigrams."
   ]
  },
  {
   "cell_type": "markdown",
   "metadata": {
    "id": "BbSwQ72OXP_z"
   },
   "source": [
    "## Penggunaan N-Grams model pada kata morfologis"
   ]
  },
  {
   "cell_type": "markdown",
   "metadata": {
    "id": "sVgo961M7u3f"
   },
   "source": [
    "Menurut saya teknik ini sudah cukup baik digunakan untuk bahasa yang memiliki morfologis yang banyak. Hal ini dikarenakan jika terdapat kesalahan kata real-word error dapat dicek melalui kerehubungan antar katanya dalam suatu kalimat. Dengan teknik N-Grams ini hal tersebut dapat dilakukan.\n",
    "\n",
    "Masalah yang dapat terjadi yaitu kesalahan penulisan kata yang membuat arti lain dalam kata tersebut. Dalam bahasa indonesia banyak kata yang hampir mirip namun memiliki arti berbeda. Disinilah n-grams dapat menyelesaikan masalah dari kesalahan tersebut."
   ]
  },
  {
   "cell_type": "markdown",
   "metadata": {
    "id": "cg1m6gEmXQ28"
   },
   "source": [
    "# Pemetaan Dokumen dan Teks"
   ]
  },
  {
   "cell_type": "markdown",
   "metadata": {
    "id": "hGNRqlj4XSpz"
   },
   "source": [
    "## Pembuatan peta dari token terhadap dokumen"
   ]
  },
  {
   "cell_type": "code",
   "execution_count": null,
   "metadata": {
    "colab": {
     "base_uri": "https://localhost:8080/"
    },
    "executionInfo": {
     "elapsed": 1446,
     "status": "ok",
     "timestamp": 1633430225962,
     "user": {
      "displayName": "Naufal Hilmi",
      "photoUrl": "https://lh3.googleusercontent.com/a-/AOh14Gj7UB8yAHzIcK8gtuCV9hf44dCQUmF8XqLkQI3C=s64",
      "userId": "02567910694508979199"
     },
     "user_tz": -420
    },
    "id": "K_emP98rPblD",
    "outputId": "519b3fb0-a07c-43ba-f4a4-9598de8a69e6"
   },
   "outputs": [
    {
     "name": "stdout",
     "output_type": "stream",
     "text": [
      "Downloading...\n",
      "From: https://drive.google.com/uc?id=1rzfWeDBdTD5hav8Z__TX4wuc2OXJ5YtN\n",
      "To: /content/id.stopwords.02.01.2016.txt\n",
      "\r  0% 0.00/6.45k [00:00<?, ?B/s]\r100% 6.45k/6.45k [00:00<00:00, 11.5MB/s]\n"
     ]
    }
   ],
   "source": [
    "!gdown --id 1rzfWeDBdTD5hav8Z__TX4wuc2OXJ5YtN"
   ]
  },
  {
   "cell_type": "code",
   "execution_count": null,
   "metadata": {
    "id": "ZvfDS-NcPsgu"
   },
   "outputs": [],
   "source": [
    "with open('id.stopwords.02.01.2016.txt') as f:\n",
    "    stopwords = f.read().split(\"\\n\")"
   ]
  },
  {
   "cell_type": "code",
   "execution_count": null,
   "metadata": {
    "id": "AlpfmYQYSI4Z"
   },
   "outputs": [],
   "source": [
    "doc_1 = 'Sivitas Akademika Universitas Indonesia menjalankan aktivitas perkuliahan secara daring yang diikuti oleh mahasiswa dari seluruh jenjang. Hal ini diakibatkan karena adanya pandemi COVID-19 di Indonesia selama satu setengah tahun belakang.'\n",
    "doc_2 = 'Masyarakat memiliki respon berbeda dalam menyikapi pandemi COVID-19. Salah satu mahasiswa bernama Dipsy mengatakan kesulitan untuk belajar dengan maksimal karena sulit untuk berdiskusi dengan orang yang lebih pandai.'\n",
    "doc_3 = 'Salah satu kunci untuk menghadapi musibah adalah dengan bersabar dan yakin semua musibah akan berlalu pada waktunya. Badai pasti berlalu, jadi harus tetap semangat.'"
   ]
  },
  {
   "cell_type": "code",
   "execution_count": null,
   "metadata": {
    "colab": {
     "base_uri": "https://localhost:8080/"
    },
    "executionInfo": {
     "elapsed": 1138,
     "status": "ok",
     "timestamp": 1633430227092,
     "user": {
      "displayName": "Naufal Hilmi",
      "photoUrl": "https://lh3.googleusercontent.com/a-/AOh14Gj7UB8yAHzIcK8gtuCV9hf44dCQUmF8XqLkQI3C=s64",
      "userId": "02567910694508979199"
     },
     "user_tz": -420
    },
    "id": "WRfbnOkUbNeN",
    "outputId": "6d345753-635c-4f6f-fef9-a45ca263666e"
   },
   "outputs": [
    {
     "name": "stdout",
     "output_type": "stream",
     "text": [
      "[nltk_data] Downloading package punkt to /root/nltk_data...\n",
      "[nltk_data]   Unzipping tokenizers/punkt.zip.\n"
     ]
    },
    {
     "data": {
      "text/plain": [
       "True"
      ]
     },
     "execution_count": 24,
     "metadata": {},
     "output_type": "execute_result"
    }
   ],
   "source": [
    "nltk.download('punkt')"
   ]
  },
  {
   "cell_type": "code",
   "execution_count": null,
   "metadata": {
    "id": "sea6PTc6gENV"
   },
   "outputs": [],
   "source": [
    "tokenize = set(nltk.word_tokenize(doc_1)) | set(nltk.word_tokenize(doc_2)) | set(nltk.word_tokenize(doc_3))\n",
    "tokenize_wo_punc = []\n",
    "for word in tokenize:\n",
    "  if word not in string.punctuation and word.lower() not in stopwords:\n",
    "    tokenize_wo_punc.append(word.lower())"
   ]
  },
  {
   "cell_type": "code",
   "execution_count": null,
   "metadata": {
    "id": "XaExBDirm8TW"
   },
   "outputs": [],
   "source": [
    "factory = StemmerFactory()\n",
    "stemmer = factory.create_stemmer()"
   ]
  },
  {
   "cell_type": "code",
   "execution_count": null,
   "metadata": {
    "id": "ZoBANFbmBWDO"
   },
   "outputs": [],
   "source": [
    "token_dasar = []\n",
    "for i in tokenize_wo_punc:\n",
    "  tmp = stemmer.stem(i)\n",
    "  token_dasar.append(tmp)"
   ]
  },
  {
   "cell_type": "code",
   "execution_count": null,
   "metadata": {
    "id": "UZCZw43Djpg2"
   },
   "outputs": [],
   "source": [
    "pemetaan_token = {}\n",
    "for i in range(len(tokenize_wo_punc)):\n",
    "    lst_doc = []\n",
    "    if tokenize_wo_punc[i] in doc_1.lower():\n",
    "      lst_doc.append('Document 1')\n",
    "    if tokenize_wo_punc[i] in doc_2.lower():\n",
    "      lst_doc.append('Document 2')\n",
    "    if tokenize_wo_punc[i] in doc_3.lower():\n",
    "      lst_doc.append('Document 3')\n",
    "    pemetaan_token[token_dasar[i]] = lst_doc"
   ]
  },
  {
   "cell_type": "code",
   "execution_count": null,
   "metadata": {
    "colab": {
     "base_uri": "https://localhost:8080/"
    },
    "executionInfo": {
     "elapsed": 31,
     "status": "ok",
     "timestamp": 1633430227097,
     "user": {
      "displayName": "Naufal Hilmi",
      "photoUrl": "https://lh3.googleusercontent.com/a-/AOh14Gj7UB8yAHzIcK8gtuCV9hf44dCQUmF8XqLkQI3C=s64",
      "userId": "02567910694508979199"
     },
     "user_tz": -420
    },
    "id": "deFm2GUpw38v",
    "outputId": "b99b2352-d1c1-442f-d5b0-080e013d50f4"
   },
   "outputs": [
    {
     "data": {
      "text/plain": [
       "{'ajar': ['Document 2'],\n",
       " 'akademika': ['Document 1'],\n",
       " 'akibat': ['Document 1'],\n",
       " 'aktivitas': ['Document 1'],\n",
       " 'badai': ['Document 3'],\n",
       " 'beda': ['Document 2'],\n",
       " 'covid-19': ['Document 1', 'Document 2'],\n",
       " 'daring': ['Document 1'],\n",
       " 'dipsy': ['Document 2'],\n",
       " 'diskus': ['Document 2'],\n",
       " 'hadap': ['Document 3'],\n",
       " 'ikut': ['Document 1'],\n",
       " 'indonesia': ['Document 1'],\n",
       " 'jalan': ['Document 1'],\n",
       " 'jenjang': ['Document 1'],\n",
       " 'kuliah': ['Document 1'],\n",
       " 'kunci': ['Document 3'],\n",
       " 'mahasiswa': ['Document 1', 'Document 2'],\n",
       " 'maksimal': ['Document 2'],\n",
       " 'masyarakat': ['Document 2'],\n",
       " 'milik': ['Document 2'],\n",
       " 'musibah': ['Document 3'],\n",
       " 'nama': ['Document 2'],\n",
       " 'orang': ['Document 2'],\n",
       " 'pandai': ['Document 2'],\n",
       " 'pandemi': ['Document 1', 'Document 2'],\n",
       " 'respon': ['Document 2'],\n",
       " 'sabar': ['Document 3'],\n",
       " 'salah': ['Document 2', 'Document 3'],\n",
       " 'semangat': ['Document 3'],\n",
       " 'sikap': ['Document 2'],\n",
       " 'sivitas': ['Document 1'],\n",
       " 'sulit': ['Document 2'],\n",
       " 'universitas': ['Document 1']}"
      ]
     },
     "execution_count": 29,
     "metadata": {},
     "output_type": "execute_result"
    }
   ],
   "source": [
    "pemetaan_token"
   ]
  },
  {
   "cell_type": "code",
   "execution_count": null,
   "metadata": {
    "colab": {
     "base_uri": "https://localhost:8080/",
     "height": 1000
    },
    "executionInfo": {
     "elapsed": 30,
     "status": "ok",
     "timestamp": 1633430227098,
     "user": {
      "displayName": "Naufal Hilmi",
      "photoUrl": "https://lh3.googleusercontent.com/a-/AOh14Gj7UB8yAHzIcK8gtuCV9hf44dCQUmF8XqLkQI3C=s64",
      "userId": "02567910694508979199"
     },
     "user_tz": -420
    },
    "id": "WB6S-E_YxSjw",
    "outputId": "0d9f8a18-dc9b-40ca-91dd-cbd3afd2e790"
   },
   "outputs": [
    {
     "data": {
      "text/html": [
       "<div>\n",
       "<style scoped>\n",
       "    .dataframe tbody tr th:only-of-type {\n",
       "        vertical-align: middle;\n",
       "    }\n",
       "\n",
       "    .dataframe tbody tr th {\n",
       "        vertical-align: top;\n",
       "    }\n",
       "\n",
       "    .dataframe thead th {\n",
       "        text-align: right;\n",
       "    }\n",
       "</style>\n",
       "<table border=\"1\" class=\"dataframe\">\n",
       "  <thead>\n",
       "    <tr style=\"text-align: right;\">\n",
       "      <th></th>\n",
       "      <th>Token</th>\n",
       "      <th>Document 1</th>\n",
       "      <th>Document 2</th>\n",
       "      <th>Document 3</th>\n",
       "    </tr>\n",
       "  </thead>\n",
       "  <tbody>\n",
       "    <tr>\n",
       "      <th>0</th>\n",
       "      <td>kuliah</td>\n",
       "      <td>1</td>\n",
       "      <td>0</td>\n",
       "      <td>0</td>\n",
       "    </tr>\n",
       "    <tr>\n",
       "      <th>1</th>\n",
       "      <td>sivitas</td>\n",
       "      <td>1</td>\n",
       "      <td>0</td>\n",
       "      <td>0</td>\n",
       "    </tr>\n",
       "    <tr>\n",
       "      <th>2</th>\n",
       "      <td>respon</td>\n",
       "      <td>0</td>\n",
       "      <td>1</td>\n",
       "      <td>0</td>\n",
       "    </tr>\n",
       "    <tr>\n",
       "      <th>3</th>\n",
       "      <td>musibah</td>\n",
       "      <td>0</td>\n",
       "      <td>0</td>\n",
       "      <td>2</td>\n",
       "    </tr>\n",
       "    <tr>\n",
       "      <th>4</th>\n",
       "      <td>pandai</td>\n",
       "      <td>0</td>\n",
       "      <td>1</td>\n",
       "      <td>0</td>\n",
       "    </tr>\n",
       "    <tr>\n",
       "      <th>5</th>\n",
       "      <td>akibat</td>\n",
       "      <td>1</td>\n",
       "      <td>0</td>\n",
       "      <td>0</td>\n",
       "    </tr>\n",
       "    <tr>\n",
       "      <th>6</th>\n",
       "      <td>sabar</td>\n",
       "      <td>0</td>\n",
       "      <td>0</td>\n",
       "      <td>1</td>\n",
       "    </tr>\n",
       "    <tr>\n",
       "      <th>7</th>\n",
       "      <td>badai</td>\n",
       "      <td>0</td>\n",
       "      <td>0</td>\n",
       "      <td>1</td>\n",
       "    </tr>\n",
       "    <tr>\n",
       "      <th>8</th>\n",
       "      <td>salah</td>\n",
       "      <td>0</td>\n",
       "      <td>1</td>\n",
       "      <td>1</td>\n",
       "    </tr>\n",
       "    <tr>\n",
       "      <th>9</th>\n",
       "      <td>jalan</td>\n",
       "      <td>1</td>\n",
       "      <td>0</td>\n",
       "      <td>0</td>\n",
       "    </tr>\n",
       "    <tr>\n",
       "      <th>10</th>\n",
       "      <td>daring</td>\n",
       "      <td>1</td>\n",
       "      <td>0</td>\n",
       "      <td>0</td>\n",
       "    </tr>\n",
       "    <tr>\n",
       "      <th>11</th>\n",
       "      <td>indonesia</td>\n",
       "      <td>2</td>\n",
       "      <td>0</td>\n",
       "      <td>0</td>\n",
       "    </tr>\n",
       "    <tr>\n",
       "      <th>12</th>\n",
       "      <td>masyarakat</td>\n",
       "      <td>0</td>\n",
       "      <td>1</td>\n",
       "      <td>0</td>\n",
       "    </tr>\n",
       "    <tr>\n",
       "      <th>13</th>\n",
       "      <td>universitas</td>\n",
       "      <td>1</td>\n",
       "      <td>0</td>\n",
       "      <td>0</td>\n",
       "    </tr>\n",
       "    <tr>\n",
       "      <th>14</th>\n",
       "      <td>ikut</td>\n",
       "      <td>1</td>\n",
       "      <td>0</td>\n",
       "      <td>0</td>\n",
       "    </tr>\n",
       "    <tr>\n",
       "      <th>15</th>\n",
       "      <td>semangat</td>\n",
       "      <td>0</td>\n",
       "      <td>0</td>\n",
       "      <td>1</td>\n",
       "    </tr>\n",
       "    <tr>\n",
       "      <th>16</th>\n",
       "      <td>covid-19</td>\n",
       "      <td>1</td>\n",
       "      <td>1</td>\n",
       "      <td>0</td>\n",
       "    </tr>\n",
       "    <tr>\n",
       "      <th>17</th>\n",
       "      <td>sulit</td>\n",
       "      <td>0</td>\n",
       "      <td>1</td>\n",
       "      <td>0</td>\n",
       "    </tr>\n",
       "    <tr>\n",
       "      <th>18</th>\n",
       "      <td>orang</td>\n",
       "      <td>0</td>\n",
       "      <td>1</td>\n",
       "      <td>0</td>\n",
       "    </tr>\n",
       "    <tr>\n",
       "      <th>19</th>\n",
       "      <td>kunci</td>\n",
       "      <td>0</td>\n",
       "      <td>0</td>\n",
       "      <td>1</td>\n",
       "    </tr>\n",
       "    <tr>\n",
       "      <th>20</th>\n",
       "      <td>diskus</td>\n",
       "      <td>0</td>\n",
       "      <td>1</td>\n",
       "      <td>0</td>\n",
       "    </tr>\n",
       "    <tr>\n",
       "      <th>21</th>\n",
       "      <td>jenjang</td>\n",
       "      <td>1</td>\n",
       "      <td>0</td>\n",
       "      <td>0</td>\n",
       "    </tr>\n",
       "    <tr>\n",
       "      <th>22</th>\n",
       "      <td>sulit</td>\n",
       "      <td>0</td>\n",
       "      <td>2</td>\n",
       "      <td>0</td>\n",
       "    </tr>\n",
       "    <tr>\n",
       "      <th>23</th>\n",
       "      <td>maksimal</td>\n",
       "      <td>0</td>\n",
       "      <td>1</td>\n",
       "      <td>0</td>\n",
       "    </tr>\n",
       "    <tr>\n",
       "      <th>24</th>\n",
       "      <td>hadap</td>\n",
       "      <td>0</td>\n",
       "      <td>0</td>\n",
       "      <td>1</td>\n",
       "    </tr>\n",
       "    <tr>\n",
       "      <th>25</th>\n",
       "      <td>nama</td>\n",
       "      <td>0</td>\n",
       "      <td>1</td>\n",
       "      <td>0</td>\n",
       "    </tr>\n",
       "    <tr>\n",
       "      <th>26</th>\n",
       "      <td>aktivitas</td>\n",
       "      <td>1</td>\n",
       "      <td>0</td>\n",
       "      <td>0</td>\n",
       "    </tr>\n",
       "    <tr>\n",
       "      <th>27</th>\n",
       "      <td>sikap</td>\n",
       "      <td>0</td>\n",
       "      <td>1</td>\n",
       "      <td>0</td>\n",
       "    </tr>\n",
       "    <tr>\n",
       "      <th>28</th>\n",
       "      <td>mahasiswa</td>\n",
       "      <td>1</td>\n",
       "      <td>1</td>\n",
       "      <td>0</td>\n",
       "    </tr>\n",
       "    <tr>\n",
       "      <th>29</th>\n",
       "      <td>pandemi</td>\n",
       "      <td>1</td>\n",
       "      <td>1</td>\n",
       "      <td>0</td>\n",
       "    </tr>\n",
       "    <tr>\n",
       "      <th>30</th>\n",
       "      <td>beda</td>\n",
       "      <td>0</td>\n",
       "      <td>1</td>\n",
       "      <td>0</td>\n",
       "    </tr>\n",
       "    <tr>\n",
       "      <th>31</th>\n",
       "      <td>akademika</td>\n",
       "      <td>1</td>\n",
       "      <td>0</td>\n",
       "      <td>0</td>\n",
       "    </tr>\n",
       "    <tr>\n",
       "      <th>32</th>\n",
       "      <td>milik</td>\n",
       "      <td>0</td>\n",
       "      <td>1</td>\n",
       "      <td>0</td>\n",
       "    </tr>\n",
       "    <tr>\n",
       "      <th>33</th>\n",
       "      <td>ajar</td>\n",
       "      <td>0</td>\n",
       "      <td>1</td>\n",
       "      <td>0</td>\n",
       "    </tr>\n",
       "    <tr>\n",
       "      <th>34</th>\n",
       "      <td>dipsy</td>\n",
       "      <td>0</td>\n",
       "      <td>1</td>\n",
       "      <td>0</td>\n",
       "    </tr>\n",
       "  </tbody>\n",
       "</table>\n",
       "</div>"
      ],
      "text/plain": [
       "          Token  Document 1  Document 2  Document 3\n",
       "0        kuliah           1           0           0\n",
       "1       sivitas           1           0           0\n",
       "2        respon           0           1           0\n",
       "3       musibah           0           0           2\n",
       "4        pandai           0           1           0\n",
       "5        akibat           1           0           0\n",
       "6         sabar           0           0           1\n",
       "7         badai           0           0           1\n",
       "8         salah           0           1           1\n",
       "9         jalan           1           0           0\n",
       "10       daring           1           0           0\n",
       "11    indonesia           2           0           0\n",
       "12   masyarakat           0           1           0\n",
       "13  universitas           1           0           0\n",
       "14         ikut           1           0           0\n",
       "15     semangat           0           0           1\n",
       "16     covid-19           1           1           0\n",
       "17        sulit           0           1           0\n",
       "18        orang           0           1           0\n",
       "19        kunci           0           0           1\n",
       "20       diskus           0           1           0\n",
       "21      jenjang           1           0           0\n",
       "22        sulit           0           2           0\n",
       "23     maksimal           0           1           0\n",
       "24        hadap           0           0           1\n",
       "25         nama           0           1           0\n",
       "26    aktivitas           1           0           0\n",
       "27        sikap           0           1           0\n",
       "28    mahasiswa           1           1           0\n",
       "29      pandemi           1           1           0\n",
       "30         beda           0           1           0\n",
       "31    akademika           1           0           0\n",
       "32        milik           0           1           0\n",
       "33         ajar           0           1           0\n",
       "34        dipsy           0           1           0"
      ]
     },
     "execution_count": 30,
     "metadata": {},
     "output_type": "execute_result"
    }
   ],
   "source": [
    "sum_token = []\n",
    "for i in range(len(tokenize_wo_punc)):\n",
    "    lst_sum = []\n",
    "    lst_sum.append(token_dasar[i])\n",
    "    lst_sum.append(doc_1.lower().count(tokenize_wo_punc[i]))\n",
    "    lst_sum.append(doc_2.lower().count(tokenize_wo_punc[i]))\n",
    "    lst_sum.append(doc_3.lower().count(tokenize_wo_punc[i]))\n",
    "    sum_token.append(lst_sum)\n",
    "\n",
    "df_sum_token = pd.DataFrame(sum_token, columns = ['Token', 'Document 1', 'Document 2', 'Document 3'])\n",
    "df_sum_token"
   ]
  },
  {
   "cell_type": "markdown",
   "metadata": {
    "id": "8kbkeX1bXTx_"
   },
   "source": [
    "## Pengetesan token dengan dokumen"
   ]
  },
  {
   "cell_type": "code",
   "execution_count": null,
   "metadata": {
    "id": "INLm__05CiDK"
   },
   "outputs": [],
   "source": [
    "all_doc = ['Document 1','Document 2','Document 3']\n",
    "def find_ans(token_1, query_2, token_2, query = None):\n",
    "  if token_1 in pemetaan_token and token_2 in pemetaan_token:\n",
    "    doc_token_1 = pemetaan_token[token_1]\n",
    "    doc_token_2 = pemetaan_token[token_2]\n",
    "  elif token_1 in pemetaan_token and token_2 not in pemetaan_token:\n",
    "    doc_token_1 = pemetaan_token[token_1]\n",
    "    doc_token_2 = []\n",
    "  elif token_2 in pemetaan_token and token_1 not in pemetaan_token:\n",
    "    doc_token_1 = []\n",
    "    doc_token_2 = pemetaan_token[token_2]  \n",
    "  else:\n",
    "    doc_token_1 = []\n",
    "    doc_token_2 = []\n",
    "\n",
    "  \n",
    "  if query_2 == 'AND':\n",
    "    hasil = set(doc_token_1) & set(doc_token_2)\n",
    "    if query == None:\n",
    "      return hasil\n",
    "    elif query == 'NOT':\n",
    "      return set(all_doc) - hasil\n",
    "  elif query_2 == 'OR':\n",
    "    hasil = set(doc_token_1) | set(doc_token_2)\n",
    "    if query == None:\n",
    "      return hasil\n",
    "    elif query == 'NOT':\n",
    "      return set(all_doc) - hasil"
   ]
  },
  {
   "cell_type": "code",
   "execution_count": null,
   "metadata": {
    "colab": {
     "base_uri": "https://localhost:8080/"
    },
    "executionInfo": {
     "elapsed": 30,
     "status": "ok",
     "timestamp": 1633430227099,
     "user": {
      "displayName": "Naufal Hilmi",
      "photoUrl": "https://lh3.googleusercontent.com/a-/AOh14Gj7UB8yAHzIcK8gtuCV9hf44dCQUmF8XqLkQI3C=s64",
      "userId": "02567910694508979199"
     },
     "user_tz": -420
    },
    "id": "diwrHC7_TY8G",
    "outputId": "d10dfdf2-b7f4-4fbf-9e68-1e32804d5240"
   },
   "outputs": [
    {
     "data": {
      "text/plain": [
       "set()"
      ]
     },
     "execution_count": 32,
     "metadata": {},
     "output_type": "execute_result"
    }
   ],
   "source": [
    "find_ans('akibat', 'AND', 'sulit')"
   ]
  },
  {
   "cell_type": "code",
   "execution_count": null,
   "metadata": {
    "colab": {
     "base_uri": "https://localhost:8080/"
    },
    "executionInfo": {
     "elapsed": 28,
     "status": "ok",
     "timestamp": 1633430227100,
     "user": {
      "displayName": "Naufal Hilmi",
      "photoUrl": "https://lh3.googleusercontent.com/a-/AOh14Gj7UB8yAHzIcK8gtuCV9hf44dCQUmF8XqLkQI3C=s64",
      "userId": "02567910694508979199"
     },
     "user_tz": -420
    },
    "id": "MBAvJJmj_EX0",
    "outputId": "99aec720-bd4f-4909-9bac-8e75c96a2e92"
   },
   "outputs": [
    {
     "data": {
      "text/plain": [
       "set()"
      ]
     },
     "execution_count": 33,
     "metadata": {},
     "output_type": "execute_result"
    }
   ],
   "source": [
    "find_ans('waktu', 'OR', 'santai')"
   ]
  },
  {
   "cell_type": "code",
   "execution_count": null,
   "metadata": {
    "colab": {
     "base_uri": "https://localhost:8080/"
    },
    "executionInfo": {
     "elapsed": 26,
     "status": "ok",
     "timestamp": 1633430227101,
     "user": {
      "displayName": "Naufal Hilmi",
      "photoUrl": "https://lh3.googleusercontent.com/a-/AOh14Gj7UB8yAHzIcK8gtuCV9hf44dCQUmF8XqLkQI3C=s64",
      "userId": "02567910694508979199"
     },
     "user_tz": -420
    },
    "id": "hhycH0ryTejd",
    "outputId": "ea35467a-deb0-416c-8972-37918d074645"
   },
   "outputs": [
    {
     "data": {
      "text/plain": [
       "{'Document 2', 'Document 3'}"
      ]
     },
     "execution_count": 34,
     "metadata": {},
     "output_type": "execute_result"
    }
   ],
   "source": [
    "find_ans('masyarakat', 'AND', 'mahasiswa') | set(pemetaan_token['sabar'])"
   ]
  },
  {
   "cell_type": "code",
   "execution_count": null,
   "metadata": {
    "colab": {
     "base_uri": "https://localhost:8080/"
    },
    "executionInfo": {
     "elapsed": 23,
     "status": "ok",
     "timestamp": 1633430227101,
     "user": {
      "displayName": "Naufal Hilmi",
      "photoUrl": "https://lh3.googleusercontent.com/a-/AOh14Gj7UB8yAHzIcK8gtuCV9hf44dCQUmF8XqLkQI3C=s64",
      "userId": "02567910694508979199"
     },
     "user_tz": -420
    },
    "id": "aJxC1IvzTrDg",
    "outputId": "2bc3411e-5505-44b8-d0f6-6bb9e1d92022"
   },
   "outputs": [
    {
     "data": {
      "text/plain": [
       "{'Document 2'}"
      ]
     },
     "execution_count": 35,
     "metadata": {},
     "output_type": "execute_result"
    }
   ],
   "source": [
    "find_ans('libur', 'OR', 'respon') | find_ans('waktu', 'AND', 'jenjang')"
   ]
  },
  {
   "cell_type": "code",
   "execution_count": null,
   "metadata": {
    "colab": {
     "base_uri": "https://localhost:8080/"
    },
    "executionInfo": {
     "elapsed": 22,
     "status": "ok",
     "timestamp": 1633430227102,
     "user": {
      "displayName": "Naufal Hilmi",
      "photoUrl": "https://lh3.googleusercontent.com/a-/AOh14Gj7UB8yAHzIcK8gtuCV9hf44dCQUmF8XqLkQI3C=s64",
      "userId": "02567910694508979199"
     },
     "user_tz": -420
    },
    "id": "iOOtSMMQT1DF",
    "outputId": "0ebb36b1-11c2-43e9-9c50-f540a5facb16"
   },
   "outputs": [
    {
     "data": {
      "text/plain": [
       "{'Document 2', 'Document 3'}"
      ]
     },
     "execution_count": 36,
     "metadata": {},
     "output_type": "execute_result"
    }
   ],
   "source": [
    "find_ans('kunci', 'OR', 'musibah') & find_ans('aktivitas', 'AND', 'pandemi', 'NOT') | set(pemetaan_token['maksimal'])"
   ]
  },
  {
   "cell_type": "markdown",
   "metadata": {
    "id": "BVKbl3r6XUe3"
   },
   "source": [
    "## Kesimpulan pemetaan token untuk mencari dokumen"
   ]
  },
  {
   "cell_type": "markdown",
   "metadata": {
    "id": "l4AXmti9AehB"
   },
   "source": [
    "Menurut saya cara ini sudah cukup untuk memberikan manfaat terhadap sistem perolehan informasi yang dibuat. Dengan menggunakan indexing yang digunakan, kita dapat mengoperasikan list of document yg terdapat term didalamnya. Dapat dilakukan operasi set seperti union, intersection, dan negation untuk memperoleh document mana saja yang muncul.\n",
    "\n",
    "Namun cara ini tidak dapat memperoleh document mana yang paling relevan terhadap pencarian. Hal ini dikarenakan query hanya akan mengembalikan document mana saja yang terdapat term didalamnya baik yang relevan maupun yang tidak relevan. Dalam hal ini perlu diadakan sistem ranking dokumen untuk mendapatkan dokumen yang paling relevan."
   ]
  }
 ],
 "metadata": {
  "colab": {
   "authorship_tag": "ABX9TyO3RtNfMQ3dZj2/hx691Y6J",
   "collapsed_sections": [
    "mvtO0CU7MfUS",
    "JvBEPjHfXCoi",
    "fRaw8qsZXEOI",
    "yy6RYZgWXKP3",
    "6aOUh49LXOMF",
    "BbSwQ72OXP_z",
    "cg1m6gEmXQ28",
    "hGNRqlj4XSpz",
    "8kbkeX1bXTx_"
   ],
   "name": "Tugas2_1806186673_NaufalHilmiIrfandi.ipynb",
   "provenance": []
  },
  "kernelspec": {
   "display_name": "Python 3",
   "name": "python3"
  },
  "language_info": {
   "codemirror_mode": {
    "name": "ipython",
    "version": 3
   },
   "file_extension": ".py",
   "mimetype": "text/x-python",
   "name": "python",
   "nbconvert_exporter": "python",
   "pygments_lexer": "ipython3",
   "version": "3.13.5"
  }
 },
 "nbformat": 4,
 "nbformat_minor": 0
}
