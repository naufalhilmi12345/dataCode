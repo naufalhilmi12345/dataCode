{
  "nbformat": 4,
  "nbformat_minor": 0,
  "metadata": {
    "colab": {
      "provenance": []
    },
    "kernelspec": {
      "name": "python3",
      "display_name": "Python 3"
    },
    "language_info": {
      "name": "python"
    }
  },
  "cells": [
    {
      "cell_type": "markdown",
      "source": [
        "# Brazilian E-Commerce Case Data Processing"
      ],
      "metadata": {
        "id": "Jyr-MvCCjzzH"
      }
    },
    {
      "cell_type": "markdown",
      "source": [
        "## Setup"
      ],
      "metadata": {
        "id": "C6OlYALdj1hD"
      }
    },
    {
      "cell_type": "code",
      "source": [
        "!pip install pandasql"
      ],
      "metadata": {
        "colab": {
          "base_uri": "https://localhost:8080/"
        },
        "id": "GP57cedpqoaz",
        "outputId": "5e1d6c4c-49d1-44af-df7a-74ba0452e724"
      },
      "execution_count": null,
      "outputs": [
        {
          "output_type": "stream",
          "name": "stdout",
          "text": [
            "Requirement already satisfied: pandasql in /usr/local/lib/python3.11/dist-packages (0.7.3)\n",
            "Requirement already satisfied: numpy in /usr/local/lib/python3.11/dist-packages (from pandasql) (2.0.2)\n",
            "Requirement already satisfied: pandas in /usr/local/lib/python3.11/dist-packages (from pandasql) (2.2.2)\n",
            "Requirement already satisfied: sqlalchemy in /usr/local/lib/python3.11/dist-packages (from pandasql) (2.0.41)\n",
            "Requirement already satisfied: python-dateutil>=2.8.2 in /usr/local/lib/python3.11/dist-packages (from pandas->pandasql) (2.9.0.post0)\n",
            "Requirement already satisfied: pytz>=2020.1 in /usr/local/lib/python3.11/dist-packages (from pandas->pandasql) (2025.2)\n",
            "Requirement already satisfied: tzdata>=2022.7 in /usr/local/lib/python3.11/dist-packages (from pandas->pandasql) (2025.2)\n",
            "Requirement already satisfied: greenlet>=1 in /usr/local/lib/python3.11/dist-packages (from sqlalchemy->pandasql) (3.2.2)\n",
            "Requirement already satisfied: typing-extensions>=4.6.0 in /usr/local/lib/python3.11/dist-packages (from sqlalchemy->pandasql) (4.14.0)\n",
            "Requirement already satisfied: six>=1.5 in /usr/local/lib/python3.11/dist-packages (from python-dateutil>=2.8.2->pandas->pandasql) (1.17.0)\n"
          ]
        }
      ]
    },
    {
      "cell_type": "code",
      "source": [
        "import pandas as pd\n",
        "from pandasql import sqldf"
      ],
      "metadata": {
        "id": "x42EsoXej5c8"
      },
      "execution_count": null,
      "outputs": []
    },
    {
      "cell_type": "markdown",
      "source": [
        "setup data"
      ],
      "metadata": {
        "id": "vgAx8HWZks-j"
      }
    },
    {
      "cell_type": "code",
      "execution_count": null,
      "metadata": {
        "id": "gJJsAO1IeN6P"
      },
      "outputs": [],
      "source": [
        "df_olist_customers_dataset = pd.read_csv(\"https://raw.githubusercontent.com/naufalhilmi12345/dataCode/refs/heads/master/Data%20Analysis/Brazilian%20E-Commerce%20Case/olist_customers_dataset.csv\")\n",
        "df_olist_geolocation_dataset = pd.read_csv(\"https://raw.githubusercontent.com/naufalhilmi12345/dataCode/refs/heads/master/Data%20Analysis/Brazilian%20E-Commerce%20Case/olist_geolocation_dataset.csv\")\n",
        "df_olist_order_items_dataset = pd.read_csv(\"https://raw.githubusercontent.com/naufalhilmi12345/dataCode/refs/heads/master/Data%20Analysis/Brazilian%20E-Commerce%20Case/olist_order_items_dataset.csv\")\n",
        "df_olist_order_payments_dataset = pd.read_csv(\"https://raw.githubusercontent.com/naufalhilmi12345/dataCode/refs/heads/master/Data%20Analysis/Brazilian%20E-Commerce%20Case/olist_order_payments_dataset.csv\")\n",
        "df_olist_order_reviews_dataset = pd.read_csv(\"https://raw.githubusercontent.com/naufalhilmi12345/dataCode/refs/heads/master/Data%20Analysis/Brazilian%20E-Commerce%20Case/olist_order_reviews_dataset.csv\")\n",
        "df_olist_orders_dataset = pd.read_csv(\"https://raw.githubusercontent.com/naufalhilmi12345/dataCode/refs/heads/master/Data%20Analysis/Brazilian%20E-Commerce%20Case/olist_orders_dataset.csv\")\n",
        "df_olist_products_dataset = pd.read_csv(\"https://raw.githubusercontent.com/naufalhilmi12345/dataCode/refs/heads/master/Data%20Analysis/Brazilian%20E-Commerce%20Case/olist_products_dataset.csv\")\n",
        "df_olist_sellers_dataset = pd.read_csv(\"https://raw.githubusercontent.com/naufalhilmi12345/dataCode/refs/heads/master/Data%20Analysis/Brazilian%20E-Commerce%20Case/olist_sellers_dataset.csv\")\n",
        "df_product_category_name_translation = pd.read_csv(\"https://raw.githubusercontent.com/naufalhilmi12345/dataCode/refs/heads/master/Data%20Analysis/Brazilian%20E-Commerce%20Case/product_category_name_translation.csv\")"
      ]
    },
    {
      "cell_type": "markdown",
      "source": [
        "## Data Preview"
      ],
      "metadata": {
        "id": "rNDmIqu1lWyP"
      }
    },
    {
      "cell_type": "code",
      "source": [
        "print(\"df_olist_customers_dataset\")\n",
        "df_olist_customers_dataset.info()\n",
        "print(\"\\ndf_olist_geolocation_dataset\")\n",
        "df_olist_geolocation_dataset.info()\n",
        "print(\"\\ndf_olist_order_items_dataset\")\n",
        "df_olist_order_items_dataset.info()\n",
        "print(\"\\ndf_olist_order_payments_dataset\")\n",
        "df_olist_order_payments_dataset.info()\n",
        "print(\"\\ndf_olist_order_reviews_dataset\")\n",
        "df_olist_order_reviews_dataset.info()\n",
        "print(\"\\ndf_olist_orders_dataset\")\n",
        "df_olist_orders_dataset.info()\n",
        "print(\"\\ndf_olist_products_dataset\")\n",
        "df_olist_products_dataset.info()\n",
        "print(\"\\ndf_olist_sellers_dataset\")\n",
        "df_olist_sellers_dataset.info()\n",
        "print(\"\\ndf_product_category_name_translation\")\n",
        "df_product_category_name_translation.info()"
      ],
      "metadata": {
        "colab": {
          "base_uri": "https://localhost:8080/"
        },
        "id": "XaSPczlRliPO",
        "outputId": "1febc5df-3de2-4682-ef98-19008a89463f"
      },
      "execution_count": null,
      "outputs": [
        {
          "output_type": "stream",
          "name": "stdout",
          "text": [
            "df_olist_customers_dataset\n",
            "<class 'pandas.core.frame.DataFrame'>\n",
            "RangeIndex: 99441 entries, 0 to 99440\n",
            "Data columns (total 5 columns):\n",
            " #   Column                    Non-Null Count  Dtype \n",
            "---  ------                    --------------  ----- \n",
            " 0   customer_id               99441 non-null  object\n",
            " 1   customer_unique_id        99441 non-null  object\n",
            " 2   customer_zip_code_prefix  99441 non-null  int64 \n",
            " 3   customer_city             99441 non-null  object\n",
            " 4   customer_state            99441 non-null  object\n",
            "dtypes: int64(1), object(4)\n",
            "memory usage: 3.8+ MB\n",
            "\n",
            "df_olist_geolocation_dataset\n",
            "<class 'pandas.core.frame.DataFrame'>\n",
            "RangeIndex: 1000163 entries, 0 to 1000162\n",
            "Data columns (total 5 columns):\n",
            " #   Column                       Non-Null Count    Dtype  \n",
            "---  ------                       --------------    -----  \n",
            " 0   geolocation_zip_code_prefix  1000163 non-null  int64  \n",
            " 1   geolocation_lat              1000163 non-null  float64\n",
            " 2   geolocation_lng              1000163 non-null  float64\n",
            " 3   geolocation_city             1000163 non-null  object \n",
            " 4   geolocation_state            1000163 non-null  object \n",
            "dtypes: float64(2), int64(1), object(2)\n",
            "memory usage: 38.2+ MB\n",
            "\n",
            "df_olist_order_items_dataset\n",
            "<class 'pandas.core.frame.DataFrame'>\n",
            "RangeIndex: 112650 entries, 0 to 112649\n",
            "Data columns (total 7 columns):\n",
            " #   Column               Non-Null Count   Dtype  \n",
            "---  ------               --------------   -----  \n",
            " 0   order_id             112650 non-null  object \n",
            " 1   order_item_id        112650 non-null  int64  \n",
            " 2   product_id           112650 non-null  object \n",
            " 3   seller_id            112650 non-null  object \n",
            " 4   shipping_limit_date  112650 non-null  object \n",
            " 5   price                112650 non-null  float64\n",
            " 6   freight_value        112650 non-null  float64\n",
            "dtypes: float64(2), int64(1), object(4)\n",
            "memory usage: 6.0+ MB\n",
            "\n",
            "df_olist_order_payments_dataset\n",
            "<class 'pandas.core.frame.DataFrame'>\n",
            "RangeIndex: 103886 entries, 0 to 103885\n",
            "Data columns (total 5 columns):\n",
            " #   Column                Non-Null Count   Dtype  \n",
            "---  ------                --------------   -----  \n",
            " 0   order_id              103886 non-null  object \n",
            " 1   payment_sequential    103886 non-null  int64  \n",
            " 2   payment_type          103886 non-null  object \n",
            " 3   payment_installments  103886 non-null  int64  \n",
            " 4   payment_value         103886 non-null  float64\n",
            "dtypes: float64(1), int64(2), object(2)\n",
            "memory usage: 4.0+ MB\n",
            "\n",
            "df_olist_order_reviews_dataset\n",
            "<class 'pandas.core.frame.DataFrame'>\n",
            "RangeIndex: 99224 entries, 0 to 99223\n",
            "Data columns (total 7 columns):\n",
            " #   Column                   Non-Null Count  Dtype \n",
            "---  ------                   --------------  ----- \n",
            " 0   review_id                99224 non-null  object\n",
            " 1   order_id                 99224 non-null  object\n",
            " 2   review_score             99224 non-null  int64 \n",
            " 3   review_comment_title     11568 non-null  object\n",
            " 4   review_comment_message   40977 non-null  object\n",
            " 5   review_creation_date     99224 non-null  object\n",
            " 6   review_answer_timestamp  99224 non-null  object\n",
            "dtypes: int64(1), object(6)\n",
            "memory usage: 5.3+ MB\n",
            "\n",
            "df_olist_orders_dataset\n",
            "<class 'pandas.core.frame.DataFrame'>\n",
            "RangeIndex: 99441 entries, 0 to 99440\n",
            "Data columns (total 8 columns):\n",
            " #   Column                         Non-Null Count  Dtype \n",
            "---  ------                         --------------  ----- \n",
            " 0   order_id                       99441 non-null  object\n",
            " 1   customer_id                    99441 non-null  object\n",
            " 2   order_status                   99441 non-null  object\n",
            " 3   order_purchase_timestamp       99441 non-null  object\n",
            " 4   order_approved_at              99281 non-null  object\n",
            " 5   order_delivered_carrier_date   97658 non-null  object\n",
            " 6   order_delivered_customer_date  96476 non-null  object\n",
            " 7   order_estimated_delivery_date  99441 non-null  object\n",
            "dtypes: object(8)\n",
            "memory usage: 6.1+ MB\n",
            "\n",
            "df_olist_products_dataset\n",
            "<class 'pandas.core.frame.DataFrame'>\n",
            "RangeIndex: 32951 entries, 0 to 32950\n",
            "Data columns (total 9 columns):\n",
            " #   Column                      Non-Null Count  Dtype  \n",
            "---  ------                      --------------  -----  \n",
            " 0   product_id                  32951 non-null  object \n",
            " 1   product_category_name       32341 non-null  object \n",
            " 2   product_name_lenght         32341 non-null  float64\n",
            " 3   product_description_lenght  32341 non-null  float64\n",
            " 4   product_photos_qty          32341 non-null  float64\n",
            " 5   product_weight_g            32949 non-null  float64\n",
            " 6   product_length_cm           32949 non-null  float64\n",
            " 7   product_height_cm           32949 non-null  float64\n",
            " 8   product_width_cm            32949 non-null  float64\n",
            "dtypes: float64(7), object(2)\n",
            "memory usage: 2.3+ MB\n",
            "\n",
            "df_olist_sellers_dataset\n",
            "<class 'pandas.core.frame.DataFrame'>\n",
            "RangeIndex: 3095 entries, 0 to 3094\n",
            "Data columns (total 4 columns):\n",
            " #   Column                  Non-Null Count  Dtype \n",
            "---  ------                  --------------  ----- \n",
            " 0   seller_id               3095 non-null   object\n",
            " 1   seller_zip_code_prefix  3095 non-null   int64 \n",
            " 2   seller_city             3095 non-null   object\n",
            " 3   seller_state            3095 non-null   object\n",
            "dtypes: int64(1), object(3)\n",
            "memory usage: 96.8+ KB\n",
            "\n",
            "df_product_category_name_translation\n",
            "<class 'pandas.core.frame.DataFrame'>\n",
            "RangeIndex: 71 entries, 0 to 70\n",
            "Data columns (total 2 columns):\n",
            " #   Column                         Non-Null Count  Dtype \n",
            "---  ------                         --------------  ----- \n",
            " 0   product_category_name          71 non-null     object\n",
            " 1   product_category_name_english  71 non-null     object\n",
            "dtypes: object(2)\n",
            "memory usage: 1.2+ KB\n"
          ]
        }
      ]
    },
    {
      "cell_type": "markdown",
      "source": [
        "## Make Flat Table"
      ],
      "metadata": {
        "id": "xllZ-KhFnKl2"
      }
    },
    {
      "cell_type": "code",
      "source": [
        "df_flat_transaction = sqldf('''\n",
        "  SELECT\n",
        "    df_olist_order_items_dataset.order_id\n",
        "    , df_olist_order_items_dataset.order_item_id\n",
        "    , DATE(df_olist_order_items_dataset.shipping_limit_date) AS shipping_limit_date\n",
        "    , df_olist_order_items_dataset.price\n",
        "    , df_olist_order_items_dataset.freight_value\n",
        "    , df_olist_orders_dataset.order_status\n",
        "    , DATE(df_olist_orders_dataset.order_purchase_timestamp) AS order_purchase_date\n",
        "    , strftime('%Y', df_olist_orders_dataset.order_purchase_timestamp)||'-'||strftime('%m', df_olist_orders_dataset.order_purchase_timestamp)||'-01' AS order_purchase_month\n",
        "    , strftime('%Y', df_olist_orders_dataset.order_purchase_timestamp)||'-01-01' AS order_purchase_year\n",
        "    , DATE(df_olist_orders_dataset.order_approved_at) AS order_approved_date\n",
        "    , DATE(df_olist_orders_dataset.order_delivered_carrier_date) AS order_delivered_carrier_date\n",
        "    , DATE(df_olist_orders_dataset.order_delivered_customer_date) AS order_delivered_customer_date\n",
        "    , DATE(df_olist_orders_dataset.order_estimated_delivery_date) AS order_estimated_delivery_date\n",
        "    , df_olist_products_dataset.product_category_name\n",
        "    , df_olist_products_dataset.product_name_lenght\n",
        "    , df_olist_products_dataset.product_description_lenght\n",
        "    , df_olist_products_dataset.product_photos_qty\n",
        "    , df_olist_products_dataset.product_weight_g\n",
        "    , df_olist_products_dataset.product_length_cm\n",
        "    , df_olist_products_dataset.product_height_cm\n",
        "    , df_olist_products_dataset.product_width_cm\n",
        "    , df_olist_order_payments_dataset.payment_sequential\n",
        "    , df_olist_order_payments_dataset.payment_type\n",
        "    , df_olist_order_payments_dataset.payment_installments\n",
        "    , df_olist_order_payments_dataset.payment_value\n",
        "    , df_olist_order_reviews_dataset.review_score\n",
        "    , df_olist_order_reviews_dataset.review_comment_title\n",
        "    , df_olist_order_reviews_dataset.review_comment_message\n",
        "    , DATE(df_olist_order_reviews_dataset.review_creation_date) AS review_creation_date\n",
        "    , DATE(df_olist_order_reviews_dataset.review_answer_timestamp) AS review_answer_date\n",
        "    , df_olist_customers_dataset.customer_unique_id\n",
        "    , df_olist_customers_dataset.customer_city\n",
        "    , df_olist_customers_dataset.customer_state\n",
        "    , df_olist_sellers_dataset.seller_city\n",
        "    , df_olist_sellers_dataset.seller_state\n",
        "  FROM df_olist_order_items_dataset\n",
        "  LEFT JOIN df_olist_orders_dataset\n",
        "    ON df_olist_order_items_dataset.order_id = df_olist_orders_dataset.order_id\n",
        "  LEFT JOIN df_olist_customers_dataset\n",
        "    ON df_olist_orders_dataset.customer_id = df_olist_customers_dataset.customer_id\n",
        "  LEFT JOIN df_olist_products_dataset\n",
        "    ON df_olist_order_items_dataset.product_id = df_olist_products_dataset.product_id\n",
        "  LEFT JOIN df_olist_sellers_dataset\n",
        "    ON df_olist_order_items_dataset.seller_id = df_olist_sellers_dataset.seller_id\n",
        "  LEFT JOIN df_olist_order_payments_dataset\n",
        "    ON df_olist_order_items_dataset.order_id = df_olist_order_payments_dataset.order_id\n",
        "  LEFT JOIN df_olist_order_reviews_dataset\n",
        "    ON df_olist_order_items_dataset.order_id = df_olist_order_reviews_dataset.order_id\n",
        "''')"
      ],
      "metadata": {
        "id": "ZHbH5CVuo2NH"
      },
      "execution_count": null,
      "outputs": []
    },
    {
      "cell_type": "code",
      "source": [
        "df_flat_transaction.to_excel('flat_transaction.xlsx', index=False)"
      ],
      "metadata": {
        "id": "3vp7yVoBtZXo"
      },
      "execution_count": null,
      "outputs": []
    }
  ]
}