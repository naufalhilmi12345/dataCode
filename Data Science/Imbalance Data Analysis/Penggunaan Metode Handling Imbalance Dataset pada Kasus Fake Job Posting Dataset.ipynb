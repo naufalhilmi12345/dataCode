{
 "cells": [
  {
   "cell_type": "markdown",
   "id": "circular-gravity",
   "metadata": {},
   "source": [
    "<center><h1>Imbalance Data Analysis</h1></center>"
   ]
  },
  {
   "cell_type": "markdown",
   "id": "c1ef235e",
   "metadata": {},
   "source": [
    "# Setup"
   ]
  },
  {
   "cell_type": "code",
   "execution_count": null,
   "id": "pending-coalition",
   "metadata": {},
   "outputs": [],
   "source": [
    "#Referensi\n",
    "Referensi = ['https://scikit-learn.org/stable/modules/generated/sklearn.preprocessing.LabelEncoder.html', \n",
    "             'https://scikit-learn.org/stable/modules/naive_bayes.html', \n",
    "             'https://scikit-learn.org/stable/modules/generated/sklearn.naive_bayes.CategoricalNB.html#sklearn.naive_bayes.CategoricalNB', \n",
    "             'https://scikit-learn.org/stable/modules/generated/sklearn.neighbors.KNeighborsClassifier.html', \n",
    "             'https://scikit-learn.org/stable/modules/generated/sklearn.model_selection.GridSearchCV.html']"
   ]
  },
  {
   "cell_type": "code",
   "execution_count": 29,
   "id": "important-fifth",
   "metadata": {},
   "outputs": [],
   "source": [
    "from collections import Counter\n",
    "\n",
    "import pandas as pd\n",
    "import numpy as np\n",
    "\n",
    "import matplotlib.pyplot as plt\n",
    "import seaborn as sns\n",
    "\n",
    "from imblearn.over_sampling import SMOTE\n",
    "from imblearn.under_sampling import NearMiss\n",
    "from imblearn.combine import SMOTEENN\n",
    "from sklearn import svm\n",
    "from sklearn.ensemble import RandomForestClassifier\n",
    "from sklearn.metrics import f1_score, roc_auc_score\n",
    "from sklearn.model_selection import train_test_split, GridSearchCV\n",
    "from sklearn.naive_bayes import GaussianNB, CategoricalNB\n",
    "from sklearn.neighbors import KNeighborsClassifier\n",
    "from sklearn.preprocessing import LabelEncoder"
   ]
  },
  {
   "cell_type": "code",
   "execution_count": 4,
   "id": "worst-tracker",
   "metadata": {},
   "outputs": [],
   "source": [
    "data_fake_job = pd.read_csv('fake_job_postings.csv')"
   ]
  },
  {
   "cell_type": "markdown",
   "id": "graphic-shareware",
   "metadata": {},
   "source": [
    "# Analisis Data"
   ]
  },
  {
   "cell_type": "code",
   "execution_count": 5,
   "id": "structured-tribute",
   "metadata": {
    "scrolled": false
   },
   "outputs": [
    {
     "name": "stdout",
     "output_type": "stream",
     "text": [
      "<class 'pandas.core.frame.DataFrame'>\n",
      "RangeIndex: 17880 entries, 0 to 17879\n",
      "Data columns (total 18 columns):\n",
      " #   Column               Non-Null Count  Dtype \n",
      "---  ------               --------------  ----- \n",
      " 0   job_id               17880 non-null  int64 \n",
      " 1   title                17880 non-null  object\n",
      " 2   location             17534 non-null  object\n",
      " 3   department           6333 non-null   object\n",
      " 4   salary_range         2868 non-null   object\n",
      " 5   company_profile      14572 non-null  object\n",
      " 6   description          17879 non-null  object\n",
      " 7   requirements         15185 non-null  object\n",
      " 8   benefits             10670 non-null  object\n",
      " 9   telecommuting        17880 non-null  int64 \n",
      " 10  has_company_logo     17880 non-null  int64 \n",
      " 11  has_questions        17880 non-null  int64 \n",
      " 12  employment_type      14409 non-null  object\n",
      " 13  required_experience  10830 non-null  object\n",
      " 14  required_education   9775 non-null   object\n",
      " 15  industry             12977 non-null  object\n",
      " 16  function             11425 non-null  object\n",
      " 17  fraudulent           17880 non-null  int64 \n",
      "dtypes: int64(5), object(13)\n",
      "memory usage: 1.6+ MB\n"
     ]
    }
   ],
   "source": [
    "#Mendapatkan informasi mengenai type dan jumlah data not null dari setiap kolom data fake job\n",
    "\n",
    "data_fake_job.info()"
   ]
  },
  {
   "cell_type": "markdown",
   "id": "determined-afternoon",
   "metadata": {},
   "source": [
    "Dari info diatas kita dapat mengetahui bahwa terdapat 18 attribut dan memiliki data berjumlah 17880 data pada fake job dataset."
   ]
  },
  {
   "cell_type": "code",
   "execution_count": 6,
   "id": "ongoing-comedy",
   "metadata": {
    "scrolled": true
   },
   "outputs": [
    {
     "name": "stdout",
     "output_type": "stream",
     "text": [
      "Data duplikat pada dataset fake_job_postings: 0\n"
     ]
    }
   ],
   "source": [
    "# Melakukan pengecekan duplikasi data\n",
    "\n",
    "print(\"Data duplikat pada dataset fake_job_postings:\",data_fake_job.duplicated(keep=False).sum())"
   ]
  },
  {
   "cell_type": "markdown",
   "id": "broken-motorcycle",
   "metadata": {},
   "source": [
    "Dari hasil diatas terihat bahwa terdapat 816 data pada dataset games yang duplikat sedangkan pada dataset fake job tidak terdapat data yang duplikat."
   ]
  },
  {
   "cell_type": "code",
   "execution_count": 7,
   "id": "terminal-schema",
   "metadata": {},
   "outputs": [],
   "source": [
    "#Cek missing value\n",
    "\n",
    "def cek_null(df):\n",
    "    col_na = df.isnull().sum().sort_values(ascending=False)\n",
    "    percent = col_na / len(df)\n",
    "    \n",
    "    missing_data = pd.concat([col_na, percent], axis=1, keys=['Total', 'Percent'])\n",
    "    print(missing_data[missing_data['Total'] > 0])"
   ]
  },
  {
   "cell_type": "code",
   "execution_count": 8,
   "id": "industrial-strap",
   "metadata": {},
   "outputs": [
    {
     "name": "stdout",
     "output_type": "stream",
     "text": [
      "                     Total   Percent\n",
      "salary_range         15012  0.839597\n",
      "department           11547  0.645805\n",
      "required_education    8105  0.453300\n",
      "benefits              7210  0.403244\n",
      "required_experience   7050  0.394295\n",
      "function              6455  0.361018\n",
      "industry              4903  0.274217\n",
      "employment_type       3471  0.194128\n",
      "company_profile       3308  0.185011\n",
      "requirements          2695  0.150727\n",
      "location               346  0.019351\n",
      "description              1  0.000056\n"
     ]
    }
   ],
   "source": [
    "#Menggunakan method cek_null untuk data_fake_job dataframe\n",
    "\n",
    "cek_null(data_fake_job)"
   ]
  },
  {
   "cell_type": "markdown",
   "id": "changed-insertion",
   "metadata": {},
   "source": [
    "Dari hasil diatas didapatkan bahwa pada dataset fake job memiliki beberapa attribute yang terdapat null didalamnya dengan attribute salary_range yang memiliki data null terbanyak yaitu 15012 atau berkisar 83% dari total data. Dalam mencari attribute yang berpengaruh terhadap target, perlu dicari attribute mana yang merupakan kategorik dikarenakan dalam menentukan hasil dari target dilihat dari kategori-kategori yang sudah terbentuk oleh attribute kategorik."
   ]
  },
  {
   "cell_type": "code",
   "execution_count": 9,
   "id": "olive-consumption",
   "metadata": {},
   "outputs": [
    {
     "data": {
      "text/plain": [
       "job_id                 17880\n",
       "title                  11231\n",
       "location                3105\n",
       "department              1337\n",
       "salary_range             874\n",
       "company_profile         1709\n",
       "description            14801\n",
       "requirements           11968\n",
       "benefits                6205\n",
       "telecommuting              2\n",
       "has_company_logo           2\n",
       "has_questions              2\n",
       "employment_type            5\n",
       "required_experience        7\n",
       "required_education        13\n",
       "industry                 131\n",
       "function                  37\n",
       "fraudulent                 2\n",
       "dtype: int64"
      ]
     },
     "execution_count": 9,
     "metadata": {},
     "output_type": "execute_result"
    }
   ],
   "source": [
    "# Melihat attribute mana saja yang merupakan kategorik\n",
    "\n",
    "data_fake_job.nunique()"
   ]
  },
  {
   "cell_type": "markdown",
   "id": "hourly-litigation",
   "metadata": {},
   "source": [
    "Jika kita lihat terdapat 7 buah attribute yang memiliki nilai uniqueness kurang dari 10 data yaitu attribut,\n",
    "- telecommuting : 2 data unique\n",
    "- has_company_logo : 2 data unique\n",
    "- has_questions : 2 data unique\n",
    "- employment_type : 5 data unique\n",
    "- required_experience : 7 data unique"
   ]
  },
  {
   "cell_type": "code",
   "execution_count": 10,
   "id": "forced-phase",
   "metadata": {},
   "outputs": [],
   "source": [
    "attr_fake_list = ['telecommuting', 'has_company_logo', 'has_questions', 'employment_type',\n",
    "                  'required_experience']"
   ]
  },
  {
   "cell_type": "code",
   "execution_count": 11,
   "id": "enabling-psychiatry",
   "metadata": {
    "scrolled": false
   },
   "outputs": [
    {
     "data": {
      "image/png": "[encoded data removed]",
      "text/plain": [
       "<Figure size 720x360 with 1 Axes>"
      ]
     },
     "metadata": {
      "needs_background": "light"
     },
     "output_type": "display_data"
    },
    {
     "name": "stdout",
     "output_type": "stream",
     "text": [
      "\n"
     ]
    },
    {
     "data": {
      "image/png": "[encoded data removed]",
      "text/plain": [
       "<Figure size 720x360 with 1 Axes>"
      ]
     },
     "metadata": {
      "needs_background": "light"
     },
     "output_type": "display_data"
    },
    {
     "name": "stdout",
     "output_type": "stream",
     "text": [
      "\n"
     ]
    },
    {
     "data": {
      "image/png": "[encoded data removed]",
      "text/plain": [
       "<Figure size 720x360 with 1 Axes>"
      ]
     },
     "metadata": {
      "needs_background": "light"
     },
     "output_type": "display_data"
    },
    {
     "name": "stdout",
     "output_type": "stream",
     "text": [
      "\n"
     ]
    },
    {
     "data": {
      "image/png": "[encoded data removed]",
      "text/plain": [
       "<Figure size 720x360 with 1 Axes>"
      ]
     },
     "metadata": {
      "needs_background": "light"
     },
     "output_type": "display_data"
    },
    {
     "name": "stdout",
     "output_type": "stream",
     "text": [
      "\n"
     ]
    },
    {
     "data": {
      "image/png": "[encoded data removed]",
      "text/plain": [
       "<Figure size 720x360 with 1 Axes>"
      ]
     },
     "metadata": {
      "needs_background": "light"
     },
     "output_type": "display_data"
    },
    {
     "name": "stdout",
     "output_type": "stream",
     "text": [
      "\n"
     ]
    }
   ],
   "source": [
    "# Melihat histogram pada setiap attribute\n",
    "\n",
    "for attr in attr_fake_list:\n",
    "    plt.figure(figsize=(10,5))\n",
    "    sns.countplot(x=attr, data=data_fake_job)\n",
    "    plt.show()\n",
    "    print()"
   ]
  },
  {
   "cell_type": "code",
   "execution_count": 12,
   "id": "timely-recorder",
   "metadata": {
    "scrolled": false
   },
   "outputs": [
    {
     "data": {
      "image/png": "[encoded data removed]",
      "text/plain": [
       "<Figure size 720x360 with 1 Axes>"
      ]
     },
     "metadata": {
      "needs_background": "light"
     },
     "output_type": "display_data"
    },
    {
     "name": "stdout",
     "output_type": "stream",
     "text": [
      "\n"
     ]
    },
    {
     "data": {
      "image/png": "[encoded data removed]",
      "text/plain": [
       "<Figure size 720x360 with 1 Axes>"
      ]
     },
     "metadata": {
      "needs_background": "light"
     },
     "output_type": "display_data"
    },
    {
     "name": "stdout",
     "output_type": "stream",
     "text": [
      "\n"
     ]
    },
    {
     "data": {
      "image/png": "[encoded data removed]",
      "text/plain": [
       "<Figure size 720x360 with 1 Axes>"
      ]
     },
     "metadata": {
      "needs_background": "light"
     },
     "output_type": "display_data"
    },
    {
     "name": "stdout",
     "output_type": "stream",
     "text": [
      "\n"
     ]
    },
    {
     "data": {
      "image/png": "[encoded data removed]",
      "text/plain": [
       "<Figure size 720x360 with 1 Axes>"
      ]
     },
     "metadata": {
      "needs_background": "light"
     },
     "output_type": "display_data"
    },
    {
     "name": "stdout",
     "output_type": "stream",
     "text": [
      "\n"
     ]
    },
    {
     "data": {
      "image/png": "[encoded data removed]",
      "text/plain": [
       "<Figure size 720x360 with 1 Axes>"
      ]
     },
     "metadata": {
      "needs_background": "light"
     },
     "output_type": "display_data"
    },
    {
     "name": "stdout",
     "output_type": "stream",
     "text": [
      "\n"
     ]
    }
   ],
   "source": [
    "# Melihat keterhubungan dengan scatter plot\n",
    "\n",
    "for attr in attr_fake_list:\n",
    "    plt.figure(figsize=(10,5))\n",
    "    sns.scatterplot(x=data_fake_job[attr], y=data_fake_job['fraudulent'])\n",
    "    plt.show()\n",
    "    print()"
   ]
  },
  {
   "cell_type": "markdown",
   "id": "vietnamese-timing",
   "metadata": {},
   "source": [
    "Dari hasil analisis diatas, dapat disimpulkan bahwa terdapat beberapa attribute yang berpengaruh terhadap target dimana untuk data fake job terdapat 5 attribute sedangkan untuk data games terdapat 2 attribute. Attribute tersebut yaitu\n",
    "\n",
    "Data Fake,\n",
    "- telecommuting : 2 data unique\n",
    "- has_company_logo : 2 data unique\n",
    "- has_questions : 2 data unique\n",
    "- employment_type : 5 data unique\n",
    "- required_experience : 7 data unique\n",
    "\n",
    "Pemilihan attribute ini dilihat dari attribute yang merupakan katagorikal attribute dimana attribute ini akan berpengaruh terhadap penentuan target."
   ]
  },
  {
   "cell_type": "markdown",
   "id": "outdoor-county",
   "metadata": {},
   "source": [
    "# Preprocessing"
   ]
  },
  {
   "cell_type": "markdown",
   "id": "614192ba",
   "metadata": {},
   "source": [
    "Pada data fake job ini akan dilakukan pembersihan dan penggantian nilai null pada data yang akan digunakan. Sehingga data yang digunakan akan siap untuk ditrain."
   ]
  },
  {
   "cell_type": "markdown",
   "id": "metric-barbados",
   "metadata": {},
   "source": [
    "#### Penghilangan data yang bukan kategorik"
   ]
  },
  {
   "cell_type": "code",
   "execution_count": 13,
   "id": "personal-booth",
   "metadata": {
    "scrolled": false
   },
   "outputs": [
    {
     "data": {
      "text/plain": [
       "job_id                 17880\n",
       "title                  11231\n",
       "location                3105\n",
       "department              1337\n",
       "salary_range             874\n",
       "company_profile         1709\n",
       "description            14801\n",
       "requirements           11968\n",
       "benefits                6205\n",
       "telecommuting              2\n",
       "has_company_logo           2\n",
       "has_questions              2\n",
       "employment_type            5\n",
       "required_experience        7\n",
       "required_education        13\n",
       "industry                 131\n",
       "function                  37\n",
       "fraudulent                 2\n",
       "dtype: int64"
      ]
     },
     "execution_count": 13,
     "metadata": {},
     "output_type": "execute_result"
    }
   ],
   "source": [
    "# Mengambil attribute yang memiliki nilai uniqueness kecil\n",
    "\n",
    "data_fake_job.nunique()"
   ]
  },
  {
   "cell_type": "code",
   "execution_count": 14,
   "id": "frozen-johnson",
   "metadata": {
    "scrolled": true
   },
   "outputs": [
    {
     "data": {
      "text/html": [
       "<div>\n",
       "<style scoped>\n",
       "    .dataframe tbody tr th:only-of-type {\n",
       "        vertical-align: middle;\n",
       "    }\n",
       "\n",
       "    .dataframe tbody tr th {\n",
       "        vertical-align: top;\n",
       "    }\n",
       "\n",
       "    .dataframe thead th {\n",
       "        text-align: right;\n",
       "    }\n",
       "</style>\n",
       "<table border=\"1\" class=\"dataframe\">\n",
       "  <thead>\n",
       "    <tr style=\"text-align: right;\">\n",
       "      <th></th>\n",
       "      <th>telecommuting</th>\n",
       "      <th>has_company_logo</th>\n",
       "      <th>has_questions</th>\n",
       "      <th>employment_type</th>\n",
       "      <th>required_experience</th>\n",
       "      <th>fraudulent</th>\n",
       "    </tr>\n",
       "  </thead>\n",
       "  <tbody>\n",
       "    <tr>\n",
       "      <th>0</th>\n",
       "      <td>0</td>\n",
       "      <td>1</td>\n",
       "      <td>0</td>\n",
       "      <td>Other</td>\n",
       "      <td>Internship</td>\n",
       "      <td>0</td>\n",
       "    </tr>\n",
       "    <tr>\n",
       "      <th>1</th>\n",
       "      <td>0</td>\n",
       "      <td>1</td>\n",
       "      <td>0</td>\n",
       "      <td>Full-time</td>\n",
       "      <td>Not Applicable</td>\n",
       "      <td>0</td>\n",
       "    </tr>\n",
       "    <tr>\n",
       "      <th>2</th>\n",
       "      <td>0</td>\n",
       "      <td>1</td>\n",
       "      <td>0</td>\n",
       "      <td>NaN</td>\n",
       "      <td>NaN</td>\n",
       "      <td>0</td>\n",
       "    </tr>\n",
       "    <tr>\n",
       "      <th>3</th>\n",
       "      <td>0</td>\n",
       "      <td>1</td>\n",
       "      <td>0</td>\n",
       "      <td>Full-time</td>\n",
       "      <td>Mid-Senior level</td>\n",
       "      <td>0</td>\n",
       "    </tr>\n",
       "    <tr>\n",
       "      <th>4</th>\n",
       "      <td>0</td>\n",
       "      <td>1</td>\n",
       "      <td>1</td>\n",
       "      <td>Full-time</td>\n",
       "      <td>Mid-Senior level</td>\n",
       "      <td>0</td>\n",
       "    </tr>\n",
       "    <tr>\n",
       "      <th>...</th>\n",
       "      <td>...</td>\n",
       "      <td>...</td>\n",
       "      <td>...</td>\n",
       "      <td>...</td>\n",
       "      <td>...</td>\n",
       "      <td>...</td>\n",
       "    </tr>\n",
       "    <tr>\n",
       "      <th>17875</th>\n",
       "      <td>0</td>\n",
       "      <td>1</td>\n",
       "      <td>1</td>\n",
       "      <td>Full-time</td>\n",
       "      <td>Mid-Senior level</td>\n",
       "      <td>0</td>\n",
       "    </tr>\n",
       "    <tr>\n",
       "      <th>17876</th>\n",
       "      <td>0</td>\n",
       "      <td>1</td>\n",
       "      <td>1</td>\n",
       "      <td>Full-time</td>\n",
       "      <td>Mid-Senior level</td>\n",
       "      <td>0</td>\n",
       "    </tr>\n",
       "    <tr>\n",
       "      <th>17877</th>\n",
       "      <td>0</td>\n",
       "      <td>0</td>\n",
       "      <td>0</td>\n",
       "      <td>Full-time</td>\n",
       "      <td>NaN</td>\n",
       "      <td>0</td>\n",
       "    </tr>\n",
       "    <tr>\n",
       "      <th>17878</th>\n",
       "      <td>0</td>\n",
       "      <td>0</td>\n",
       "      <td>1</td>\n",
       "      <td>Contract</td>\n",
       "      <td>Not Applicable</td>\n",
       "      <td>0</td>\n",
       "    </tr>\n",
       "    <tr>\n",
       "      <th>17879</th>\n",
       "      <td>0</td>\n",
       "      <td>1</td>\n",
       "      <td>1</td>\n",
       "      <td>Full-time</td>\n",
       "      <td>Mid-Senior level</td>\n",
       "      <td>0</td>\n",
       "    </tr>\n",
       "  </tbody>\n",
       "</table>\n",
       "<p>17880 rows × 6 columns</p>\n",
       "</div>"
      ],
      "text/plain": [
       "       telecommuting  has_company_logo  has_questions employment_type  \\\n",
       "0                  0                 1              0           Other   \n",
       "1                  0                 1              0       Full-time   \n",
       "2                  0                 1              0             NaN   \n",
       "3                  0                 1              0       Full-time   \n",
       "4                  0                 1              1       Full-time   \n",
       "...              ...               ...            ...             ...   \n",
       "17875              0                 1              1       Full-time   \n",
       "17876              0                 1              1       Full-time   \n",
       "17877              0                 0              0       Full-time   \n",
       "17878              0                 0              1        Contract   \n",
       "17879              0                 1              1       Full-time   \n",
       "\n",
       "      required_experience  fraudulent  \n",
       "0              Internship           0  \n",
       "1          Not Applicable           0  \n",
       "2                     NaN           0  \n",
       "3        Mid-Senior level           0  \n",
       "4        Mid-Senior level           0  \n",
       "...                   ...         ...  \n",
       "17875    Mid-Senior level           0  \n",
       "17876    Mid-Senior level           0  \n",
       "17877                 NaN           0  \n",
       "17878      Not Applicable           0  \n",
       "17879    Mid-Senior level           0  \n",
       "\n",
       "[17880 rows x 6 columns]"
      ]
     },
     "execution_count": 14,
     "metadata": {},
     "output_type": "execute_result"
    }
   ],
   "source": [
    "attr_unique = ['job_id', 'title', 'location', 'department', 'salary_range', 'company_profile', 'description', 'requirements', \n",
    "               'benefits', 'required_education', 'industry', 'function']\n",
    "data_fake_job_kategorik = data_fake_job.drop(attr_unique, axis=1)\n",
    "data_fake_job_kategorik"
   ]
  },
  {
   "cell_type": "markdown",
   "id": "complimentary-tsunami",
   "metadata": {},
   "source": [
    "#### Penggantian nilai null pada data kategorik dengan object \"Undefined\""
   ]
  },
  {
   "cell_type": "code",
   "execution_count": 15,
   "id": "unnecessary-exchange",
   "metadata": {
    "scrolled": false
   },
   "outputs": [
    {
     "data": {
      "text/html": [
       "<div>\n",
       "<style scoped>\n",
       "    .dataframe tbody tr th:only-of-type {\n",
       "        vertical-align: middle;\n",
       "    }\n",
       "\n",
       "    .dataframe tbody tr th {\n",
       "        vertical-align: top;\n",
       "    }\n",
       "\n",
       "    .dataframe thead th {\n",
       "        text-align: right;\n",
       "    }\n",
       "</style>\n",
       "<table border=\"1\" class=\"dataframe\">\n",
       "  <thead>\n",
       "    <tr style=\"text-align: right;\">\n",
       "      <th></th>\n",
       "      <th>telecommuting</th>\n",
       "      <th>has_company_logo</th>\n",
       "      <th>has_questions</th>\n",
       "      <th>employment_type</th>\n",
       "      <th>required_experience</th>\n",
       "      <th>fraudulent</th>\n",
       "    </tr>\n",
       "  </thead>\n",
       "  <tbody>\n",
       "    <tr>\n",
       "      <th>0</th>\n",
       "      <td>0</td>\n",
       "      <td>1</td>\n",
       "      <td>0</td>\n",
       "      <td>Other</td>\n",
       "      <td>Internship</td>\n",
       "      <td>0</td>\n",
       "    </tr>\n",
       "    <tr>\n",
       "      <th>1</th>\n",
       "      <td>0</td>\n",
       "      <td>1</td>\n",
       "      <td>0</td>\n",
       "      <td>Full-time</td>\n",
       "      <td>Not Applicable</td>\n",
       "      <td>0</td>\n",
       "    </tr>\n",
       "    <tr>\n",
       "      <th>2</th>\n",
       "      <td>0</td>\n",
       "      <td>1</td>\n",
       "      <td>0</td>\n",
       "      <td>Undefined</td>\n",
       "      <td>Undefined</td>\n",
       "      <td>0</td>\n",
       "    </tr>\n",
       "    <tr>\n",
       "      <th>3</th>\n",
       "      <td>0</td>\n",
       "      <td>1</td>\n",
       "      <td>0</td>\n",
       "      <td>Full-time</td>\n",
       "      <td>Mid-Senior level</td>\n",
       "      <td>0</td>\n",
       "    </tr>\n",
       "    <tr>\n",
       "      <th>4</th>\n",
       "      <td>0</td>\n",
       "      <td>1</td>\n",
       "      <td>1</td>\n",
       "      <td>Full-time</td>\n",
       "      <td>Mid-Senior level</td>\n",
       "      <td>0</td>\n",
       "    </tr>\n",
       "    <tr>\n",
       "      <th>...</th>\n",
       "      <td>...</td>\n",
       "      <td>...</td>\n",
       "      <td>...</td>\n",
       "      <td>...</td>\n",
       "      <td>...</td>\n",
       "      <td>...</td>\n",
       "    </tr>\n",
       "    <tr>\n",
       "      <th>17875</th>\n",
       "      <td>0</td>\n",
       "      <td>1</td>\n",
       "      <td>1</td>\n",
       "      <td>Full-time</td>\n",
       "      <td>Mid-Senior level</td>\n",
       "      <td>0</td>\n",
       "    </tr>\n",
       "    <tr>\n",
       "      <th>17876</th>\n",
       "      <td>0</td>\n",
       "      <td>1</td>\n",
       "      <td>1</td>\n",
       "      <td>Full-time</td>\n",
       "      <td>Mid-Senior level</td>\n",
       "      <td>0</td>\n",
       "    </tr>\n",
       "    <tr>\n",
       "      <th>17877</th>\n",
       "      <td>0</td>\n",
       "      <td>0</td>\n",
       "      <td>0</td>\n",
       "      <td>Full-time</td>\n",
       "      <td>Undefined</td>\n",
       "      <td>0</td>\n",
       "    </tr>\n",
       "    <tr>\n",
       "      <th>17878</th>\n",
       "      <td>0</td>\n",
       "      <td>0</td>\n",
       "      <td>1</td>\n",
       "      <td>Contract</td>\n",
       "      <td>Not Applicable</td>\n",
       "      <td>0</td>\n",
       "    </tr>\n",
       "    <tr>\n",
       "      <th>17879</th>\n",
       "      <td>0</td>\n",
       "      <td>1</td>\n",
       "      <td>1</td>\n",
       "      <td>Full-time</td>\n",
       "      <td>Mid-Senior level</td>\n",
       "      <td>0</td>\n",
       "    </tr>\n",
       "  </tbody>\n",
       "</table>\n",
       "<p>17880 rows × 6 columns</p>\n",
       "</div>"
      ],
      "text/plain": [
       "       telecommuting  has_company_logo  has_questions employment_type  \\\n",
       "0                  0                 1              0           Other   \n",
       "1                  0                 1              0       Full-time   \n",
       "2                  0                 1              0       Undefined   \n",
       "3                  0                 1              0       Full-time   \n",
       "4                  0                 1              1       Full-time   \n",
       "...              ...               ...            ...             ...   \n",
       "17875              0                 1              1       Full-time   \n",
       "17876              0                 1              1       Full-time   \n",
       "17877              0                 0              0       Full-time   \n",
       "17878              0                 0              1        Contract   \n",
       "17879              0                 1              1       Full-time   \n",
       "\n",
       "      required_experience  fraudulent  \n",
       "0              Internship           0  \n",
       "1          Not Applicable           0  \n",
       "2               Undefined           0  \n",
       "3        Mid-Senior level           0  \n",
       "4        Mid-Senior level           0  \n",
       "...                   ...         ...  \n",
       "17875    Mid-Senior level           0  \n",
       "17876    Mid-Senior level           0  \n",
       "17877           Undefined           0  \n",
       "17878      Not Applicable           0  \n",
       "17879    Mid-Senior level           0  \n",
       "\n",
       "[17880 rows x 6 columns]"
      ]
     },
     "execution_count": 15,
     "metadata": {},
     "output_type": "execute_result"
    }
   ],
   "source": [
    "data_fake_job_kategorik = data_fake_job_kategorik.fillna(\"Undefined\")\n",
    "data_fake_job_kategorik"
   ]
  },
  {
   "cell_type": "markdown",
   "id": "electrical-holly",
   "metadata": {},
   "source": [
    "#### Memisahkan target dengan fitur"
   ]
  },
  {
   "cell_type": "code",
   "execution_count": 16,
   "id": "through-penalty",
   "metadata": {
    "scrolled": false
   },
   "outputs": [],
   "source": [
    "target_fake_job = data_fake_job_kategorik['fraudulent']\n",
    "data_fake_job_kategorik = data_fake_job_kategorik.drop('fraudulent', axis=1)"
   ]
  },
  {
   "cell_type": "code",
   "execution_count": 17,
   "id": "overhead-overview",
   "metadata": {
    "scrolled": true
   },
   "outputs": [
    {
     "data": {
      "text/html": [
       "<div>\n",
       "<style scoped>\n",
       "    .dataframe tbody tr th:only-of-type {\n",
       "        vertical-align: middle;\n",
       "    }\n",
       "\n",
       "    .dataframe tbody tr th {\n",
       "        vertical-align: top;\n",
       "    }\n",
       "\n",
       "    .dataframe thead th {\n",
       "        text-align: right;\n",
       "    }\n",
       "</style>\n",
       "<table border=\"1\" class=\"dataframe\">\n",
       "  <thead>\n",
       "    <tr style=\"text-align: right;\">\n",
       "      <th></th>\n",
       "      <th>fraudulent</th>\n",
       "    </tr>\n",
       "  </thead>\n",
       "  <tbody>\n",
       "    <tr>\n",
       "      <th>0</th>\n",
       "      <td>0</td>\n",
       "    </tr>\n",
       "    <tr>\n",
       "      <th>1</th>\n",
       "      <td>0</td>\n",
       "    </tr>\n",
       "    <tr>\n",
       "      <th>2</th>\n",
       "      <td>0</td>\n",
       "    </tr>\n",
       "    <tr>\n",
       "      <th>3</th>\n",
       "      <td>0</td>\n",
       "    </tr>\n",
       "    <tr>\n",
       "      <th>4</th>\n",
       "      <td>0</td>\n",
       "    </tr>\n",
       "    <tr>\n",
       "      <th>...</th>\n",
       "      <td>...</td>\n",
       "    </tr>\n",
       "    <tr>\n",
       "      <th>17875</th>\n",
       "      <td>0</td>\n",
       "    </tr>\n",
       "    <tr>\n",
       "      <th>17876</th>\n",
       "      <td>0</td>\n",
       "    </tr>\n",
       "    <tr>\n",
       "      <th>17877</th>\n",
       "      <td>0</td>\n",
       "    </tr>\n",
       "    <tr>\n",
       "      <th>17878</th>\n",
       "      <td>0</td>\n",
       "    </tr>\n",
       "    <tr>\n",
       "      <th>17879</th>\n",
       "      <td>0</td>\n",
       "    </tr>\n",
       "  </tbody>\n",
       "</table>\n",
       "<p>17880 rows × 1 columns</p>\n",
       "</div>"
      ],
      "text/plain": [
       "       fraudulent\n",
       "0               0\n",
       "1               0\n",
       "2               0\n",
       "3               0\n",
       "4               0\n",
       "...           ...\n",
       "17875           0\n",
       "17876           0\n",
       "17877           0\n",
       "17878           0\n",
       "17879           0\n",
       "\n",
       "[17880 rows x 1 columns]"
      ]
     },
     "execution_count": 17,
     "metadata": {},
     "output_type": "execute_result"
    }
   ],
   "source": [
    "pd.DataFrame(target_fake_job, columns=['fraudulent'])"
   ]
  },
  {
   "cell_type": "code",
   "execution_count": 18,
   "id": "innovative-rogers",
   "metadata": {
    "scrolled": false
   },
   "outputs": [
    {
     "data": {
      "text/html": [
       "<div>\n",
       "<style scoped>\n",
       "    .dataframe tbody tr th:only-of-type {\n",
       "        vertical-align: middle;\n",
       "    }\n",
       "\n",
       "    .dataframe tbody tr th {\n",
       "        vertical-align: top;\n",
       "    }\n",
       "\n",
       "    .dataframe thead th {\n",
       "        text-align: right;\n",
       "    }\n",
       "</style>\n",
       "<table border=\"1\" class=\"dataframe\">\n",
       "  <thead>\n",
       "    <tr style=\"text-align: right;\">\n",
       "      <th></th>\n",
       "      <th>telecommuting</th>\n",
       "      <th>has_company_logo</th>\n",
       "      <th>has_questions</th>\n",
       "      <th>employment_type</th>\n",
       "      <th>required_experience</th>\n",
       "    </tr>\n",
       "  </thead>\n",
       "  <tbody>\n",
       "    <tr>\n",
       "      <th>0</th>\n",
       "      <td>0</td>\n",
       "      <td>1</td>\n",
       "      <td>0</td>\n",
       "      <td>Other</td>\n",
       "      <td>Internship</td>\n",
       "    </tr>\n",
       "    <tr>\n",
       "      <th>1</th>\n",
       "      <td>0</td>\n",
       "      <td>1</td>\n",
       "      <td>0</td>\n",
       "      <td>Full-time</td>\n",
       "      <td>Not Applicable</td>\n",
       "    </tr>\n",
       "    <tr>\n",
       "      <th>2</th>\n",
       "      <td>0</td>\n",
       "      <td>1</td>\n",
       "      <td>0</td>\n",
       "      <td>Undefined</td>\n",
       "      <td>Undefined</td>\n",
       "    </tr>\n",
       "    <tr>\n",
       "      <th>3</th>\n",
       "      <td>0</td>\n",
       "      <td>1</td>\n",
       "      <td>0</td>\n",
       "      <td>Full-time</td>\n",
       "      <td>Mid-Senior level</td>\n",
       "    </tr>\n",
       "    <tr>\n",
       "      <th>4</th>\n",
       "      <td>0</td>\n",
       "      <td>1</td>\n",
       "      <td>1</td>\n",
       "      <td>Full-time</td>\n",
       "      <td>Mid-Senior level</td>\n",
       "    </tr>\n",
       "    <tr>\n",
       "      <th>...</th>\n",
       "      <td>...</td>\n",
       "      <td>...</td>\n",
       "      <td>...</td>\n",
       "      <td>...</td>\n",
       "      <td>...</td>\n",
       "    </tr>\n",
       "    <tr>\n",
       "      <th>17875</th>\n",
       "      <td>0</td>\n",
       "      <td>1</td>\n",
       "      <td>1</td>\n",
       "      <td>Full-time</td>\n",
       "      <td>Mid-Senior level</td>\n",
       "    </tr>\n",
       "    <tr>\n",
       "      <th>17876</th>\n",
       "      <td>0</td>\n",
       "      <td>1</td>\n",
       "      <td>1</td>\n",
       "      <td>Full-time</td>\n",
       "      <td>Mid-Senior level</td>\n",
       "    </tr>\n",
       "    <tr>\n",
       "      <th>17877</th>\n",
       "      <td>0</td>\n",
       "      <td>0</td>\n",
       "      <td>0</td>\n",
       "      <td>Full-time</td>\n",
       "      <td>Undefined</td>\n",
       "    </tr>\n",
       "    <tr>\n",
       "      <th>17878</th>\n",
       "      <td>0</td>\n",
       "      <td>0</td>\n",
       "      <td>1</td>\n",
       "      <td>Contract</td>\n",
       "      <td>Not Applicable</td>\n",
       "    </tr>\n",
       "    <tr>\n",
       "      <th>17879</th>\n",
       "      <td>0</td>\n",
       "      <td>1</td>\n",
       "      <td>1</td>\n",
       "      <td>Full-time</td>\n",
       "      <td>Mid-Senior level</td>\n",
       "    </tr>\n",
       "  </tbody>\n",
       "</table>\n",
       "<p>17880 rows × 5 columns</p>\n",
       "</div>"
      ],
      "text/plain": [
       "       telecommuting  has_company_logo  has_questions employment_type  \\\n",
       "0                  0                 1              0           Other   \n",
       "1                  0                 1              0       Full-time   \n",
       "2                  0                 1              0       Undefined   \n",
       "3                  0                 1              0       Full-time   \n",
       "4                  0                 1              1       Full-time   \n",
       "...              ...               ...            ...             ...   \n",
       "17875              0                 1              1       Full-time   \n",
       "17876              0                 1              1       Full-time   \n",
       "17877              0                 0              0       Full-time   \n",
       "17878              0                 0              1        Contract   \n",
       "17879              0                 1              1       Full-time   \n",
       "\n",
       "      required_experience  \n",
       "0              Internship  \n",
       "1          Not Applicable  \n",
       "2               Undefined  \n",
       "3        Mid-Senior level  \n",
       "4        Mid-Senior level  \n",
       "...                   ...  \n",
       "17875    Mid-Senior level  \n",
       "17876    Mid-Senior level  \n",
       "17877           Undefined  \n",
       "17878      Not Applicable  \n",
       "17879    Mid-Senior level  \n",
       "\n",
       "[17880 rows x 5 columns]"
      ]
     },
     "execution_count": 18,
     "metadata": {},
     "output_type": "execute_result"
    }
   ],
   "source": [
    "data_fake_job_kategorik"
   ]
  },
  {
   "cell_type": "markdown",
   "id": "vanilla-poker",
   "metadata": {},
   "source": [
    "#### Mengubah data yang awalnya kategorikal menjadi numerical menggunakan LabelEncoder"
   ]
  },
  {
   "cell_type": "code",
   "execution_count": 19,
   "id": "exotic-helicopter",
   "metadata": {},
   "outputs": [],
   "source": [
    "le = LabelEncoder()\n",
    "\n",
    "for i in data_fake_job_kategorik:\n",
    "    if data_fake_job_kategorik[i].dtypes == 'object':\n",
    "        le.fit(list(data_fake_job_kategorik[i].values))\n",
    "        data_fake_job_kategorik[i] = le.transform(list(data_fake_job_kategorik[i].values))"
   ]
  },
  {
   "cell_type": "code",
   "execution_count": 20,
   "id": "nasty-generation",
   "metadata": {
    "scrolled": false
   },
   "outputs": [
    {
     "data": {
      "text/html": [
       "<div>\n",
       "<style scoped>\n",
       "    .dataframe tbody tr th:only-of-type {\n",
       "        vertical-align: middle;\n",
       "    }\n",
       "\n",
       "    .dataframe tbody tr th {\n",
       "        vertical-align: top;\n",
       "    }\n",
       "\n",
       "    .dataframe thead th {\n",
       "        text-align: right;\n",
       "    }\n",
       "</style>\n",
       "<table border=\"1\" class=\"dataframe\">\n",
       "  <thead>\n",
       "    <tr style=\"text-align: right;\">\n",
       "      <th></th>\n",
       "      <th>telecommuting</th>\n",
       "      <th>has_company_logo</th>\n",
       "      <th>has_questions</th>\n",
       "      <th>employment_type</th>\n",
       "      <th>required_experience</th>\n",
       "    </tr>\n",
       "  </thead>\n",
       "  <tbody>\n",
       "    <tr>\n",
       "      <th>0</th>\n",
       "      <td>0</td>\n",
       "      <td>1</td>\n",
       "      <td>0</td>\n",
       "      <td>2</td>\n",
       "      <td>4</td>\n",
       "    </tr>\n",
       "    <tr>\n",
       "      <th>1</th>\n",
       "      <td>0</td>\n",
       "      <td>1</td>\n",
       "      <td>0</td>\n",
       "      <td>1</td>\n",
       "      <td>6</td>\n",
       "    </tr>\n",
       "    <tr>\n",
       "      <th>2</th>\n",
       "      <td>0</td>\n",
       "      <td>1</td>\n",
       "      <td>0</td>\n",
       "      <td>5</td>\n",
       "      <td>7</td>\n",
       "    </tr>\n",
       "    <tr>\n",
       "      <th>3</th>\n",
       "      <td>0</td>\n",
       "      <td>1</td>\n",
       "      <td>0</td>\n",
       "      <td>1</td>\n",
       "      <td>5</td>\n",
       "    </tr>\n",
       "    <tr>\n",
       "      <th>4</th>\n",
       "      <td>0</td>\n",
       "      <td>1</td>\n",
       "      <td>1</td>\n",
       "      <td>1</td>\n",
       "      <td>5</td>\n",
       "    </tr>\n",
       "    <tr>\n",
       "      <th>...</th>\n",
       "      <td>...</td>\n",
       "      <td>...</td>\n",
       "      <td>...</td>\n",
       "      <td>...</td>\n",
       "      <td>...</td>\n",
       "    </tr>\n",
       "    <tr>\n",
       "      <th>17875</th>\n",
       "      <td>0</td>\n",
       "      <td>1</td>\n",
       "      <td>1</td>\n",
       "      <td>1</td>\n",
       "      <td>5</td>\n",
       "    </tr>\n",
       "    <tr>\n",
       "      <th>17876</th>\n",
       "      <td>0</td>\n",
       "      <td>1</td>\n",
       "      <td>1</td>\n",
       "      <td>1</td>\n",
       "      <td>5</td>\n",
       "    </tr>\n",
       "    <tr>\n",
       "      <th>17877</th>\n",
       "      <td>0</td>\n",
       "      <td>0</td>\n",
       "      <td>0</td>\n",
       "      <td>1</td>\n",
       "      <td>7</td>\n",
       "    </tr>\n",
       "    <tr>\n",
       "      <th>17878</th>\n",
       "      <td>0</td>\n",
       "      <td>0</td>\n",
       "      <td>1</td>\n",
       "      <td>0</td>\n",
       "      <td>6</td>\n",
       "    </tr>\n",
       "    <tr>\n",
       "      <th>17879</th>\n",
       "      <td>0</td>\n",
       "      <td>1</td>\n",
       "      <td>1</td>\n",
       "      <td>1</td>\n",
       "      <td>5</td>\n",
       "    </tr>\n",
       "  </tbody>\n",
       "</table>\n",
       "<p>17880 rows × 5 columns</p>\n",
       "</div>"
      ],
      "text/plain": [
       "       telecommuting  has_company_logo  has_questions  employment_type  \\\n",
       "0                  0                 1              0                2   \n",
       "1                  0                 1              0                1   \n",
       "2                  0                 1              0                5   \n",
       "3                  0                 1              0                1   \n",
       "4                  0                 1              1                1   \n",
       "...              ...               ...            ...              ...   \n",
       "17875              0                 1              1                1   \n",
       "17876              0                 1              1                1   \n",
       "17877              0                 0              0                1   \n",
       "17878              0                 0              1                0   \n",
       "17879              0                 1              1                1   \n",
       "\n",
       "       required_experience  \n",
       "0                        4  \n",
       "1                        6  \n",
       "2                        7  \n",
       "3                        5  \n",
       "4                        5  \n",
       "...                    ...  \n",
       "17875                    5  \n",
       "17876                    5  \n",
       "17877                    7  \n",
       "17878                    6  \n",
       "17879                    5  \n",
       "\n",
       "[17880 rows x 5 columns]"
      ]
     },
     "execution_count": 20,
     "metadata": {},
     "output_type": "execute_result"
    }
   ],
   "source": [
    "data_fake_job_kategorik"
   ]
  },
  {
   "cell_type": "markdown",
   "id": "comfortable-statement",
   "metadata": {},
   "source": [
    "# Process"
   ]
  },
  {
   "cell_type": "markdown",
   "id": "cheap-newcastle",
   "metadata": {},
   "source": [
    "## Process Classification Sebelum di Handle Imbalance Data"
   ]
  },
  {
   "cell_type": "markdown",
   "id": "supposed-swaziland",
   "metadata": {},
   "source": [
    "### Bentuk model"
   ]
  },
  {
   "cell_type": "code",
   "execution_count": 33,
   "id": "hidden-perspective",
   "metadata": {
    "scrolled": false
   },
   "outputs": [
    {
     "name": "stdout",
     "output_type": "stream",
     "text": [
      "Counter({0: 17014, 1: 866})\n"
     ]
    }
   ],
   "source": [
    "counter = Counter(target_fake_job)\n",
    "print(counter)"
   ]
  },
  {
   "cell_type": "markdown",
   "id": "motivated-craft",
   "metadata": {},
   "source": [
    "### Melakukan pembagian data train dan testing dimana 80% train dan 20% testing menggunakan train_test_split"
   ]
  },
  {
   "cell_type": "code",
   "execution_count": 156,
   "id": "biblical-savage",
   "metadata": {
    "scrolled": false
   },
   "outputs": [],
   "source": [
    "x_train, x_test, y_train, y_test = train_test_split(data_fake_job_kategorik, target_fake_job, test_size = 0.2)"
   ]
  },
  {
   "cell_type": "markdown",
   "id": "informative-techno",
   "metadata": {},
   "source": [
    "### Naive Bayes"
   ]
  },
  {
   "cell_type": "code",
   "execution_count": 157,
   "id": "martial-peninsula",
   "metadata": {
    "scrolled": true
   },
   "outputs": [
    {
     "data": {
      "text/plain": [
       "CategoricalNB()"
      ]
     },
     "execution_count": 157,
     "metadata": {},
     "output_type": "execute_result"
    }
   ],
   "source": [
    "# Categorial Naive Bayes\n",
    "\n",
    "cnb = CategoricalNB()\n",
    "cnb.fit(x_train, y_train)"
   ]
  },
  {
   "cell_type": "code",
   "execution_count": 158,
   "id": "disabled-tender",
   "metadata": {},
   "outputs": [],
   "source": [
    "pred_test = cnb.predict(x_test)"
   ]
  },
  {
   "cell_type": "code",
   "execution_count": 159,
   "id": "consolidated-breeding",
   "metadata": {
    "scrolled": true
   },
   "outputs": [
    {
     "name": "stdout",
     "output_type": "stream",
     "text": [
      "ROC Score: 0.5\n"
     ]
    }
   ],
   "source": [
    "print(\"ROC Score: {}\".format(round(roc_auc_score(y_test, pred_test), 3)))"
   ]
  },
  {
   "cell_type": "markdown",
   "id": "supported-canada",
   "metadata": {},
   "source": [
    "### K-Nearest Neighbor"
   ]
  },
  {
   "cell_type": "code",
   "execution_count": 160,
   "id": "precise-bangladesh",
   "metadata": {},
   "outputs": [
    {
     "data": {
      "text/plain": [
       "KNeighborsClassifier(n_neighbors=12, p=1)"
      ]
     },
     "execution_count": 160,
     "metadata": {},
     "output_type": "execute_result"
    }
   ],
   "source": [
    "knn = KNeighborsClassifier(n_neighbors=12, p=1)\n",
    "knn.fit(x_train, y_train)"
   ]
  },
  {
   "cell_type": "code",
   "execution_count": 161,
   "id": "considerable-bearing",
   "metadata": {},
   "outputs": [],
   "source": [
    "pred_test = knn.predict(x_test)"
   ]
  },
  {
   "cell_type": "code",
   "execution_count": 162,
   "id": "committed-glasgow",
   "metadata": {
    "scrolled": true
   },
   "outputs": [
    {
     "name": "stdout",
     "output_type": "stream",
     "text": [
      "ROC Score: 0.57\n"
     ]
    }
   ],
   "source": [
    "print(\"ROC Score: {}\".format(round(roc_auc_score(y_test, pred_test), 3)))"
   ]
  },
  {
   "cell_type": "markdown",
   "id": "numeric-agreement",
   "metadata": {},
   "source": [
    "### SVC"
   ]
  },
  {
   "cell_type": "code",
   "execution_count": 163,
   "id": "advised-third",
   "metadata": {},
   "outputs": [
    {
     "data": {
      "text/plain": [
       "SVC(C=0.1, gamma=1, kernel='linear')"
      ]
     },
     "execution_count": 163,
     "metadata": {},
     "output_type": "execute_result"
    }
   ],
   "source": [
    "clf = svm.SVC(C=0.1, gamma=1, kernel='linear')\n",
    "clf.fit(x_train, y_train)"
   ]
  },
  {
   "cell_type": "code",
   "execution_count": 164,
   "id": "phantom-zimbabwe",
   "metadata": {},
   "outputs": [],
   "source": [
    "pred_svm = clf.predict(x_test)"
   ]
  },
  {
   "cell_type": "code",
   "execution_count": 165,
   "id": "characteristic-sterling",
   "metadata": {
    "scrolled": true
   },
   "outputs": [
    {
     "name": "stdout",
     "output_type": "stream",
     "text": [
      "ROC Score: 0.57\n"
     ]
    }
   ],
   "source": [
    "print(\"ROC Score: {}\".format(round(roc_auc_score(y_test, pred_test), 3)))"
   ]
  },
  {
   "cell_type": "markdown",
   "id": "driven-software",
   "metadata": {},
   "source": [
    "### LinearSVC"
   ]
  },
  {
   "cell_type": "code",
   "execution_count": 166,
   "id": "inside-bangkok",
   "metadata": {},
   "outputs": [
    {
     "data": {
      "text/plain": [
       "LinearSVC(C=0.001, loss='hinge', max_iter=5000, tol=1e-05)"
      ]
     },
     "execution_count": 166,
     "metadata": {},
     "output_type": "execute_result"
    }
   ],
   "source": [
    "clf = svm.LinearSVC(C=0.001, tol=pow(10,-5), loss='hinge', max_iter=5000)\n",
    "clf.fit(x_train, y_train)"
   ]
  },
  {
   "cell_type": "code",
   "execution_count": 167,
   "id": "viral-slave",
   "metadata": {},
   "outputs": [],
   "source": [
    "pred_lin_svm = clf.predict(x_test)"
   ]
  },
  {
   "cell_type": "code",
   "execution_count": 168,
   "id": "extreme-combine",
   "metadata": {
    "scrolled": true
   },
   "outputs": [
    {
     "name": "stdout",
     "output_type": "stream",
     "text": [
      "ROC Score: 0.57\n"
     ]
    }
   ],
   "source": [
    "print(\"ROC Score: {}\".format(round(roc_auc_score(y_test, pred_test), 3)))"
   ]
  },
  {
   "cell_type": "markdown",
   "id": "instrumental-fireplace",
   "metadata": {},
   "source": [
    "### Nilai ROC AUC"
   ]
  },
  {
   "cell_type": "markdown",
   "id": "immediate-runner",
   "metadata": {},
   "source": [
    "Naive Bayes:\n",
    "- ROC Score: 0.5\n",
    "\n",
    "KNN:\n",
    "- ROC Score: 0.57\n",
    "\n",
    "SVC:\n",
    "- ROC Score: 0.57\n",
    "\n",
    "LinearSVC\n",
    "- ROC Score: 0.57"
   ]
  },
  {
   "cell_type": "markdown",
   "id": "automotive-texture",
   "metadata": {},
   "source": [
    "## Process Classification Sesudah di Handle Imbalance Data"
   ]
  },
  {
   "cell_type": "code",
   "execution_count": 169,
   "id": "unexpected-smart",
   "metadata": {},
   "outputs": [],
   "source": [
    "data_fake_job_kategorik_2 = data_fake_job_kategorik.copy()\n",
    "target_fake_job_2 = target_fake_job.copy()"
   ]
  },
  {
   "cell_type": "markdown",
   "id": "consolidated-lindsay",
   "metadata": {},
   "source": [
    "## Teknik Smote (Over Sampling)"
   ]
  },
  {
   "cell_type": "code",
   "execution_count": 170,
   "id": "editorial-sending",
   "metadata": {},
   "outputs": [],
   "source": [
    "oversample = SMOTE()\n",
    "X_over, y_over = oversample.fit_resample(data_fake_job_kategorik_2, target_fake_job_2)"
   ]
  },
  {
   "cell_type": "code",
   "execution_count": 171,
   "id": "outside-society",
   "metadata": {},
   "outputs": [
    {
     "name": "stdout",
     "output_type": "stream",
     "text": [
      "Counter({0: 17014, 1: 17014})\n"
     ]
    }
   ],
   "source": [
    "counter = Counter(y_over)\n",
    "print(counter)"
   ]
  },
  {
   "cell_type": "markdown",
   "id": "solved-tactics",
   "metadata": {},
   "source": [
    "### Melakukan pembagian data train dan testing dimana 80% train dan 20% testing menggunakan train_test_split"
   ]
  },
  {
   "cell_type": "code",
   "execution_count": 172,
   "id": "electronic-assurance",
   "metadata": {},
   "outputs": [],
   "source": [
    "x_train, x_test, y_train, y_test = train_test_split(X_over, y_over, test_size = 0.2)"
   ]
  },
  {
   "cell_type": "markdown",
   "id": "tested-jewelry",
   "metadata": {},
   "source": [
    "### Naive Bayes"
   ]
  },
  {
   "cell_type": "code",
   "execution_count": 173,
   "id": "funded-stock",
   "metadata": {},
   "outputs": [
    {
     "data": {
      "text/plain": [
       "CategoricalNB()"
      ]
     },
     "execution_count": 173,
     "metadata": {},
     "output_type": "execute_result"
    }
   ],
   "source": [
    "# Categorial Naive Bayes\n",
    "\n",
    "cnb = CategoricalNB()\n",
    "cnb.fit(x_train, y_train)"
   ]
  },
  {
   "cell_type": "code",
   "execution_count": 174,
   "id": "severe-bacon",
   "metadata": {},
   "outputs": [],
   "source": [
    "pred_test = cnb.predict(x_test)"
   ]
  },
  {
   "cell_type": "code",
   "execution_count": 175,
   "id": "adopted-montgomery",
   "metadata": {},
   "outputs": [
    {
     "name": "stdout",
     "output_type": "stream",
     "text": [
      "ROC Score: 0.737\n"
     ]
    }
   ],
   "source": [
    "print(\"ROC Score: {}\".format(round(roc_auc_score(y_test, pred_test), 3)))"
   ]
  },
  {
   "cell_type": "markdown",
   "id": "caroline-verification",
   "metadata": {},
   "source": [
    "### K-Nearest Neighbor"
   ]
  },
  {
   "cell_type": "code",
   "execution_count": 176,
   "id": "featured-official",
   "metadata": {},
   "outputs": [],
   "source": [
    "knn = KNeighborsClassifier(n_neighbors=12, p=1)\n",
    "knn.fit(x_train, y_train)\n",
    "\n",
    "pred_test = knn.predict(x_test)"
   ]
  },
  {
   "cell_type": "code",
   "execution_count": 177,
   "id": "identified-maple",
   "metadata": {},
   "outputs": [
    {
     "name": "stdout",
     "output_type": "stream",
     "text": [
      "ROC Score: 0.782\n"
     ]
    }
   ],
   "source": [
    "print(\"ROC Score: {}\".format(round(roc_auc_score(y_test, pred_test), 3)))"
   ]
  },
  {
   "cell_type": "markdown",
   "id": "interpreted-sport",
   "metadata": {},
   "source": [
    "### SVC"
   ]
  },
  {
   "cell_type": "code",
   "execution_count": 178,
   "id": "included-doubt",
   "metadata": {},
   "outputs": [],
   "source": [
    "clf = svm.LinearSVC(C=0.001, tol=pow(10,-5), loss='hinge', max_iter=5000)\n",
    "clf.fit(x_train, y_train)\n",
    "\n",
    "pred_lin_svm = clf.predict(x_test)"
   ]
  },
  {
   "cell_type": "code",
   "execution_count": 179,
   "id": "about-aaron",
   "metadata": {},
   "outputs": [
    {
     "name": "stdout",
     "output_type": "stream",
     "text": [
      "ROC Score: 0.782\n"
     ]
    }
   ],
   "source": [
    "print(\"ROC Score: {}\".format(round(roc_auc_score(y_test, pred_test), 3)))"
   ]
  },
  {
   "cell_type": "markdown",
   "id": "stable-diving",
   "metadata": {},
   "source": [
    "### LinearSVC"
   ]
  },
  {
   "cell_type": "code",
   "execution_count": 180,
   "id": "portuguese-benchmark",
   "metadata": {},
   "outputs": [],
   "source": [
    "clf = svm.LinearSVC(C=0.001, tol=pow(10,-5), loss='hinge', max_iter=5000)\n",
    "clf.fit(x_train, y_train)\n",
    "\n",
    "pred_lin_svm = clf.predict(x_test)"
   ]
  },
  {
   "cell_type": "code",
   "execution_count": 181,
   "id": "harmful-visibility",
   "metadata": {
    "scrolled": true
   },
   "outputs": [
    {
     "name": "stdout",
     "output_type": "stream",
     "text": [
      "ROC Score: 0.782\n"
     ]
    }
   ],
   "source": [
    "print(\"ROC Score: {}\".format(round(roc_auc_score(y_test, pred_test), 3)))"
   ]
  },
  {
   "cell_type": "markdown",
   "id": "billion-portugal",
   "metadata": {},
   "source": [
    "### Nilai ROC AUC SMOTE"
   ]
  },
  {
   "cell_type": "markdown",
   "id": "mighty-career",
   "metadata": {},
   "source": [
    "Naive Bayes:\n",
    "- ROC Score: 0.737\n",
    "\n",
    "KNN:\n",
    "- ROC Score: 0.782\n",
    "\n",
    "SVC:\n",
    "- ROC Score: 0.782\n",
    "\n",
    "LinearSVC\n",
    "- ROC Score: 0.782"
   ]
  },
  {
   "cell_type": "markdown",
   "id": "sunrise-relevance",
   "metadata": {},
   "source": [
    "## Teknik Near Miss (Under Sampling)"
   ]
  },
  {
   "cell_type": "code",
   "execution_count": 197,
   "id": "russian-breakfast",
   "metadata": {},
   "outputs": [],
   "source": [
    "undersample = NearMiss(version=1, n_neighbors=3)\n",
    "X_under, y_under = undersample.fit_resample(data_fake_job_kategorik_2, target_fake_job_2)"
   ]
  },
  {
   "cell_type": "code",
   "execution_count": 198,
   "id": "little-notion",
   "metadata": {},
   "outputs": [
    {
     "name": "stdout",
     "output_type": "stream",
     "text": [
      "Counter({0: 866, 1: 866})\n"
     ]
    }
   ],
   "source": [
    "counter = Counter(y_under)\n",
    "print(counter)"
   ]
  },
  {
   "cell_type": "markdown",
   "id": "fuzzy-hungarian",
   "metadata": {},
   "source": [
    "### Melakukan pembagian data train dan testing dimana 80% train dan 20% testing menggunakan train_test_split"
   ]
  },
  {
   "cell_type": "code",
   "execution_count": 199,
   "id": "dated-disposal",
   "metadata": {},
   "outputs": [],
   "source": [
    "x_train, x_test, y_train, y_test = train_test_split(X_under, y_under, test_size = 0.2)"
   ]
  },
  {
   "cell_type": "markdown",
   "id": "stainless-algorithm",
   "metadata": {},
   "source": [
    "### Naive Bayes"
   ]
  },
  {
   "cell_type": "code",
   "execution_count": 200,
   "id": "south-steps",
   "metadata": {},
   "outputs": [
    {
     "name": "stdout",
     "output_type": "stream",
     "text": [
      "ROC Score: 0.734\n"
     ]
    }
   ],
   "source": [
    "# Categorial Naive Bayes\n",
    "\n",
    "cnb = CategoricalNB()\n",
    "cnb.fit(x_train, y_train)\n",
    "\n",
    "pred_test = cnb.predict(x_test)\n",
    "\n",
    "print(\"ROC Score: {}\".format(round(roc_auc_score(y_test, pred_test), 3)))"
   ]
  },
  {
   "cell_type": "markdown",
   "id": "historic-conservation",
   "metadata": {},
   "source": [
    "### K-Nearest Neighbor"
   ]
  },
  {
   "cell_type": "code",
   "execution_count": 201,
   "id": "individual-daily",
   "metadata": {},
   "outputs": [
    {
     "name": "stdout",
     "output_type": "stream",
     "text": [
      "ROC Score: 0.757\n"
     ]
    }
   ],
   "source": [
    "knn = KNeighborsClassifier(n_neighbors=12, p=1)\n",
    "knn.fit(x_train, y_train)\n",
    "\n",
    "pred_test = knn.predict(x_test)\n",
    "\n",
    "print(\"ROC Score: {}\".format(round(roc_auc_score(y_test, pred_test), 3)))"
   ]
  },
  {
   "cell_type": "markdown",
   "id": "compatible-lunch",
   "metadata": {},
   "source": [
    "### SVC"
   ]
  },
  {
   "cell_type": "code",
   "execution_count": 202,
   "id": "superb-lindsay",
   "metadata": {
    "scrolled": true
   },
   "outputs": [
    {
     "name": "stdout",
     "output_type": "stream",
     "text": [
      "ROC Score: 0.757\n"
     ]
    }
   ],
   "source": [
    "clf = svm.LinearSVC(C=0.001, tol=pow(10,-5), loss='hinge', max_iter=5000)\n",
    "clf.fit(x_train, y_train)\n",
    "\n",
    "pred_lin_svm = clf.predict(x_test)\n",
    "\n",
    "print(\"ROC Score: {}\".format(round(roc_auc_score(y_test, pred_test), 3)))"
   ]
  },
  {
   "cell_type": "markdown",
   "id": "aboriginal-library",
   "metadata": {},
   "source": [
    "### LinearSVC"
   ]
  },
  {
   "cell_type": "code",
   "execution_count": 203,
   "id": "looking-hostel",
   "metadata": {},
   "outputs": [
    {
     "name": "stdout",
     "output_type": "stream",
     "text": [
      "ROC Score: 0.757\n"
     ]
    }
   ],
   "source": [
    "clf = svm.LinearSVC(C=0.001, tol=pow(10,-5), loss='hinge', max_iter=5000)\n",
    "clf.fit(x_train, y_train)\n",
    "\n",
    "pred_lin_svm = clf.predict(x_test)\n",
    "\n",
    "print(\"ROC Score: {}\".format(round(roc_auc_score(y_test, pred_test), 3)))"
   ]
  },
  {
   "cell_type": "markdown",
   "id": "arranged-helping",
   "metadata": {},
   "source": [
    "### Nilai ROC AUC NearMiss"
   ]
  },
  {
   "cell_type": "markdown",
   "id": "metric-circle",
   "metadata": {},
   "source": [
    "Naive Bayes:\n",
    "- ROC Score: 0.734\n",
    "\n",
    "KNN:\n",
    "- ROC Score: 0.757\n",
    "\n",
    "SVC:\n",
    "- ROC Score: 0.757\n",
    "\n",
    "LinearSVC\n",
    "- ROC Score: 0.757"
   ]
  },
  {
   "cell_type": "markdown",
   "id": "rising-roman",
   "metadata": {},
   "source": [
    "## Teknik Smote ENN (Combine)"
   ]
  },
  {
   "cell_type": "code",
   "execution_count": 189,
   "id": "trying-method",
   "metadata": {},
   "outputs": [],
   "source": [
    "combine = SMOTEENN()\n",
    "X_combine, y_combine = combine.fit_resample(data_fake_job_kategorik_2, target_fake_job_2)"
   ]
  },
  {
   "cell_type": "code",
   "execution_count": 190,
   "id": "criminal-wallpaper",
   "metadata": {},
   "outputs": [
    {
     "name": "stdout",
     "output_type": "stream",
     "text": [
      "Counter({0: 10744, 1: 5207})\n"
     ]
    }
   ],
   "source": [
    "counter = Counter(y_combine)\n",
    "print(counter)"
   ]
  },
  {
   "cell_type": "markdown",
   "id": "automotive-unknown",
   "metadata": {},
   "source": [
    "### Melakukan pembagian data train dan testing dimana 80% train dan 20% testing menggunakan train_test_split"
   ]
  },
  {
   "cell_type": "code",
   "execution_count": 191,
   "id": "reasonable-tribute",
   "metadata": {},
   "outputs": [],
   "source": [
    "x_train, x_test, y_train, y_test = train_test_split(X_combine, y_combine, test_size = 0.2)"
   ]
  },
  {
   "cell_type": "markdown",
   "id": "virgin-original",
   "metadata": {},
   "source": [
    "### Naive Bayes"
   ]
  },
  {
   "cell_type": "code",
   "execution_count": 192,
   "id": "chicken-unknown",
   "metadata": {},
   "outputs": [
    {
     "name": "stdout",
     "output_type": "stream",
     "text": [
      "ROC Score: 0.933\n"
     ]
    }
   ],
   "source": [
    "# Categorial Naive Bayes\n",
    "\n",
    "cnb = CategoricalNB()\n",
    "cnb.fit(x_train, y_train)\n",
    "\n",
    "pred_test = cnb.predict(x_test)\n",
    "\n",
    "print(\"ROC Score: {}\".format(round(roc_auc_score(y_test, pred_test), 3)))"
   ]
  },
  {
   "cell_type": "markdown",
   "id": "special-least",
   "metadata": {},
   "source": [
    "### K-Nearest Neighbor"
   ]
  },
  {
   "cell_type": "code",
   "execution_count": 193,
   "id": "informational-diversity",
   "metadata": {},
   "outputs": [
    {
     "name": "stdout",
     "output_type": "stream",
     "text": [
      "ROC Score: 0.997\n"
     ]
    }
   ],
   "source": [
    "knn = KNeighborsClassifier(n_neighbors=12, p=1)\n",
    "knn.fit(x_train, y_train)\n",
    "\n",
    "pred_test = knn.predict(x_test)\n",
    "\n",
    "print(\"ROC Score: {}\".format(round(roc_auc_score(y_test, pred_test), 3)))"
   ]
  },
  {
   "cell_type": "markdown",
   "id": "premium-doctor",
   "metadata": {},
   "source": [
    "### SVC"
   ]
  },
  {
   "cell_type": "code",
   "execution_count": 194,
   "id": "received-lexington",
   "metadata": {},
   "outputs": [
    {
     "name": "stdout",
     "output_type": "stream",
     "text": [
      "ROC Score: 0.997\n"
     ]
    }
   ],
   "source": [
    "clf = svm.LinearSVC(C=0.001, tol=pow(10,-5), loss='hinge', max_iter=5000)\n",
    "clf.fit(x_train, y_train)\n",
    "\n",
    "pred_lin_svm = clf.predict(x_test)\n",
    "\n",
    "print(\"ROC Score: {}\".format(round(roc_auc_score(y_test, pred_test), 3)))"
   ]
  },
  {
   "cell_type": "markdown",
   "id": "serious-gibson",
   "metadata": {},
   "source": [
    "### LinearSVC"
   ]
  },
  {
   "cell_type": "code",
   "execution_count": 195,
   "id": "reduced-poetry",
   "metadata": {},
   "outputs": [
    {
     "name": "stdout",
     "output_type": "stream",
     "text": [
      "ROC Score: 0.997\n"
     ]
    }
   ],
   "source": [
    "clf = svm.LinearSVC(C=0.001, tol=pow(10,-5), loss='hinge', max_iter=5000)\n",
    "clf.fit(x_train, y_train)\n",
    "\n",
    "pred_lin_svm = clf.predict(x_test)\n",
    "\n",
    "print(\"ROC Score: {}\".format(round(roc_auc_score(y_test, pred_test), 3)))"
   ]
  },
  {
   "cell_type": "markdown",
   "id": "developmental-swedish",
   "metadata": {},
   "source": [
    "### Nilai ROC AUC SMOTEENN"
   ]
  },
  {
   "cell_type": "markdown",
   "id": "economic-booking",
   "metadata": {},
   "source": [
    "Naive Bayes:\n",
    "- ROC Score: 0.933\n",
    "\n",
    "KNN:\n",
    "- ROC Score: 0.997\n",
    "\n",
    "SVC:\n",
    "- ROC Score: 0.997\n",
    "\n",
    "LinearSVC\n",
    "- ROC Score: 0.997"
   ]
  }
 ],
 "metadata": {
  "kernelspec": {
   "display_name": "Python 3",
   "language": "python",
   "name": "python3"
  },
  "language_info": {
   "codemirror_mode": {
    "name": "ipython",
    "version": 3
   },
   "file_extension": ".py",
   "mimetype": "text/x-python",
   "name": "python",
   "nbconvert_exporter": "python",
   "pygments_lexer": "ipython3",
   "version": "3.6.5"
  }
 },
 "nbformat": 4,
 "nbformat_minor": 5
}
