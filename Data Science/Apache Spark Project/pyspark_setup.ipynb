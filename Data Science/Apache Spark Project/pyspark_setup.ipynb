{
 "cells": [
  {
   "cell_type": "code",
   "execution_count": 1,
   "id": "collected-romantic",
   "metadata": {},
   "outputs": [],
   "source": [
    "import os\n",
    "os.environ[\"CUDA_VISIBLE_DEVICES\"] = \"3\""
   ]
  },
  {
   "cell_type": "code",
   "execution_count": 1,
   "id": "dangerous-reference",
   "metadata": {},
   "outputs": [],
   "source": [
    "from pyspark import SparkConf\n",
    "from pyspark.sql import SparkSession\n",
    "\n",
    "\n",
    "config = {\n",
    "    \"spark.kubernetes.namespace\": \"naufalhilmi\",\n",
    "    \"spark.kubernetes.container.image\": \"itayb/spark:3.1.1-hadoop-3.2.0-aws\",\n",
    "    \"spark.executor.instances\": \"2\",\n",
    "    \"spark.kubernetes.executor.request.cores\":16,\n",
    "    \"spark.executor.memory\": \"10g\",\n",
    "    \"spark.executor.cores\": 8,\n",
    "    \"spark.driver.blockManager.port\": \"7777\",\n",
    "    \"spark.driver.port\": \"2222\",\n",
    "    \"spark.driver.host\": \"jupyter.naufalhilmi.svc.cluster.local\",\n",
    "    \"spark.driver.bindAddress\": \"0.0.0.0\",\n",
    "    \"spark.hadoop.fs.s3a.endpoint\": \"localstack.naufalhilmi.svc.cluster.local:4566\",\n",
    "    \"spark.hadoop.fs.s3a.connection.ssl.enabled\": \"false\",\n",
    "    \"spark.hadoop.fs.s3a.path.style.access\": \"true\",\n",
    "    \"spark.hadoop.fs.s3a.impl\": \"org.apache.hadoop.fs.s3a.S3AFileSystem\",\n",
    "    \"spark.hadoop.fs.s3a.connection.ssl.enabled\":\"false\",\n",
    "    \"spark.hadoop.com.amazonaws.services.s3.enableV4\": \"true\",\n",
    "    \"spark.hadoop.fs.s3a.access.key\": \"temp\",\n",
    "    \"spark.hadoop.fs.s3a.secret.key\": \"temp\",\n",
    "    \"spark.hadoop.fs.s3a.aws.credentials.provider\": \"org.apache.hadoop.fs.s3a.AnonymousAWSCredentialsProvider\",\n",
    "    \"spark.jars\":\"./postgresql-42.3.4.jar\",\n",
    "    \"spark.driver.extraClassPath\":\"/usr/local/lib/python3.7/dist-packages/sparkmonitor/listener_2.12.jar\",\n",
    "    \"spark.sql.parquet.mergeSchema\":\"false\",\n",
    "    \"spark.sql.legacy.timeParserPolicy\":\"LEGACY\",\n",
    "    \"spark.hadoop.parquet.enable.summary-metadata\":\"false\",\n",
    "}\n",
    "\n",
    "def get_spark_session(app_name: str, conf: SparkConf):\n",
    "    conf.setMaster(\"k8s://https://kubernetes.default.svc.cluster.local\")\n",
    "    for key, value in config.items():\n",
    "        conf.set(key, value)    \n",
    "    return SparkSession.builder.appName(app_name).config(conf=conf).getOrCreate()"
   ]
  }
 ],
 "metadata": {
  "kernelspec": {
   "display_name": "Python 3",
   "language": "python",
   "name": "python3"
  },
  "language_info": {
   "codemirror_mode": {
    "name": "ipython",
    "version": 3
   },
   "file_extension": ".py",
   "mimetype": "text/x-python",
   "name": "python",
   "nbconvert_exporter": "python",
   "pygments_lexer": "ipython3",
   "version": "3.7.3"
  }
 },
 "nbformat": 4,
 "nbformat_minor": 5
}
