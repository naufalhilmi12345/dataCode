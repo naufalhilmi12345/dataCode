{
 "cells": [
  {
   "cell_type": "markdown",
   "id": "artistic-plane",
   "metadata": {
    "id": "artistic-plane"
   },
   "source": [
    "<center><h1>Pengolahan Teks Melalui Corpus</h1></center>"
   ]
  },
  {
   "cell_type": "markdown",
   "id": "4d0c4403",
   "metadata": {},
   "source": [
    "# Setup"
   ]
  },
  {
   "cell_type": "code",
   "execution_count": null,
   "id": "l2K1pEPorHVm",
   "metadata": {
    "colab": {
     "base_uri": "https://localhost:8080/"
    },
    "executionInfo": {
     "elapsed": 13166,
     "status": "ok",
     "timestamp": 1636074447446,
     "user": {
      "displayName": "Naufal Hilmi",
      "photoUrl": "https://lh3.googleusercontent.com/a-/AOh14Gj7UB8yAHzIcK8gtuCV9hf44dCQUmF8XqLkQI3C=s64",
      "userId": "02567910694508979199"
     },
     "user_tz": -420
    },
    "id": "l2K1pEPorHVm",
    "outputId": "f708e411-1ba8-4621-f5e7-c44e6bd2caec"
   },
   "outputs": [],
   "source": [
    "'''\n",
    "Section ini mendownload dependencies PySastrawi untuk mengubah kata ke bentuk bakunya. \n",
    "Sedangkan stanza untuk proses lemmatization.\n",
    "'''\n",
    "!pip install PySastrawi\n",
    "!pip install stanza"
   ]
  },
  {
   "cell_type": "code",
   "execution_count": null,
   "id": "fallen-blackjack",
   "metadata": {
    "id": "fallen-blackjack"
   },
   "outputs": [],
   "source": [
    "import pandas as pd\n",
    "import numpy as np\n",
    "import matplotlib.pyplot as plt\n",
    "import re\n",
    "import nltk\n",
    "from wordcloud import WordCloud\n",
    "from nltk.corpus import stopwords\n",
    "from Sastrawi.Stemmer.StemmerFactory import StemmerFactory\n",
    "import stanza"
   ]
  },
  {
   "cell_type": "code",
   "execution_count": null,
   "id": "IdCwSB0rr8yt",
   "metadata": {
    "colab": {
     "base_uri": "https://localhost:8080/"
    },
    "executionInfo": {
     "elapsed": 3388,
     "status": "ok",
     "timestamp": 1636074479286,
     "user": {
      "displayName": "Naufal Hilmi",
      "photoUrl": "https://lh3.googleusercontent.com/a-/AOh14Gj7UB8yAHzIcK8gtuCV9hf44dCQUmF8XqLkQI3C=s64",
      "userId": "02567910694508979199"
     },
     "user_tz": -420
    },
    "id": "IdCwSB0rr8yt",
    "outputId": "d04a4122-4485-49b9-c15e-719264dad7b1"
   },
   "outputs": [
    {
     "name": "stdout",
     "output_type": "stream",
     "text": [
      "Downloading...\n",
      "From: https://drive.google.com/uc?id=19wsxTWWkGaI-3GxBx-m32iBBOvoGX2ZC\n",
      "To: /content/Korpus.json\n",
      "100% 3.01M/3.01M [00:00<00:00, 93.5MB/s]\n",
      "Downloading...\n",
      "From: https://drive.google.com/uc?id=1WgVrGhsbEmotkRTUZ47Plf17Z8u-qSfQ\n",
      "To: /content/Korpus_Ringkas.json\n",
      "100% 62.5k/62.5k [00:00<00:00, 57.3MB/s]\n"
     ]
    }
   ],
   "source": [
    "!gdown --id 19wsxTWWkGaI-3GxBx-m32iBBOvoGX2ZC\n",
    "!gdown --id 1WgVrGhsbEmotkRTUZ47Plf17Z8u-qSfQ"
   ]
  },
  {
   "cell_type": "markdown",
   "id": "0d27612d",
   "metadata": {},
   "source": [
    "Terdapat dua buah data yaitu Korpus yang berisikan dokumen lengkap sedangkan korpus ringkas yaitu potongan dari korpus"
   ]
  },
  {
   "cell_type": "code",
   "execution_count": null,
   "id": "turned-folder",
   "metadata": {
    "id": "turned-folder"
   },
   "outputs": [],
   "source": [
    "df_korpus = pd.read_json('Korpus.json')\n",
    "df_korpus_ringkas = pd.read_json('Korpus_Ringkas.json')"
   ]
  },
  {
   "cell_type": "markdown",
   "id": "cutting-clear",
   "metadata": {
    "id": "cutting-clear"
   },
   "source": [
    "# Corpus Statistics"
   ]
  },
  {
   "cell_type": "markdown",
   "id": "dbf631ba",
   "metadata": {},
   "source": [
    "Pada bagian ini akan melakukan analisis terkait data korpus"
   ]
  },
  {
   "cell_type": "markdown",
   "id": "united-nomination",
   "metadata": {
    "id": "united-nomination"
   },
   "source": [
    "## Jumlah baris pada data korpus"
   ]
  },
  {
   "cell_type": "code",
   "execution_count": null,
   "id": "posted-plasma",
   "metadata": {
    "colab": {
     "base_uri": "https://localhost:8080/"
    },
    "executionInfo": {
     "elapsed": 40,
     "status": "ok",
     "timestamp": 1636074479290,
     "user": {
      "displayName": "Naufal Hilmi",
      "photoUrl": "https://lh3.googleusercontent.com/a-/AOh14Gj7UB8yAHzIcK8gtuCV9hf44dCQUmF8XqLkQI3C=s64",
      "userId": "02567910694508979199"
     },
     "user_tz": -420
    },
    "id": "posted-plasma",
    "outputId": "7a6f3d94-d508-40f4-cd41-5d33e02a63f8"
   },
   "outputs": [
    {
     "data": {
      "text/plain": [
       "1051"
      ]
     },
     "execution_count": 7,
     "metadata": {},
     "output_type": "execute_result"
    }
   ],
   "source": [
    "len(df_korpus)"
   ]
  },
  {
   "cell_type": "markdown",
   "id": "random-wales",
   "metadata": {
    "id": "random-wales"
   },
   "source": [
    "Terdapat 1051 data pada Korpus.json"
   ]
  },
  {
   "cell_type": "markdown",
   "id": "opposite-anchor",
   "metadata": {
    "id": "opposite-anchor"
   },
   "source": [
    "## Data pada kolom section"
   ]
  },
  {
   "cell_type": "code",
   "execution_count": null,
   "id": "immune-modem",
   "metadata": {
    "colab": {
     "base_uri": "https://localhost:8080/"
    },
    "executionInfo": {
     "elapsed": 37,
     "status": "ok",
     "timestamp": 1636074479296,
     "user": {
      "displayName": "Naufal Hilmi",
      "photoUrl": "https://lh3.googleusercontent.com/a-/AOh14Gj7UB8yAHzIcK8gtuCV9hf44dCQUmF8XqLkQI3C=s64",
      "userId": "02567910694508979199"
     },
     "user_tz": -420
    },
    "id": "immune-modem",
    "outputId": "0b7212b0-3007-4351-fe54-1dac373c4e4f"
   },
   "outputs": [
    {
     "data": {
      "text/plain": [
       "array(['ekonomi', 'nasional', 'internasional', 'teknologi', 'hiburan',\n",
       "       'olahraga'], dtype=object)"
      ]
     },
     "execution_count": 9,
     "metadata": {},
     "output_type": "execute_result"
    }
   ],
   "source": [
    "df_korpus['section'].unique()"
   ]
  },
  {
   "cell_type": "markdown",
   "id": "sticky-event",
   "metadata": {
    "id": "sticky-event"
   },
   "source": [
    "Terdapat 6 data unik pada attribut \"section\". Data unik tersebut yaitu ekonomi, nasional, internasional, teknologi, hiburan, dan olahraga."
   ]
  },
  {
   "cell_type": "code",
   "execution_count": null,
   "id": "raised-founder",
   "metadata": {
    "colab": {
     "base_uri": "https://localhost:8080/",
     "height": 338
    },
    "executionInfo": {
     "elapsed": 655,
     "status": "ok",
     "timestamp": 1636074479917,
     "user": {
      "displayName": "Naufal Hilmi",
      "photoUrl": "https://lh3.googleusercontent.com/a-/AOh14Gj7UB8yAHzIcK8gtuCV9hf44dCQUmF8XqLkQI3C=s64",
      "userId": "02567910694508979199"
     },
     "user_tz": -420
    },
    "id": "raised-founder",
    "outputId": "d4f2aa09-5213-4e84-b439-122e82e05923",
    "scrolled": true
   },
   "outputs": [
    {
     "data": {
      "text/plain": [
       "<matplotlib.axes._subplots.AxesSubplot at 0x7f5a4e67d1d0>"
      ]
     },
     "execution_count": 10,
     "metadata": {},
     "output_type": "execute_result"
    },
    {
     "data": {
      "image/png": "[encoded data removed]",
      "text/plain": [
       "<Figure size 432x288 with 1 Axes>"
      ]
     },
     "metadata": {
      "needs_background": "light"
     },
     "output_type": "display_data"
    }
   ],
   "source": [
    "df_korpus['section'].value_counts().plot(kind='bar')"
   ]
  },
  {
   "cell_type": "markdown",
   "id": "8be79501",
   "metadata": {},
   "source": [
    "Dari bar chart diatas, diketahui section nasional merupakan section terbanyak dalam korpus berita"
   ]
  },
  {
   "cell_type": "markdown",
   "id": "effective-child",
   "metadata": {
    "id": "effective-child"
   },
   "source": [
    "## Menganalisa kata pada content artikel pada korpus"
   ]
  },
  {
   "cell_type": "code",
   "execution_count": null,
   "id": "tough-receptor",
   "metadata": {
    "id": "tough-receptor",
    "scrolled": true
   },
   "outputs": [],
   "source": [
    "content = df_korpus['content']"
   ]
  },
  {
   "cell_type": "code",
   "execution_count": null,
   "id": "coordinate-beads",
   "metadata": {
    "colab": {
     "base_uri": "https://localhost:8080/"
    },
    "executionInfo": {
     "elapsed": 420,
     "status": "ok",
     "timestamp": 1636074480321,
     "user": {
      "displayName": "Naufal Hilmi",
      "photoUrl": "https://lh3.googleusercontent.com/a-/AOh14Gj7UB8yAHzIcK8gtuCV9hf44dCQUmF8XqLkQI3C=s64",
      "userId": "02567910694508979199"
     },
     "user_tz": -420
    },
    "id": "coordinate-beads",
    "outputId": "66a37fee-9b50-4ca8-d99f-c90d6e48c74e",
    "scrolled": true
   },
   "outputs": [],
   "source": [
    "nltk.download('punkt')"
   ]
  },
  {
   "cell_type": "markdown",
   "id": "8ZEoFhVCIIc0",
   "metadata": {
    "id": "8ZEoFhVCIIc0"
   },
   "source": [
    "Akan dilakukan tokenisasi menggunakan library nltk dengan fungsi word_tokenize pada attribute content dari data korpus."
   ]
  },
  {
   "cell_type": "code",
   "execution_count": null,
   "id": "passive-cooperation",
   "metadata": {
    "colab": {
     "base_uri": "https://localhost:8080/"
    },
    "executionInfo": {
     "elapsed": 3879,
     "status": "ok",
     "timestamp": 1636078000472,
     "user": {
      "displayName": "Naufal Hilmi",
      "photoUrl": "https://lh3.googleusercontent.com/a-/AOh14Gj7UB8yAHzIcK8gtuCV9hf44dCQUmF8XqLkQI3C=s64",
      "userId": "02567910694508979199"
     },
     "user_tz": -420
    },
    "id": "passive-cooperation",
    "outputId": "9bddaef2-8eb2-4971-c809-32694b463c0d",
    "scrolled": true
   },
   "outputs": [
    {
     "data": {
      "text/plain": [
       "0    [Kepala, BPH, Migas, M., Fashurullah, Asa, men...\n",
       "1    [Gerakan, Nasional, Pengawal, Fatwa, (, GNPF, ...\n",
       "2    [Kementerian, Perdagangan, Amerika, Serikat, m...\n",
       "3    [Pertanyaan, :, Apa, penyebab, transmisi, mati...\n",
       "4    [Aktris, Felicity, Jones, turut, mengenang, so...\n",
       "5    [Presiden, Donald, Trump, menegaskan, bakal, m...\n",
       "6    [Duta, Besar, RI, untuk, Amerika, Serikat, (, ...\n",
       "7    [MotoGP, 2020akan, memasuki, seri, ketujuh, ya...\n",
       "8    [Laga, Manchester, Unitedvs, Crystal, Palace, ...\n",
       "9    [Arsenal, menang, 2-1, atas, West, Ham, United...\n",
       "Name: content, dtype: object"
      ]
     },
     "execution_count": 48,
     "metadata": {},
     "output_type": "execute_result"
    }
   ],
   "source": [
    "content_tokenize = content.apply(nltk.word_tokenize)"
   ]
  },
  {
   "cell_type": "markdown",
   "id": "PHCJtwWsIXPF",
   "metadata": {
    "id": "PHCJtwWsIXPF"
   },
   "source": [
    "Melakukan pembersihan terhadap token yang berupa punctuation dengan cara melakukan iterasi terhadap hasil token raw."
   ]
  },
  {
   "cell_type": "code",
   "execution_count": null,
   "id": "instant-belize",
   "metadata": {
    "colab": {
     "base_uri": "https://localhost:8080/"
    },
    "executionInfo": {
     "elapsed": 335,
     "status": "ok",
     "timestamp": 1636078016407,
     "user": {
      "displayName": "Naufal Hilmi",
      "photoUrl": "https://lh3.googleusercontent.com/a-/AOh14Gj7UB8yAHzIcK8gtuCV9hf44dCQUmF8XqLkQI3C=s64",
      "userId": "02567910694508979199"
     },
     "user_tz": -420
    },
    "id": "instant-belize",
    "outputId": "514a5c7e-5311-432a-aa5a-2acd60c5e842",
    "scrolled": false
   },
   "outputs": [
    {
     "data": {
      "text/plain": [
       "0    [Kepala, BPH, Migas, Fashurullah, Asa, mengada...\n",
       "1    [Gerakan, Nasional, Pengawal, Fatwa, GNPF, Ula...\n",
       "2    [Kementerian, Perdagangan, Amerika, Serikat, m...\n",
       "3    [Pertanyaan, Apa, penyebab, transmisi, matic, ...\n",
       "4    [Aktris, Felicity, Jones, turut, mengenang, so...\n",
       "5    [Presiden, Donald, Trump, menegaskan, bakal, m...\n",
       "6    [Duta, Besar, RI, untuk, Amerika, Serikat, AS,...\n",
       "7    [MotoGP, 2020akan, memasuki, seri, ketujuh, ya...\n",
       "8    [Laga, Manchester, Unitedvs, Crystal, Palace, ...\n",
       "9    [Arsenal, menang, atas, West, Ham, United, dal...\n",
       "dtype: object"
      ]
     },
     "execution_count": 49,
     "metadata": {},
     "output_type": "execute_result"
    }
   ],
   "source": [
    "token_wo_punc = []\n",
    "for i in content_tokenize:\n",
    "    token_wo_punc.append([word for word in i if word.isalnum()])"
   ]
  },
  {
   "cell_type": "markdown",
   "id": "0zQsE3QnI4-O",
   "metadata": {
    "id": "0zQsE3QnI4-O"
   },
   "source": [
    "Mengumpulkan data unik setiap token dan menghitung jumlah dari setiap kata yang nanti akan dijadikan data untuk membuat histogram."
   ]
  },
  {
   "cell_type": "code",
   "execution_count": null,
   "id": "norwegian-ensemble",
   "metadata": {
    "colab": {
     "base_uri": "https://localhost:8080/",
     "height": 417
    },
    "executionInfo": {
     "elapsed": 365,
     "status": "ok",
     "timestamp": 1636074633659,
     "user": {
      "displayName": "Naufal Hilmi",
      "photoUrl": "https://lh3.googleusercontent.com/a-/AOh14Gj7UB8yAHzIcK8gtuCV9hf44dCQUmF8XqLkQI3C=s64",
      "userId": "02567910694508979199"
     },
     "user_tz": -420
    },
    "id": "norwegian-ensemble",
    "outputId": "1abe2cb4-2695-421f-82fa-8e14025aea8a",
    "scrolled": false
   },
   "outputs": [
    {
     "data": {
      "text/html": [
       "<div>\n",
       "<style scoped>\n",
       "    .dataframe tbody tr th:only-of-type {\n",
       "        vertical-align: middle;\n",
       "    }\n",
       "\n",
       "    .dataframe tbody tr th {\n",
       "        vertical-align: top;\n",
       "    }\n",
       "\n",
       "    .dataframe thead th {\n",
       "        text-align: right;\n",
       "    }\n",
       "</style>\n",
       "<table border=\"1\" class=\"dataframe\">\n",
       "  <thead>\n",
       "    <tr style=\"text-align: right;\">\n",
       "      <th></th>\n",
       "      <th>Kata</th>\n",
       "      <th>Sum</th>\n",
       "    </tr>\n",
       "  </thead>\n",
       "  <tbody>\n",
       "    <tr>\n",
       "      <th>0</th>\n",
       "      <td>yang</td>\n",
       "      <td>8161</td>\n",
       "    </tr>\n",
       "    <tr>\n",
       "      <th>1</th>\n",
       "      <td>di</td>\n",
       "      <td>6744</td>\n",
       "    </tr>\n",
       "    <tr>\n",
       "      <th>2</th>\n",
       "      <td>dan</td>\n",
       "      <td>6672</td>\n",
       "    </tr>\n",
       "    <tr>\n",
       "      <th>3</th>\n",
       "      <td>itu</td>\n",
       "      <td>3391</td>\n",
       "    </tr>\n",
       "    <tr>\n",
       "      <th>4</th>\n",
       "      <td>dengan</td>\n",
       "      <td>3194</td>\n",
       "    </tr>\n",
       "    <tr>\n",
       "      <th>...</th>\n",
       "      <td>...</td>\n",
       "      <td>...</td>\n",
       "    </tr>\n",
       "    <tr>\n",
       "      <th>24157</th>\n",
       "      <td>Pengerahan</td>\n",
       "      <td>1</td>\n",
       "    </tr>\n",
       "    <tr>\n",
       "      <th>24158</th>\n",
       "      <td>bernyawa</td>\n",
       "      <td>1</td>\n",
       "    </tr>\n",
       "    <tr>\n",
       "      <th>24159</th>\n",
       "      <td>Agensi</td>\n",
       "      <td>1</td>\n",
       "    </tr>\n",
       "    <tr>\n",
       "      <th>24160</th>\n",
       "      <td>Horipro</td>\n",
       "      <td>1</td>\n",
       "    </tr>\n",
       "    <tr>\n",
       "      <th>24161</th>\n",
       "      <td>pad</td>\n",
       "      <td>1</td>\n",
       "    </tr>\n",
       "  </tbody>\n",
       "</table>\n",
       "<p>24162 rows × 2 columns</p>\n",
       "</div>"
      ],
      "text/plain": [
       "             Kata   Sum\n",
       "0            yang  8161\n",
       "1              di  6744\n",
       "2             dan  6672\n",
       "3             itu  3391\n",
       "4          dengan  3194\n",
       "...           ...   ...\n",
       "24157  Pengerahan     1\n",
       "24158    bernyawa     1\n",
       "24159      Agensi     1\n",
       "24160     Horipro     1\n",
       "24161         pad     1\n",
       "\n",
       "[24162 rows x 2 columns]"
      ]
     },
     "execution_count": 31,
     "metadata": {},
     "output_type": "execute_result"
    }
   ],
   "source": [
    "word_dict = {}\n",
    "for i in token_wo_punc:\n",
    "    for j in i:\n",
    "        if j not in word_dict.keys():\n",
    "            word_dict[j] = 1\n",
    "        else:\n",
    "            word_dict[j] = word_dict[j] + 1 \n",
    "\n",
    "word = pd.DataFrame(list(word_dict.items()),columns = ['Kata','Sum'])\n",
    "sorted_word = word.sort_values(by='Sum', ascending=False)\n",
    "sorted_word.reset_index(inplace = True, drop = True)"
   ]
  },
  {
   "cell_type": "markdown",
   "id": "c0JeQKONJaRb",
   "metadata": {
    "id": "c0JeQKONJaRb"
   },
   "source": [
    "Melihat jumlah kata unik dari hasil tokenisasi yang dilakukan sebelumnya."
   ]
  },
  {
   "cell_type": "code",
   "execution_count": null,
   "id": "elder-circuit",
   "metadata": {
    "colab": {
     "base_uri": "https://localhost:8080/"
    },
    "executionInfo": {
     "elapsed": 609,
     "status": "ok",
     "timestamp": 1636074485156,
     "user": {
      "displayName": "Naufal Hilmi",
      "photoUrl": "https://lh3.googleusercontent.com/a-/AOh14Gj7UB8yAHzIcK8gtuCV9hf44dCQUmF8XqLkQI3C=s64",
      "userId": "02567910694508979199"
     },
     "user_tz": -420
    },
    "id": "elder-circuit",
    "outputId": "6f75bbcb-00e9-4e51-cc7c-669cc5e503fb"
   },
   "outputs": [
    {
     "data": {
      "text/plain": [
       "24162"
      ]
     },
     "execution_count": 16,
     "metadata": {},
     "output_type": "execute_result"
    }
   ],
   "source": [
    "sorted_word.nunique()[0]"
   ]
  },
  {
   "cell_type": "markdown",
   "id": "uHnuiofIJrhf",
   "metadata": {
    "id": "uHnuiofIJrhf"
   },
   "source": [
    "Membuat histogram untuk 100 data terbanyak yang ada di hasil tokenisasi."
   ]
  },
  {
   "cell_type": "code",
   "execution_count": null,
   "id": "asian-monday",
   "metadata": {
    "id": "asian-monday"
   },
   "outputs": [],
   "source": [
    "sorted_100 = sorted_word.head(100)"
   ]
  },
  {
   "cell_type": "code",
   "execution_count": null,
   "id": "desperate-tennessee",
   "metadata": {
    "colab": {
     "base_uri": "https://localhost:8080/"
    },
    "executionInfo": {
     "elapsed": 1367,
     "status": "ok",
     "timestamp": 1636074486489,
     "user": {
      "displayName": "Naufal Hilmi",
      "photoUrl": "https://lh3.googleusercontent.com/a-/AOh14Gj7UB8yAHzIcK8gtuCV9hf44dCQUmF8XqLkQI3C=s64",
      "userId": "02567910694508979199"
     },
     "user_tz": -420
    },
    "id": "desperate-tennessee",
    "outputId": "8b7210bb-c736-4d03-8d16-6a3fb29f7796",
    "scrolled": false
   },
   "outputs": [
    {
     "data": {
      "image/png": "[encoded data removed]",
      "text/plain": [
       "<Figure size 1440x720 with 1 Axes>"
      ]
     },
     "metadata": {
      "needs_background": "light"
     },
     "output_type": "display_data"
    }
   ],
   "source": [
    "plt.figure(figsize=(20,10))\n",
    "plt.bar(sorted_100['Kata'], sorted_100['Sum'])\n",
    "plt.xticks(rotation=90)\n",
    "plt.show()"
   ]
  },
  {
   "cell_type": "markdown",
   "id": "5SETlnC2Jy55",
   "metadata": {
    "id": "5SETlnC2Jy55"
   },
   "source": [
    "Menentukan jumlah terbanyak dari kata bigrams dimana bigram merupakan kombinasi tuple dari setiap token yang ada di hasil tokenisasi sebelumnya."
   ]
  },
  {
   "cell_type": "code",
   "execution_count": null,
   "id": "capital-boston",
   "metadata": {
    "id": "capital-boston"
   },
   "outputs": [],
   "source": [
    "bigrams_wo_punc = []\n",
    "for i in token_wo_punc:\n",
    "    bigrams_wo_punc.append(list(nltk.bigrams(i)))"
   ]
  },
  {
   "cell_type": "code",
   "execution_count": null,
   "id": "trained-presentation",
   "metadata": {
    "id": "trained-presentation",
    "scrolled": true
   },
   "outputs": [],
   "source": [
    "bigrams_dict = {}\n",
    "for i in bigrams_wo_punc:\n",
    "    for j in i:\n",
    "        if j not in bigrams_dict.keys():\n",
    "            bigrams_dict[j] = 1\n",
    "        else:\n",
    "            bigrams_dict[j] = bigrams_dict[j] + 1 \n",
    "\n",
    "bigrams = pd.DataFrame(list(bigrams_dict.items()),columns = ['Kata','Sum'])\n",
    "sorted_bigrams = bigrams.sort_values(by='Sum', ascending=False)\n",
    "sorted_bigrams.reset_index(inplace = True, drop = True)"
   ]
  },
  {
   "cell_type": "markdown",
   "id": "ZhNqkOdjJ-3d",
   "metadata": {
    "id": "ZhNqkOdjJ-3d"
   },
   "source": [
    "Menunjukan data bigrams terbanyak dalam hasil tokenisasi."
   ]
  },
  {
   "cell_type": "code",
   "execution_count": null,
   "id": "reliable-secret",
   "metadata": {
    "colab": {
     "base_uri": "https://localhost:8080/"
    },
    "executionInfo": {
     "elapsed": 68,
     "status": "ok",
     "timestamp": 1636074487282,
     "user": {
      "displayName": "Naufal Hilmi",
      "photoUrl": "https://lh3.googleusercontent.com/a-/AOh14Gj7UB8yAHzIcK8gtuCV9hf44dCQUmF8XqLkQI3C=s64",
      "userId": "02567910694508979199"
     },
     "user_tz": -420
    },
    "id": "reliable-secret",
    "outputId": "499563c6-07f3-4778-b3b6-69dbc8c433f0",
    "scrolled": false
   },
   "outputs": [
    {
     "data": {
      "text/html": [
       "<div>\n",
       "<style scoped>\n",
       "    .dataframe tbody tr th:only-of-type {\n",
       "        vertical-align: middle;\n",
       "    }\n",
       "\n",
       "    .dataframe tbody tr th {\n",
       "        vertical-align: top;\n",
       "    }\n",
       "\n",
       "    .dataframe thead th {\n",
       "        text-align: right;\n",
       "    }\n",
       "</style>\n",
       "<table border=\"1\" class=\"dataframe\">\n",
       "  <thead>\n",
       "    <tr style=\"text-align: right;\">\n",
       "      <th></th>\n",
       "      <th>Kata</th>\n",
       "      <th>Sum</th>\n",
       "    </tr>\n",
       "  </thead>\n",
       "  <tbody>\n",
       "    <tr>\n",
       "      <th>0</th>\n",
       "      <td>(saat, ini)</td>\n",
       "      <td>471</td>\n",
       "    </tr>\n",
       "    <tr>\n",
       "      <th>1</th>\n",
       "      <td>(DKI, Jakarta)</td>\n",
       "      <td>447</td>\n",
       "    </tr>\n",
       "    <tr>\n",
       "      <th>2</th>\n",
       "      <td>(virus, corona)</td>\n",
       "      <td>403</td>\n",
       "    </tr>\n",
       "    <tr>\n",
       "      <th>3</th>\n",
       "      <td>(salah, satu)</td>\n",
       "      <td>258</td>\n",
       "    </tr>\n",
       "    <tr>\n",
       "      <th>4</th>\n",
       "      <td>(Selain, itu)</td>\n",
       "      <td>254</td>\n",
       "    </tr>\n",
       "    <tr>\n",
       "      <th>5</th>\n",
       "      <td>(di, Indonesia)</td>\n",
       "      <td>246</td>\n",
       "    </tr>\n",
       "    <tr>\n",
       "      <th>6</th>\n",
       "      <td>(protokol, kesehatan)</td>\n",
       "      <td>234</td>\n",
       "    </tr>\n",
       "    <tr>\n",
       "      <th>7</th>\n",
       "      <td>(berada, di)</td>\n",
       "      <td>232</td>\n",
       "    </tr>\n",
       "    <tr>\n",
       "      <th>8</th>\n",
       "      <td>(Video, CNN)</td>\n",
       "      <td>211</td>\n",
       "    </tr>\n",
       "    <tr>\n",
       "      <th>9</th>\n",
       "      <td>(Gambas, Video)</td>\n",
       "      <td>211</td>\n",
       "    </tr>\n",
       "  </tbody>\n",
       "</table>\n",
       "</div>"
      ],
      "text/plain": [
       "                    Kata  Sum\n",
       "0            (saat, ini)  471\n",
       "1         (DKI, Jakarta)  447\n",
       "2        (virus, corona)  403\n",
       "3          (salah, satu)  258\n",
       "4          (Selain, itu)  254\n",
       "5        (di, Indonesia)  246\n",
       "6  (protokol, kesehatan)  234\n",
       "7           (berada, di)  232\n",
       "8           (Video, CNN)  211\n",
       "9        (Gambas, Video)  211"
      ]
     },
     "execution_count": 21,
     "metadata": {},
     "output_type": "execute_result"
    }
   ],
   "source": [
    "sorted_bigrams.head(10)"
   ]
  },
  {
   "cell_type": "markdown",
   "id": "gqfV0sDWKIkw",
   "metadata": {
    "id": "gqfV0sDWKIkw"
   },
   "source": [
    "Melakukan tokenisasi pada attribute originalTitle dan juga membersihkan hasil tokenisasi dari punctuation."
   ]
  },
  {
   "cell_type": "code",
   "execution_count": null,
   "id": "forbidden-struggle",
   "metadata": {
    "id": "forbidden-struggle"
   },
   "outputs": [],
   "source": [
    "oriTitle = df_korpus['originalTitle']"
   ]
  },
  {
   "cell_type": "code",
   "execution_count": null,
   "id": "banned-hollow",
   "metadata": {
    "id": "banned-hollow"
   },
   "outputs": [],
   "source": [
    "oriTitle_tokenize = oriTitle.apply(nltk.word_tokenize)"
   ]
  },
  {
   "cell_type": "code",
   "execution_count": null,
   "id": "aware-paint",
   "metadata": {
    "id": "aware-paint"
   },
   "outputs": [],
   "source": [
    "oriTitle_wo_punc = []\n",
    "for i in oriTitle_tokenize:\n",
    "    oriTitle_wo_punc.append([word for word in i if word.isalnum()])"
   ]
  },
  {
   "cell_type": "markdown",
   "id": "cTMmgRc6KVZT",
   "metadata": {
    "id": "cTMmgRc6KVZT"
   },
   "source": [
    "Menghitung rata-rata jumlah kata pada original title dengan cara melihat berapa banyak hasil tokenisasi dari setiap titlenya."
   ]
  },
  {
   "cell_type": "code",
   "execution_count": null,
   "id": "joint-amino",
   "metadata": {
    "id": "joint-amino"
   },
   "outputs": [],
   "source": [
    "len_oriTitle = []\n",
    "for i in oriTitle_wo_punc:\n",
    "    len_oriTitle.append(len(i))"
   ]
  },
  {
   "cell_type": "code",
   "execution_count": null,
   "id": "awful-consumer",
   "metadata": {
    "colab": {
     "base_uri": "https://localhost:8080/"
    },
    "executionInfo": {
     "elapsed": 77,
     "status": "ok",
     "timestamp": 1636074487303,
     "user": {
      "displayName": "Naufal Hilmi",
      "photoUrl": "https://lh3.googleusercontent.com/a-/AOh14Gj7UB8yAHzIcK8gtuCV9hf44dCQUmF8XqLkQI3C=s64",
      "userId": "02567910694508979199"
     },
     "user_tz": -420
    },
    "id": "awful-consumer",
    "outputId": "c78c153b-1d79-4fb3-ca66-e1c27d8de4d3"
   },
   "outputs": [
    {
     "data": {
      "text/plain": [
       "8.097050428163653"
      ]
     },
     "execution_count": 26,
     "metadata": {},
     "output_type": "execute_result"
    }
   ],
   "source": [
    "avg = np.mean(len_oriTitle)\n",
    "avg"
   ]
  },
  {
   "cell_type": "markdown",
   "id": "TZvFICtzKgaq",
   "metadata": {
    "id": "TZvFICtzKgaq"
   },
   "source": [
    "Membuat world cloud dari hasil tokenisasi yang akan memperlihatkan kata apa yang paling banyak dalam tokenisasi."
   ]
  },
  {
   "cell_type": "code",
   "execution_count": null,
   "id": "adopted-arlington",
   "metadata": {
    "id": "adopted-arlington"
   },
   "outputs": [],
   "source": [
    "all_word_title = []\n",
    "for i in oriTitle_wo_punc:\n",
    "    all_word_title += i\n",
    "\n",
    "all_word = ' '.join(all_word_title)"
   ]
  },
  {
   "cell_type": "code",
   "execution_count": null,
   "id": "familiar-times",
   "metadata": {
    "colab": {
     "base_uri": "https://localhost:8080/"
    },
    "executionInfo": {
     "elapsed": 1419,
     "status": "ok",
     "timestamp": 1636074488650,
     "user": {
      "displayName": "Naufal Hilmi",
      "photoUrl": "https://lh3.googleusercontent.com/a-/AOh14Gj7UB8yAHzIcK8gtuCV9hf44dCQUmF8XqLkQI3C=s64",
      "userId": "02567910694508979199"
     },
     "user_tz": -420
    },
    "id": "familiar-times",
    "outputId": "1321f9aa-7054-4677-9601-85b1c494c8df"
   },
   "outputs": [],
   "source": [
    "wordcloud = WordCloud(background_color = 'white').generate(all_word)\n",
    "plt.figure(figsize=(6, 3), dpi = 100, facecolor='w', edgecolor='k')\n",
    "plt.imshow(wordcloud)\n",
    "plt.axis('off')"
   ]
  },
  {
   "cell_type": "markdown",
   "id": "veterinary-friend",
   "metadata": {
    "id": "veterinary-friend"
   },
   "source": [
    "# Regex"
   ]
  },
  {
   "cell_type": "code",
   "execution_count": null,
   "id": "bacterial-white",
   "metadata": {
    "id": "bacterial-white"
   },
   "outputs": [],
   "source": [
    "content_regex = df_korpus['content']"
   ]
  },
  {
   "cell_type": "markdown",
   "id": "strange-lesbian",
   "metadata": {
    "id": "strange-lesbian"
   },
   "source": [
    "## Mencari email dari content dengan regex"
   ]
  },
  {
   "cell_type": "markdown",
   "id": "o7cvUOqCLQ_d",
   "metadata": {
    "id": "o7cvUOqCLQ_d"
   },
   "source": [
    "Menggunakan pattern pertama yaitu untuk mengambil bentuk email baik yang memiliki karakter titik ataupun yang berisikan simbol diluar syarat dan juga email yang sudah memenuhi syarat."
   ]
  },
  {
   "cell_type": "code",
   "execution_count": null,
   "id": "indoor-cameroon",
   "metadata": {
    "id": "indoor-cameroon"
   },
   "outputs": [],
   "source": [
    "tokenizer_email = nltk.RegexpTokenizer('[^@\\s\\t\\r\\n]+@[^@\\s\\t\\r\\n]+\\.[^@\\s\\t\\r\\n]+')\n",
    "email = content_regex.apply(tokenizer_email.tokenize)\n",
    "for i in range(len(email)):\n",
    "    if len(email[i]) == 0:\n",
    "        email.pop(i)"
   ]
  },
  {
   "cell_type": "markdown",
   "id": "iYFYuWNWLhx9",
   "metadata": {
    "id": "iYFYuWNWLhx9"
   },
   "source": [
    "Melalui pattern kedua akan dilakukan filterasi terhadap token yang sudah diambil sebelumnya dengan cara melakukan penghapusan pada karakter titik di bagian akhir dan juga hanya mengambil karakter yang sesuai dengan syarat."
   ]
  },
  {
   "cell_type": "code",
   "execution_count": null,
   "id": "recreational-lending",
   "metadata": {
    "id": "recreational-lending"
   },
   "outputs": [],
   "source": [
    "email2 = []\n",
    "tokenizer_email2 = nltk.RegexpTokenizer('[\\w\\.\\-]+@[\\w\\.\\-]+[^\\.]')\n",
    "\n",
    "for i in email:\n",
    "    for j in i:\n",
    "        tmp = tokenizer_email2.tokenize(j)\n",
    "        if len(tmp) != 0:\n",
    "            email2.append(tmp[0])"
   ]
  },
  {
   "cell_type": "markdown",
   "id": "Xs0--OdcL16m",
   "metadata": {
    "id": "Xs0--OdcL16m"
   },
   "source": [
    "Melakukan perhitungan kemunculan setiap token yang sudah sesuai dengan syarat."
   ]
  },
  {
   "cell_type": "code",
   "execution_count": null,
   "id": "current-fiction",
   "metadata": {
    "colab": {
     "base_uri": "https://localhost:8080/"
    },
    "executionInfo": {
     "elapsed": 70,
     "status": "ok",
     "timestamp": 1633355376541,
     "user": {
      "displayName": "Naufal Hilmi",
      "photoUrl": "https://lh3.googleusercontent.com/a-/AOh14Gj7UB8yAHzIcK8gtuCV9hf44dCQUmF8XqLkQI3C=s64",
      "userId": "02567910694508979199"
     },
     "user_tz": -420
    },
    "id": "current-fiction",
    "outputId": "81d87caa-143a-45e0-9f47-edcadc3a70a6"
   },
   "outputs": [
    {
     "data": {
      "text/html": [
       "<div>\n",
       "<style scoped>\n",
       "    .dataframe tbody tr th:only-of-type {\n",
       "        vertical-align: middle;\n",
       "    }\n",
       "\n",
       "    .dataframe tbody tr th {\n",
       "        vertical-align: top;\n",
       "    }\n",
       "\n",
       "    .dataframe thead th {\n",
       "        text-align: right;\n",
       "    }\n",
       "</style>\n",
       "<table border=\"1\" class=\"dataframe\">\n",
       "  <thead>\n",
       "    <tr style=\"text-align: right;\">\n",
       "      <th></th>\n",
       "      <th>Email</th>\n",
       "      <th>Sum</th>\n",
       "    </tr>\n",
       "  </thead>\n",
       "  <tbody>\n",
       "    <tr>\n",
       "      <th>0</th>\n",
       "      <td>info@railink.co.id</td>\n",
       "      <td>1</td>\n",
       "    </tr>\n",
       "    <tr>\n",
       "      <th>1</th>\n",
       "      <td>infopemilu.LHKPN@kpk.go.id</td>\n",
       "      <td>1</td>\n",
       "    </tr>\n",
       "  </tbody>\n",
       "</table>\n",
       "</div>"
      ],
      "text/plain": [
       "                        Email  Sum\n",
       "0          info@railink.co.id    1\n",
       "1  infopemilu.LHKPN@kpk.go.id    1"
      ]
     },
     "execution_count": 60,
     "metadata": {},
     "output_type": "execute_result"
    }
   ],
   "source": [
    "email_dict = {}\n",
    "for j in email2:\n",
    "    if j not in email_dict.keys():\n",
    "        email_dict[j] = 1\n",
    "    else:\n",
    "        email_dict[j] = email_dict[j] + 1\n",
    "            \n",
    "email_fix = pd.DataFrame(list(email_dict.items()),columns = ['Email','Sum'])\n",
    "sorted_email_fix = email_fix.sort_values(by='Sum', ascending=False)\n",
    "sorted_email_fix.reset_index(inplace = True, drop = True)\n",
    "sorted_email_fix"
   ]
  },
  {
   "cell_type": "markdown",
   "id": "generous-picture",
   "metadata": {
    "id": "generous-picture"
   },
   "source": [
    "## Mencari akun social media"
   ]
  },
  {
   "cell_type": "markdown",
   "id": "JJE7ZH0FMCQz",
   "metadata": {
    "id": "JJE7ZH0FMCQz"
   },
   "source": [
    "Menggunakan pattern pertama yaitu untuk mengambil bentuk sosmed baik yang memiliki panjang lebih dari 15 atau kurang 15. Bentuk yang terdapat karakter tidak sesuai syarat dan yang tidak terdapat karakter tidak sesuai syarat."
   ]
  },
  {
   "cell_type": "code",
   "execution_count": null,
   "id": "fluid-basement",
   "metadata": {
    "id": "fluid-basement",
    "scrolled": false
   },
   "outputs": [],
   "source": [
    "tokenizer_sosmed = nltk.RegexpTokenizer('@[^@\\s\\t\\r\\n]+')\n",
    "sosmed = content_regex.apply(tokenizer_sosmed.tokenize)\n",
    "for i in range(len(sosmed)):\n",
    "    if len(sosmed[i]) == 0:\n",
    "        sosmed.pop(i)"
   ]
  },
  {
   "cell_type": "markdown",
   "id": "606blLNwMZBo",
   "metadata": {
    "id": "606blLNwMZBo"
   },
   "source": [
    "Melalui pattern kedua akan dilakukan filterasi terhadap token yang sudah diambil sebelumnya dengan cara melakukan penghapusan pada karakter titik di bagian akhir dan juga hanya mengambil karakter yang sesuai dengan syarat dan memiliki panjang yang maksimal 15."
   ]
  },
  {
   "cell_type": "code",
   "execution_count": null,
   "id": "oriental-tokyo",
   "metadata": {
    "id": "oriental-tokyo",
    "scrolled": false
   },
   "outputs": [],
   "source": [
    "sosmed2 = []\n",
    "tokenizer_sosmed2 = nltk.RegexpTokenizer('@[\\w\\.]{1,14}[^\\.\\,]')\n",
    "for i in sosmed:\n",
    "    for j in i:\n",
    "        tmp = tokenizer_sosmed2.tokenize(j)\n",
    "        sosmed2.append(tmp[0])"
   ]
  },
  {
   "cell_type": "markdown",
   "id": "gqofqgD0M2m1",
   "metadata": {
    "id": "gqofqgD0M2m1"
   },
   "source": [
    "Melakukan perhitungan kemunculan setiap token yang sudah sesuai dengan syarat."
   ]
  },
  {
   "cell_type": "code",
   "execution_count": null,
   "id": "comparative-childhood",
   "metadata": {
    "colab": {
     "base_uri": "https://localhost:8080/"
    },
    "executionInfo": {
     "elapsed": 70,
     "status": "ok",
     "timestamp": 1633355376544,
     "user": {
      "displayName": "Naufal Hilmi",
      "photoUrl": "https://lh3.googleusercontent.com/a-/AOh14Gj7UB8yAHzIcK8gtuCV9hf44dCQUmF8XqLkQI3C=s64",
      "userId": "02567910694508979199"
     },
     "user_tz": -420
    },
    "id": "comparative-childhood",
    "outputId": "1102ba22-01ff-48db-a0eb-cfb30315cb1d",
    "scrolled": false
   },
   "outputs": [
    {
     "data": {
      "text/html": [
       "<div>\n",
       "<style scoped>\n",
       "    .dataframe tbody tr th:only-of-type {\n",
       "        vertical-align: middle;\n",
       "    }\n",
       "\n",
       "    .dataframe tbody tr th {\n",
       "        vertical-align: top;\n",
       "    }\n",
       "\n",
       "    .dataframe thead th {\n",
       "        text-align: right;\n",
       "    }\n",
       "</style>\n",
       "<table border=\"1\" class=\"dataframe\">\n",
       "  <thead>\n",
       "    <tr style=\"text-align: right;\">\n",
       "      <th></th>\n",
       "      <th>Akun Sosmed</th>\n",
       "      <th>Sum</th>\n",
       "    </tr>\n",
       "  </thead>\n",
       "  <tbody>\n",
       "    <tr>\n",
       "      <th>0</th>\n",
       "      <td>@commuterline</td>\n",
       "      <td>3</td>\n",
       "    </tr>\n",
       "    <tr>\n",
       "      <th>1</th>\n",
       "      <td>@chandra_ds</td>\n",
       "      <td>3</td>\n",
       "    </tr>\n",
       "    <tr>\n",
       "      <th>2</th>\n",
       "      <td>@miztabay</td>\n",
       "      <td>2</td>\n",
       "    </tr>\n",
       "    <tr>\n",
       "      <th>3</th>\n",
       "      <td>@BennyHarmanID</td>\n",
       "      <td>2</td>\n",
       "    </tr>\n",
       "    <tr>\n",
       "      <th>4</th>\n",
       "      <td>@NetflixUK</td>\n",
       "      <td>2</td>\n",
       "    </tr>\n",
       "    <tr>\n",
       "      <th>5</th>\n",
       "      <td>@listongs</td>\n",
       "      <td>2</td>\n",
       "    </tr>\n",
       "    <tr>\n",
       "      <th>6</th>\n",
       "      <td>@TMCPoldaMetro</td>\n",
       "      <td>2</td>\n",
       "    </tr>\n",
       "    <tr>\n",
       "      <th>7</th>\n",
       "      <td>@ridwankamil</td>\n",
       "      <td>2</td>\n",
       "    </tr>\n",
       "    <tr>\n",
       "      <th>8</th>\n",
       "      <td>@acmawards</td>\n",
       "      <td>2</td>\n",
       "    </tr>\n",
       "    <tr>\n",
       "      <th>9</th>\n",
       "      <td>@Aikaz_F</td>\n",
       "      <td>2</td>\n",
       "    </tr>\n",
       "    <tr>\n",
       "      <th>10</th>\n",
       "      <td>@Aditt_hr</td>\n",
       "      <td>2</td>\n",
       "    </tr>\n",
       "    <tr>\n",
       "      <th>11</th>\n",
       "      <td>@adiw9237</td>\n",
       "      <td>2</td>\n",
       "    </tr>\n",
       "    <tr>\n",
       "      <th>12</th>\n",
       "      <td>@basukibtp</td>\n",
       "      <td>2</td>\n",
       "    </tr>\n",
       "    <tr>\n",
       "      <th>13</th>\n",
       "      <td>@rr.irwin</td>\n",
       "      <td>1</td>\n",
       "    </tr>\n",
       "    <tr>\n",
       "      <th>14</th>\n",
       "      <td>@WallnerAndi</td>\n",
       "      <td>1</td>\n",
       "    </tr>\n",
       "    <tr>\n",
       "      <th>15</th>\n",
       "      <td>@jakarta.siana</td>\n",
       "      <td>1</td>\n",
       "    </tr>\n",
       "    <tr>\n",
       "      <th>16</th>\n",
       "      <td>@sbotv</td>\n",
       "      <td>1</td>\n",
       "    </tr>\n",
       "    <tr>\n",
       "      <th>17</th>\n",
       "      <td>@syekh.alijaber</td>\n",
       "      <td>1</td>\n",
       "    </tr>\n",
       "    <tr>\n",
       "      <th>18</th>\n",
       "      <td>@_KingPurwa</td>\n",
       "      <td>1</td>\n",
       "    </tr>\n",
       "    <tr>\n",
       "      <th>19</th>\n",
       "      <td>@boazsolossa</td>\n",
       "      <td>1</td>\n",
       "    </tr>\n",
       "    <tr>\n",
       "      <th>20</th>\n",
       "      <td>@abangriza</td>\n",
       "      <td>1</td>\n",
       "    </tr>\n",
       "    <tr>\n",
       "      <th>21</th>\n",
       "      <td>@m3takl_en</td>\n",
       "      <td>1</td>\n",
       "    </tr>\n",
       "    <tr>\n",
       "      <th>22</th>\n",
       "      <td>@infobekasi</td>\n",
       "      <td>1</td>\n",
       "    </tr>\n",
       "    <tr>\n",
       "      <th>23</th>\n",
       "      <td>@regureg</td>\n",
       "      <td>1</td>\n",
       "    </tr>\n",
       "    <tr>\n",
       "      <th>24</th>\n",
       "      <td>@Dwinamasayaa</td>\n",
       "      <td>1</td>\n",
       "    </tr>\n",
       "    <tr>\n",
       "      <th>25</th>\n",
       "      <td>@kaesangp</td>\n",
       "      <td>1</td>\n",
       "    </tr>\n",
       "    <tr>\n",
       "      <th>26</th>\n",
       "      <td>@HRimanti</td>\n",
       "      <td>1</td>\n",
       "    </tr>\n",
       "    <tr>\n",
       "      <th>27</th>\n",
       "      <td>@warung_jurnalis</td>\n",
       "      <td>1</td>\n",
       "    </tr>\n",
       "    <tr>\n",
       "      <th>28</th>\n",
       "      <td>@pahlawandigital</td>\n",
       "      <td>1</td>\n",
       "    </tr>\n",
       "    <tr>\n",
       "      <th>29</th>\n",
       "      <td>@rizqiawal</td>\n",
       "      <td>1</td>\n",
       "    </tr>\n",
       "    <tr>\n",
       "      <th>30</th>\n",
       "      <td>@ganangsy</td>\n",
       "      <td>1</td>\n",
       "    </tr>\n",
       "    <tr>\n",
       "      <th>31</th>\n",
       "      <td>@txtdaribogor</td>\n",
       "      <td>1</td>\n",
       "    </tr>\n",
       "    <tr>\n",
       "      <th>32</th>\n",
       "      <td>@railink.co.id</td>\n",
       "      <td>1</td>\n",
       "    </tr>\n",
       "    <tr>\n",
       "      <th>33</th>\n",
       "      <td>@tirta_hudhi</td>\n",
       "      <td>1</td>\n",
       "    </tr>\n",
       "    <tr>\n",
       "      <th>34</th>\n",
       "      <td>@prakerja.go.id</td>\n",
       "      <td>1</td>\n",
       "    </tr>\n",
       "    <tr>\n",
       "      <th>35</th>\n",
       "      <td>@kontributorjaka</td>\n",
       "      <td>1</td>\n",
       "    </tr>\n",
       "    <tr>\n",
       "      <th>36</th>\n",
       "      <td>@kpk.go.id</td>\n",
       "      <td>1</td>\n",
       "    </tr>\n",
       "    <tr>\n",
       "      <th>37</th>\n",
       "      <td>@ito.kurnia</td>\n",
       "      <td>1</td>\n",
       "    </tr>\n",
       "    <tr>\n",
       "      <th>38</th>\n",
       "      <td>@firdzaradiany</td>\n",
       "      <td>1</td>\n",
       "    </tr>\n",
       "    <tr>\n",
       "      <th>39</th>\n",
       "      <td>@tyonarie2</td>\n",
       "      <td>1</td>\n",
       "    </tr>\n",
       "    <tr>\n",
       "      <th>40</th>\n",
       "      <td>@putri_tanjung</td>\n",
       "      <td>1</td>\n",
       "    </tr>\n",
       "    <tr>\n",
       "      <th>41</th>\n",
       "      <td>@MushinAshin3</td>\n",
       "      <td>1</td>\n",
       "    </tr>\n",
       "    <tr>\n",
       "      <th>42</th>\n",
       "      <td>@FerdinandHaean3</td>\n",
       "      <td>1</td>\n",
       "    </tr>\n",
       "    <tr>\n",
       "      <th>43</th>\n",
       "      <td>@yasshh19</td>\n",
       "      <td>1</td>\n",
       "    </tr>\n",
       "    <tr>\n",
       "      <th>44</th>\n",
       "      <td>@cositadelanoche</td>\n",
       "      <td>1</td>\n",
       "    </tr>\n",
       "    <tr>\n",
       "      <th>45</th>\n",
       "      <td>@prastow</td>\n",
       "      <td>1</td>\n",
       "    </tr>\n",
       "    <tr>\n",
       "      <th>46</th>\n",
       "      <td>@KPK_RI</td>\n",
       "      <td>1</td>\n",
       "    </tr>\n",
       "    <tr>\n",
       "      <th>47</th>\n",
       "      <td>@lambe_turah</td>\n",
       "      <td>1</td>\n",
       "    </tr>\n",
       "    <tr>\n",
       "      <th>48</th>\n",
       "      <td>@kemenkopukm</td>\n",
       "      <td>1</td>\n",
       "    </tr>\n",
       "    <tr>\n",
       "      <th>49</th>\n",
       "      <td>@txtdaripooh</td>\n",
       "      <td>1</td>\n",
       "    </tr>\n",
       "  </tbody>\n",
       "</table>\n",
       "</div>"
      ],
      "text/plain": [
       "         Akun Sosmed  Sum\n",
       "0      @commuterline    3\n",
       "1        @chandra_ds    3\n",
       "2          @miztabay    2\n",
       "3     @BennyHarmanID    2\n",
       "4         @NetflixUK    2\n",
       "5          @listongs    2\n",
       "6     @TMCPoldaMetro    2\n",
       "7       @ridwankamil    2\n",
       "8         @acmawards    2\n",
       "9           @Aikaz_F    2\n",
       "10         @Aditt_hr    2\n",
       "11         @adiw9237    2\n",
       "12        @basukibtp    2\n",
       "13         @rr.irwin    1\n",
       "14      @WallnerAndi    1\n",
       "15    @jakarta.siana    1\n",
       "16            @sbotv    1\n",
       "17   @syekh.alijaber    1\n",
       "18       @_KingPurwa    1\n",
       "19      @boazsolossa    1\n",
       "20        @abangriza    1\n",
       "21        @m3takl_en    1\n",
       "22       @infobekasi    1\n",
       "23          @regureg    1\n",
       "24     @Dwinamasayaa    1\n",
       "25         @kaesangp    1\n",
       "26         @HRimanti    1\n",
       "27  @warung_jurnalis    1\n",
       "28  @pahlawandigital    1\n",
       "29        @rizqiawal    1\n",
       "30         @ganangsy    1\n",
       "31     @txtdaribogor    1\n",
       "32    @railink.co.id    1\n",
       "33      @tirta_hudhi    1\n",
       "34   @prakerja.go.id    1\n",
       "35  @kontributorjaka    1\n",
       "36        @kpk.go.id    1\n",
       "37       @ito.kurnia    1\n",
       "38    @firdzaradiany    1\n",
       "39        @tyonarie2    1\n",
       "40    @putri_tanjung    1\n",
       "41     @MushinAshin3    1\n",
       "42  @FerdinandHaean3    1\n",
       "43         @yasshh19    1\n",
       "44  @cositadelanoche    1\n",
       "45          @prastow    1\n",
       "46           @KPK_RI    1\n",
       "47      @lambe_turah    1\n",
       "48      @kemenkopukm    1\n",
       "49      @txtdaripooh    1"
      ]
     },
     "execution_count": 63,
     "metadata": {},
     "output_type": "execute_result"
    }
   ],
   "source": [
    "sosmed_dict = {}\n",
    "for j in sosmed2:\n",
    "    if j not in sosmed_dict.keys():\n",
    "        sosmed_dict[j] = 1\n",
    "    else:\n",
    "        sosmed_dict[j] = sosmed_dict[j] + 1\n",
    "            \n",
    "sosmed_fix = pd.DataFrame(list(sosmed_dict.items()),columns = ['Akun Sosmed','Sum'])\n",
    "sorted_sosmed_fix = sosmed_fix.sort_values(by='Sum', ascending=False)\n",
    "sorted_sosmed_fix.reset_index(inplace = True, drop = True)\n",
    "sorted_sosmed_fix"
   ]
  },
  {
   "cell_type": "code",
   "execution_count": null,
   "id": "WKPLAc8YL3db",
   "metadata": {
    "colab": {
     "base_uri": "https://localhost:8080/"
    },
    "executionInfo": {
     "elapsed": 69,
     "status": "ok",
     "timestamp": 1633355376544,
     "user": {
      "displayName": "Naufal Hilmi",
      "photoUrl": "https://lh3.googleusercontent.com/a-/AOh14Gj7UB8yAHzIcK8gtuCV9hf44dCQUmF8XqLkQI3C=s64",
      "userId": "02567910694508979199"
     },
     "user_tz": -420
    },
    "id": "WKPLAc8YL3db",
    "outputId": "f2506928-efc4-4484-bae7-0e4c8c6bab01"
   },
   "outputs": [
    {
     "data": {
      "text/plain": [
       "65"
      ]
     },
     "execution_count": 64,
     "metadata": {},
     "output_type": "execute_result"
    }
   ],
   "source": [
    "test = sorted_sosmed_fix['Sum']\n",
    "sum = 0\n",
    "for i in test:\n",
    "  sum += i\n",
    "\n",
    "sum"
   ]
  },
  {
   "cell_type": "markdown",
   "id": "indie-arrest",
   "metadata": {
    "id": "indie-arrest"
   },
   "source": [
    "## Memisahkan akun Instagram dan Twitter"
   ]
  },
  {
   "cell_type": "markdown",
   "id": "J2AhmAdmM6vA",
   "metadata": {
    "id": "J2AhmAdmM6vA"
   },
   "source": [
    "Menggunakan pattern regex yang berfungsi untuk memisahkan akun sosmed instagram dan twitter. Dimana twitter pertama tidak boleh mengandung karakter titik sedangkan akun instagram boleh mengandung titik."
   ]
  },
  {
   "cell_type": "code",
   "execution_count": null,
   "id": "numerical-episode",
   "metadata": {
    "id": "numerical-episode"
   },
   "outputs": [],
   "source": [
    "instagram = []\n",
    "twitter = []\n",
    "tokenizer_twt = nltk.RegexpTokenizer('@[\\w]+[^\\.]+$')\n",
    "\n",
    "for i in sosmed2:\n",
    "    tmp = tokenizer_twt.tokenize(i)\n",
    "    if len(tmp) != 0:\n",
    "        twitter.append(tmp[0])\n",
    "    else:\n",
    "        instagram.append(i)"
   ]
  },
  {
   "cell_type": "markdown",
   "id": "3rgjxQ4XNZIh",
   "metadata": {
    "id": "3rgjxQ4XNZIh"
   },
   "source": [
    "Melakukan perhitungan frekuensi dari kemunculan setiap akun sosmed instagram dan mengurutkannya berdasarkan frekuensi."
   ]
  },
  {
   "cell_type": "code",
   "execution_count": null,
   "id": "fluid-warner",
   "metadata": {
    "colab": {
     "base_uri": "https://localhost:8080/"
    },
    "executionInfo": {
     "elapsed": 67,
     "status": "ok",
     "timestamp": 1633355376546,
     "user": {
      "displayName": "Naufal Hilmi",
      "photoUrl": "https://lh3.googleusercontent.com/a-/AOh14Gj7UB8yAHzIcK8gtuCV9hf44dCQUmF8XqLkQI3C=s64",
      "userId": "02567910694508979199"
     },
     "user_tz": -420
    },
    "id": "fluid-warner",
    "outputId": "d9291360-da87-444f-c162-150cfc653fa0"
   },
   "outputs": [
    {
     "data": {
      "text/html": [
       "<div>\n",
       "<style scoped>\n",
       "    .dataframe tbody tr th:only-of-type {\n",
       "        vertical-align: middle;\n",
       "    }\n",
       "\n",
       "    .dataframe tbody tr th {\n",
       "        vertical-align: top;\n",
       "    }\n",
       "\n",
       "    .dataframe thead th {\n",
       "        text-align: right;\n",
       "    }\n",
       "</style>\n",
       "<table border=\"1\" class=\"dataframe\">\n",
       "  <thead>\n",
       "    <tr style=\"text-align: right;\">\n",
       "      <th></th>\n",
       "      <th>Akun Instagram</th>\n",
       "      <th>Sum</th>\n",
       "    </tr>\n",
       "  </thead>\n",
       "  <tbody>\n",
       "    <tr>\n",
       "      <th>0</th>\n",
       "      <td>@rr.irwin</td>\n",
       "      <td>1</td>\n",
       "    </tr>\n",
       "    <tr>\n",
       "      <th>1</th>\n",
       "      <td>@railink.co.id</td>\n",
       "      <td>1</td>\n",
       "    </tr>\n",
       "    <tr>\n",
       "      <th>2</th>\n",
       "      <td>@prakerja.go.id</td>\n",
       "      <td>1</td>\n",
       "    </tr>\n",
       "    <tr>\n",
       "      <th>3</th>\n",
       "      <td>@kpk.go.id</td>\n",
       "      <td>1</td>\n",
       "    </tr>\n",
       "    <tr>\n",
       "      <th>4</th>\n",
       "      <td>@ito.kurnia</td>\n",
       "      <td>1</td>\n",
       "    </tr>\n",
       "    <tr>\n",
       "      <th>5</th>\n",
       "      <td>@syekh.alijaber</td>\n",
       "      <td>1</td>\n",
       "    </tr>\n",
       "    <tr>\n",
       "      <th>6</th>\n",
       "      <td>@jakarta.siana</td>\n",
       "      <td>1</td>\n",
       "    </tr>\n",
       "  </tbody>\n",
       "</table>\n",
       "</div>"
      ],
      "text/plain": [
       "    Akun Instagram  Sum\n",
       "0        @rr.irwin    1\n",
       "1   @railink.co.id    1\n",
       "2  @prakerja.go.id    1\n",
       "3       @kpk.go.id    1\n",
       "4      @ito.kurnia    1\n",
       "5  @syekh.alijaber    1\n",
       "6   @jakarta.siana    1"
      ]
     },
     "execution_count": 66,
     "metadata": {},
     "output_type": "execute_result"
    }
   ],
   "source": [
    "ig_dict = {}\n",
    "for j in instagram:\n",
    "    if j not in ig_dict.keys():\n",
    "        ig_dict[j] = 1\n",
    "    else:\n",
    "        ig_dict[j] = ig_dict[j] + 1\n",
    "            \n",
    "ig_fix = pd.DataFrame(list(ig_dict.items()),columns = ['Akun Instagram','Sum'])\n",
    "sorted_ig_fix = ig_fix.sort_values(by='Sum', ascending=False)\n",
    "sorted_ig_fix.reset_index(inplace = True, drop = True)\n",
    "sorted_ig_fix"
   ]
  },
  {
   "cell_type": "markdown",
   "id": "Oe2Ej3ecNwlv",
   "metadata": {
    "id": "Oe2Ej3ecNwlv"
   },
   "source": [
    "Melakukan perhitungan frekuensi dari kemunculan setiap akun sosmed twitter dan mengurutkannya berdasarkan frekuensi."
   ]
  },
  {
   "cell_type": "code",
   "execution_count": null,
   "id": "printable-target",
   "metadata": {
    "colab": {
     "base_uri": "https://localhost:8080/"
    },
    "executionInfo": {
     "elapsed": 64,
     "status": "ok",
     "timestamp": 1633355376546,
     "user": {
      "displayName": "Naufal Hilmi",
      "photoUrl": "https://lh3.googleusercontent.com/a-/AOh14Gj7UB8yAHzIcK8gtuCV9hf44dCQUmF8XqLkQI3C=s64",
      "userId": "02567910694508979199"
     },
     "user_tz": -420
    },
    "id": "printable-target",
    "outputId": "c600ddfa-7c3d-48a2-f854-9d116f54acc9"
   },
   "outputs": [
    {
     "data": {
      "text/html": [
       "<div>\n",
       "<style scoped>\n",
       "    .dataframe tbody tr th:only-of-type {\n",
       "        vertical-align: middle;\n",
       "    }\n",
       "\n",
       "    .dataframe tbody tr th {\n",
       "        vertical-align: top;\n",
       "    }\n",
       "\n",
       "    .dataframe thead th {\n",
       "        text-align: right;\n",
       "    }\n",
       "</style>\n",
       "<table border=\"1\" class=\"dataframe\">\n",
       "  <thead>\n",
       "    <tr style=\"text-align: right;\">\n",
       "      <th></th>\n",
       "      <th>Akun Twitter</th>\n",
       "      <th>Sum</th>\n",
       "    </tr>\n",
       "  </thead>\n",
       "  <tbody>\n",
       "    <tr>\n",
       "      <th>0</th>\n",
       "      <td>@chandra_ds</td>\n",
       "      <td>3</td>\n",
       "    </tr>\n",
       "    <tr>\n",
       "      <th>1</th>\n",
       "      <td>@commuterline</td>\n",
       "      <td>3</td>\n",
       "    </tr>\n",
       "    <tr>\n",
       "      <th>2</th>\n",
       "      <td>@basukibtp</td>\n",
       "      <td>2</td>\n",
       "    </tr>\n",
       "    <tr>\n",
       "      <th>3</th>\n",
       "      <td>@BennyHarmanID</td>\n",
       "      <td>2</td>\n",
       "    </tr>\n",
       "    <tr>\n",
       "      <th>4</th>\n",
       "      <td>@Aditt_hr</td>\n",
       "      <td>2</td>\n",
       "    </tr>\n",
       "    <tr>\n",
       "      <th>5</th>\n",
       "      <td>@adiw9237</td>\n",
       "      <td>2</td>\n",
       "    </tr>\n",
       "    <tr>\n",
       "      <th>6</th>\n",
       "      <td>@miztabay</td>\n",
       "      <td>2</td>\n",
       "    </tr>\n",
       "    <tr>\n",
       "      <th>7</th>\n",
       "      <td>@TMCPoldaMetro</td>\n",
       "      <td>2</td>\n",
       "    </tr>\n",
       "    <tr>\n",
       "      <th>8</th>\n",
       "      <td>@Aikaz_F</td>\n",
       "      <td>2</td>\n",
       "    </tr>\n",
       "    <tr>\n",
       "      <th>9</th>\n",
       "      <td>@NetflixUK</td>\n",
       "      <td>2</td>\n",
       "    </tr>\n",
       "    <tr>\n",
       "      <th>10</th>\n",
       "      <td>@acmawards</td>\n",
       "      <td>2</td>\n",
       "    </tr>\n",
       "    <tr>\n",
       "      <th>11</th>\n",
       "      <td>@ridwankamil</td>\n",
       "      <td>2</td>\n",
       "    </tr>\n",
       "    <tr>\n",
       "      <th>12</th>\n",
       "      <td>@listongs</td>\n",
       "      <td>2</td>\n",
       "    </tr>\n",
       "    <tr>\n",
       "      <th>13</th>\n",
       "      <td>@m3takl_en</td>\n",
       "      <td>1</td>\n",
       "    </tr>\n",
       "    <tr>\n",
       "      <th>14</th>\n",
       "      <td>@abangriza</td>\n",
       "      <td>1</td>\n",
       "    </tr>\n",
       "    <tr>\n",
       "      <th>15</th>\n",
       "      <td>@infobekasi</td>\n",
       "      <td>1</td>\n",
       "    </tr>\n",
       "    <tr>\n",
       "      <th>16</th>\n",
       "      <td>@boazsolossa</td>\n",
       "      <td>1</td>\n",
       "    </tr>\n",
       "    <tr>\n",
       "      <th>17</th>\n",
       "      <td>@_KingPurwa</td>\n",
       "      <td>1</td>\n",
       "    </tr>\n",
       "    <tr>\n",
       "      <th>18</th>\n",
       "      <td>@regureg</td>\n",
       "      <td>1</td>\n",
       "    </tr>\n",
       "    <tr>\n",
       "      <th>19</th>\n",
       "      <td>@Dwinamasayaa</td>\n",
       "      <td>1</td>\n",
       "    </tr>\n",
       "    <tr>\n",
       "      <th>20</th>\n",
       "      <td>@sbotv</td>\n",
       "      <td>1</td>\n",
       "    </tr>\n",
       "    <tr>\n",
       "      <th>21</th>\n",
       "      <td>@kaesangp</td>\n",
       "      <td>1</td>\n",
       "    </tr>\n",
       "    <tr>\n",
       "      <th>22</th>\n",
       "      <td>@HRimanti</td>\n",
       "      <td>1</td>\n",
       "    </tr>\n",
       "    <tr>\n",
       "      <th>23</th>\n",
       "      <td>@WallnerAndi</td>\n",
       "      <td>1</td>\n",
       "    </tr>\n",
       "    <tr>\n",
       "      <th>24</th>\n",
       "      <td>@lambe_turah</td>\n",
       "      <td>1</td>\n",
       "    </tr>\n",
       "    <tr>\n",
       "      <th>25</th>\n",
       "      <td>@kemenkopukm</td>\n",
       "      <td>1</td>\n",
       "    </tr>\n",
       "    <tr>\n",
       "      <th>26</th>\n",
       "      <td>@warung_jurnalis</td>\n",
       "      <td>1</td>\n",
       "    </tr>\n",
       "    <tr>\n",
       "      <th>27</th>\n",
       "      <td>@FerdinandHaean3</td>\n",
       "      <td>1</td>\n",
       "    </tr>\n",
       "    <tr>\n",
       "      <th>28</th>\n",
       "      <td>@tirta_hudhi</td>\n",
       "      <td>1</td>\n",
       "    </tr>\n",
       "    <tr>\n",
       "      <th>29</th>\n",
       "      <td>@kontributorjaka</td>\n",
       "      <td>1</td>\n",
       "    </tr>\n",
       "    <tr>\n",
       "      <th>30</th>\n",
       "      <td>@firdzaradiany</td>\n",
       "      <td>1</td>\n",
       "    </tr>\n",
       "    <tr>\n",
       "      <th>31</th>\n",
       "      <td>@ganangsy</td>\n",
       "      <td>1</td>\n",
       "    </tr>\n",
       "    <tr>\n",
       "      <th>32</th>\n",
       "      <td>@tyonarie2</td>\n",
       "      <td>1</td>\n",
       "    </tr>\n",
       "    <tr>\n",
       "      <th>33</th>\n",
       "      <td>@MushinAshin3</td>\n",
       "      <td>1</td>\n",
       "    </tr>\n",
       "    <tr>\n",
       "      <th>34</th>\n",
       "      <td>@yasshh19</td>\n",
       "      <td>1</td>\n",
       "    </tr>\n",
       "    <tr>\n",
       "      <th>35</th>\n",
       "      <td>@rizqiawal</td>\n",
       "      <td>1</td>\n",
       "    </tr>\n",
       "    <tr>\n",
       "      <th>36</th>\n",
       "      <td>@cositadelanoche</td>\n",
       "      <td>1</td>\n",
       "    </tr>\n",
       "    <tr>\n",
       "      <th>37</th>\n",
       "      <td>@prastow</td>\n",
       "      <td>1</td>\n",
       "    </tr>\n",
       "    <tr>\n",
       "      <th>38</th>\n",
       "      <td>@KPK_RI</td>\n",
       "      <td>1</td>\n",
       "    </tr>\n",
       "    <tr>\n",
       "      <th>39</th>\n",
       "      <td>@pahlawandigital</td>\n",
       "      <td>1</td>\n",
       "    </tr>\n",
       "    <tr>\n",
       "      <th>40</th>\n",
       "      <td>@txtdaribogor</td>\n",
       "      <td>1</td>\n",
       "    </tr>\n",
       "    <tr>\n",
       "      <th>41</th>\n",
       "      <td>@putri_tanjung</td>\n",
       "      <td>1</td>\n",
       "    </tr>\n",
       "    <tr>\n",
       "      <th>42</th>\n",
       "      <td>@txtdaripooh</td>\n",
       "      <td>1</td>\n",
       "    </tr>\n",
       "  </tbody>\n",
       "</table>\n",
       "</div>"
      ],
      "text/plain": [
       "        Akun Twitter  Sum\n",
       "0        @chandra_ds    3\n",
       "1      @commuterline    3\n",
       "2         @basukibtp    2\n",
       "3     @BennyHarmanID    2\n",
       "4          @Aditt_hr    2\n",
       "5          @adiw9237    2\n",
       "6          @miztabay    2\n",
       "7     @TMCPoldaMetro    2\n",
       "8           @Aikaz_F    2\n",
       "9         @NetflixUK    2\n",
       "10        @acmawards    2\n",
       "11      @ridwankamil    2\n",
       "12         @listongs    2\n",
       "13        @m3takl_en    1\n",
       "14        @abangriza    1\n",
       "15       @infobekasi    1\n",
       "16      @boazsolossa    1\n",
       "17       @_KingPurwa    1\n",
       "18          @regureg    1\n",
       "19     @Dwinamasayaa    1\n",
       "20            @sbotv    1\n",
       "21         @kaesangp    1\n",
       "22         @HRimanti    1\n",
       "23      @WallnerAndi    1\n",
       "24      @lambe_turah    1\n",
       "25      @kemenkopukm    1\n",
       "26  @warung_jurnalis    1\n",
       "27  @FerdinandHaean3    1\n",
       "28      @tirta_hudhi    1\n",
       "29  @kontributorjaka    1\n",
       "30    @firdzaradiany    1\n",
       "31         @ganangsy    1\n",
       "32        @tyonarie2    1\n",
       "33     @MushinAshin3    1\n",
       "34         @yasshh19    1\n",
       "35        @rizqiawal    1\n",
       "36  @cositadelanoche    1\n",
       "37          @prastow    1\n",
       "38           @KPK_RI    1\n",
       "39  @pahlawandigital    1\n",
       "40     @txtdaribogor    1\n",
       "41    @putri_tanjung    1\n",
       "42      @txtdaripooh    1"
      ]
     },
     "execution_count": 67,
     "metadata": {},
     "output_type": "execute_result"
    }
   ],
   "source": [
    "twt_dict = {}\n",
    "for j in twitter:\n",
    "    if j not in twt_dict.keys():\n",
    "        twt_dict[j] = 1\n",
    "    else:\n",
    "        twt_dict[j] = twt_dict[j] + 1\n",
    "            \n",
    "twt_fix = pd.DataFrame(list(twt_dict.items()),columns = ['Akun Twitter','Sum'])\n",
    "sorted_twt_fix = twt_fix.sort_values(by='Sum', ascending=False)\n",
    "sorted_twt_fix.reset_index(inplace = True, drop = True)\n",
    "sorted_twt_fix"
   ]
  },
  {
   "cell_type": "markdown",
   "id": "august-disability",
   "metadata": {
    "id": "august-disability"
   },
   "source": [
    "# Tokenization"
   ]
  },
  {
   "cell_type": "markdown",
   "id": "1e1716f6",
   "metadata": {},
   "source": [
    "Pada section ini akan dilakukan tokenisasi dari data korpus singkat bagian konten."
   ]
  },
  {
   "cell_type": "code",
   "execution_count": null,
   "id": "fourth-communication",
   "metadata": {
    "colab": {
     "base_uri": "https://localhost:8080/",
     "height": 819
    },
    "executionInfo": {
     "elapsed": 64,
     "status": "ok",
     "timestamp": 1633355376548,
     "user": {
      "displayName": "Naufal Hilmi",
      "photoUrl": "https://lh3.googleusercontent.com/a-/AOh14Gj7UB8yAHzIcK8gtuCV9hf44dCQUmF8XqLkQI3C=s64",
      "userId": "02567910694508979199"
     },
     "user_tz": -420
    },
    "id": "fourth-communication",
    "outputId": "52adc523-dbc9-4b5a-cbfa-ebdfae81eec9",
    "scrolled": false
   },
   "outputs": [
    {
     "data": {
      "text/html": [
       "<div>\n",
       "<style scoped>\n",
       "    .dataframe tbody tr th:only-of-type {\n",
       "        vertical-align: middle;\n",
       "    }\n",
       "\n",
       "    .dataframe tbody tr th {\n",
       "        vertical-align: top;\n",
       "    }\n",
       "\n",
       "    .dataframe thead th {\n",
       "        text-align: right;\n",
       "    }\n",
       "</style>\n",
       "<table border=\"1\" class=\"dataframe\">\n",
       "  <thead>\n",
       "    <tr style=\"text-align: right;\">\n",
       "      <th></th>\n",
       "      <th>id</th>\n",
       "      <th>content</th>\n",
       "    </tr>\n",
       "  </thead>\n",
       "  <tbody>\n",
       "    <tr>\n",
       "      <th>0</th>\n",
       "      <td>0</td>\n",
       "      <td>MotoGP 2020akan memasuki seri ketujuh yang ber...</td>\n",
       "    </tr>\n",
       "    <tr>\n",
       "      <th>1</th>\n",
       "      <td>1</td>\n",
       "      <td>Pemerintah Provinsi DKI Jakarta menutup sement...</td>\n",
       "    </tr>\n",
       "    <tr>\n",
       "      <th>2</th>\n",
       "      <td>2</td>\n",
       "      <td>Ketua Komisi Pemilihan Umum (KPU)Arief Budiman...</td>\n",
       "    </tr>\n",
       "    <tr>\n",
       "      <th>3</th>\n",
       "      <td>3</td>\n",
       "      <td>Helikopter milik PT National Utility Helicopte...</td>\n",
       "    </tr>\n",
       "    <tr>\n",
       "      <th>4</th>\n",
       "      <td>4</td>\n",
       "      <td>Presiden Amerika Serikat Donald Trump dipastik...</td>\n",
       "    </tr>\n",
       "    <tr>\n",
       "      <th>5</th>\n",
       "      <td>5</td>\n",
       "      <td>Indihome menjawab tuduhan pencurian riwayat pe...</td>\n",
       "    </tr>\n",
       "    <tr>\n",
       "      <th>6</th>\n",
       "      <td>6</td>\n",
       "      <td>Winger Timnas Indonesia U-19Mochammad Supriadi...</td>\n",
       "    </tr>\n",
       "    <tr>\n",
       "      <th>7</th>\n",
       "      <td>7</td>\n",
       "      <td>Serial She-Hulk yang produksi layanan streamin...</td>\n",
       "    </tr>\n",
       "    <tr>\n",
       "      <th>8</th>\n",
       "      <td>8</td>\n",
       "      <td>Usulan penundaan Pilkada Serentak 2020 yang me...</td>\n",
       "    </tr>\n",
       "    <tr>\n",
       "      <th>9</th>\n",
       "      <td>9</td>\n",
       "      <td>Pemerintah membebaskan pajak pertambahan nilai...</td>\n",
       "    </tr>\n",
       "    <tr>\n",
       "      <th>10</th>\n",
       "      <td>10</td>\n",
       "      <td>Menteri Kesehatan Terawan Agus Putranto menyeb...</td>\n",
       "    </tr>\n",
       "    <tr>\n",
       "      <th>11</th>\n",
       "      <td>11</td>\n",
       "      <td>Candyman karya Nia DaCosta batal meramaikan Ha...</td>\n",
       "    </tr>\n",
       "    <tr>\n",
       "      <th>12</th>\n",
       "      <td>12</td>\n",
       "      <td>Menteri Kesehatan Terawan Agus Putranto mengkl...</td>\n",
       "    </tr>\n",
       "    <tr>\n",
       "      <th>13</th>\n",
       "      <td>13</td>\n",
       "      <td>Ketua Forum Warga Kota Jakarta Azas Tigor Nain...</td>\n",
       "    </tr>\n",
       "    <tr>\n",
       "      <th>14</th>\n",
       "      <td>14</td>\n",
       "      <td>Badan Intelijen Negara (BIN) memperagakan atra...</td>\n",
       "    </tr>\n",
       "    <tr>\n",
       "      <th>15</th>\n",
       "      <td>15</td>\n",
       "      <td>Gubernur DKI Jakarta, Anies Baswedan kembali m...</td>\n",
       "    </tr>\n",
       "    <tr>\n",
       "      <th>16</th>\n",
       "      <td>16</td>\n",
       "      <td>Menteri Perdagangan Agus Suparmanto menegaskan...</td>\n",
       "    </tr>\n",
       "    <tr>\n",
       "      <th>17</th>\n",
       "      <td>17</td>\n",
       "      <td>Ketua Satuan Tugas Kesiapsiagaan Covid-19 Ikat...</td>\n",
       "    </tr>\n",
       "    <tr>\n",
       "      <th>18</th>\n",
       "      <td>18</td>\n",
       "      <td>Gubernur DKI Jakarta Anies Baswedan menyatakan...</td>\n",
       "    </tr>\n",
       "    <tr>\n",
       "      <th>19</th>\n",
       "      <td>19</td>\n",
       "      <td>Bakal Calon Wakil Wali Kota Tangerang Selatan,...</td>\n",
       "    </tr>\n",
       "    <tr>\n",
       "      <th>20</th>\n",
       "      <td>20</td>\n",
       "      <td>BPJS Ketenagakerjaan menyerahkan data tambahan...</td>\n",
       "    </tr>\n",
       "    <tr>\n",
       "      <th>21</th>\n",
       "      <td>21</td>\n",
       "      <td>Pengguna WhatsApp di dunia melaporkan rentetan...</td>\n",
       "    </tr>\n",
       "    <tr>\n",
       "      <th>22</th>\n",
       "      <td>22</td>\n",
       "      <td>Pelatih Barcelona Ronald Koeman menuntut komit...</td>\n",
       "    </tr>\n",
       "    <tr>\n",
       "      <th>23</th>\n",
       "      <td>23</td>\n",
       "      <td>Sebagian fraksi dalam rapat paripurna DPRD ber...</td>\n",
       "    </tr>\n",
       "    <tr>\n",
       "      <th>24</th>\n",
       "      <td>24</td>\n",
       "      <td>Khotbah Jumat oleh Imam Masjidil Haram, Abdulr...</td>\n",
       "    </tr>\n",
       "  </tbody>\n",
       "</table>\n",
       "</div>"
      ],
      "text/plain": [
       "    id                                            content\n",
       "0    0  MotoGP 2020akan memasuki seri ketujuh yang ber...\n",
       "1    1  Pemerintah Provinsi DKI Jakarta menutup sement...\n",
       "2    2  Ketua Komisi Pemilihan Umum (KPU)Arief Budiman...\n",
       "3    3  Helikopter milik PT National Utility Helicopte...\n",
       "4    4  Presiden Amerika Serikat Donald Trump dipastik...\n",
       "5    5  Indihome menjawab tuduhan pencurian riwayat pe...\n",
       "6    6  Winger Timnas Indonesia U-19Mochammad Supriadi...\n",
       "7    7  Serial She-Hulk yang produksi layanan streamin...\n",
       "8    8  Usulan penundaan Pilkada Serentak 2020 yang me...\n",
       "9    9  Pemerintah membebaskan pajak pertambahan nilai...\n",
       "10  10  Menteri Kesehatan Terawan Agus Putranto menyeb...\n",
       "11  11  Candyman karya Nia DaCosta batal meramaikan Ha...\n",
       "12  12  Menteri Kesehatan Terawan Agus Putranto mengkl...\n",
       "13  13  Ketua Forum Warga Kota Jakarta Azas Tigor Nain...\n",
       "14  14  Badan Intelijen Negara (BIN) memperagakan atra...\n",
       "15  15  Gubernur DKI Jakarta, Anies Baswedan kembali m...\n",
       "16  16  Menteri Perdagangan Agus Suparmanto menegaskan...\n",
       "17  17  Ketua Satuan Tugas Kesiapsiagaan Covid-19 Ikat...\n",
       "18  18  Gubernur DKI Jakarta Anies Baswedan menyatakan...\n",
       "19  19  Bakal Calon Wakil Wali Kota Tangerang Selatan,...\n",
       "20  20  BPJS Ketenagakerjaan menyerahkan data tambahan...\n",
       "21  21  Pengguna WhatsApp di dunia melaporkan rentetan...\n",
       "22  22  Pelatih Barcelona Ronald Koeman menuntut komit...\n",
       "23  23  Sebagian fraksi dalam rapat paripurna DPRD ber...\n",
       "24  24  Khotbah Jumat oleh Imam Masjidil Haram, Abdulr..."
      ]
     },
     "execution_count": 68,
     "metadata": {},
     "output_type": "execute_result"
    }
   ],
   "source": [
    "df_korpus_ringkas"
   ]
  },
  {
   "cell_type": "markdown",
   "id": "9ca8d60f",
   "metadata": {},
   "source": [
    "## Setup data untuk tokenisasi"
   ]
  },
  {
   "cell_type": "markdown",
   "id": "3Cm2m4LrN6nB",
   "metadata": {
    "id": "3Cm2m4LrN6nB"
   },
   "source": [
    "Melakukan lowercasing pada setiap data content."
   ]
  },
  {
   "cell_type": "code",
   "execution_count": null,
   "id": "equipped-statement",
   "metadata": {
    "colab": {
     "base_uri": "https://localhost:8080/"
    },
    "executionInfo": {
     "elapsed": 64,
     "status": "ok",
     "timestamp": 1633355376550,
     "user": {
      "displayName": "Naufal Hilmi",
      "photoUrl": "https://lh3.googleusercontent.com/a-/AOh14Gj7UB8yAHzIcK8gtuCV9hf44dCQUmF8XqLkQI3C=s64",
      "userId": "02567910694508979199"
     },
     "user_tz": -420
    },
    "id": "equipped-statement",
    "outputId": "fc953a7c-b012-49e1-948b-671891bfd206",
    "scrolled": false
   },
   "outputs": [
    {
     "data": {
      "text/html": [
       "<div>\n",
       "<style scoped>\n",
       "    .dataframe tbody tr th:only-of-type {\n",
       "        vertical-align: middle;\n",
       "    }\n",
       "\n",
       "    .dataframe tbody tr th {\n",
       "        vertical-align: top;\n",
       "    }\n",
       "\n",
       "    .dataframe thead th {\n",
       "        text-align: right;\n",
       "    }\n",
       "</style>\n",
       "<table border=\"1\" class=\"dataframe\">\n",
       "  <thead>\n",
       "    <tr style=\"text-align: right;\">\n",
       "      <th></th>\n",
       "      <th>id</th>\n",
       "      <th>content</th>\n",
       "    </tr>\n",
       "  </thead>\n",
       "  <tbody>\n",
       "    <tr>\n",
       "      <th>0</th>\n",
       "      <td>0</td>\n",
       "      <td>motogp 2020akan memasuki seri ketujuh yang ber...</td>\n",
       "    </tr>\n",
       "    <tr>\n",
       "      <th>1</th>\n",
       "      <td>1</td>\n",
       "      <td>pemerintah provinsi dki jakarta menutup sement...</td>\n",
       "    </tr>\n",
       "    <tr>\n",
       "      <th>2</th>\n",
       "      <td>2</td>\n",
       "      <td>ketua komisi pemilihan umum (kpu)arief budiman...</td>\n",
       "    </tr>\n",
       "    <tr>\n",
       "      <th>3</th>\n",
       "      <td>3</td>\n",
       "      <td>helikopter milik pt national utility helicopte...</td>\n",
       "    </tr>\n",
       "    <tr>\n",
       "      <th>4</th>\n",
       "      <td>4</td>\n",
       "      <td>presiden amerika serikat donald trump dipastik...</td>\n",
       "    </tr>\n",
       "    <tr>\n",
       "      <th>5</th>\n",
       "      <td>5</td>\n",
       "      <td>indihome menjawab tuduhan pencurian riwayat pe...</td>\n",
       "    </tr>\n",
       "    <tr>\n",
       "      <th>6</th>\n",
       "      <td>6</td>\n",
       "      <td>winger timnas indonesia u-19mochammad supriadi...</td>\n",
       "    </tr>\n",
       "    <tr>\n",
       "      <th>7</th>\n",
       "      <td>7</td>\n",
       "      <td>serial she-hulk yang produksi layanan streamin...</td>\n",
       "    </tr>\n",
       "    <tr>\n",
       "      <th>8</th>\n",
       "      <td>8</td>\n",
       "      <td>usulan penundaan pilkada serentak 2020 yang me...</td>\n",
       "    </tr>\n",
       "    <tr>\n",
       "      <th>9</th>\n",
       "      <td>9</td>\n",
       "      <td>pemerintah membebaskan pajak pertambahan nilai...</td>\n",
       "    </tr>\n",
       "    <tr>\n",
       "      <th>10</th>\n",
       "      <td>10</td>\n",
       "      <td>menteri kesehatan terawan agus putranto menyeb...</td>\n",
       "    </tr>\n",
       "    <tr>\n",
       "      <th>11</th>\n",
       "      <td>11</td>\n",
       "      <td>candyman karya nia dacosta batal meramaikan ha...</td>\n",
       "    </tr>\n",
       "    <tr>\n",
       "      <th>12</th>\n",
       "      <td>12</td>\n",
       "      <td>menteri kesehatan terawan agus putranto mengkl...</td>\n",
       "    </tr>\n",
       "    <tr>\n",
       "      <th>13</th>\n",
       "      <td>13</td>\n",
       "      <td>ketua forum warga kota jakarta azas tigor nain...</td>\n",
       "    </tr>\n",
       "    <tr>\n",
       "      <th>14</th>\n",
       "      <td>14</td>\n",
       "      <td>badan intelijen negara (bin) memperagakan atra...</td>\n",
       "    </tr>\n",
       "    <tr>\n",
       "      <th>15</th>\n",
       "      <td>15</td>\n",
       "      <td>gubernur dki jakarta, anies baswedan kembali m...</td>\n",
       "    </tr>\n",
       "    <tr>\n",
       "      <th>16</th>\n",
       "      <td>16</td>\n",
       "      <td>menteri perdagangan agus suparmanto menegaskan...</td>\n",
       "    </tr>\n",
       "    <tr>\n",
       "      <th>17</th>\n",
       "      <td>17</td>\n",
       "      <td>ketua satuan tugas kesiapsiagaan covid-19 ikat...</td>\n",
       "    </tr>\n",
       "    <tr>\n",
       "      <th>18</th>\n",
       "      <td>18</td>\n",
       "      <td>gubernur dki jakarta anies baswedan menyatakan...</td>\n",
       "    </tr>\n",
       "    <tr>\n",
       "      <th>19</th>\n",
       "      <td>19</td>\n",
       "      <td>bakal calon wakil wali kota tangerang selatan,...</td>\n",
       "    </tr>\n",
       "    <tr>\n",
       "      <th>20</th>\n",
       "      <td>20</td>\n",
       "      <td>bpjs ketenagakerjaan menyerahkan data tambahan...</td>\n",
       "    </tr>\n",
       "    <tr>\n",
       "      <th>21</th>\n",
       "      <td>21</td>\n",
       "      <td>pengguna whatsapp di dunia melaporkan rentetan...</td>\n",
       "    </tr>\n",
       "    <tr>\n",
       "      <th>22</th>\n",
       "      <td>22</td>\n",
       "      <td>pelatih barcelona ronald koeman menuntut komit...</td>\n",
       "    </tr>\n",
       "    <tr>\n",
       "      <th>23</th>\n",
       "      <td>23</td>\n",
       "      <td>sebagian fraksi dalam rapat paripurna dprd ber...</td>\n",
       "    </tr>\n",
       "    <tr>\n",
       "      <th>24</th>\n",
       "      <td>24</td>\n",
       "      <td>khotbah jumat oleh imam masjidil haram, abdulr...</td>\n",
       "    </tr>\n",
       "  </tbody>\n",
       "</table>\n",
       "</div>"
      ],
      "text/plain": [
       "    id                                            content\n",
       "0    0  motogp 2020akan memasuki seri ketujuh yang ber...\n",
       "1    1  pemerintah provinsi dki jakarta menutup sement...\n",
       "2    2  ketua komisi pemilihan umum (kpu)arief budiman...\n",
       "3    3  helikopter milik pt national utility helicopte...\n",
       "4    4  presiden amerika serikat donald trump dipastik...\n",
       "5    5  indihome menjawab tuduhan pencurian riwayat pe...\n",
       "6    6  winger timnas indonesia u-19mochammad supriadi...\n",
       "7    7  serial she-hulk yang produksi layanan streamin...\n",
       "8    8  usulan penundaan pilkada serentak 2020 yang me...\n",
       "9    9  pemerintah membebaskan pajak pertambahan nilai...\n",
       "10  10  menteri kesehatan terawan agus putranto menyeb...\n",
       "11  11  candyman karya nia dacosta batal meramaikan ha...\n",
       "12  12  menteri kesehatan terawan agus putranto mengkl...\n",
       "13  13  ketua forum warga kota jakarta azas tigor nain...\n",
       "14  14  badan intelijen negara (bin) memperagakan atra...\n",
       "15  15  gubernur dki jakarta, anies baswedan kembali m...\n",
       "16  16  menteri perdagangan agus suparmanto menegaskan...\n",
       "17  17  ketua satuan tugas kesiapsiagaan covid-19 ikat...\n",
       "18  18  gubernur dki jakarta anies baswedan menyatakan...\n",
       "19  19  bakal calon wakil wali kota tangerang selatan,...\n",
       "20  20  bpjs ketenagakerjaan menyerahkan data tambahan...\n",
       "21  21  pengguna whatsapp di dunia melaporkan rentetan...\n",
       "22  22  pelatih barcelona ronald koeman menuntut komit...\n",
       "23  23  sebagian fraksi dalam rapat paripurna dprd ber...\n",
       "24  24  khotbah jumat oleh imam masjidil haram, abdulr..."
      ]
     },
     "execution_count": 69,
     "metadata": {},
     "output_type": "execute_result"
    }
   ],
   "source": [
    "df_lower_kr = df_korpus_ringkas.copy()\n",
    "df_lower_kr['content'] = df_lower_kr['content'].str.lower()\n",
    "df_lower_kr"
   ]
  },
  {
   "cell_type": "markdown",
   "id": "MlsgBungN-Wu",
   "metadata": {
    "id": "MlsgBungN-Wu"
   },
   "source": [
    "Melakukan penghilangan extra space, angka, dan tanda baca pada setiap data content."
   ]
  },
  {
   "cell_type": "code",
   "execution_count": null,
   "id": "empty-manner",
   "metadata": {
    "colab": {
     "base_uri": "https://localhost:8080/",
     "height": 819
    },
    "executionInfo": {
     "elapsed": 64,
     "status": "ok",
     "timestamp": 1633355376551,
     "user": {
      "displayName": "Naufal Hilmi",
      "photoUrl": "https://lh3.googleusercontent.com/a-/AOh14Gj7UB8yAHzIcK8gtuCV9hf44dCQUmF8XqLkQI3C=s64",
      "userId": "02567910694508979199"
     },
     "user_tz": -420
    },
    "id": "empty-manner",
    "outputId": "4007f0d1-3bdf-4025-d7f0-460bf36c0ab2",
    "scrolled": false
   },
   "outputs": [
    {
     "data": {
      "text/html": [
       "<div>\n",
       "<style scoped>\n",
       "    .dataframe tbody tr th:only-of-type {\n",
       "        vertical-align: middle;\n",
       "    }\n",
       "\n",
       "    .dataframe tbody tr th {\n",
       "        vertical-align: top;\n",
       "    }\n",
       "\n",
       "    .dataframe thead th {\n",
       "        text-align: right;\n",
       "    }\n",
       "</style>\n",
       "<table border=\"1\" class=\"dataframe\">\n",
       "  <thead>\n",
       "    <tr style=\"text-align: right;\">\n",
       "      <th></th>\n",
       "      <th>id</th>\n",
       "      <th>content</th>\n",
       "    </tr>\n",
       "  </thead>\n",
       "  <tbody>\n",
       "    <tr>\n",
       "      <th>0</th>\n",
       "      <td>0</td>\n",
       "      <td>motogp akan memasuki seri ketujuh yang bertaju...</td>\n",
       "    </tr>\n",
       "    <tr>\n",
       "      <th>1</th>\n",
       "      <td>1</td>\n",
       "      <td>pemerintah provinsi dki jakarta menutup sement...</td>\n",
       "    </tr>\n",
       "    <tr>\n",
       "      <th>2</th>\n",
       "      <td>2</td>\n",
       "      <td>ketua komisi pemilihan umum kpuarief budimanme...</td>\n",
       "    </tr>\n",
       "    <tr>\n",
       "      <th>3</th>\n",
       "      <td>3</td>\n",
       "      <td>helikopter milik pt national utility helicopte...</td>\n",
       "    </tr>\n",
       "    <tr>\n",
       "      <th>4</th>\n",
       "      <td>4</td>\n",
       "      <td>presiden amerika serikat donald trump dipastik...</td>\n",
       "    </tr>\n",
       "    <tr>\n",
       "      <th>5</th>\n",
       "      <td>5</td>\n",
       "      <td>indihome menjawab tuduhan pencurian riwayat pe...</td>\n",
       "    </tr>\n",
       "    <tr>\n",
       "      <th>6</th>\n",
       "      <td>6</td>\n",
       "      <td>winger timnas indonesia umochammad supriadi ta...</td>\n",
       "    </tr>\n",
       "    <tr>\n",
       "      <th>7</th>\n",
       "      <td>7</td>\n",
       "      <td>serial shehulk yang produksi layanan streaming...</td>\n",
       "    </tr>\n",
       "    <tr>\n",
       "      <th>8</th>\n",
       "      <td>8</td>\n",
       "      <td>usulan penundaan pilkada serentak  yang mengua...</td>\n",
       "    </tr>\n",
       "    <tr>\n",
       "      <th>9</th>\n",
       "      <td>9</td>\n",
       "      <td>pemerintah membebaskan pajak pertambahan nilai...</td>\n",
       "    </tr>\n",
       "    <tr>\n",
       "      <th>10</th>\n",
       "      <td>10</td>\n",
       "      <td>menteri kesehatan terawan agus putranto menyeb...</td>\n",
       "    </tr>\n",
       "    <tr>\n",
       "      <th>11</th>\n",
       "      <td>11</td>\n",
       "      <td>candyman karya nia dacosta batal meramaikan ha...</td>\n",
       "    </tr>\n",
       "    <tr>\n",
       "      <th>12</th>\n",
       "      <td>12</td>\n",
       "      <td>menteri kesehatan terawan agus putranto mengkl...</td>\n",
       "    </tr>\n",
       "    <tr>\n",
       "      <th>13</th>\n",
       "      <td>13</td>\n",
       "      <td>ketua forum warga kota jakarta azas tigor nain...</td>\n",
       "    </tr>\n",
       "    <tr>\n",
       "      <th>14</th>\n",
       "      <td>14</td>\n",
       "      <td>badan intelijen negara bin memperagakan atraks...</td>\n",
       "    </tr>\n",
       "    <tr>\n",
       "      <th>15</th>\n",
       "      <td>15</td>\n",
       "      <td>gubernur dki jakarta anies baswedan kembali me...</td>\n",
       "    </tr>\n",
       "    <tr>\n",
       "      <th>16</th>\n",
       "      <td>16</td>\n",
       "      <td>menteri perdagangan agus suparmanto menegaskan...</td>\n",
       "    </tr>\n",
       "    <tr>\n",
       "      <th>17</th>\n",
       "      <td>17</td>\n",
       "      <td>ketua satuan tugas kesiapsiagaan covid ikatan ...</td>\n",
       "    </tr>\n",
       "    <tr>\n",
       "      <th>18</th>\n",
       "      <td>18</td>\n",
       "      <td>gubernur dki jakarta anies baswedan menyatakan...</td>\n",
       "    </tr>\n",
       "    <tr>\n",
       "      <th>19</th>\n",
       "      <td>19</td>\n",
       "      <td>bakal calon wakil wali kota tangerang selatan ...</td>\n",
       "    </tr>\n",
       "    <tr>\n",
       "      <th>20</th>\n",
       "      <td>20</td>\n",
       "      <td>bpjs ketenagakerjaan menyerahkan data tambahan...</td>\n",
       "    </tr>\n",
       "    <tr>\n",
       "      <th>21</th>\n",
       "      <td>21</td>\n",
       "      <td>pengguna whatsapp di dunia melaporkan rentetan...</td>\n",
       "    </tr>\n",
       "    <tr>\n",
       "      <th>22</th>\n",
       "      <td>22</td>\n",
       "      <td>pelatih barcelona ronald koeman menuntut komit...</td>\n",
       "    </tr>\n",
       "    <tr>\n",
       "      <th>23</th>\n",
       "      <td>23</td>\n",
       "      <td>sebagian fraksi dalam rapat paripurna dprd ber...</td>\n",
       "    </tr>\n",
       "    <tr>\n",
       "      <th>24</th>\n",
       "      <td>24</td>\n",
       "      <td>khotbah jumat oleh imam masjidil haram abdulra...</td>\n",
       "    </tr>\n",
       "  </tbody>\n",
       "</table>\n",
       "</div>"
      ],
      "text/plain": [
       "    id                                            content\n",
       "0    0  motogp akan memasuki seri ketujuh yang bertaju...\n",
       "1    1  pemerintah provinsi dki jakarta menutup sement...\n",
       "2    2  ketua komisi pemilihan umum kpuarief budimanme...\n",
       "3    3  helikopter milik pt national utility helicopte...\n",
       "4    4  presiden amerika serikat donald trump dipastik...\n",
       "5    5  indihome menjawab tuduhan pencurian riwayat pe...\n",
       "6    6  winger timnas indonesia umochammad supriadi ta...\n",
       "7    7  serial shehulk yang produksi layanan streaming...\n",
       "8    8  usulan penundaan pilkada serentak  yang mengua...\n",
       "9    9  pemerintah membebaskan pajak pertambahan nilai...\n",
       "10  10  menteri kesehatan terawan agus putranto menyeb...\n",
       "11  11  candyman karya nia dacosta batal meramaikan ha...\n",
       "12  12  menteri kesehatan terawan agus putranto mengkl...\n",
       "13  13  ketua forum warga kota jakarta azas tigor nain...\n",
       "14  14  badan intelijen negara bin memperagakan atraks...\n",
       "15  15  gubernur dki jakarta anies baswedan kembali me...\n",
       "16  16  menteri perdagangan agus suparmanto menegaskan...\n",
       "17  17  ketua satuan tugas kesiapsiagaan covid ikatan ...\n",
       "18  18  gubernur dki jakarta anies baswedan menyatakan...\n",
       "19  19  bakal calon wakil wali kota tangerang selatan ...\n",
       "20  20  bpjs ketenagakerjaan menyerahkan data tambahan...\n",
       "21  21  pengguna whatsapp di dunia melaporkan rentetan...\n",
       "22  22  pelatih barcelona ronald koeman menuntut komit...\n",
       "23  23  sebagian fraksi dalam rapat paripurna dprd ber...\n",
       "24  24  khotbah jumat oleh imam masjidil haram abdulra..."
      ]
     },
     "execution_count": 70,
     "metadata": {},
     "output_type": "execute_result"
    }
   ],
   "source": [
    "df_lower_kr['content'] = df_lower_kr['content'].str.replace('\\s+', ' ')\n",
    "df_lower_kr['content'] = df_lower_kr['content'].str.replace('\\d+', '')\n",
    "df_lower_kr['content'] = df_lower_kr['content'].str.replace('[^\\w\\s]','')\n",
    "df_lower_kr"
   ]
  },
  {
   "cell_type": "markdown",
   "id": "defined-focus",
   "metadata": {
    "id": "defined-focus"
   },
   "source": [
    "## Proses tokenisasi"
   ]
  },
  {
   "cell_type": "markdown",
   "id": "WJFUcZ2fOKMV",
   "metadata": {
    "id": "WJFUcZ2fOKMV"
   },
   "source": [
    "Melakukan tokenisasi pada data yang sudah diolah."
   ]
  },
  {
   "cell_type": "code",
   "execution_count": null,
   "id": "fresh-black",
   "metadata": {
    "colab": {
     "base_uri": "https://localhost:8080/"
    },
    "executionInfo": {
     "elapsed": 63,
     "status": "ok",
     "timestamp": 1633355376552,
     "user": {
      "displayName": "Naufal Hilmi",
      "photoUrl": "https://lh3.googleusercontent.com/a-/AOh14Gj7UB8yAHzIcK8gtuCV9hf44dCQUmF8XqLkQI3C=s64",
      "userId": "02567910694508979199"
     },
     "user_tz": -420
    },
    "id": "fresh-black",
    "outputId": "07c4feda-458b-4c2c-ac85-4a8d0a08e421"
   },
   "outputs": [
    {
     "data": {
      "text/plain": [
       "0    [motogp, akan, memasuki, seri, ketujuh, yang, ...\n",
       "1    [pemerintah, provinsi, dki, jakarta, menutup, ...\n",
       "2    [ketua, komisi, pemilihan, umum, kpuarief, bud...\n",
       "3    [helikopter, milik, pt, national, utility, hel...\n",
       "4    [presiden, amerika, serikat, donald, trump, di...\n",
       "Name: content, dtype: object"
      ]
     },
     "execution_count": 71,
     "metadata": {},
     "output_type": "execute_result"
    }
   ],
   "source": [
    "lower_kr_tokenize = df_lower_kr['content'].apply(nltk.word_tokenize)\n",
    "lower_kr_tokenize.head(5)"
   ]
  },
  {
   "cell_type": "markdown",
   "id": "defensive-arbitration",
   "metadata": {
    "id": "defensive-arbitration"
   },
   "source": [
    "## Penghilangan kata stopwords dari hasil tokenisasi"
   ]
  },
  {
   "cell_type": "markdown",
   "id": "bf4edfd7",
   "metadata": {},
   "source": [
    "Jumlah kata yang sudah di tokenisasi"
   ]
  },
  {
   "cell_type": "code",
   "execution_count": null,
   "id": "settled-child",
   "metadata": {
    "colab": {
     "base_uri": "https://localhost:8080/"
    },
    "executionInfo": {
     "elapsed": 60,
     "status": "ok",
     "timestamp": 1633355376554,
     "user": {
      "displayName": "Naufal Hilmi",
      "photoUrl": "https://lh3.googleusercontent.com/a-/AOh14Gj7UB8yAHzIcK8gtuCV9hf44dCQUmF8XqLkQI3C=s64",
      "userId": "02567910694508979199"
     },
     "user_tz": -420
    },
    "id": "settled-child",
    "outputId": "d5e1c23b-af2e-43f4-8fdf-9c296fa55c53"
   },
   "outputs": [
    {
     "data": {
      "text/plain": [
       "2290"
      ]
     },
     "execution_count": 73,
     "metadata": {},
     "output_type": "execute_result"
    }
   ],
   "source": [
    "lower_kr_set = set()\n",
    "for i in lower_kr_tokenize:\n",
    "    for j in i:\n",
    "        lower_kr_set.add(j)\n",
    "len(lower_kr_set)"
   ]
  },
  {
   "cell_type": "code",
   "execution_count": null,
   "id": "domestic-analyst",
   "metadata": {
    "colab": {
     "base_uri": "https://localhost:8080/"
    },
    "executionInfo": {
     "elapsed": 58,
     "status": "ok",
     "timestamp": 1633355376555,
     "user": {
      "displayName": "Naufal Hilmi",
      "photoUrl": "https://lh3.googleusercontent.com/a-/AOh14Gj7UB8yAHzIcK8gtuCV9hf44dCQUmF8XqLkQI3C=s64",
      "userId": "02567910694508979199"
     },
     "user_tz": -420
    },
    "id": "domestic-analyst",
    "outputId": "d2b4889b-de7e-411f-cded-a6837974515c",
    "scrolled": false
   },
   "outputs": [
    {
     "name": "stdout",
     "output_type": "stream",
     "text": [
      "[nltk_data] Downloading package stopwords to /root/nltk_data...\n",
      "[nltk_data]   Unzipping corpora/stopwords.zip.\n"
     ]
    },
    {
     "data": {
      "text/plain": [
       "True"
      ]
     },
     "execution_count": 74,
     "metadata": {},
     "output_type": "execute_result"
    }
   ],
   "source": [
    "nltk.download('stopwords')"
   ]
  },
  {
   "cell_type": "markdown",
   "id": "l1UYq1iNOUrK",
   "metadata": {
    "id": "l1UYq1iNOUrK"
   },
   "source": [
    "Melakukan pengecekan apakah dalam hasil tokenisasi terdapat kata yang terdapat pada stopwords nltk. Terdapat 341 data yang merupakan stopwords."
   ]
  },
  {
   "cell_type": "code",
   "execution_count": null,
   "id": "established-racing",
   "metadata": {
    "colab": {
     "base_uri": "https://localhost:8080/"
    },
    "executionInfo": {
     "elapsed": 55,
     "status": "ok",
     "timestamp": 1633355376556,
     "user": {
      "displayName": "Naufal Hilmi",
      "photoUrl": "https://lh3.googleusercontent.com/a-/AOh14Gj7UB8yAHzIcK8gtuCV9hf44dCQUmF8XqLkQI3C=s64",
      "userId": "02567910694508979199"
     },
     "user_tz": -420
    },
    "id": "established-racing",
    "outputId": "18684910-21c1-497f-96ce-ab24cb56af43",
    "scrolled": false
   },
   "outputs": [
    {
     "data": {
      "text/plain": [
       "341"
      ]
     },
     "execution_count": 75,
     "metadata": {},
     "output_type": "execute_result"
    }
   ],
   "source": [
    "stopword_nltk = stopwords.words('indonesian')\n",
    "stopwords_korpus = list(lower_kr_set & set(stopword_nltk))\n",
    "len(stopwords_korpus)"
   ]
  },
  {
   "cell_type": "markdown",
   "id": "aFQZiX10OrRw",
   "metadata": {
    "id": "aFQZiX10OrRw"
   },
   "source": [
    "Melakukan penghapusan stopwords pada hasil tokenisasi awal."
   ]
  },
  {
   "cell_type": "code",
   "execution_count": null,
   "id": "stuck-customs",
   "metadata": {
    "id": "stuck-customs"
   },
   "outputs": [],
   "source": [
    "for i in stopwords_korpus:\n",
    "    lower_kr_set.remove(i)"
   ]
  },
  {
   "cell_type": "code",
   "execution_count": null,
   "id": "prospective-smile",
   "metadata": {
    "colab": {
     "base_uri": "https://localhost:8080/"
    },
    "executionInfo": {
     "elapsed": 53,
     "status": "ok",
     "timestamp": 1633355376558,
     "user": {
      "displayName": "Naufal Hilmi",
      "photoUrl": "https://lh3.googleusercontent.com/a-/AOh14Gj7UB8yAHzIcK8gtuCV9hf44dCQUmF8XqLkQI3C=s64",
      "userId": "02567910694508979199"
     },
     "user_tz": -420
    },
    "id": "prospective-smile",
    "outputId": "5f1d763c-6bb8-4f21-dc2f-535de3fb8a48"
   },
   "outputs": [
    {
     "data": {
      "text/plain": [
       "1949"
      ]
     },
     "execution_count": 77,
     "metadata": {},
     "output_type": "execute_result"
    }
   ],
   "source": [
    "len(lower_kr_set)"
   ]
  },
  {
   "cell_type": "markdown",
   "id": "decreased-second",
   "metadata": {
    "id": "decreased-second"
   },
   "source": [
    "# Stemming dan Lemmatization"
   ]
  },
  {
   "cell_type": "markdown",
   "id": "distant-ethernet",
   "metadata": {
    "id": "distant-ethernet"
   },
   "source": [
    "## Proses Stemming"
   ]
  },
  {
   "cell_type": "markdown",
   "id": "JZq4-X3aOzUe",
   "metadata": {
    "id": "JZq4-X3aOzUe"
   },
   "source": [
    "Melakukan stemming dengan library Sastrawi."
   ]
  },
  {
   "cell_type": "code",
   "execution_count": null,
   "id": "touched-blink",
   "metadata": {
    "id": "touched-blink"
   },
   "outputs": [],
   "source": [
    "factory = StemmerFactory()\n",
    "stemmer = factory.create_stemmer()"
   ]
  },
  {
   "cell_type": "code",
   "execution_count": null,
   "id": "adapted-moscow",
   "metadata": {
    "id": "adapted-moscow",
    "scrolled": true
   },
   "outputs": [],
   "source": [
    "after_stem = []\n",
    "for i in lower_kr_set:\n",
    "    after_stem.append(stemmer.stem(i))"
   ]
  },
  {
   "cell_type": "markdown",
   "id": "gehpK2BfPbxc",
   "metadata": {
    "id": "gehpK2BfPbxc"
   },
   "source": [
    "Melakukan pemetaan data sebelum stemming dengan data sesudah stemming."
   ]
  },
  {
   "cell_type": "code",
   "execution_count": null,
   "id": "described-lingerie",
   "metadata": {
    "colab": {
     "base_uri": "https://localhost:8080/",
     "height": 203
    },
    "executionInfo": {
     "elapsed": 15,
     "status": "ok",
     "timestamp": 1633355377035,
     "user": {
      "displayName": "Naufal Hilmi",
      "photoUrl": "https://lh3.googleusercontent.com/a-/AOh14Gj7UB8yAHzIcK8gtuCV9hf44dCQUmF8XqLkQI3C=s64",
      "userId": "02567910694508979199"
     },
     "user_tz": -420
    },
    "id": "described-lingerie",
    "outputId": "6ffd993a-5ceb-4c5e-b21f-2fc14f287da0",
    "scrolled": false
   },
   "outputs": [
    {
     "data": {
      "text/html": [
       "<div>\n",
       "<style scoped>\n",
       "    .dataframe tbody tr th:only-of-type {\n",
       "        vertical-align: middle;\n",
       "    }\n",
       "\n",
       "    .dataframe tbody tr th {\n",
       "        vertical-align: top;\n",
       "    }\n",
       "\n",
       "    .dataframe thead th {\n",
       "        text-align: right;\n",
       "    }\n",
       "</style>\n",
       "<table border=\"1\" class=\"dataframe\">\n",
       "  <thead>\n",
       "    <tr style=\"text-align: right;\">\n",
       "      <th></th>\n",
       "      <th>Before Stem</th>\n",
       "      <th>After Stem</th>\n",
       "    </tr>\n",
       "  </thead>\n",
       "  <tbody>\n",
       "    <tr>\n",
       "      <th>0</th>\n",
       "      <td>webinar</td>\n",
       "      <td>webinar</td>\n",
       "    </tr>\n",
       "    <tr>\n",
       "      <th>1</th>\n",
       "      <td>bambangsoesatyo</td>\n",
       "      <td>bambangsoesatyo</td>\n",
       "    </tr>\n",
       "    <tr>\n",
       "      <th>2</th>\n",
       "      <td>coiro</td>\n",
       "      <td>coiro</td>\n",
       "    </tr>\n",
       "    <tr>\n",
       "      <th>3</th>\n",
       "      <td>random</td>\n",
       "      <td>random</td>\n",
       "    </tr>\n",
       "    <tr>\n",
       "      <th>4</th>\n",
       "      <td>konferensi</td>\n",
       "      <td>konferensi</td>\n",
       "    </tr>\n",
       "  </tbody>\n",
       "</table>\n",
       "</div>"
      ],
      "text/plain": [
       "       Before Stem       After Stem\n",
       "0          webinar          webinar\n",
       "1  bambangsoesatyo  bambangsoesatyo\n",
       "2            coiro            coiro\n",
       "3           random           random\n",
       "4       konferensi       konferensi"
      ]
     },
     "execution_count": 80,
     "metadata": {},
     "output_type": "execute_result"
    }
   ],
   "source": [
    "tmp = {'Before Stem':list(lower_kr_set),'After Stem':after_stem}\n",
    "compare = pd.DataFrame(tmp)\n",
    "compare.head(5)"
   ]
  },
  {
   "cell_type": "markdown",
   "id": "indie-omega",
   "metadata": {
    "id": "indie-omega"
   },
   "source": [
    "## Proses Lemmatization"
   ]
  },
  {
   "cell_type": "markdown",
   "id": "3I4oFhjWPgYR",
   "metadata": {
    "id": "3I4oFhjWPgYR"
   },
   "source": [
    "Melakukan lemmatization menggunakan library stanza."
   ]
  },
  {
   "cell_type": "code",
   "execution_count": null,
   "id": "chicken-capacity",
   "metadata": {
    "colab": {
     "base_uri": "https://localhost:8080/",
     "height": 652,
     "referenced_widgets": [
      "7e3f1a86d4c04659a1a3384ebec14d67",
      "c34c1edafef14580806da6c6769e5425",
      "672452409d1f43acb9f1c1f38f9a1baf",
      "a9e3d889116046bba9341c4b5c06cb24",
      "09a72f634ee243a0b9a9faa3f57722b7",
      "7665e9981ffd4c51b9aa3551587423ce",
      "9de7afc323f3427392c47b4e8638707c",
      "f7e0026fe46746b9913624c58ba28bb4",
      "7ccfec8d4de445eb8571dfe0f30a559e",
      "43dc93f642a343c78797a7ef306a08cd",
      "9a1373e8992f4d5f996e8067b8db745e",
      "ad8843875f104fc6a2e68cdca7fb76a7",
      "d68bd86146ea42a5a82f74e7193b8be4",
      "ec5f15a8cc61488b80e23f0d4cd69e5d",
      "6d607ffb35744d918e39a7009501055d",
      "a7d85e742171407f97c45f6acbe1d523",
      "737ca22ce9704b42b536abd901156619",
      "1c9c65752cbc436e9ddbd90068d27bba",
      "4838ad2d412445d399958679611d1468",
      "699de4319c234503b21e227a8b389f0e",
      "4fc37baa89f14765ae1affe9d02dc26f",
      "8d7c09f053654e2ab1a1be9bd56ec1c8",
      "0c8d5944ce604a33ae0198bd441802f8",
      "e2b632ebca274eb3959ea7c83e5ec6a6",
      "a83dc88893d44ea0bd5cf9a10162c008",
      "02b7ff8eed9c4937b8c4908a786ac0e1",
      "9a7dc96217e54074a5876e570e6b2576",
      "ccf6ad4415fb4a21a1a7cfa783e94c77",
      "880d7fb737444ea99768fa24da5e4298",
      "152bfcabb5e24f2b8a8634872a3279f9",
      "020daaf8871b4de4abb7c0c9ffe1b044",
      "f9e17fcb40294e18bc66551987f5c2f0",
      "d20ca5b1157445e5b3348337801d8b39",
      "450a7a36b6654e03a76ed0fef56f4c4e",
      "570c363b08d646d4b8a1f06117afead0",
      "e1c7886f4f414aaeb0b671ccaad4a0b5",
      "9b98047f0c4d4d1e8906a914e419a597",
      "d57d6a8fc4ec4d4b8164cef62c913cbf",
      "497f76dda3e247599bcd48466a5f5269",
      "28c91c4165904762b5dc831d9ef7466f",
      "dab50e60081b4c90b917021505c93eaf",
      "3d7232f92def434e8d5aca795b840502",
      "0b6a1d858e8345bcac5d6aaf58e59f38",
      "c063e93c7dec4ab3a6bcd859d50f2715",
      "4bdc3abe31e542c5a978f7e9cc486a47",
      "d65514ee293f45a8af9c3cb5478a37bf",
      "55f749eaba6d4f21b1ad80077b591315",
      "9fc3bf04c0f145048594bab0c65e6d82",
      "ce5849a961f74d1f962a41868d82382b",
      "becfc70aa1dc403ea98525797dc130da",
      "b24ce2b27f384c6cb0977e673911fb47",
      "8da73efd493b474880af7fed38139e84",
      "647af8c14def420baf18ec57f1700745",
      "ee8be46a350b42d687ae6a5f26eafbc6",
      "6f5209a4f1744687972ed8809372cb79"
     ]
    },
    "executionInfo": {
     "elapsed": 18861,
     "status": "ok",
     "timestamp": 1633355395883,
     "user": {
      "displayName": "Naufal Hilmi",
      "photoUrl": "https://lh3.googleusercontent.com/a-/AOh14Gj7UB8yAHzIcK8gtuCV9hf44dCQUmF8XqLkQI3C=s64",
      "userId": "02567910694508979199"
     },
     "user_tz": -420
    },
    "id": "chicken-capacity",
    "outputId": "96649786-2c60-4fef-8bb8-776f401a6cd1"
   },
   "outputs": [
    {
     "data": {
      "application/vnd.jupyter.widget-view+json": {
       "model_id": "7e3f1a86d4c04659a1a3384ebec14d67",
       "version_major": 2,
       "version_minor": 0
      },
      "text/plain": [
       "Downloading https://raw.githubusercontent.com/stanfordnlp/stanza-resources/main/resources_1.2.2.json:   0%|   …"
      ]
     },
     "metadata": {},
     "output_type": "display_data"
    },
    {
     "name": "stderr",
     "output_type": "stream",
     "text": [
      "2021-10-04 13:49:36 WARNING: Can not find mwt: default from official model list. Ignoring it.\n",
      "2021-10-04 13:49:36 INFO: Downloading these customized packages for language: id (Indonesian)...\n",
      "=======================\n",
      "| Processor | Package |\n",
      "-----------------------\n",
      "| tokenize  | gsd     |\n",
      "| pos       | gsd     |\n",
      "| lemma     | gsd     |\n",
      "| pretrain  | gsd     |\n",
      "=======================\n",
      "\n"
     ]
    },
    {
     "data": {
      "application/vnd.jupyter.widget-view+json": {
       "model_id": "ad8843875f104fc6a2e68cdca7fb76a7",
       "version_major": 2,
       "version_minor": 0
      },
      "text/plain": [
       "Downloading http://nlp.stanford.edu/software/stanza/1.2.2/id/tokenize/gsd.pt:   0%|          | 0.00/656k [00:0…"
      ]
     },
     "metadata": {},
     "output_type": "display_data"
    },
    {
     "data": {
      "application/vnd.jupyter.widget-view+json": {
       "model_id": "0c8d5944ce604a33ae0198bd441802f8",
       "version_major": 2,
       "version_minor": 0
      },
      "text/plain": [
       "Downloading http://nlp.stanford.edu/software/stanza/1.2.2/id/pos/gsd.pt:   0%|          | 0.00/17.4M [00:00<?,…"
      ]
     },
     "metadata": {},
     "output_type": "display_data"
    },
    {
     "data": {
      "application/vnd.jupyter.widget-view+json": {
       "model_id": "450a7a36b6654e03a76ed0fef56f4c4e",
       "version_major": 2,
       "version_minor": 0
      },
      "text/plain": [
       "Downloading http://nlp.stanford.edu/software/stanza/1.2.2/id/lemma/gsd.pt:   0%|          | 0.00/3.50M [00:00<…"
      ]
     },
     "metadata": {},
     "output_type": "display_data"
    },
    {
     "data": {
      "application/vnd.jupyter.widget-view+json": {
       "model_id": "4bdc3abe31e542c5a978f7e9cc486a47",
       "version_major": 2,
       "version_minor": 0
      },
      "text/plain": [
       "Downloading http://nlp.stanford.edu/software/stanza/1.2.2/id/pretrain/gsd.pt:   0%|          | 0.00/107M [00:0…"
      ]
     },
     "metadata": {},
     "output_type": "display_data"
    },
    {
     "name": "stderr",
     "output_type": "stream",
     "text": [
      "2021-10-04 13:49:54 INFO: Finished downloading models and saved to /root/stanza_resources.\n",
      "2021-10-04 13:49:54 WARNING: Can not find mwt: default from official model list. Ignoring it.\n",
      "2021-10-04 13:49:54 INFO: Loading these models for language: id (Indonesian):\n",
      "=======================\n",
      "| Processor | Package |\n",
      "-----------------------\n",
      "| tokenize  | gsd     |\n",
      "| pos       | gsd     |\n",
      "| lemma     | gsd     |\n",
      "=======================\n",
      "\n",
      "2021-10-04 13:49:54 INFO: Use device: cpu\n",
      "2021-10-04 13:49:54 INFO: Loading: tokenize\n",
      "2021-10-04 13:49:54 INFO: Loading: pos\n",
      "2021-10-04 13:49:55 INFO: Loading: lemma\n",
      "2021-10-04 13:49:55 INFO: Done loading processors!\n"
     ]
    }
   ],
   "source": [
    "stanza.download(lang='id', processors='tokenize,mwt,pos,lemma')\n",
    "nlp = stanza.Pipeline(lang='id', processors='tokenize,mwt,pos,lemma')"
   ]
  },
  {
   "cell_type": "code",
   "execution_count": null,
   "id": "lyric-being",
   "metadata": {
    "id": "lyric-being"
   },
   "outputs": [],
   "source": [
    "after_lemma = []\n",
    "for i in lower_kr_set:\n",
    "    doc = nlp(i)\n",
    "    for sentence in doc.sentences:\n",
    "       for word in sentence.words:\n",
    "          after_lemma.append(word.lemma)"
   ]
  },
  {
   "cell_type": "markdown",
   "id": "KYaRxtXfPlwK",
   "metadata": {
    "id": "KYaRxtXfPlwK"
   },
   "source": [
    "Menunjukan 5 data yang udah dilakukan lemmatization."
   ]
  },
  {
   "cell_type": "code",
   "execution_count": null,
   "id": "7lkm4wock54T",
   "metadata": {
    "colab": {
     "base_uri": "https://localhost:8080/",
     "height": 203
    },
    "executionInfo": {
     "elapsed": 19,
     "status": "ok",
     "timestamp": 1633355432583,
     "user": {
      "displayName": "Naufal Hilmi",
      "photoUrl": "https://lh3.googleusercontent.com/a-/AOh14Gj7UB8yAHzIcK8gtuCV9hf44dCQUmF8XqLkQI3C=s64",
      "userId": "02567910694508979199"
     },
     "user_tz": -420
    },
    "id": "7lkm4wock54T",
    "outputId": "7c579a9d-ab7d-4e54-c0d9-29db4aed6643"
   },
   "outputs": [
    {
     "data": {
      "text/html": [
       "<div>\n",
       "<style scoped>\n",
       "    .dataframe tbody tr th:only-of-type {\n",
       "        vertical-align: middle;\n",
       "    }\n",
       "\n",
       "    .dataframe tbody tr th {\n",
       "        vertical-align: top;\n",
       "    }\n",
       "\n",
       "    .dataframe thead th {\n",
       "        text-align: right;\n",
       "    }\n",
       "</style>\n",
       "<table border=\"1\" class=\"dataframe\">\n",
       "  <thead>\n",
       "    <tr style=\"text-align: right;\">\n",
       "      <th></th>\n",
       "      <th>Hasil Lemma</th>\n",
       "    </tr>\n",
       "  </thead>\n",
       "  <tbody>\n",
       "    <tr>\n",
       "      <th>0</th>\n",
       "      <td>webinar</td>\n",
       "    </tr>\n",
       "    <tr>\n",
       "      <th>1</th>\n",
       "      <td>bambangsoesatyo</td>\n",
       "    </tr>\n",
       "    <tr>\n",
       "      <th>2</th>\n",
       "      <td>coiro</td>\n",
       "    </tr>\n",
       "    <tr>\n",
       "      <th>3</th>\n",
       "      <td>random</td>\n",
       "    </tr>\n",
       "    <tr>\n",
       "      <th>4</th>\n",
       "      <td>konferensi</td>\n",
       "    </tr>\n",
       "  </tbody>\n",
       "</table>\n",
       "</div>"
      ],
      "text/plain": [
       "       Hasil Lemma\n",
       "0          webinar\n",
       "1  bambangsoesatyo\n",
       "2            coiro\n",
       "3           random\n",
       "4       konferensi"
      ]
     },
     "execution_count": 83,
     "metadata": {},
     "output_type": "execute_result"
    }
   ],
   "source": [
    "tmp = {'Hasil Lemma':after_lemma}\n",
    "final_lemma = pd.DataFrame(tmp)\n",
    "final_lemma.head(5)"
   ]
  },
  {
   "cell_type": "markdown",
   "id": "mYbx6vFJvojy",
   "metadata": {
    "id": "mYbx6vFJvojy"
   },
   "source": [
    "## Penjelasan Stemming"
   ]
  },
  {
   "cell_type": "markdown",
   "id": "NpUljawXXZ_h",
   "metadata": {
    "id": "NpUljawXXZ_h"
   },
   "source": [
    "Stemming menggunakan library Sastrawi terhadap korpus berbahasa indonesia terdapat pola yaitu Stemming akan menghapus kata depan yaitu mem, per, di, kan atau menggantikan imbuhan men atau pen dengan huruf awal yang benar seperti menekankan menjadi tekan. Untuk kesempurnaan hasil, Sastrawi sudah cukup bagus dalam melakukan stemming terhadap token berbahasa indonesia dikarenakan Sastrawi sendiri sudah mengetahui prefix dan suffix apa yang dapat dihapus. Namun tentunya masih terdapat kesalahan pada stemming untuk beberapa kata, contohnya yaitu untuk kata \"Memperagakan\" dimana Sastrawi akan menghilangkan kata mem, per dan kan sehingga menyisakan kata aga yang seharusnya raga."
   ]
  },
  {
   "cell_type": "markdown",
   "id": "cBmglPycswLO",
   "metadata": {
    "id": "cBmglPycswLO"
   },
   "source": [
    "## Kekurangan Stemming"
   ]
  },
  {
   "cell_type": "markdown",
   "id": "NZ4XzK6ws3F0",
   "metadata": {
    "id": "NZ4XzK6ws3F0"
   },
   "source": [
    "Tentu saja salah satu kekurangan dari stemming adalah munculnya kata yang memiliki ambiguitas pada maknanya. Menurut saya hal ini dapat dilakukan dengan melihat dari hubungan kata tersebut dengan kata-kata yang ada pada kalimat tersebut, seperti contoh pada kata \"mengawani\" yang bisa mendapatkan dua hasil yaitu kata awan atau kata kawan. Dua kata terebut dapat di deteksi dengan dependency parsing apakah kata tersebut bersifat object (akan mengarah ke kata awan) atau subject (mengarah ke kata kawan). Hal ini juga akan berpengaruh terhadap pembentukan sistem IR yang dimana tentu saja kompleksitas akan bertambah dikarenakan adanya proses penentuan maksud dari kata dan juga peforma dari IR akan terdapat kasus dimana salah mengartikan maksud dari kata sebelum di stemming."
   ]
  },
  {
   "cell_type": "markdown",
   "id": "wGQVSCk97RUI",
   "metadata": {
    "id": "wGQVSCk97RUI"
   },
   "source": [
    "## Penggunaan Lemmatization"
   ]
  },
  {
   "cell_type": "markdown",
   "id": "D5g17O3s7Szo",
   "metadata": {
    "id": "D5g17O3s7Szo"
   },
   "source": [
    "Untuk penanganan korpus yang didominasi dengan kalimat berisikan kata tidak baku atau slang word, penggunaan lemmatization cenderung lebih baik dibanding stemming. Hal ini dikarenakan algoritma dari stemming akan memotong prefix serta suffix dari kata berimbuhan, namun pada kasus ejaan tidak baku biasanya tidak terdapat kata imbuhan sehingga dapat memotong dan menghasilkan kata yang tidak sesuai. Lemmatization cenderung lebih benar dikarenakan akan melakukan pengecekan terhadap kamus bahasa indonesia dan biasanya kata dengan ejaan tidak baku hampir mirip dengan kata baku, seperti contoh kata \"trus\" yang dekat dengan kata \"terus\" atau kata \"belom\" yang dekat dengan kata \"belum\". Sehingga menurut saya penggunaan lemmatization dapat memberikan manfaat pada korpus berisi kata yang di dominasi slang word."
   ]
  },
  {
   "cell_type": "markdown",
   "id": "r_JkKnD-DVZB",
   "metadata": {
    "id": "r_JkKnD-DVZB"
   },
   "source": [
    "## Kata Homofon, Homograf, dan Homonim"
   ]
  },
  {
   "cell_type": "markdown",
   "id": "3v1RCfSpDWmq",
   "metadata": {
    "id": "3v1RCfSpDWmq"
   },
   "source": [
    "Menurut saya untuk kata homofon dapat ditangani dengan lemmatization atau stemming dikarenakan susunan dari kata homofon berbeda sehingga dapat di deteksi sebagai dua kata berbeda dengan arti yang berbeda. Sedangkan untuk kata homograf dan homonim diperlukan proses tambahan dikarenakan susunan dari kata tersebut sama namun memiliki arti yang berbeda. Dapat dilakukan proses dependency parsing untuk melihat kata tersebut sebagai apa dalam suatu kalimat sehingga dapat ditentukan apa arti dari kata tersebut."
   ]
  }
 ],
 "metadata": {
  "colab": {
   "collapsed_sections": [
    "united-nomination",
    "above-position",
    "reported-appreciation",
    "existing-lodge",
    "amino-zoning",
    "remarkable-nigeria",
    "elect-magazine",
    "civic-delhi",
    "premier-excess",
    "veterinary-friend",
    "strange-lesbian",
    "generous-picture",
    "indie-arrest",
    "binary-calgary",
    "attached-concert",
    "defined-focus"
   ],
   "name": "Tugas1_1806186673_NaufalHilmiIrfandi.ipynb",
   "provenance": []
  },
  "kernelspec": {
   "display_name": "Python 3",
   "language": "python",
   "name": "python3"
  },
  "language_info": {
   "codemirror_mode": {
    "name": "ipython",
    "version": 3
   },
   "file_extension": ".py",
   "mimetype": "text/x-python",
   "name": "python",
   "nbconvert_exporter": "python",
   "pygments_lexer": "ipython3",
   "version": "3.13.5"
  },
  "widgets": {
   "application/vnd.jupyter.widget-state+json": {
    "020daaf8871b4de4abb7c0c9ffe1b044": {
     "model_module": "@jupyter-widgets/base",
     "model_module_version": "1.2.0",
     "model_name": "LayoutModel",
     "state": {
      "_model_module": "@jupyter-widgets/base",
      "_model_module_version": "1.2.0",
      "_model_name": "LayoutModel",
      "_view_count": null,
      "_view_module": "@jupyter-widgets/base",
      "_view_module_version": "1.2.0",
      "_view_name": "LayoutView",
      "align_content": null,
      "align_items": null,
      "align_self": null,
      "border": null,
      "bottom": null,
      "display": null,
      "flex": null,
      "flex_flow": null,
      "grid_area": null,
      "grid_auto_columns": null,
      "grid_auto_flow": null,
      "grid_auto_rows": null,
      "grid_column": null,
      "grid_gap": null,
      "grid_row": null,
      "grid_template_areas": null,
      "grid_template_columns": null,
      "grid_template_rows": null,
      "height": null,
      "justify_content": null,
      "justify_items": null,
      "left": null,
      "margin": null,
      "max_height": null,
      "max_width": null,
      "min_height": null,
      "min_width": null,
      "object_fit": null,
      "object_position": null,
      "order": null,
      "overflow": null,
      "overflow_x": null,
      "overflow_y": null,
      "padding": null,
      "right": null,
      "top": null,
      "visibility": null,
      "width": null
     }
    },
    "02b7ff8eed9c4937b8c4908a786ac0e1": {
     "model_module": "@jupyter-widgets/controls",
     "model_module_version": "1.5.0",
     "model_name": "FloatProgressModel",
     "state": {
      "_dom_classes": [],
      "_model_module": "@jupyter-widgets/controls",
      "_model_module_version": "1.5.0",
      "_model_name": "FloatProgressModel",
      "_view_count": null,
      "_view_module": "@jupyter-widgets/controls",
      "_view_module_version": "1.5.0",
      "_view_name": "ProgressView",
      "bar_style": "success",
      "description": "",
      "description_tooltip": null,
      "layout": "IPY_MODEL_020daaf8871b4de4abb7c0c9ffe1b044",
      "max": 17378341,
      "min": 0,
      "orientation": "horizontal",
      "style": "IPY_MODEL_152bfcabb5e24f2b8a8634872a3279f9",
      "value": 17378341
     }
    },
    "09a72f634ee243a0b9a9faa3f57722b7": {
     "model_module": "@jupyter-widgets/controls",
     "model_module_version": "1.5.0",
     "model_name": "HTMLModel",
     "state": {
      "_dom_classes": [],
      "_model_module": "@jupyter-widgets/controls",
      "_model_module_version": "1.5.0",
      "_model_name": "HTMLModel",
      "_view_count": null,
      "_view_module": "@jupyter-widgets/controls",
      "_view_module_version": "1.5.0",
      "_view_name": "HTMLView",
      "description": "",
      "description_tooltip": null,
      "layout": "IPY_MODEL_9a1373e8992f4d5f996e8067b8db745e",
      "placeholder": "​",
      "style": "IPY_MODEL_43dc93f642a343c78797a7ef306a08cd",
      "value": " 140k/? [00:00&lt;00:00, 2.06MB/s]"
     }
    },
    "0b6a1d858e8345bcac5d6aaf58e59f38": {
     "model_module": "@jupyter-widgets/controls",
     "model_module_version": "1.5.0",
     "model_name": "DescriptionStyleModel",
     "state": {
      "_model_module": "@jupyter-widgets/controls",
      "_model_module_version": "1.5.0",
      "_model_name": "DescriptionStyleModel",
      "_view_count": null,
      "_view_module": "@jupyter-widgets/base",
      "_view_module_version": "1.2.0",
      "_view_name": "StyleView",
      "description_width": ""
     }
    },
    "0c8d5944ce604a33ae0198bd441802f8": {
     "model_module": "@jupyter-widgets/controls",
     "model_module_version": "1.5.0",
     "model_name": "HBoxModel",
     "state": {
      "_dom_classes": [],
      "_model_module": "@jupyter-widgets/controls",
      "_model_module_version": "1.5.0",
      "_model_name": "HBoxModel",
      "_view_count": null,
      "_view_module": "@jupyter-widgets/controls",
      "_view_module_version": "1.5.0",
      "_view_name": "HBoxView",
      "box_style": "",
      "children": [
       "IPY_MODEL_a83dc88893d44ea0bd5cf9a10162c008",
       "IPY_MODEL_02b7ff8eed9c4937b8c4908a786ac0e1",
       "IPY_MODEL_9a7dc96217e54074a5876e570e6b2576"
      ],
      "layout": "IPY_MODEL_e2b632ebca274eb3959ea7c83e5ec6a6"
     }
    },
    "152bfcabb5e24f2b8a8634872a3279f9": {
     "model_module": "@jupyter-widgets/controls",
     "model_module_version": "1.5.0",
     "model_name": "ProgressStyleModel",
     "state": {
      "_model_module": "@jupyter-widgets/controls",
      "_model_module_version": "1.5.0",
      "_model_name": "ProgressStyleModel",
      "_view_count": null,
      "_view_module": "@jupyter-widgets/base",
      "_view_module_version": "1.2.0",
      "_view_name": "StyleView",
      "bar_color": null,
      "description_width": ""
     }
    },
    "1c9c65752cbc436e9ddbd90068d27bba": {
     "model_module": "@jupyter-widgets/base",
     "model_module_version": "1.2.0",
     "model_name": "LayoutModel",
     "state": {
      "_model_module": "@jupyter-widgets/base",
      "_model_module_version": "1.2.0",
      "_model_name": "LayoutModel",
      "_view_count": null,
      "_view_module": "@jupyter-widgets/base",
      "_view_module_version": "1.2.0",
      "_view_name": "LayoutView",
      "align_content": null,
      "align_items": null,
      "align_self": null,
      "border": null,
      "bottom": null,
      "display": null,
      "flex": null,
      "flex_flow": null,
      "grid_area": null,
      "grid_auto_columns": null,
      "grid_auto_flow": null,
      "grid_auto_rows": null,
      "grid_column": null,
      "grid_gap": null,
      "grid_row": null,
      "grid_template_areas": null,
      "grid_template_columns": null,
      "grid_template_rows": null,
      "height": null,
      "justify_content": null,
      "justify_items": null,
      "left": null,
      "margin": null,
      "max_height": null,
      "max_width": null,
      "min_height": null,
      "min_width": null,
      "object_fit": null,
      "object_position": null,
      "order": null,
      "overflow": null,
      "overflow_x": null,
      "overflow_y": null,
      "padding": null,
      "right": null,
      "top": null,
      "visibility": null,
      "width": null
     }
    },
    "28c91c4165904762b5dc831d9ef7466f": {
     "model_module": "@jupyter-widgets/base",
     "model_module_version": "1.2.0",
     "model_name": "LayoutModel",
     "state": {
      "_model_module": "@jupyter-widgets/base",
      "_model_module_version": "1.2.0",
      "_model_name": "LayoutModel",
      "_view_count": null,
      "_view_module": "@jupyter-widgets/base",
      "_view_module_version": "1.2.0",
      "_view_name": "LayoutView",
      "align_content": null,
      "align_items": null,
      "align_self": null,
      "border": null,
      "bottom": null,
      "display": null,
      "flex": null,
      "flex_flow": null,
      "grid_area": null,
      "grid_auto_columns": null,
      "grid_auto_flow": null,
      "grid_auto_rows": null,
      "grid_column": null,
      "grid_gap": null,
      "grid_row": null,
      "grid_template_areas": null,
      "grid_template_columns": null,
      "grid_template_rows": null,
      "height": null,
      "justify_content": null,
      "justify_items": null,
      "left": null,
      "margin": null,
      "max_height": null,
      "max_width": null,
      "min_height": null,
      "min_width": null,
      "object_fit": null,
      "object_position": null,
      "order": null,
      "overflow": null,
      "overflow_x": null,
      "overflow_y": null,
      "padding": null,
      "right": null,
      "top": null,
      "visibility": null,
      "width": null
     }
    },
    "3d7232f92def434e8d5aca795b840502": {
     "model_module": "@jupyter-widgets/base",
     "model_module_version": "1.2.0",
     "model_name": "LayoutModel",
     "state": {
      "_model_module": "@jupyter-widgets/base",
      "_model_module_version": "1.2.0",
      "_model_name": "LayoutModel",
      "_view_count": null,
      "_view_module": "@jupyter-widgets/base",
      "_view_module_version": "1.2.0",
      "_view_name": "LayoutView",
      "align_content": null,
      "align_items": null,
      "align_self": null,
      "border": null,
      "bottom": null,
      "display": null,
      "flex": null,
      "flex_flow": null,
      "grid_area": null,
      "grid_auto_columns": null,
      "grid_auto_flow": null,
      "grid_auto_rows": null,
      "grid_column": null,
      "grid_gap": null,
      "grid_row": null,
      "grid_template_areas": null,
      "grid_template_columns": null,
      "grid_template_rows": null,
      "height": null,
      "justify_content": null,
      "justify_items": null,
      "left": null,
      "margin": null,
      "max_height": null,
      "max_width": null,
      "min_height": null,
      "min_width": null,
      "object_fit": null,
      "object_position": null,
      "order": null,
      "overflow": null,
      "overflow_x": null,
      "overflow_y": null,
      "padding": null,
      "right": null,
      "top": null,
      "visibility": null,
      "width": null
     }
    },
    "43dc93f642a343c78797a7ef306a08cd": {
     "model_module": "@jupyter-widgets/controls",
     "model_module_version": "1.5.0",
     "model_name": "DescriptionStyleModel",
     "state": {
      "_model_module": "@jupyter-widgets/controls",
      "_model_module_version": "1.5.0",
      "_model_name": "DescriptionStyleModel",
      "_view_count": null,
      "_view_module": "@jupyter-widgets/base",
      "_view_module_version": "1.2.0",
      "_view_name": "StyleView",
      "description_width": ""
     }
    },
    "450a7a36b6654e03a76ed0fef56f4c4e": {
     "model_module": "@jupyter-widgets/controls",
     "model_module_version": "1.5.0",
     "model_name": "HBoxModel",
     "state": {
      "_dom_classes": [],
      "_model_module": "@jupyter-widgets/controls",
      "_model_module_version": "1.5.0",
      "_model_name": "HBoxModel",
      "_view_count": null,
      "_view_module": "@jupyter-widgets/controls",
      "_view_module_version": "1.5.0",
      "_view_name": "HBoxView",
      "box_style": "",
      "children": [
       "IPY_MODEL_e1c7886f4f414aaeb0b671ccaad4a0b5",
       "IPY_MODEL_9b98047f0c4d4d1e8906a914e419a597",
       "IPY_MODEL_d57d6a8fc4ec4d4b8164cef62c913cbf"
      ],
      "layout": "IPY_MODEL_570c363b08d646d4b8a1f06117afead0"
     }
    },
    "4838ad2d412445d399958679611d1468": {
     "model_module": "@jupyter-widgets/controls",
     "model_module_version": "1.5.0",
     "model_name": "ProgressStyleModel",
     "state": {
      "_model_module": "@jupyter-widgets/controls",
      "_model_module_version": "1.5.0",
      "_model_name": "ProgressStyleModel",
      "_view_count": null,
      "_view_module": "@jupyter-widgets/base",
      "_view_module_version": "1.2.0",
      "_view_name": "StyleView",
      "bar_color": null,
      "description_width": ""
     }
    },
    "497f76dda3e247599bcd48466a5f5269": {
     "model_module": "@jupyter-widgets/controls",
     "model_module_version": "1.5.0",
     "model_name": "DescriptionStyleModel",
     "state": {
      "_model_module": "@jupyter-widgets/controls",
      "_model_module_version": "1.5.0",
      "_model_name": "DescriptionStyleModel",
      "_view_count": null,
      "_view_module": "@jupyter-widgets/base",
      "_view_module_version": "1.2.0",
      "_view_name": "StyleView",
      "description_width": ""
     }
    },
    "4bdc3abe31e542c5a978f7e9cc486a47": {
     "model_module": "@jupyter-widgets/controls",
     "model_module_version": "1.5.0",
     "model_name": "HBoxModel",
     "state": {
      "_dom_classes": [],
      "_model_module": "@jupyter-widgets/controls",
      "_model_module_version": "1.5.0",
      "_model_name": "HBoxModel",
      "_view_count": null,
      "_view_module": "@jupyter-widgets/controls",
      "_view_module_version": "1.5.0",
      "_view_name": "HBoxView",
      "box_style": "",
      "children": [
       "IPY_MODEL_55f749eaba6d4f21b1ad80077b591315",
       "IPY_MODEL_9fc3bf04c0f145048594bab0c65e6d82",
       "IPY_MODEL_ce5849a961f74d1f962a41868d82382b"
      ],
      "layout": "IPY_MODEL_d65514ee293f45a8af9c3cb5478a37bf"
     }
    },
    "4fc37baa89f14765ae1affe9d02dc26f": {
     "model_module": "@jupyter-widgets/controls",
     "model_module_version": "1.5.0",
     "model_name": "DescriptionStyleModel",
     "state": {
      "_model_module": "@jupyter-widgets/controls",
      "_model_module_version": "1.5.0",
      "_model_name": "DescriptionStyleModel",
      "_view_count": null,
      "_view_module": "@jupyter-widgets/base",
      "_view_module_version": "1.2.0",
      "_view_name": "StyleView",
      "description_width": ""
     }
    },
    "55f749eaba6d4f21b1ad80077b591315": {
     "model_module": "@jupyter-widgets/controls",
     "model_module_version": "1.5.0",
     "model_name": "HTMLModel",
     "state": {
      "_dom_classes": [],
      "_model_module": "@jupyter-widgets/controls",
      "_model_module_version": "1.5.0",
      "_model_name": "HTMLModel",
      "_view_count": null,
      "_view_module": "@jupyter-widgets/controls",
      "_view_module_version": "1.5.0",
      "_view_name": "HTMLView",
      "description": "",
      "description_tooltip": null,
      "layout": "IPY_MODEL_b24ce2b27f384c6cb0977e673911fb47",
      "placeholder": "​",
      "style": "IPY_MODEL_becfc70aa1dc403ea98525797dc130da",
      "value": "Downloading http://nlp.stanford.edu/software/stanza/1.2.2/id/pretrain/gsd.pt: 100%"
     }
    },
    "570c363b08d646d4b8a1f06117afead0": {
     "model_module": "@jupyter-widgets/base",
     "model_module_version": "1.2.0",
     "model_name": "LayoutModel",
     "state": {
      "_model_module": "@jupyter-widgets/base",
      "_model_module_version": "1.2.0",
      "_model_name": "LayoutModel",
      "_view_count": null,
      "_view_module": "@jupyter-widgets/base",
      "_view_module_version": "1.2.0",
      "_view_name": "LayoutView",
      "align_content": null,
      "align_items": null,
      "align_self": null,
      "border": null,
      "bottom": null,
      "display": null,
      "flex": null,
      "flex_flow": null,
      "grid_area": null,
      "grid_auto_columns": null,
      "grid_auto_flow": null,
      "grid_auto_rows": null,
      "grid_column": null,
      "grid_gap": null,
      "grid_row": null,
      "grid_template_areas": null,
      "grid_template_columns": null,
      "grid_template_rows": null,
      "height": null,
      "justify_content": null,
      "justify_items": null,
      "left": null,
      "margin": null,
      "max_height": null,
      "max_width": null,
      "min_height": null,
      "min_width": null,
      "object_fit": null,
      "object_position": null,
      "order": null,
      "overflow": null,
      "overflow_x": null,
      "overflow_y": null,
      "padding": null,
      "right": null,
      "top": null,
      "visibility": null,
      "width": null
     }
    },
    "647af8c14def420baf18ec57f1700745": {
     "model_module": "@jupyter-widgets/base",
     "model_module_version": "1.2.0",
     "model_name": "LayoutModel",
     "state": {
      "_model_module": "@jupyter-widgets/base",
      "_model_module_version": "1.2.0",
      "_model_name": "LayoutModel",
      "_view_count": null,
      "_view_module": "@jupyter-widgets/base",
      "_view_module_version": "1.2.0",
      "_view_name": "LayoutView",
      "align_content": null,
      "align_items": null,
      "align_self": null,
      "border": null,
      "bottom": null,
      "display": null,
      "flex": null,
      "flex_flow": null,
      "grid_area": null,
      "grid_auto_columns": null,
      "grid_auto_flow": null,
      "grid_auto_rows": null,
      "grid_column": null,
      "grid_gap": null,
      "grid_row": null,
      "grid_template_areas": null,
      "grid_template_columns": null,
      "grid_template_rows": null,
      "height": null,
      "justify_content": null,
      "justify_items": null,
      "left": null,
      "margin": null,
      "max_height": null,
      "max_width": null,
      "min_height": null,
      "min_width": null,
      "object_fit": null,
      "object_position": null,
      "order": null,
      "overflow": null,
      "overflow_x": null,
      "overflow_y": null,
      "padding": null,
      "right": null,
      "top": null,
      "visibility": null,
      "width": null
     }
    },
    "672452409d1f43acb9f1c1f38f9a1baf": {
     "model_module": "@jupyter-widgets/controls",
     "model_module_version": "1.5.0",
     "model_name": "HTMLModel",
     "state": {
      "_dom_classes": [],
      "_model_module": "@jupyter-widgets/controls",
      "_model_module_version": "1.5.0",
      "_model_name": "HTMLModel",
      "_view_count": null,
      "_view_module": "@jupyter-widgets/controls",
      "_view_module_version": "1.5.0",
      "_view_name": "HTMLView",
      "description": "",
      "description_tooltip": null,
      "layout": "IPY_MODEL_9de7afc323f3427392c47b4e8638707c",
      "placeholder": "​",
      "style": "IPY_MODEL_7665e9981ffd4c51b9aa3551587423ce",
      "value": "Downloading https://raw.githubusercontent.com/stanfordnlp/stanza-resources/main/resources_1.2.2.json: "
     }
    },
    "699de4319c234503b21e227a8b389f0e": {
     "model_module": "@jupyter-widgets/base",
     "model_module_version": "1.2.0",
     "model_name": "LayoutModel",
     "state": {
      "_model_module": "@jupyter-widgets/base",
      "_model_module_version": "1.2.0",
      "_model_name": "LayoutModel",
      "_view_count": null,
      "_view_module": "@jupyter-widgets/base",
      "_view_module_version": "1.2.0",
      "_view_name": "LayoutView",
      "align_content": null,
      "align_items": null,
      "align_self": null,
      "border": null,
      "bottom": null,
      "display": null,
      "flex": null,
      "flex_flow": null,
      "grid_area": null,
      "grid_auto_columns": null,
      "grid_auto_flow": null,
      "grid_auto_rows": null,
      "grid_column": null,
      "grid_gap": null,
      "grid_row": null,
      "grid_template_areas": null,
      "grid_template_columns": null,
      "grid_template_rows": null,
      "height": null,
      "justify_content": null,
      "justify_items": null,
      "left": null,
      "margin": null,
      "max_height": null,
      "max_width": null,
      "min_height": null,
      "min_width": null,
      "object_fit": null,
      "object_position": null,
      "order": null,
      "overflow": null,
      "overflow_x": null,
      "overflow_y": null,
      "padding": null,
      "right": null,
      "top": null,
      "visibility": null,
      "width": null
     }
    },
    "6d607ffb35744d918e39a7009501055d": {
     "model_module": "@jupyter-widgets/controls",
     "model_module_version": "1.5.0",
     "model_name": "FloatProgressModel",
     "state": {
      "_dom_classes": [],
      "_model_module": "@jupyter-widgets/controls",
      "_model_module_version": "1.5.0",
      "_model_name": "FloatProgressModel",
      "_view_count": null,
      "_view_module": "@jupyter-widgets/controls",
      "_view_module_version": "1.5.0",
      "_view_name": "ProgressView",
      "bar_style": "success",
      "description": "",
      "description_tooltip": null,
      "layout": "IPY_MODEL_699de4319c234503b21e227a8b389f0e",
      "max": 655860,
      "min": 0,
      "orientation": "horizontal",
      "style": "IPY_MODEL_4838ad2d412445d399958679611d1468",
      "value": 655860
     }
    },
    "6f5209a4f1744687972ed8809372cb79": {
     "model_module": "@jupyter-widgets/base",
     "model_module_version": "1.2.0",
     "model_name": "LayoutModel",
     "state": {
      "_model_module": "@jupyter-widgets/base",
      "_model_module_version": "1.2.0",
      "_model_name": "LayoutModel",
      "_view_count": null,
      "_view_module": "@jupyter-widgets/base",
      "_view_module_version": "1.2.0",
      "_view_name": "LayoutView",
      "align_content": null,
      "align_items": null,
      "align_self": null,
      "border": null,
      "bottom": null,
      "display": null,
      "flex": null,
      "flex_flow": null,
      "grid_area": null,
      "grid_auto_columns": null,
      "grid_auto_flow": null,
      "grid_auto_rows": null,
      "grid_column": null,
      "grid_gap": null,
      "grid_row": null,
      "grid_template_areas": null,
      "grid_template_columns": null,
      "grid_template_rows": null,
      "height": null,
      "justify_content": null,
      "justify_items": null,
      "left": null,
      "margin": null,
      "max_height": null,
      "max_width": null,
      "min_height": null,
      "min_width": null,
      "object_fit": null,
      "object_position": null,
      "order": null,
      "overflow": null,
      "overflow_x": null,
      "overflow_y": null,
      "padding": null,
      "right": null,
      "top": null,
      "visibility": null,
      "width": null
     }
    },
    "737ca22ce9704b42b536abd901156619": {
     "model_module": "@jupyter-widgets/controls",
     "model_module_version": "1.5.0",
     "model_name": "DescriptionStyleModel",
     "state": {
      "_model_module": "@jupyter-widgets/controls",
      "_model_module_version": "1.5.0",
      "_model_name": "DescriptionStyleModel",
      "_view_count": null,
      "_view_module": "@jupyter-widgets/base",
      "_view_module_version": "1.2.0",
      "_view_name": "StyleView",
      "description_width": ""
     }
    },
    "7665e9981ffd4c51b9aa3551587423ce": {
     "model_module": "@jupyter-widgets/controls",
     "model_module_version": "1.5.0",
     "model_name": "DescriptionStyleModel",
     "state": {
      "_model_module": "@jupyter-widgets/controls",
      "_model_module_version": "1.5.0",
      "_model_name": "DescriptionStyleModel",
      "_view_count": null,
      "_view_module": "@jupyter-widgets/base",
      "_view_module_version": "1.2.0",
      "_view_name": "StyleView",
      "description_width": ""
     }
    },
    "7ccfec8d4de445eb8571dfe0f30a559e": {
     "model_module": "@jupyter-widgets/base",
     "model_module_version": "1.2.0",
     "model_name": "LayoutModel",
     "state": {
      "_model_module": "@jupyter-widgets/base",
      "_model_module_version": "1.2.0",
      "_model_name": "LayoutModel",
      "_view_count": null,
      "_view_module": "@jupyter-widgets/base",
      "_view_module_version": "1.2.0",
      "_view_name": "LayoutView",
      "align_content": null,
      "align_items": null,
      "align_self": null,
      "border": null,
      "bottom": null,
      "display": null,
      "flex": null,
      "flex_flow": null,
      "grid_area": null,
      "grid_auto_columns": null,
      "grid_auto_flow": null,
      "grid_auto_rows": null,
      "grid_column": null,
      "grid_gap": null,
      "grid_row": null,
      "grid_template_areas": null,
      "grid_template_columns": null,
      "grid_template_rows": null,
      "height": null,
      "justify_content": null,
      "justify_items": null,
      "left": null,
      "margin": null,
      "max_height": null,
      "max_width": null,
      "min_height": null,
      "min_width": null,
      "object_fit": null,
      "object_position": null,
      "order": null,
      "overflow": null,
      "overflow_x": null,
      "overflow_y": null,
      "padding": null,
      "right": null,
      "top": null,
      "visibility": null,
      "width": null
     }
    },
    "7e3f1a86d4c04659a1a3384ebec14d67": {
     "model_module": "@jupyter-widgets/controls",
     "model_module_version": "1.5.0",
     "model_name": "HBoxModel",
     "state": {
      "_dom_classes": [],
      "_model_module": "@jupyter-widgets/controls",
      "_model_module_version": "1.5.0",
      "_model_name": "HBoxModel",
      "_view_count": null,
      "_view_module": "@jupyter-widgets/controls",
      "_view_module_version": "1.5.0",
      "_view_name": "HBoxView",
      "box_style": "",
      "children": [
       "IPY_MODEL_672452409d1f43acb9f1c1f38f9a1baf",
       "IPY_MODEL_a9e3d889116046bba9341c4b5c06cb24",
       "IPY_MODEL_09a72f634ee243a0b9a9faa3f57722b7"
      ],
      "layout": "IPY_MODEL_c34c1edafef14580806da6c6769e5425"
     }
    },
    "880d7fb737444ea99768fa24da5e4298": {
     "model_module": "@jupyter-widgets/base",
     "model_module_version": "1.2.0",
     "model_name": "LayoutModel",
     "state": {
      "_model_module": "@jupyter-widgets/base",
      "_model_module_version": "1.2.0",
      "_model_name": "LayoutModel",
      "_view_count": null,
      "_view_module": "@jupyter-widgets/base",
      "_view_module_version": "1.2.0",
      "_view_name": "LayoutView",
      "align_content": null,
      "align_items": null,
      "align_self": null,
      "border": null,
      "bottom": null,
      "display": null,
      "flex": null,
      "flex_flow": null,
      "grid_area": null,
      "grid_auto_columns": null,
      "grid_auto_flow": null,
      "grid_auto_rows": null,
      "grid_column": null,
      "grid_gap": null,
      "grid_row": null,
      "grid_template_areas": null,
      "grid_template_columns": null,
      "grid_template_rows": null,
      "height": null,
      "justify_content": null,
      "justify_items": null,
      "left": null,
      "margin": null,
      "max_height": null,
      "max_width": null,
      "min_height": null,
      "min_width": null,
      "object_fit": null,
      "object_position": null,
      "order": null,
      "overflow": null,
      "overflow_x": null,
      "overflow_y": null,
      "padding": null,
      "right": null,
      "top": null,
      "visibility": null,
      "width": null
     }
    },
    "8d7c09f053654e2ab1a1be9bd56ec1c8": {
     "model_module": "@jupyter-widgets/base",
     "model_module_version": "1.2.0",
     "model_name": "LayoutModel",
     "state": {
      "_model_module": "@jupyter-widgets/base",
      "_model_module_version": "1.2.0",
      "_model_name": "LayoutModel",
      "_view_count": null,
      "_view_module": "@jupyter-widgets/base",
      "_view_module_version": "1.2.0",
      "_view_name": "LayoutView",
      "align_content": null,
      "align_items": null,
      "align_self": null,
      "border": null,
      "bottom": null,
      "display": null,
      "flex": null,
      "flex_flow": null,
      "grid_area": null,
      "grid_auto_columns": null,
      "grid_auto_flow": null,
      "grid_auto_rows": null,
      "grid_column": null,
      "grid_gap": null,
      "grid_row": null,
      "grid_template_areas": null,
      "grid_template_columns": null,
      "grid_template_rows": null,
      "height": null,
      "justify_content": null,
      "justify_items": null,
      "left": null,
      "margin": null,
      "max_height": null,
      "max_width": null,
      "min_height": null,
      "min_width": null,
      "object_fit": null,
      "object_position": null,
      "order": null,
      "overflow": null,
      "overflow_x": null,
      "overflow_y": null,
      "padding": null,
      "right": null,
      "top": null,
      "visibility": null,
      "width": null
     }
    },
    "8da73efd493b474880af7fed38139e84": {
     "model_module": "@jupyter-widgets/controls",
     "model_module_version": "1.5.0",
     "model_name": "ProgressStyleModel",
     "state": {
      "_model_module": "@jupyter-widgets/controls",
      "_model_module_version": "1.5.0",
      "_model_name": "ProgressStyleModel",
      "_view_count": null,
      "_view_module": "@jupyter-widgets/base",
      "_view_module_version": "1.2.0",
      "_view_name": "StyleView",
      "bar_color": null,
      "description_width": ""
     }
    },
    "9a1373e8992f4d5f996e8067b8db745e": {
     "model_module": "@jupyter-widgets/base",
     "model_module_version": "1.2.0",
     "model_name": "LayoutModel",
     "state": {
      "_model_module": "@jupyter-widgets/base",
      "_model_module_version": "1.2.0",
      "_model_name": "LayoutModel",
      "_view_count": null,
      "_view_module": "@jupyter-widgets/base",
      "_view_module_version": "1.2.0",
      "_view_name": "LayoutView",
      "align_content": null,
      "align_items": null,
      "align_self": null,
      "border": null,
      "bottom": null,
      "display": null,
      "flex": null,
      "flex_flow": null,
      "grid_area": null,
      "grid_auto_columns": null,
      "grid_auto_flow": null,
      "grid_auto_rows": null,
      "grid_column": null,
      "grid_gap": null,
      "grid_row": null,
      "grid_template_areas": null,
      "grid_template_columns": null,
      "grid_template_rows": null,
      "height": null,
      "justify_content": null,
      "justify_items": null,
      "left": null,
      "margin": null,
      "max_height": null,
      "max_width": null,
      "min_height": null,
      "min_width": null,
      "object_fit": null,
      "object_position": null,
      "order": null,
      "overflow": null,
      "overflow_x": null,
      "overflow_y": null,
      "padding": null,
      "right": null,
      "top": null,
      "visibility": null,
      "width": null
     }
    },
    "9a7dc96217e54074a5876e570e6b2576": {
     "model_module": "@jupyter-widgets/controls",
     "model_module_version": "1.5.0",
     "model_name": "HTMLModel",
     "state": {
      "_dom_classes": [],
      "_model_module": "@jupyter-widgets/controls",
      "_model_module_version": "1.5.0",
      "_model_name": "HTMLModel",
      "_view_count": null,
      "_view_module": "@jupyter-widgets/controls",
      "_view_module_version": "1.5.0",
      "_view_name": "HTMLView",
      "description": "",
      "description_tooltip": null,
      "layout": "IPY_MODEL_d20ca5b1157445e5b3348337801d8b39",
      "placeholder": "​",
      "style": "IPY_MODEL_f9e17fcb40294e18bc66551987f5c2f0",
      "value": " 17.4M/17.4M [00:00&lt;00:00, 42.3MB/s]"
     }
    },
    "9b98047f0c4d4d1e8906a914e419a597": {
     "model_module": "@jupyter-widgets/controls",
     "model_module_version": "1.5.0",
     "model_name": "FloatProgressModel",
     "state": {
      "_dom_classes": [],
      "_model_module": "@jupyter-widgets/controls",
      "_model_module_version": "1.5.0",
      "_model_name": "FloatProgressModel",
      "_view_count": null,
      "_view_module": "@jupyter-widgets/controls",
      "_view_module_version": "1.5.0",
      "_view_name": "ProgressView",
      "bar_style": "success",
      "description": "",
      "description_tooltip": null,
      "layout": "IPY_MODEL_3d7232f92def434e8d5aca795b840502",
      "max": 3503906,
      "min": 0,
      "orientation": "horizontal",
      "style": "IPY_MODEL_dab50e60081b4c90b917021505c93eaf",
      "value": 3503906
     }
    },
    "9de7afc323f3427392c47b4e8638707c": {
     "model_module": "@jupyter-widgets/base",
     "model_module_version": "1.2.0",
     "model_name": "LayoutModel",
     "state": {
      "_model_module": "@jupyter-widgets/base",
      "_model_module_version": "1.2.0",
      "_model_name": "LayoutModel",
      "_view_count": null,
      "_view_module": "@jupyter-widgets/base",
      "_view_module_version": "1.2.0",
      "_view_name": "LayoutView",
      "align_content": null,
      "align_items": null,
      "align_self": null,
      "border": null,
      "bottom": null,
      "display": null,
      "flex": null,
      "flex_flow": null,
      "grid_area": null,
      "grid_auto_columns": null,
      "grid_auto_flow": null,
      "grid_auto_rows": null,
      "grid_column": null,
      "grid_gap": null,
      "grid_row": null,
      "grid_template_areas": null,
      "grid_template_columns": null,
      "grid_template_rows": null,
      "height": null,
      "justify_content": null,
      "justify_items": null,
      "left": null,
      "margin": null,
      "max_height": null,
      "max_width": null,
      "min_height": null,
      "min_width": null,
      "object_fit": null,
      "object_position": null,
      "order": null,
      "overflow": null,
      "overflow_x": null,
      "overflow_y": null,
      "padding": null,
      "right": null,
      "top": null,
      "visibility": null,
      "width": null
     }
    },
    "9fc3bf04c0f145048594bab0c65e6d82": {
     "model_module": "@jupyter-widgets/controls",
     "model_module_version": "1.5.0",
     "model_name": "FloatProgressModel",
     "state": {
      "_dom_classes": [],
      "_model_module": "@jupyter-widgets/controls",
      "_model_module_version": "1.5.0",
      "_model_name": "FloatProgressModel",
      "_view_count": null,
      "_view_module": "@jupyter-widgets/controls",
      "_view_module_version": "1.5.0",
      "_view_name": "ProgressView",
      "bar_style": "success",
      "description": "",
      "description_tooltip": null,
      "layout": "IPY_MODEL_647af8c14def420baf18ec57f1700745",
      "max": 106794555,
      "min": 0,
      "orientation": "horizontal",
      "style": "IPY_MODEL_8da73efd493b474880af7fed38139e84",
      "value": 106794555
     }
    },
    "a7d85e742171407f97c45f6acbe1d523": {
     "model_module": "@jupyter-widgets/controls",
     "model_module_version": "1.5.0",
     "model_name": "HTMLModel",
     "state": {
      "_dom_classes": [],
      "_model_module": "@jupyter-widgets/controls",
      "_model_module_version": "1.5.0",
      "_model_name": "HTMLModel",
      "_view_count": null,
      "_view_module": "@jupyter-widgets/controls",
      "_view_module_version": "1.5.0",
      "_view_name": "HTMLView",
      "description": "",
      "description_tooltip": null,
      "layout": "IPY_MODEL_8d7c09f053654e2ab1a1be9bd56ec1c8",
      "placeholder": "​",
      "style": "IPY_MODEL_4fc37baa89f14765ae1affe9d02dc26f",
      "value": " 656k/656k [00:00&lt;00:00, 3.37MB/s]"
     }
    },
    "a83dc88893d44ea0bd5cf9a10162c008": {
     "model_module": "@jupyter-widgets/controls",
     "model_module_version": "1.5.0",
     "model_name": "HTMLModel",
     "state": {
      "_dom_classes": [],
      "_model_module": "@jupyter-widgets/controls",
      "_model_module_version": "1.5.0",
      "_model_name": "HTMLModel",
      "_view_count": null,
      "_view_module": "@jupyter-widgets/controls",
      "_view_module_version": "1.5.0",
      "_view_name": "HTMLView",
      "description": "",
      "description_tooltip": null,
      "layout": "IPY_MODEL_880d7fb737444ea99768fa24da5e4298",
      "placeholder": "​",
      "style": "IPY_MODEL_ccf6ad4415fb4a21a1a7cfa783e94c77",
      "value": "Downloading http://nlp.stanford.edu/software/stanza/1.2.2/id/pos/gsd.pt: 100%"
     }
    },
    "a9e3d889116046bba9341c4b5c06cb24": {
     "model_module": "@jupyter-widgets/controls",
     "model_module_version": "1.5.0",
     "model_name": "FloatProgressModel",
     "state": {
      "_dom_classes": [],
      "_model_module": "@jupyter-widgets/controls",
      "_model_module_version": "1.5.0",
      "_model_name": "FloatProgressModel",
      "_view_count": null,
      "_view_module": "@jupyter-widgets/controls",
      "_view_module_version": "1.5.0",
      "_view_name": "ProgressView",
      "bar_style": "success",
      "description": "",
      "description_tooltip": null,
      "layout": "IPY_MODEL_7ccfec8d4de445eb8571dfe0f30a559e",
      "max": 24144,
      "min": 0,
      "orientation": "horizontal",
      "style": "IPY_MODEL_f7e0026fe46746b9913624c58ba28bb4",
      "value": 24144
     }
    },
    "ad8843875f104fc6a2e68cdca7fb76a7": {
     "model_module": "@jupyter-widgets/controls",
     "model_module_version": "1.5.0",
     "model_name": "HBoxModel",
     "state": {
      "_dom_classes": [],
      "_model_module": "@jupyter-widgets/controls",
      "_model_module_version": "1.5.0",
      "_model_name": "HBoxModel",
      "_view_count": null,
      "_view_module": "@jupyter-widgets/controls",
      "_view_module_version": "1.5.0",
      "_view_name": "HBoxView",
      "box_style": "",
      "children": [
       "IPY_MODEL_ec5f15a8cc61488b80e23f0d4cd69e5d",
       "IPY_MODEL_6d607ffb35744d918e39a7009501055d",
       "IPY_MODEL_a7d85e742171407f97c45f6acbe1d523"
      ],
      "layout": "IPY_MODEL_d68bd86146ea42a5a82f74e7193b8be4"
     }
    },
    "b24ce2b27f384c6cb0977e673911fb47": {
     "model_module": "@jupyter-widgets/base",
     "model_module_version": "1.2.0",
     "model_name": "LayoutModel",
     "state": {
      "_model_module": "@jupyter-widgets/base",
      "_model_module_version": "1.2.0",
      "_model_name": "LayoutModel",
      "_view_count": null,
      "_view_module": "@jupyter-widgets/base",
      "_view_module_version": "1.2.0",
      "_view_name": "LayoutView",
      "align_content": null,
      "align_items": null,
      "align_self": null,
      "border": null,
      "bottom": null,
      "display": null,
      "flex": null,
      "flex_flow": null,
      "grid_area": null,
      "grid_auto_columns": null,
      "grid_auto_flow": null,
      "grid_auto_rows": null,
      "grid_column": null,
      "grid_gap": null,
      "grid_row": null,
      "grid_template_areas": null,
      "grid_template_columns": null,
      "grid_template_rows": null,
      "height": null,
      "justify_content": null,
      "justify_items": null,
      "left": null,
      "margin": null,
      "max_height": null,
      "max_width": null,
      "min_height": null,
      "min_width": null,
      "object_fit": null,
      "object_position": null,
      "order": null,
      "overflow": null,
      "overflow_x": null,
      "overflow_y": null,
      "padding": null,
      "right": null,
      "top": null,
      "visibility": null,
      "width": null
     }
    },
    "becfc70aa1dc403ea98525797dc130da": {
     "model_module": "@jupyter-widgets/controls",
     "model_module_version": "1.5.0",
     "model_name": "DescriptionStyleModel",
     "state": {
      "_model_module": "@jupyter-widgets/controls",
      "_model_module_version": "1.5.0",
      "_model_name": "DescriptionStyleModel",
      "_view_count": null,
      "_view_module": "@jupyter-widgets/base",
      "_view_module_version": "1.2.0",
      "_view_name": "StyleView",
      "description_width": ""
     }
    },
    "c063e93c7dec4ab3a6bcd859d50f2715": {
     "model_module": "@jupyter-widgets/base",
     "model_module_version": "1.2.0",
     "model_name": "LayoutModel",
     "state": {
      "_model_module": "@jupyter-widgets/base",
      "_model_module_version": "1.2.0",
      "_model_name": "LayoutModel",
      "_view_count": null,
      "_view_module": "@jupyter-widgets/base",
      "_view_module_version": "1.2.0",
      "_view_name": "LayoutView",
      "align_content": null,
      "align_items": null,
      "align_self": null,
      "border": null,
      "bottom": null,
      "display": null,
      "flex": null,
      "flex_flow": null,
      "grid_area": null,
      "grid_auto_columns": null,
      "grid_auto_flow": null,
      "grid_auto_rows": null,
      "grid_column": null,
      "grid_gap": null,
      "grid_row": null,
      "grid_template_areas": null,
      "grid_template_columns": null,
      "grid_template_rows": null,
      "height": null,
      "justify_content": null,
      "justify_items": null,
      "left": null,
      "margin": null,
      "max_height": null,
      "max_width": null,
      "min_height": null,
      "min_width": null,
      "object_fit": null,
      "object_position": null,
      "order": null,
      "overflow": null,
      "overflow_x": null,
      "overflow_y": null,
      "padding": null,
      "right": null,
      "top": null,
      "visibility": null,
      "width": null
     }
    },
    "c34c1edafef14580806da6c6769e5425": {
     "model_module": "@jupyter-widgets/base",
     "model_module_version": "1.2.0",
     "model_name": "LayoutModel",
     "state": {
      "_model_module": "@jupyter-widgets/base",
      "_model_module_version": "1.2.0",
      "_model_name": "LayoutModel",
      "_view_count": null,
      "_view_module": "@jupyter-widgets/base",
      "_view_module_version": "1.2.0",
      "_view_name": "LayoutView",
      "align_content": null,
      "align_items": null,
      "align_self": null,
      "border": null,
      "bottom": null,
      "display": null,
      "flex": null,
      "flex_flow": null,
      "grid_area": null,
      "grid_auto_columns": null,
      "grid_auto_flow": null,
      "grid_auto_rows": null,
      "grid_column": null,
      "grid_gap": null,
      "grid_row": null,
      "grid_template_areas": null,
      "grid_template_columns": null,
      "grid_template_rows": null,
      "height": null,
      "justify_content": null,
      "justify_items": null,
      "left": null,
      "margin": null,
      "max_height": null,
      "max_width": null,
      "min_height": null,
      "min_width": null,
      "object_fit": null,
      "object_position": null,
      "order": null,
      "overflow": null,
      "overflow_x": null,
      "overflow_y": null,
      "padding": null,
      "right": null,
      "top": null,
      "visibility": null,
      "width": null
     }
    },
    "ccf6ad4415fb4a21a1a7cfa783e94c77": {
     "model_module": "@jupyter-widgets/controls",
     "model_module_version": "1.5.0",
     "model_name": "DescriptionStyleModel",
     "state": {
      "_model_module": "@jupyter-widgets/controls",
      "_model_module_version": "1.5.0",
      "_model_name": "DescriptionStyleModel",
      "_view_count": null,
      "_view_module": "@jupyter-widgets/base",
      "_view_module_version": "1.2.0",
      "_view_name": "StyleView",
      "description_width": ""
     }
    },
    "ce5849a961f74d1f962a41868d82382b": {
     "model_module": "@jupyter-widgets/controls",
     "model_module_version": "1.5.0",
     "model_name": "HTMLModel",
     "state": {
      "_dom_classes": [],
      "_model_module": "@jupyter-widgets/controls",
      "_model_module_version": "1.5.0",
      "_model_name": "HTMLModel",
      "_view_count": null,
      "_view_module": "@jupyter-widgets/controls",
      "_view_module_version": "1.5.0",
      "_view_name": "HTMLView",
      "description": "",
      "description_tooltip": null,
      "layout": "IPY_MODEL_6f5209a4f1744687972ed8809372cb79",
      "placeholder": "​",
      "style": "IPY_MODEL_ee8be46a350b42d687ae6a5f26eafbc6",
      "value": " 107M/107M [00:15&lt;00:00, 5.32MB/s]"
     }
    },
    "d20ca5b1157445e5b3348337801d8b39": {
     "model_module": "@jupyter-widgets/base",
     "model_module_version": "1.2.0",
     "model_name": "LayoutModel",
     "state": {
      "_model_module": "@jupyter-widgets/base",
      "_model_module_version": "1.2.0",
      "_model_name": "LayoutModel",
      "_view_count": null,
      "_view_module": "@jupyter-widgets/base",
      "_view_module_version": "1.2.0",
      "_view_name": "LayoutView",
      "align_content": null,
      "align_items": null,
      "align_self": null,
      "border": null,
      "bottom": null,
      "display": null,
      "flex": null,
      "flex_flow": null,
      "grid_area": null,
      "grid_auto_columns": null,
      "grid_auto_flow": null,
      "grid_auto_rows": null,
      "grid_column": null,
      "grid_gap": null,
      "grid_row": null,
      "grid_template_areas": null,
      "grid_template_columns": null,
      "grid_template_rows": null,
      "height": null,
      "justify_content": null,
      "justify_items": null,
      "left": null,
      "margin": null,
      "max_height": null,
      "max_width": null,
      "min_height": null,
      "min_width": null,
      "object_fit": null,
      "object_position": null,
      "order": null,
      "overflow": null,
      "overflow_x": null,
      "overflow_y": null,
      "padding": null,
      "right": null,
      "top": null,
      "visibility": null,
      "width": null
     }
    },
    "d57d6a8fc4ec4d4b8164cef62c913cbf": {
     "model_module": "@jupyter-widgets/controls",
     "model_module_version": "1.5.0",
     "model_name": "HTMLModel",
     "state": {
      "_dom_classes": [],
      "_model_module": "@jupyter-widgets/controls",
      "_model_module_version": "1.5.0",
      "_model_name": "HTMLModel",
      "_view_count": null,
      "_view_module": "@jupyter-widgets/controls",
      "_view_module_version": "1.5.0",
      "_view_name": "HTMLView",
      "description": "",
      "description_tooltip": null,
      "layout": "IPY_MODEL_c063e93c7dec4ab3a6bcd859d50f2715",
      "placeholder": "​",
      "style": "IPY_MODEL_0b6a1d858e8345bcac5d6aaf58e59f38",
      "value": " 3.50M/3.50M [00:00&lt;00:00, 2.30MB/s]"
     }
    },
    "d65514ee293f45a8af9c3cb5478a37bf": {
     "model_module": "@jupyter-widgets/base",
     "model_module_version": "1.2.0",
     "model_name": "LayoutModel",
     "state": {
      "_model_module": "@jupyter-widgets/base",
      "_model_module_version": "1.2.0",
      "_model_name": "LayoutModel",
      "_view_count": null,
      "_view_module": "@jupyter-widgets/base",
      "_view_module_version": "1.2.0",
      "_view_name": "LayoutView",
      "align_content": null,
      "align_items": null,
      "align_self": null,
      "border": null,
      "bottom": null,
      "display": null,
      "flex": null,
      "flex_flow": null,
      "grid_area": null,
      "grid_auto_columns": null,
      "grid_auto_flow": null,
      "grid_auto_rows": null,
      "grid_column": null,
      "grid_gap": null,
      "grid_row": null,
      "grid_template_areas": null,
      "grid_template_columns": null,
      "grid_template_rows": null,
      "height": null,
      "justify_content": null,
      "justify_items": null,
      "left": null,
      "margin": null,
      "max_height": null,
      "max_width": null,
      "min_height": null,
      "min_width": null,
      "object_fit": null,
      "object_position": null,
      "order": null,
      "overflow": null,
      "overflow_x": null,
      "overflow_y": null,
      "padding": null,
      "right": null,
      "top": null,
      "visibility": null,
      "width": null
     }
    },
    "d68bd86146ea42a5a82f74e7193b8be4": {
     "model_module": "@jupyter-widgets/base",
     "model_module_version": "1.2.0",
     "model_name": "LayoutModel",
     "state": {
      "_model_module": "@jupyter-widgets/base",
      "_model_module_version": "1.2.0",
      "_model_name": "LayoutModel",
      "_view_count": null,
      "_view_module": "@jupyter-widgets/base",
      "_view_module_version": "1.2.0",
      "_view_name": "LayoutView",
      "align_content": null,
      "align_items": null,
      "align_self": null,
      "border": null,
      "bottom": null,
      "display": null,
      "flex": null,
      "flex_flow": null,
      "grid_area": null,
      "grid_auto_columns": null,
      "grid_auto_flow": null,
      "grid_auto_rows": null,
      "grid_column": null,
      "grid_gap": null,
      "grid_row": null,
      "grid_template_areas": null,
      "grid_template_columns": null,
      "grid_template_rows": null,
      "height": null,
      "justify_content": null,
      "justify_items": null,
      "left": null,
      "margin": null,
      "max_height": null,
      "max_width": null,
      "min_height": null,
      "min_width": null,
      "object_fit": null,
      "object_position": null,
      "order": null,
      "overflow": null,
      "overflow_x": null,
      "overflow_y": null,
      "padding": null,
      "right": null,
      "top": null,
      "visibility": null,
      "width": null
     }
    },
    "dab50e60081b4c90b917021505c93eaf": {
     "model_module": "@jupyter-widgets/controls",
     "model_module_version": "1.5.0",
     "model_name": "ProgressStyleModel",
     "state": {
      "_model_module": "@jupyter-widgets/controls",
      "_model_module_version": "1.5.0",
      "_model_name": "ProgressStyleModel",
      "_view_count": null,
      "_view_module": "@jupyter-widgets/base",
      "_view_module_version": "1.2.0",
      "_view_name": "StyleView",
      "bar_color": null,
      "description_width": ""
     }
    },
    "e1c7886f4f414aaeb0b671ccaad4a0b5": {
     "model_module": "@jupyter-widgets/controls",
     "model_module_version": "1.5.0",
     "model_name": "HTMLModel",
     "state": {
      "_dom_classes": [],
      "_model_module": "@jupyter-widgets/controls",
      "_model_module_version": "1.5.0",
      "_model_name": "HTMLModel",
      "_view_count": null,
      "_view_module": "@jupyter-widgets/controls",
      "_view_module_version": "1.5.0",
      "_view_name": "HTMLView",
      "description": "",
      "description_tooltip": null,
      "layout": "IPY_MODEL_28c91c4165904762b5dc831d9ef7466f",
      "placeholder": "​",
      "style": "IPY_MODEL_497f76dda3e247599bcd48466a5f5269",
      "value": "Downloading http://nlp.stanford.edu/software/stanza/1.2.2/id/lemma/gsd.pt: 100%"
     }
    },
    "e2b632ebca274eb3959ea7c83e5ec6a6": {
     "model_module": "@jupyter-widgets/base",
     "model_module_version": "1.2.0",
     "model_name": "LayoutModel",
     "state": {
      "_model_module": "@jupyter-widgets/base",
      "_model_module_version": "1.2.0",
      "_model_name": "LayoutModel",
      "_view_count": null,
      "_view_module": "@jupyter-widgets/base",
      "_view_module_version": "1.2.0",
      "_view_name": "LayoutView",
      "align_content": null,
      "align_items": null,
      "align_self": null,
      "border": null,
      "bottom": null,
      "display": null,
      "flex": null,
      "flex_flow": null,
      "grid_area": null,
      "grid_auto_columns": null,
      "grid_auto_flow": null,
      "grid_auto_rows": null,
      "grid_column": null,
      "grid_gap": null,
      "grid_row": null,
      "grid_template_areas": null,
      "grid_template_columns": null,
      "grid_template_rows": null,
      "height": null,
      "justify_content": null,
      "justify_items": null,
      "left": null,
      "margin": null,
      "max_height": null,
      "max_width": null,
      "min_height": null,
      "min_width": null,
      "object_fit": null,
      "object_position": null,
      "order": null,
      "overflow": null,
      "overflow_x": null,
      "overflow_y": null,
      "padding": null,
      "right": null,
      "top": null,
      "visibility": null,
      "width": null
     }
    },
    "ec5f15a8cc61488b80e23f0d4cd69e5d": {
     "model_module": "@jupyter-widgets/controls",
     "model_module_version": "1.5.0",
     "model_name": "HTMLModel",
     "state": {
      "_dom_classes": [],
      "_model_module": "@jupyter-widgets/controls",
      "_model_module_version": "1.5.0",
      "_model_name": "HTMLModel",
      "_view_count": null,
      "_view_module": "@jupyter-widgets/controls",
      "_view_module_version": "1.5.0",
      "_view_name": "HTMLView",
      "description": "",
      "description_tooltip": null,
      "layout": "IPY_MODEL_1c9c65752cbc436e9ddbd90068d27bba",
      "placeholder": "​",
      "style": "IPY_MODEL_737ca22ce9704b42b536abd901156619",
      "value": "Downloading http://nlp.stanford.edu/software/stanza/1.2.2/id/tokenize/gsd.pt: 100%"
     }
    },
    "ee8be46a350b42d687ae6a5f26eafbc6": {
     "model_module": "@jupyter-widgets/controls",
     "model_module_version": "1.5.0",
     "model_name": "DescriptionStyleModel",
     "state": {
      "_model_module": "@jupyter-widgets/controls",
      "_model_module_version": "1.5.0",
      "_model_name": "DescriptionStyleModel",
      "_view_count": null,
      "_view_module": "@jupyter-widgets/base",
      "_view_module_version": "1.2.0",
      "_view_name": "StyleView",
      "description_width": ""
     }
    },
    "f7e0026fe46746b9913624c58ba28bb4": {
     "model_module": "@jupyter-widgets/controls",
     "model_module_version": "1.5.0",
     "model_name": "ProgressStyleModel",
     "state": {
      "_model_module": "@jupyter-widgets/controls",
      "_model_module_version": "1.5.0",
      "_model_name": "ProgressStyleModel",
      "_view_count": null,
      "_view_module": "@jupyter-widgets/base",
      "_view_module_version": "1.2.0",
      "_view_name": "StyleView",
      "bar_color": null,
      "description_width": ""
     }
    },
    "f9e17fcb40294e18bc66551987f5c2f0": {
     "model_module": "@jupyter-widgets/controls",
     "model_module_version": "1.5.0",
     "model_name": "DescriptionStyleModel",
     "state": {
      "_model_module": "@jupyter-widgets/controls",
      "_model_module_version": "1.5.0",
      "_model_name": "DescriptionStyleModel",
      "_view_count": null,
      "_view_module": "@jupyter-widgets/base",
      "_view_module_version": "1.2.0",
      "_view_name": "StyleView",
      "description_width": ""
     }
    }
   }
  }
 },
 "nbformat": 4,
 "nbformat_minor": 5
}
