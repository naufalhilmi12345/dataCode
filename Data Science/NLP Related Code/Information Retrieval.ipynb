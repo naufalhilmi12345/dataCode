{
 "cells": [
  {
   "cell_type": "markdown",
   "metadata": {
    "id": "YMFBUs_caBTF"
   },
   "source": [
    "<center><h1>Information Retrieval</h1></center>"
   ]
  },
  {
   "cell_type": "markdown",
   "metadata": {},
   "source": [
    "# Setup"
   ]
  },
  {
   "cell_type": "code",
   "execution_count": 84,
   "metadata": {
    "colab": {
     "base_uri": "https://localhost:8080/"
    },
    "executionInfo": {
     "elapsed": 2070,
     "status": "ok",
     "timestamp": 1636452693194,
     "user": {
      "displayName": "Naufal Hilmi",
      "photoUrl": "https://lh3.googleusercontent.com/a-/AOh14Gj7UB8yAHzIcK8gtuCV9hf44dCQUmF8XqLkQI3C=s64",
      "userId": "02567910694508979199"
     },
     "user_tz": -420
    },
    "id": "weBbypXUaFJG",
    "outputId": "34cc0aac-a7c0-4ccf-9bc1-d260509f7457"
   },
   "outputs": [
    {
     "name": "stdout",
     "output_type": "stream",
     "text": [
      "Downloading...\n",
      "From: https://drive.google.com/uc?id=1AVCr4QSsM-LAz6lNgIzTrmE7u7xyJ5VP\n",
      "To: /content/korpus_abstrak.csv\n",
      "100% 761k/761k [00:00<00:00, 4.63MB/s]\n"
     ]
    }
   ],
   "source": [
    "!gdown --id 1AVCr4QSsM-LAz6lNgIzTrmE7u7xyJ5VP"
   ]
  },
  {
   "cell_type": "code",
   "execution_count": 85,
   "metadata": {
    "colab": {
     "base_uri": "https://localhost:8080/"
    },
    "executionInfo": {
     "elapsed": 28,
     "status": "ok",
     "timestamp": 1636452693195,
     "user": {
      "displayName": "Naufal Hilmi",
      "photoUrl": "https://lh3.googleusercontent.com/a-/AOh14Gj7UB8yAHzIcK8gtuCV9hf44dCQUmF8XqLkQI3C=s64",
      "userId": "02567910694508979199"
     },
     "user_tz": -420
    },
    "id": "FEYttzIZe7WG",
    "outputId": "4dd48b24-be27-42ef-cbd8-6d584ffe2e3d"
   },
   "outputs": [
    {
     "name": "stdout",
     "output_type": "stream",
     "text": [
      "[nltk_data] Downloading package punkt to /root/nltk_data...\n",
      "[nltk_data]   Package punkt is already up-to-date!\n"
     ]
    },
    {
     "data": {
      "text/plain": [
       "True"
      ]
     },
     "execution_count": 85,
     "metadata": {},
     "output_type": "execute_result"
    }
   ],
   "source": [
    "import pandas as pd\n",
    "import numpy as np\n",
    "from numpy.linalg import norm\n",
    "import nltk\n",
    "import math\n",
    "import matplotlib.pyplot as plt\n",
    "\n",
    "nltk.download('punkt')"
   ]
  },
  {
   "cell_type": "code",
   "execution_count": 86,
   "metadata": {
    "colab": {
     "base_uri": "https://localhost:8080/",
     "height": 585
    },
    "executionInfo": {
     "elapsed": 18,
     "status": "ok",
     "timestamp": 1636452693197,
     "user": {
      "displayName": "Naufal Hilmi",
      "photoUrl": "https://lh3.googleusercontent.com/a-/AOh14Gj7UB8yAHzIcK8gtuCV9hf44dCQUmF8XqLkQI3C=s64",
      "userId": "02567910694508979199"
     },
     "user_tz": -420
    },
    "id": "NzC0nO7PjKh3",
    "outputId": "88620bf8-f3e6-4cfa-917d-2859944986c4"
   },
   "outputs": [
    {
     "data": {
      "text/html": [
       "<div>\n",
       "<style scoped>\n",
       "    .dataframe tbody tr th:only-of-type {\n",
       "        vertical-align: middle;\n",
       "    }\n",
       "\n",
       "    .dataframe tbody tr th {\n",
       "        vertical-align: top;\n",
       "    }\n",
       "\n",
       "    .dataframe thead th {\n",
       "        text-align: right;\n",
       "    }\n",
       "</style>\n",
       "<table border=\"1\" class=\"dataframe\">\n",
       "  <thead>\n",
       "    <tr style=\"text-align: right;\">\n",
       "      <th></th>\n",
       "      <th>Link</th>\n",
       "      <th>Abstrak</th>\n",
       "      <th>Author</th>\n",
       "      <th>Pub</th>\n",
       "      <th>Ed</th>\n",
       "    </tr>\n",
       "  </thead>\n",
       "  <tbody>\n",
       "    <tr>\n",
       "      <th>0</th>\n",
       "      <td>detail.jsp?id=46123&amp;lokasi=lokal</td>\n",
       "      <td>Analisis Faktor yang Memengaruhi Loyalitas Kon...</td>\n",
       "      <td>Sumarliyanti</td>\n",
       "      <td>Publisher: Depok: Fakultas Ilmu Komputer UI, ...</td>\n",
       "      <td>Putu Wuri Handayani</td>\n",
       "    </tr>\n",
       "    <tr>\n",
       "      <th>1</th>\n",
       "      <td>detail.jsp?id=46126&amp;lokasi=lokal</td>\n",
       "      <td>Analisis Perilaku Pengguna Dalam Mencapai Kred...</td>\n",
       "      <td>S. Reyneta Carissa Anwar</td>\n",
       "      <td>Publisher: Depok: Fakultas Ilmu Komputer Univ...</td>\n",
       "      <td>Putu Wuri Handayani</td>\n",
       "    </tr>\n",
       "    <tr>\n",
       "      <th>2</th>\n",
       "      <td>detail.jsp?id=46149&amp;lokasi=lokal</td>\n",
       "      <td>Desain Interaksi Aplikasi untuk Mengakomodasi ...</td>\n",
       "      <td>Mila  Alief Alya</td>\n",
       "      <td>Publisher: Depok\": Fakultas Ilmu Komputer Uni...</td>\n",
       "      <td>Harry Budi Santoso S</td>\n",
       "    </tr>\n",
       "    <tr>\n",
       "      <th>3</th>\n",
       "      <td>detail.jsp?id=46167&amp;lokasi=lokal</td>\n",
       "      <td>Evaluasi dan Pengembangan Alternatif Desain In...</td>\n",
       "      <td>Ivana Putri</td>\n",
       "      <td>Publisher: Depok: Fakultas Ilmu Komputer Univ...</td>\n",
       "      <td>Harry Budi Santoso</td>\n",
       "    </tr>\n",
       "    <tr>\n",
       "      <th>4</th>\n",
       "      <td>detail.jsp?id=45008&amp;lokasi=lokal</td>\n",
       "      <td>Evaluasi Desain Materi Instruksional Berdasark...</td>\n",
       "      <td>Aulia Chairunisa</td>\n",
       "      <td>Publisher: Depok: Fakultas Ilmu Komputer UI, ...</td>\n",
       "      <td>Harri Budi Santoso</td>\n",
       "    </tr>\n",
       "    <tr>\n",
       "      <th>...</th>\n",
       "      <td>...</td>\n",
       "      <td>...</td>\n",
       "      <td>...</td>\n",
       "      <td>...</td>\n",
       "      <td>...</td>\n",
       "    </tr>\n",
       "    <tr>\n",
       "      <th>464</th>\n",
       "      <td>detail.jsp?id=46801&amp;lokasi=lokal</td>\n",
       "      <td>Visualisasi Informasi dari Kemampuan Metakogni...</td>\n",
       "      <td>Resthu Rizfarchan Adisurya</td>\n",
       "      <td>Publisher: Depok: Fakultas Ilmu Komputer Univ...</td>\n",
       "      <td>Harry Budi Santoso</td>\n",
       "    </tr>\n",
       "    <tr>\n",
       "      <th>465</th>\n",
       "      <td>detail.jsp?id=4668&amp;lokasi=lokal</td>\n",
       "      <td>Masalah transportasi merupakan suatu masalah y...</td>\n",
       "      <td>Hendrie Gunawan</td>\n",
       "      <td>Publisher: Depok: Fasilkom UI, 2002 Call Numb...</td>\n",
       "      <td>Widijanto Nugroho</td>\n",
       "    </tr>\n",
       "    <tr>\n",
       "      <th>466</th>\n",
       "      <td>detail.jsp?id=4647&amp;lokasi=lokal</td>\n",
       "      <td>Pergerakan benda di atas permukaan es dapat me...</td>\n",
       "      <td>Anita</td>\n",
       "      <td>Publisher: Depok: Fasilkom UI, 2001 Call Numb...</td>\n",
       "      <td>Widijanto Nugroho</td>\n",
       "    </tr>\n",
       "    <tr>\n",
       "      <th>467</th>\n",
       "      <td>detail.jsp?id=4490&amp;lokasi=lokal</td>\n",
       "      <td>Dewasa ini, bentuk visual mendapat perhatian d...</td>\n",
       "      <td>Helmy A, Muhammad</td>\n",
       "      <td>Publisher: Depok: Fasilkom UI, 1996 Call Numb...</td>\n",
       "      <td>Eko Budiardjo</td>\n",
       "    </tr>\n",
       "    <tr>\n",
       "      <th>468</th>\n",
       "      <td>detail.jsp?id=4520&amp;lokasi=lokal</td>\n",
       "      <td>Telekonferensi digunakan sebagai media komunik...</td>\n",
       "      <td>Lestari, Bambang</td>\n",
       "      <td>Publisher: Depok: FASILKOM UI, 1997 Call Numb...</td>\n",
       "      <td>Nursalim Hadi</td>\n",
       "    </tr>\n",
       "  </tbody>\n",
       "</table>\n",
       "<p>469 rows × 5 columns</p>\n",
       "</div>"
      ],
      "text/plain": [
       "                                 Link  ...                    Ed\n",
       "0    detail.jsp?id=46123&lokasi=lokal  ...   Putu Wuri Handayani\n",
       "1    detail.jsp?id=46126&lokasi=lokal  ...   Putu Wuri Handayani\n",
       "2    detail.jsp?id=46149&lokasi=lokal  ...  Harry Budi Santoso S\n",
       "3    detail.jsp?id=46167&lokasi=lokal  ...    Harry Budi Santoso\n",
       "4    detail.jsp?id=45008&lokasi=lokal  ...    Harri Budi Santoso\n",
       "..                                ...  ...                   ...\n",
       "464  detail.jsp?id=46801&lokasi=lokal  ...    Harry Budi Santoso\n",
       "465   detail.jsp?id=4668&lokasi=lokal  ...     Widijanto Nugroho\n",
       "466   detail.jsp?id=4647&lokasi=lokal  ...     Widijanto Nugroho\n",
       "467   detail.jsp?id=4490&lokasi=lokal  ...         Eko Budiardjo\n",
       "468   detail.jsp?id=4520&lokasi=lokal  ...         Nursalim Hadi\n",
       "\n",
       "[469 rows x 5 columns]"
      ]
     },
     "execution_count": 86,
     "metadata": {},
     "output_type": "execute_result"
    }
   ],
   "source": [
    "df_korpus = pd.read_csv('korpus_abstrak.csv')\n",
    "df_korpus"
   ]
  },
  {
   "cell_type": "markdown",
   "metadata": {
    "id": "W4bxNWeGrQGt"
   },
   "source": [
    "# Preprocessing"
   ]
  },
  {
   "cell_type": "markdown",
   "metadata": {
    "id": "E9A-3q_2rhGl"
   },
   "source": [
    "## Melakukan tokenisasi"
   ]
  },
  {
   "cell_type": "code",
   "execution_count": 87,
   "metadata": {
    "executionInfo": {
     "elapsed": 13,
     "status": "ok",
     "timestamp": 1636452693198,
     "user": {
      "displayName": "Naufal Hilmi",
      "photoUrl": "https://lh3.googleusercontent.com/a-/AOh14Gj7UB8yAHzIcK8gtuCV9hf44dCQUmF8XqLkQI3C=s64",
      "userId": "02567910694508979199"
     },
     "user_tz": -420
    },
    "id": "WgVDWRR1rkE3"
   },
   "outputs": [],
   "source": [
    "abstrak = df_korpus['Abstrak']\n",
    "low_abstrak = abstrak.str.lower()"
   ]
  },
  {
   "cell_type": "code",
   "execution_count": 88,
   "metadata": {
    "colab": {
     "base_uri": "https://localhost:8080/"
    },
    "executionInfo": {
     "elapsed": 978,
     "status": "ok",
     "timestamp": 1636452694164,
     "user": {
      "displayName": "Naufal Hilmi",
      "photoUrl": "https://lh3.googleusercontent.com/a-/AOh14Gj7UB8yAHzIcK8gtuCV9hf44dCQUmF8XqLkQI3C=s64",
      "userId": "02567910694508979199"
     },
     "user_tz": -420
    },
    "id": "GsjqNgk_vdr8",
    "outputId": "eee7f790-9787-4ff3-bdcf-9aefd60c8bf0"
   },
   "outputs": [
    {
     "data": {
      "text/plain": [
       "0    [analisis, faktor, yang, memengaruhi, loyalita...\n",
       "1    [analisis, perilaku, pengguna, dalam, mencapai...\n",
       "2    [desain, interaksi, aplikasi, untuk, mengakomo...\n",
       "3    [evaluasi, dan, pengembangan, alternatif, desa...\n",
       "4    [evaluasi, desain, materi, instruksional, berd...\n",
       "5    [pengaruh, efek, moderasi, social, feature, da...\n",
       "6    [rancangan, dan, implementasi, teknologi, intr...\n",
       "7    [pentingnya, penerapan, teknologi, informasi, ...\n",
       "8    [analisis, kegiatan, berbagi, pengetahuan, pad...\n",
       "9    [adaptasi, expectation-confirmation, model, un...\n",
       "Name: Abstrak, dtype: object"
      ]
     },
     "execution_count": 88,
     "metadata": {},
     "output_type": "execute_result"
    }
   ],
   "source": [
    "token_abstrak = low_abstrak.apply(nltk.word_tokenize)\n",
    "token_abstrak.head(10)"
   ]
  },
  {
   "cell_type": "markdown",
   "metadata": {
    "id": "yDslHk9JrijE"
   },
   "source": [
    "## Menghilangkan selain teks dari token"
   ]
  },
  {
   "cell_type": "code",
   "execution_count": 89,
   "metadata": {
    "colab": {
     "base_uri": "https://localhost:8080/"
    },
    "executionInfo": {
     "elapsed": 19,
     "status": "ok",
     "timestamp": 1636452694165,
     "user": {
      "displayName": "Naufal Hilmi",
      "photoUrl": "https://lh3.googleusercontent.com/a-/AOh14Gj7UB8yAHzIcK8gtuCV9hf44dCQUmF8XqLkQI3C=s64",
      "userId": "02567910694508979199"
     },
     "user_tz": -420
    },
    "id": "hGttSkXFwSbT",
    "outputId": "f11e7c6a-1894-4219-866d-e22a97e22f07"
   },
   "outputs": [
    {
     "data": {
      "text/plain": [
       "0    [analisis, faktor, yang, memengaruhi, loyalita...\n",
       "1    [analisis, perilaku, pengguna, dalam, mencapai...\n",
       "2    [desain, interaksi, aplikasi, untuk, mengakomo...\n",
       "3    [evaluasi, dan, pengembangan, alternatif, desa...\n",
       "4    [evaluasi, desain, materi, instruksional, berd...\n",
       "5    [pengaruh, efek, moderasi, social, feature, da...\n",
       "6    [rancangan, dan, implementasi, teknologi, intr...\n",
       "7    [pentingnya, penerapan, teknologi, informasi, ...\n",
       "8    [analisis, kegiatan, berbagi, pengetahuan, pad...\n",
       "9    [adaptasi, model, untuk, memprediksi, pengaruh...\n",
       "dtype: object"
      ]
     },
     "execution_count": 89,
     "metadata": {},
     "output_type": "execute_result"
    }
   ],
   "source": [
    "tmp = []\n",
    "for i in token_abstrak:\n",
    "    tmp.append([word for word in i if word.isalnum()])\n",
    "token_wo_punc = pd.Series(tmp)\n",
    "token_wo_punc.head(10)"
   ]
  },
  {
   "cell_type": "markdown",
   "metadata": {
    "id": "xsircK_R2Z4v"
   },
   "source": [
    "# Algoritma BM-25 (Word Ranking)"
   ]
  },
  {
   "cell_type": "markdown",
   "metadata": {
    "id": "QX_WiWrdS71L"
   },
   "source": [
    "## Perhitungan Term Frequency"
   ]
  },
  {
   "cell_type": "code",
   "execution_count": 90,
   "metadata": {
    "colab": {
     "base_uri": "https://localhost:8080/"
    },
    "executionInfo": {
     "elapsed": 10,
     "status": "ok",
     "timestamp": 1636452694165,
     "user": {
      "displayName": "Naufal Hilmi",
      "photoUrl": "https://lh3.googleusercontent.com/a-/AOh14Gj7UB8yAHzIcK8gtuCV9hf44dCQUmF8XqLkQI3C=s64",
      "userId": "02567910694508979199"
     },
     "user_tz": -420
    },
    "id": "sLFO8CqFTDcl",
    "outputId": "b7dd9ab3-1cec-4e2a-ed89-d46270c2f707"
   },
   "outputs": [
    {
     "data": {
      "text/plain": [
       "0    {'analisis': 2, 'faktor': 5, 'yang': 10, 'meme...\n",
       "1    {'analisis': 1, 'perilaku': 1, 'pengguna': 3, ...\n",
       "2    {'desain': 5, 'interaksi': 1, 'aplikasi': 5, '...\n",
       "3    {'evaluasi': 3, 'dan': 4, 'pengembangan': 1, '...\n",
       "4    {'evaluasi': 2, 'desain': 5, 'materi': 5, 'ins...\n",
       "5    {'pengaruh': 3, 'efek': 2, 'moderasi': 2, 'soc...\n",
       "6    {'rancangan': 1, 'dan': 8, 'implementasi': 1, ...\n",
       "7    {'pentingnya': 1, 'penerapan': 3, 'teknologi':...\n",
       "8    {'analisis': 1, 'kegiatan': 1, 'berbagi': 2, '...\n",
       "9    {'adaptasi': 2, 'model': 3, 'untuk': 4, 'mempr...\n",
       "dtype: object"
      ]
     },
     "execution_count": 90,
     "metadata": {},
     "output_type": "execute_result"
    }
   ],
   "source": [
    "tmp = []\n",
    "for i in token_wo_punc:\n",
    "  dictio = {}\n",
    "  for j in i:\n",
    "    if j not in dictio.keys():\n",
    "      dictio[j] = 1\n",
    "    else:\n",
    "      dictio[j] = dictio[j] + 1\n",
    "  tmp.append(dictio)\n",
    "tf = pd.Series(tmp)\n",
    "tf.head(10)"
   ]
  },
  {
   "cell_type": "markdown",
   "metadata": {
    "id": "sIcv1KsqS9kG"
   },
   "source": [
    "## Perhitungan Inverse Document Frequency"
   ]
  },
  {
   "cell_type": "code",
   "execution_count": 91,
   "metadata": {
    "colab": {
     "base_uri": "https://localhost:8080/"
    },
    "executionInfo": {
     "elapsed": 1776,
     "status": "ok",
     "timestamp": 1636452695933,
     "user": {
      "displayName": "Naufal Hilmi",
      "photoUrl": "https://lh3.googleusercontent.com/a-/AOh14Gj7UB8yAHzIcK8gtuCV9hf44dCQUmF8XqLkQI3C=s64",
      "userId": "02567910694508979199"
     },
     "user_tz": -420
    },
    "id": "q7w4PMwQZXDK",
    "outputId": "b553d8b4-d84a-4f24-cc45-9d2c19000399"
   },
   "outputs": [
    {
     "data": {
      "text/plain": [
       "0       analisis\n",
       "1         faktor\n",
       "2           yang\n",
       "3    memengaruhi\n",
       "4      loyalitas\n",
       "5       konsumen\n",
       "6          dalam\n",
       "7        membeli\n",
       "8        makanan\n",
       "9           pada\n",
       "dtype: object"
      ]
     },
     "execution_count": 91,
     "metadata": {},
     "output_type": "execute_result"
    }
   ],
   "source": [
    "tmp = []\n",
    "for i in token_wo_punc:\n",
    "  for j in i:\n",
    "    if j in tmp:\n",
    "      continue\n",
    "    else:\n",
    "      tmp.append(j)\n",
    "vocabulary = pd.Series(tmp)\n",
    "vocabulary.head(10)"
   ]
  },
  {
   "cell_type": "code",
   "execution_count": 92,
   "metadata": {
    "colab": {
     "base_uri": "https://localhost:8080/"
    },
    "executionInfo": {
     "elapsed": 11183,
     "status": "ok",
     "timestamp": 1636452707114,
     "user": {
      "displayName": "Naufal Hilmi",
      "photoUrl": "https://lh3.googleusercontent.com/a-/AOh14Gj7UB8yAHzIcK8gtuCV9hf44dCQUmF8XqLkQI3C=s64",
      "userId": "02567910694508979199"
     },
     "user_tz": -420
    },
    "id": "5VpVd1v-jYdf",
    "outputId": "09415bb0-e32c-4b0d-c933-f4c9b8d49a50"
   },
   "outputs": [
    {
     "data": {
      "text/plain": [
       "analisis       1.583190\n",
       "faktor         1.883035\n",
       "yang           0.007475\n",
       "memengaruhi    2.427039\n",
       "loyalitas      4.648655\n",
       "konsumen       3.710386\n",
       "dalam          0.221815\n",
       "membeli        3.901441\n",
       "makanan        4.137830\n",
       "pada           0.185305\n",
       "dtype: float64"
      ]
     },
     "execution_count": 92,
     "metadata": {},
     "output_type": "execute_result"
    }
   ],
   "source": [
    "tmp = {}\n",
    "for i in vocabulary:\n",
    "  df = 0\n",
    "  for j in token_wo_punc:\n",
    "    if i in j:\n",
    "      df = df +1\n",
    "  value_idf = math.log(1 + ((len(token_wo_punc) - df + 0.5)/(df + 0.5)))\n",
    "  tmp[i] = value_idf\n",
    "idf = pd.Series(tmp)\n",
    "idf.head(10)"
   ]
  },
  {
   "cell_type": "markdown",
   "metadata": {
    "id": "uR82WW4QS_N_"
   },
   "source": [
    "## Perhitungan panjang document"
   ]
  },
  {
   "cell_type": "code",
   "execution_count": 93,
   "metadata": {
    "colab": {
     "base_uri": "https://localhost:8080/"
    },
    "executionInfo": {
     "elapsed": 23,
     "status": "ok",
     "timestamp": 1636452707115,
     "user": {
      "displayName": "Naufal Hilmi",
      "photoUrl": "https://lh3.googleusercontent.com/a-/AOh14Gj7UB8yAHzIcK8gtuCV9hf44dCQUmF8XqLkQI3C=s64",
      "userId": "02567910694508979199"
     },
     "user_tz": -420
    },
    "id": "rDZL4myy6FGR",
    "outputId": "ca1d9f65-1c7d-4367-8268-ba7c7e621a6b"
   },
   "outputs": [
    {
     "data": {
      "text/plain": [
       "doc 1     1262\n",
       "doc 2      914\n",
       "doc 3     1130\n",
       "doc 4     1159\n",
       "doc 5     1123\n",
       "doc 6      896\n",
       "doc 7     1561\n",
       "doc 8     1192\n",
       "doc 9     1331\n",
       "doc 10    2419\n",
       "dtype: int64"
      ]
     },
     "execution_count": 93,
     "metadata": {},
     "output_type": "execute_result"
    }
   ],
   "source": [
    "tmp = {}\n",
    "for i in range(len(abstrak)):\n",
    "  tmp['doc ' + str(i+1)] = len(abstrak[i])\n",
    "dl = pd.Series(tmp)\n",
    "dl.head(10)"
   ]
  },
  {
   "cell_type": "code",
   "execution_count": 94,
   "metadata": {
    "colab": {
     "base_uri": "https://localhost:8080/"
    },
    "executionInfo": {
     "elapsed": 20,
     "status": "ok",
     "timestamp": 1636452707115,
     "user": {
      "displayName": "Naufal Hilmi",
      "photoUrl": "https://lh3.googleusercontent.com/a-/AOh14Gj7UB8yAHzIcK8gtuCV9hf44dCQUmF8XqLkQI3C=s64",
      "userId": "02567910694508979199"
     },
     "user_tz": -420
    },
    "id": "92jrqRE4F6b6",
    "outputId": "61bfaedc-62db-4e73-e9ca-def24b9449e7"
   },
   "outputs": [
    {
     "data": {
      "text/plain": [
       "1455.7057569296376"
      ]
     },
     "execution_count": 94,
     "metadata": {},
     "output_type": "execute_result"
    }
   ],
   "source": [
    "total_length = 0\n",
    "for i in dl:\n",
    "  total_length = total_length + i\n",
    "avg = total_length / len(dl)\n",
    "avg"
   ]
  },
  {
   "cell_type": "markdown",
   "metadata": {
    "id": "3t5dP43UTAgv"
   },
   "source": [
    "## Perhitungan BM-25"
   ]
  },
  {
   "cell_type": "code",
   "execution_count": 95,
   "metadata": {
    "executionInfo": {
     "elapsed": 21,
     "status": "ok",
     "timestamp": 1636452707116,
     "user": {
      "displayName": "Naufal Hilmi",
      "photoUrl": "https://lh3.googleusercontent.com/a-/AOh14Gj7UB8yAHzIcK8gtuCV9hf44dCQUmF8XqLkQI3C=s64",
      "userId": "02567910694508979199"
     },
     "user_tz": -420
    },
    "id": "C8Bo7XI_Hcux"
   },
   "outputs": [],
   "source": [
    "def score(query, k, b):\n",
    "  term = query.split()\n",
    "  res = []\n",
    "  for i in range(len(tf)):\n",
    "    tmp = 0\n",
    "    for j in term:\n",
    "      if j not in idf or j not in tf[i]:\n",
    "        continue\n",
    "      else:\n",
    "        idf_value = idf[j]\n",
    "        tf_value = tf[i][j]\n",
    "      pembilang =  tf_value * idf_value \n",
    "      penyebut = tf_value + (k*(1-b+(b*(dl['doc ' + str(i+1)]/avg))))\n",
    "      tmp = tmp + (pembilang/penyebut)\n",
    "    res.append(('Doc ' + str(i), token_wo_punc[i], tmp))\n",
    "  final = pd.DataFrame(res, columns=['No Doc', 'Document', 'Score'])\n",
    "  final.sort_values(by=['Score'], ascending=False,inplace=True)\n",
    "  final.reset_index(inplace=True,drop=True)\n",
    "  return final"
   ]
  },
  {
   "cell_type": "markdown",
   "metadata": {
    "id": "u502dw0DTBzv"
   },
   "source": [
    "## Pengetesan BM-25"
   ]
  },
  {
   "cell_type": "markdown",
   "metadata": {
    "id": "IztjFRAoPol0"
   },
   "source": [
    "query: information retrieval, k=1.2, b=0.75"
   ]
  },
  {
   "cell_type": "code",
   "execution_count": 96,
   "metadata": {
    "colab": {
     "base_uri": "https://localhost:8080/",
     "height": 0
    },
    "executionInfo": {
     "elapsed": 20,
     "status": "ok",
     "timestamp": 1636452707116,
     "user": {
      "displayName": "Naufal Hilmi",
      "photoUrl": "https://lh3.googleusercontent.com/a-/AOh14Gj7UB8yAHzIcK8gtuCV9hf44dCQUmF8XqLkQI3C=s64",
      "userId": "02567910694508979199"
     },
     "user_tz": -420
    },
    "id": "OdJarIDvK4Z-",
    "outputId": "607747f1-44d0-4663-ef45-9942b5ccd4ce"
   },
   "outputs": [
    {
     "data": {
      "text/html": [
       "<div>\n",
       "<style scoped>\n",
       "    .dataframe tbody tr th:only-of-type {\n",
       "        vertical-align: middle;\n",
       "    }\n",
       "\n",
       "    .dataframe tbody tr th {\n",
       "        vertical-align: top;\n",
       "    }\n",
       "\n",
       "    .dataframe thead th {\n",
       "        text-align: right;\n",
       "    }\n",
       "</style>\n",
       "<table border=\"1\" class=\"dataframe\">\n",
       "  <thead>\n",
       "    <tr style=\"text-align: right;\">\n",
       "      <th></th>\n",
       "      <th>No Doc</th>\n",
       "      <th>Document</th>\n",
       "      <th>Score</th>\n",
       "    </tr>\n",
       "  </thead>\n",
       "  <tbody>\n",
       "    <tr>\n",
       "      <th>0</th>\n",
       "      <td>Doc 397</td>\n",
       "      <td>[perolehan, informasi, lintas, bahasa, menggun...</td>\n",
       "      <td>4.641979</td>\n",
       "    </tr>\n",
       "    <tr>\n",
       "      <th>1</th>\n",
       "      <td>Doc 188</td>\n",
       "      <td>[penelitian, ini, merancang, dan, mengimplemen...</td>\n",
       "      <td>3.208014</td>\n",
       "    </tr>\n",
       "    <tr>\n",
       "      <th>2</th>\n",
       "      <td>Doc 381</td>\n",
       "      <td>[sistem, informasi, eksekutif, sebagai, salah,...</td>\n",
       "      <td>3.126866</td>\n",
       "    </tr>\n",
       "    <tr>\n",
       "      <th>3</th>\n",
       "      <td>Doc 50</td>\n",
       "      <td>[kerja, praktik, analisis, yang, memengaruhi, ...</td>\n",
       "      <td>2.605500</td>\n",
       "    </tr>\n",
       "    <tr>\n",
       "      <th>4</th>\n",
       "      <td>Doc 36</td>\n",
       "      <td>[analisis, faktor, pengaruh, jenis, interaksi,...</td>\n",
       "      <td>2.543279</td>\n",
       "    </tr>\n",
       "    <tr>\n",
       "      <th>5</th>\n",
       "      <td>Doc 131</td>\n",
       "      <td>[kualitas, informasi, dan, kredibilitas, sumbe...</td>\n",
       "      <td>2.350693</td>\n",
       "    </tr>\n",
       "    <tr>\n",
       "      <th>6</th>\n",
       "      <td>Doc 110</td>\n",
       "      <td>[ekstraksi, frase, kunci, pada, pertanyaan, fo...</td>\n",
       "      <td>2.223079</td>\n",
       "    </tr>\n",
       "    <tr>\n",
       "      <th>7</th>\n",
       "      <td>Doc 416</td>\n",
       "      <td>[rancangan, penerapan, strategi, pembelajaran,...</td>\n",
       "      <td>2.050269</td>\n",
       "    </tr>\n",
       "    <tr>\n",
       "      <th>8</th>\n",
       "      <td>Doc 143</td>\n",
       "      <td>[fitur, software, product, lines, menggunakan,...</td>\n",
       "      <td>2.031361</td>\n",
       "    </tr>\n",
       "    <tr>\n",
       "      <th>9</th>\n",
       "      <td>Doc 19</td>\n",
       "      <td>[information, strategy, planning, atau, alat, ...</td>\n",
       "      <td>2.002853</td>\n",
       "    </tr>\n",
       "  </tbody>\n",
       "</table>\n",
       "</div>"
      ],
      "text/plain": [
       "    No Doc                                           Document     Score\n",
       "0  Doc 397  [perolehan, informasi, lintas, bahasa, menggun...  4.641979\n",
       "1  Doc 188  [penelitian, ini, merancang, dan, mengimplemen...  3.208014\n",
       "2  Doc 381  [sistem, informasi, eksekutif, sebagai, salah,...  3.126866\n",
       "3   Doc 50  [kerja, praktik, analisis, yang, memengaruhi, ...  2.605500\n",
       "4   Doc 36  [analisis, faktor, pengaruh, jenis, interaksi,...  2.543279\n",
       "5  Doc 131  [kualitas, informasi, dan, kredibilitas, sumbe...  2.350693\n",
       "6  Doc 110  [ekstraksi, frase, kunci, pada, pertanyaan, fo...  2.223079\n",
       "7  Doc 416  [rancangan, penerapan, strategi, pembelajaran,...  2.050269\n",
       "8  Doc 143  [fitur, software, product, lines, menggunakan,...  2.031361\n",
       "9   Doc 19  [information, strategy, planning, atau, alat, ...  2.002853"
      ]
     },
     "execution_count": 96,
     "metadata": {},
     "output_type": "execute_result"
    }
   ],
   "source": [
    "score('information retrieval', 1.2, 0.75).head(10)"
   ]
  },
  {
   "cell_type": "markdown",
   "metadata": {
    "id": "uYV1Ilq_PvPG"
   },
   "source": [
    "query: sistem manajemen pengetahuan, k=1.2, b=0.5"
   ]
  },
  {
   "cell_type": "code",
   "execution_count": 97,
   "metadata": {
    "colab": {
     "base_uri": "https://localhost:8080/",
     "height": 0
    },
    "executionInfo": {
     "elapsed": 19,
     "status": "ok",
     "timestamp": 1636452707116,
     "user": {
      "displayName": "Naufal Hilmi",
      "photoUrl": "https://lh3.googleusercontent.com/a-/AOh14Gj7UB8yAHzIcK8gtuCV9hf44dCQUmF8XqLkQI3C=s64",
      "userId": "02567910694508979199"
     },
     "user_tz": -420
    },
    "id": "scOysAkCQDnD",
    "outputId": "d3ca9061-c44b-4574-c718-b91a06bb3d69"
   },
   "outputs": [
    {
     "data": {
      "text/html": [
       "<div>\n",
       "<style scoped>\n",
       "    .dataframe tbody tr th:only-of-type {\n",
       "        vertical-align: middle;\n",
       "    }\n",
       "\n",
       "    .dataframe tbody tr th {\n",
       "        vertical-align: top;\n",
       "    }\n",
       "\n",
       "    .dataframe thead th {\n",
       "        text-align: right;\n",
       "    }\n",
       "</style>\n",
       "<table border=\"1\" class=\"dataframe\">\n",
       "  <thead>\n",
       "    <tr style=\"text-align: right;\">\n",
       "      <th></th>\n",
       "      <th>No Doc</th>\n",
       "      <th>Document</th>\n",
       "      <th>Score</th>\n",
       "    </tr>\n",
       "  </thead>\n",
       "  <tbody>\n",
       "    <tr>\n",
       "      <th>0</th>\n",
       "      <td>Doc 461</td>\n",
       "      <td>[usability, evaluation, sistem, informasi, man...</td>\n",
       "      <td>3.627229</td>\n",
       "    </tr>\n",
       "    <tr>\n",
       "      <th>1</th>\n",
       "      <td>Doc 240</td>\n",
       "      <td>[pembangunan, knowledge, base, melalui, pendek...</td>\n",
       "      <td>3.282343</td>\n",
       "    </tr>\n",
       "    <tr>\n",
       "      <th>2</th>\n",
       "      <td>Doc 453</td>\n",
       "      <td>[kunci, kesuksesan, seubah, sistem, kontrol, s...</td>\n",
       "      <td>3.253277</td>\n",
       "    </tr>\n",
       "    <tr>\n",
       "      <th>3</th>\n",
       "      <td>Doc 264</td>\n",
       "      <td>[penerapan, big, data, pada, data, rekam, medi...</td>\n",
       "      <td>3.181344</td>\n",
       "    </tr>\n",
       "    <tr>\n",
       "      <th>4</th>\n",
       "      <td>Doc 249</td>\n",
       "      <td>[pemodelan, arsitektur, teknologi, sistem, inf...</td>\n",
       "      <td>3.107754</td>\n",
       "    </tr>\n",
       "    <tr>\n",
       "      <th>5</th>\n",
       "      <td>Doc 418</td>\n",
       "      <td>[sistem, personalisasi, merupakan, salah, satu...</td>\n",
       "      <td>2.862771</td>\n",
       "    </tr>\n",
       "    <tr>\n",
       "      <th>6</th>\n",
       "      <td>Doc 15</td>\n",
       "      <td>[dalam, membangun, suatu, aplikasi, sering, ka...</td>\n",
       "      <td>2.856179</td>\n",
       "    </tr>\n",
       "    <tr>\n",
       "      <th>7</th>\n",
       "      <td>Doc 399</td>\n",
       "      <td>[perumusan, kamus, data, kompetensi, pegawai, ...</td>\n",
       "      <td>2.847093</td>\n",
       "    </tr>\n",
       "    <tr>\n",
       "      <th>8</th>\n",
       "      <td>Doc 8</td>\n",
       "      <td>[analisis, kegiatan, berbagi, pengetahuan, pad...</td>\n",
       "      <td>2.508441</td>\n",
       "    </tr>\n",
       "    <tr>\n",
       "      <th>9</th>\n",
       "      <td>Doc 43</td>\n",
       "      <td>[analisis, internal, dan, eksternal, yang, mem...</td>\n",
       "      <td>2.459574</td>\n",
       "    </tr>\n",
       "  </tbody>\n",
       "</table>\n",
       "</div>"
      ],
      "text/plain": [
       "    No Doc                                           Document     Score\n",
       "0  Doc 461  [usability, evaluation, sistem, informasi, man...  3.627229\n",
       "1  Doc 240  [pembangunan, knowledge, base, melalui, pendek...  3.282343\n",
       "2  Doc 453  [kunci, kesuksesan, seubah, sistem, kontrol, s...  3.253277\n",
       "3  Doc 264  [penerapan, big, data, pada, data, rekam, medi...  3.181344\n",
       "4  Doc 249  [pemodelan, arsitektur, teknologi, sistem, inf...  3.107754\n",
       "5  Doc 418  [sistem, personalisasi, merupakan, salah, satu...  2.862771\n",
       "6   Doc 15  [dalam, membangun, suatu, aplikasi, sering, ka...  2.856179\n",
       "7  Doc 399  [perumusan, kamus, data, kompetensi, pegawai, ...  2.847093\n",
       "8    Doc 8  [analisis, kegiatan, berbagi, pengetahuan, pad...  2.508441\n",
       "9   Doc 43  [analisis, internal, dan, eksternal, yang, mem...  2.459574"
      ]
     },
     "execution_count": 97,
     "metadata": {},
     "output_type": "execute_result"
    }
   ],
   "source": [
    "score('sistem manajemen pengetahuan', 1.2, 0.5).head(10)"
   ]
  },
  {
   "cell_type": "markdown",
   "metadata": {
    "id": "y3tEfRPtPxyc"
   },
   "source": [
    "query: knowledge discovery, k=2, b=0.5"
   ]
  },
  {
   "cell_type": "code",
   "execution_count": 98,
   "metadata": {
    "colab": {
     "base_uri": "https://localhost:8080/",
     "height": 0
    },
    "executionInfo": {
     "elapsed": 20,
     "status": "ok",
     "timestamp": 1636452707117,
     "user": {
      "displayName": "Naufal Hilmi",
      "photoUrl": "https://lh3.googleusercontent.com/a-/AOh14Gj7UB8yAHzIcK8gtuCV9hf44dCQUmF8XqLkQI3C=s64",
      "userId": "02567910694508979199"
     },
     "user_tz": -420
    },
    "id": "ZTDAkM-PQD-o",
    "outputId": "130ecf2c-5d87-4ccb-e504-c4d3aacfcf2d"
   },
   "outputs": [
    {
     "data": {
      "text/html": [
       "<div>\n",
       "<style scoped>\n",
       "    .dataframe tbody tr th:only-of-type {\n",
       "        vertical-align: middle;\n",
       "    }\n",
       "\n",
       "    .dataframe tbody tr th {\n",
       "        vertical-align: top;\n",
       "    }\n",
       "\n",
       "    .dataframe thead th {\n",
       "        text-align: right;\n",
       "    }\n",
       "</style>\n",
       "<table border=\"1\" class=\"dataframe\">\n",
       "  <thead>\n",
       "    <tr style=\"text-align: right;\">\n",
       "      <th></th>\n",
       "      <th>No Doc</th>\n",
       "      <th>Document</th>\n",
       "      <th>Score</th>\n",
       "    </tr>\n",
       "  </thead>\n",
       "  <tbody>\n",
       "    <tr>\n",
       "      <th>0</th>\n",
       "      <td>Doc 138</td>\n",
       "      <td>[yang, mempengaruhi, kesuksesan, implementasi,...</td>\n",
       "      <td>2.942014</td>\n",
       "    </tr>\n",
       "    <tr>\n",
       "      <th>1</th>\n",
       "      <td>Doc 211</td>\n",
       "      <td>[knowledge, graph, completeness, analytics, ca...</td>\n",
       "      <td>2.900847</td>\n",
       "    </tr>\n",
       "    <tr>\n",
       "      <th>2</th>\n",
       "      <td>Doc 417</td>\n",
       "      <td>[rancangan, prediktor, akurasi, hasil, segment...</td>\n",
       "      <td>2.855496</td>\n",
       "    </tr>\n",
       "    <tr>\n",
       "      <th>3</th>\n",
       "      <td>Doc 43</td>\n",
       "      <td>[analisis, internal, dan, eksternal, yang, mem...</td>\n",
       "      <td>2.606364</td>\n",
       "    </tr>\n",
       "    <tr>\n",
       "      <th>4</th>\n",
       "      <td>Doc 373</td>\n",
       "      <td>[penjajaran, vocabulary, antara, data, tabular...</td>\n",
       "      <td>2.536924</td>\n",
       "    </tr>\n",
       "    <tr>\n",
       "      <th>5</th>\n",
       "      <td>Doc 240</td>\n",
       "      <td>[pembangunan, knowledge, base, melalui, pendek...</td>\n",
       "      <td>2.304665</td>\n",
       "    </tr>\n",
       "    <tr>\n",
       "      <th>6</th>\n",
       "      <td>Doc 421</td>\n",
       "      <td>[republikasi, data, pada, portal, data, terbuk...</td>\n",
       "      <td>1.788748</td>\n",
       "    </tr>\n",
       "    <tr>\n",
       "      <th>7</th>\n",
       "      <td>Doc 110</td>\n",
       "      <td>[ekstraksi, frase, kunci, pada, pertanyaan, fo...</td>\n",
       "      <td>1.376667</td>\n",
       "    </tr>\n",
       "    <tr>\n",
       "      <th>8</th>\n",
       "      <td>Doc 376</td>\n",
       "      <td>[penyusunan, kerangka, untuk, mengevaluasi, da...</td>\n",
       "      <td>1.202033</td>\n",
       "    </tr>\n",
       "    <tr>\n",
       "      <th>9</th>\n",
       "      <td>Doc 158</td>\n",
       "      <td>[remembrance, agent, ra, adalah, sebuah, agen,...</td>\n",
       "      <td>1.123755</td>\n",
       "    </tr>\n",
       "  </tbody>\n",
       "</table>\n",
       "</div>"
      ],
      "text/plain": [
       "    No Doc                                           Document     Score\n",
       "0  Doc 138  [yang, mempengaruhi, kesuksesan, implementasi,...  2.942014\n",
       "1  Doc 211  [knowledge, graph, completeness, analytics, ca...  2.900847\n",
       "2  Doc 417  [rancangan, prediktor, akurasi, hasil, segment...  2.855496\n",
       "3   Doc 43  [analisis, internal, dan, eksternal, yang, mem...  2.606364\n",
       "4  Doc 373  [penjajaran, vocabulary, antara, data, tabular...  2.536924\n",
       "5  Doc 240  [pembangunan, knowledge, base, melalui, pendek...  2.304665\n",
       "6  Doc 421  [republikasi, data, pada, portal, data, terbuk...  1.788748\n",
       "7  Doc 110  [ekstraksi, frase, kunci, pada, pertanyaan, fo...  1.376667\n",
       "8  Doc 376  [penyusunan, kerangka, untuk, mengevaluasi, da...  1.202033\n",
       "9  Doc 158  [remembrance, agent, ra, adalah, sebuah, agen,...  1.123755"
      ]
     },
     "execution_count": 98,
     "metadata": {},
     "output_type": "execute_result"
    }
   ],
   "source": [
    "score('knowledge discovery', 2, 0.5).head(10)"
   ]
  },
  {
   "cell_type": "markdown",
   "metadata": {
    "id": "07wxPZRZQmPK"
   },
   "source": [
    "# Neural Embedding Word2Vec"
   ]
  },
  {
   "cell_type": "markdown",
   "metadata": {
    "id": "shuZDNO6QpS9"
   },
   "source": [
    "## Melakukan Stemming terhadap kata"
   ]
  },
  {
   "cell_type": "code",
   "execution_count": 99,
   "metadata": {
    "colab": {
     "base_uri": "https://localhost:8080/"
    },
    "executionInfo": {
     "elapsed": 3033,
     "status": "ok",
     "timestamp": 1636452710131,
     "user": {
      "displayName": "Naufal Hilmi",
      "photoUrl": "https://lh3.googleusercontent.com/a-/AOh14Gj7UB8yAHzIcK8gtuCV9hf44dCQUmF8XqLkQI3C=s64",
      "userId": "02567910694508979199"
     },
     "user_tz": -420
    },
    "id": "PeC5DgDWRRj-",
    "outputId": "1ec70ae3-b040-401d-9aea-c4a34ccbcdf3"
   },
   "outputs": [
    {
     "name": "stdout",
     "output_type": "stream",
     "text": [
      "Requirement already satisfied: PySastrawi in /usr/local/lib/python3.7/dist-packages (1.2.0)\n"
     ]
    }
   ],
   "source": [
    "!pip install PySastrawi"
   ]
  },
  {
   "cell_type": "code",
   "execution_count": 100,
   "metadata": {
    "executionInfo": {
     "elapsed": 10,
     "status": "ok",
     "timestamp": 1636452710133,
     "user": {
      "displayName": "Naufal Hilmi",
      "photoUrl": "https://lh3.googleusercontent.com/a-/AOh14Gj7UB8yAHzIcK8gtuCV9hf44dCQUmF8XqLkQI3C=s64",
      "userId": "02567910694508979199"
     },
     "user_tz": -420
    },
    "id": "0ewYT9wvsk22"
   },
   "outputs": [],
   "source": [
    "from Sastrawi.Stemmer.StemmerFactory import StemmerFactory"
   ]
  },
  {
   "cell_type": "code",
   "execution_count": 101,
   "metadata": {
    "executionInfo": {
     "elapsed": 8,
     "status": "ok",
     "timestamp": 1636452710133,
     "user": {
      "displayName": "Naufal Hilmi",
      "photoUrl": "https://lh3.googleusercontent.com/a-/AOh14Gj7UB8yAHzIcK8gtuCV9hf44dCQUmF8XqLkQI3C=s64",
      "userId": "02567910694508979199"
     },
     "user_tz": -420
    },
    "id": "x04lAoA3spzW"
   },
   "outputs": [],
   "source": [
    "factory = StemmerFactory()\n",
    "stemmer = factory.create_stemmer()"
   ]
  },
  {
   "cell_type": "code",
   "execution_count": 102,
   "metadata": {
    "executionInfo": {
     "elapsed": 2567,
     "status": "ok",
     "timestamp": 1636452712693,
     "user": {
      "displayName": "Naufal Hilmi",
      "photoUrl": "https://lh3.googleusercontent.com/a-/AOh14Gj7UB8yAHzIcK8gtuCV9hf44dCQUmF8XqLkQI3C=s64",
      "userId": "02567910694508979199"
     },
     "user_tz": -420
    },
    "id": "DD7z6s0ZssN4"
   },
   "outputs": [],
   "source": [
    "after_stem = []\n",
    "for i in token_wo_punc:\n",
    "  tmp = []\n",
    "  for j in i:\n",
    "    tmp.append(stemmer.stem(j))\n",
    "  after_stem.append(tmp)"
   ]
  },
  {
   "cell_type": "markdown",
   "metadata": {
    "id": "TmQ4HjhQQsUH"
   },
   "source": [
    "## Pembuatan model Word2Vec"
   ]
  },
  {
   "cell_type": "code",
   "execution_count": 103,
   "metadata": {
    "colab": {
     "base_uri": "https://localhost:8080/"
    },
    "executionInfo": {
     "elapsed": 2973,
     "status": "ok",
     "timestamp": 1636452715663,
     "user": {
      "displayName": "Naufal Hilmi",
      "photoUrl": "https://lh3.googleusercontent.com/a-/AOh14Gj7UB8yAHzIcK8gtuCV9hf44dCQUmF8XqLkQI3C=s64",
      "userId": "02567910694508979199"
     },
     "user_tz": -420
    },
    "id": "3M5gRdzevCUi",
    "outputId": "f7da26ee-745a-4bb9-f369-34251862356e"
   },
   "outputs": [
    {
     "name": "stdout",
     "output_type": "stream",
     "text": [
      "Requirement already satisfied: gensim in /usr/local/lib/python3.7/dist-packages (3.6.0)\n",
      "Requirement already satisfied: smart-open>=1.2.1 in /usr/local/lib/python3.7/dist-packages (from gensim) (5.2.1)\n",
      "Requirement already satisfied: six>=1.5.0 in /usr/local/lib/python3.7/dist-packages (from gensim) (1.15.0)\n",
      "Requirement already satisfied: numpy>=1.11.3 in /usr/local/lib/python3.7/dist-packages (from gensim) (1.19.5)\n",
      "Requirement already satisfied: scipy>=0.18.1 in /usr/local/lib/python3.7/dist-packages (from gensim) (1.4.1)\n"
     ]
    }
   ],
   "source": [
    "!pip install gensim"
   ]
  },
  {
   "cell_type": "code",
   "execution_count": 104,
   "metadata": {
    "executionInfo": {
     "elapsed": 13,
     "status": "ok",
     "timestamp": 1636452715663,
     "user": {
      "displayName": "Naufal Hilmi",
      "photoUrl": "https://lh3.googleusercontent.com/a-/AOh14Gj7UB8yAHzIcK8gtuCV9hf44dCQUmF8XqLkQI3C=s64",
      "userId": "02567910694508979199"
     },
     "user_tz": -420
    },
    "id": "XLKnumQ2vHTO"
   },
   "outputs": [],
   "source": [
    "from gensim.models import Word2Vec"
   ]
  },
  {
   "cell_type": "code",
   "execution_count": 105,
   "metadata": {
    "executionInfo": {
     "elapsed": 2202,
     "status": "ok",
     "timestamp": 1636452717854,
     "user": {
      "displayName": "Naufal Hilmi",
      "photoUrl": "https://lh3.googleusercontent.com/a-/AOh14Gj7UB8yAHzIcK8gtuCV9hf44dCQUmF8XqLkQI3C=s64",
      "userId": "02567910694508979199"
     },
     "user_tz": -420
    },
    "id": "voGGfV7J82ds"
   },
   "outputs": [],
   "source": [
    "model = Word2Vec(sentences = after_stem, size=2, window=5, min_count=1, workers=4, iter=10)"
   ]
  },
  {
   "cell_type": "markdown",
   "metadata": {
    "id": "IlQO0IziQuUQ"
   },
   "source": [
    "## Mencari peletakan koordinat dari kata"
   ]
  },
  {
   "cell_type": "code",
   "execution_count": 159,
   "metadata": {
    "colab": {
     "base_uri": "https://localhost:8080/"
    },
    "executionInfo": {
     "elapsed": 375,
     "status": "ok",
     "timestamp": 1636454948987,
     "user": {
      "displayName": "Naufal Hilmi",
      "photoUrl": "https://lh3.googleusercontent.com/a-/AOh14Gj7UB8yAHzIcK8gtuCV9hf44dCQUmF8XqLkQI3C=s64",
      "userId": "02567910694508979199"
     },
     "user_tz": -420
    },
    "id": "WqjiaUgrzA8z",
    "outputId": "aee949a5-2de0-4ffe-f054-2b2f951c301c"
   },
   "outputs": [
    {
     "name": "stdout",
     "output_type": "stream",
     "text": [
      "[0.7761892 4.585204 ]\n"
     ]
    },
    {
     "name": "stderr",
     "output_type": "stream",
     "text": [
      "/usr/local/lib/python3.7/dist-packages/ipykernel_launcher.py:1: DeprecationWarning:\n",
      "\n",
      "Call to deprecated `__getitem__` (Method will be removed in 4.0.0, use self.wv.__getitem__() instead).\n",
      "\n"
     ]
    }
   ],
   "source": [
    "koor_algoritma = model['algoritma']\n",
    "print(koor_algoritma)"
   ]
  },
  {
   "cell_type": "code",
   "execution_count": 107,
   "metadata": {
    "colab": {
     "base_uri": "https://localhost:8080/"
    },
    "executionInfo": {
     "elapsed": 9,
     "status": "ok",
     "timestamp": 1636452717855,
     "user": {
      "displayName": "Naufal Hilmi",
      "photoUrl": "https://lh3.googleusercontent.com/a-/AOh14Gj7UB8yAHzIcK8gtuCV9hf44dCQUmF8XqLkQI3C=s64",
      "userId": "02567910694508979199"
     },
     "user_tz": -420
    },
    "id": "1BLCshBTzXIL",
    "outputId": "dc941353-9792-4b71-8c04-898fdc992d7d"
   },
   "outputs": [
    {
     "name": "stdout",
     "output_type": "stream",
     "text": [
      "[0.83287126 2.4446106 ]\n"
     ]
    },
    {
     "name": "stderr",
     "output_type": "stream",
     "text": [
      "/usr/local/lib/python3.7/dist-packages/ipykernel_launcher.py:1: DeprecationWarning:\n",
      "\n",
      "Call to deprecated `__getitem__` (Method will be removed in 4.0.0, use self.wv.__getitem__() instead).\n",
      "\n"
     ]
    }
   ],
   "source": [
    "koor_interface = model['interface']\n",
    "print(koor_interface)"
   ]
  },
  {
   "cell_type": "markdown",
   "metadata": {
    "id": "uRaUBaATQvNl"
   },
   "source": [
    "## Ploting koordinat pada 2D Euclidean Space"
   ]
  },
  {
   "cell_type": "code",
   "execution_count": 108,
   "metadata": {
    "colab": {
     "base_uri": "https://localhost:8080/",
     "height": 265
    },
    "executionInfo": {
     "elapsed": 9,
     "status": "ok",
     "timestamp": 1636452717856,
     "user": {
      "displayName": "Naufal Hilmi",
      "photoUrl": "https://lh3.googleusercontent.com/a-/AOh14Gj7UB8yAHzIcK8gtuCV9hf44dCQUmF8XqLkQI3C=s64",
      "userId": "02567910694508979199"
     },
     "user_tz": -420
    },
    "id": "NUdm1poH0iNA",
    "outputId": "e5967593-a1ff-46f0-9453-20d5d18b7bd9"
   },
   "outputs": [
    {
     "data": {
      "image/png": "[encoded data removed]",
      "text/plain": [
       "<Figure size 432x288 with 1 Axes>"
      ]
     },
     "metadata": {
      "needs_background": "light"
     },
     "output_type": "display_data"
    }
   ],
   "source": [
    "word_coor = {\n",
    "    'algoritma' : koor_algoritma,\n",
    "    'interface' : koor_interface\n",
    "}\n",
    "\n",
    "for i in word_coor.keys():\n",
    "  coor = word_coor[i]\n",
    "  x = coor[0]\n",
    "  y = coor[1]\n",
    "  plt.scatter(x, y)\n",
    "  plt.annotate(i, xy=(x,y))"
   ]
  },
  {
   "cell_type": "markdown",
   "metadata": {
    "id": "AHy0MdE9Qv_S"
   },
   "source": [
    "## Membuat fungsi untuk mengambil dokumen relevan"
   ]
  },
  {
   "cell_type": "code",
   "execution_count": 109,
   "metadata": {
    "colab": {
     "base_uri": "https://localhost:8080/"
    },
    "executionInfo": {
     "elapsed": 394,
     "status": "ok",
     "timestamp": 1636452718242,
     "user": {
      "displayName": "Naufal Hilmi",
      "photoUrl": "https://lh3.googleusercontent.com/a-/AOh14Gj7UB8yAHzIcK8gtuCV9hf44dCQUmF8XqLkQI3C=s64",
      "userId": "02567910694508979199"
     },
     "user_tz": -420
    },
    "id": "iWocqEYakYBn",
    "outputId": "a2993af9-7b4f-4496-acd9-ef5c4cde6a82"
   },
   "outputs": [
    {
     "name": "stderr",
     "output_type": "stream",
     "text": [
      "/usr/local/lib/python3.7/dist-packages/ipykernel_launcher.py:6: DeprecationWarning:\n",
      "\n",
      "Call to deprecated `__getitem__` (Method will be removed in 4.0.0, use self.wv.__getitem__() instead).\n",
      "\n"
     ]
    },
    {
     "data": {
      "text/plain": [
       "0    {'analisis': [3.6213777, 3.2926002], 'faktor':...\n",
       "1    {'analisis': [3.6213777, 3.2926002], 'perilaku...\n",
       "2    {'desain': [-0.09343168, 4.298336], 'interaksi...\n",
       "3    {'evaluasi': [3.2920506, 3.358033], 'dan': [1....\n",
       "4    {'evaluasi': [3.2920506, 3.358033], 'desain': ...\n",
       "5    {'pengaruh': [4.8836718, 4.0134773], 'efek': [...\n",
       "6    {'rancang': [2.0489812, 3.4349082], 'dan': [1....\n",
       "7    {'penting': [-0.012527441, 3.1622424], 'terap'...\n",
       "8    {'analisis': [3.6213777, 3.2926002], 'giat': [...\n",
       "9    {'adaptasi': [0.048068713, 0.6094034], 'model'...\n",
       "dtype: object"
      ]
     },
     "execution_count": 109,
     "metadata": {},
     "output_type": "execute_result"
    }
   ],
   "source": [
    "tmp = []\n",
    "for i in after_stem:\n",
    "  dictio = {}\n",
    "  for j in i:\n",
    "    if j not in dictio.keys():\n",
    "      dictio[j] = model[j]\n",
    "    else:\n",
    "      continue\n",
    "  tmp.append(dictio)\n",
    "word_vec = pd.Series(tmp)\n",
    "word_vec.head(10)"
   ]
  },
  {
   "cell_type": "code",
   "execution_count": 110,
   "metadata": {
    "colab": {
     "base_uri": "https://localhost:8080/"
    },
    "executionInfo": {
     "elapsed": 14,
     "status": "ok",
     "timestamp": 1636452718243,
     "user": {
      "displayName": "Naufal Hilmi",
      "photoUrl": "https://lh3.googleusercontent.com/a-/AOh14Gj7UB8yAHzIcK8gtuCV9hf44dCQUmF8XqLkQI3C=s64",
      "userId": "02567910694508979199"
     },
     "user_tz": -420
    },
    "id": "BzgFXOBSpBpw",
    "outputId": "79cd8021-99dc-4fce-804c-9c32e3912a90"
   },
   "outputs": [
    {
     "data": {
      "text/plain": [
       "doc 1       [1.5329089, 2.990952]\n",
       "doc 2      [1.4311879, 2.9525495]\n",
       "doc 3      [1.1869675, 3.3853383]\n",
       "doc 4     [0.90012395, 3.0941038]\n",
       "doc 5       [1.025788, 3.3841522]\n",
       "doc 6       [1.677871, 3.0443902]\n",
       "doc 7     [0.87897056, 2.7318866]\n",
       "doc 8     [0.90464354, 3.1205492]\n",
       "doc 9      [1.1696228, 2.6124353]\n",
       "doc 10     [1.3389947, 3.0384831]\n",
       "dtype: object"
      ]
     },
     "execution_count": 110,
     "metadata": {},
     "output_type": "execute_result"
    }
   ],
   "source": [
    "tmp = {}\n",
    "for i in range(len(word_vec)):\n",
    "  tmp_value = np.array(list(word_vec[i].values()))\n",
    "  value = tmp_value.mean(axis=0)\n",
    "  tmp['doc '+str(i+1)] = value\n",
    "doc_vec = pd.Series(tmp)\n",
    "doc_vec.head(10)"
   ]
  },
  {
   "cell_type": "code",
   "execution_count": 166,
   "metadata": {
    "executionInfo": {
     "elapsed": 369,
     "status": "ok",
     "timestamp": 1636455237102,
     "user": {
      "displayName": "Naufal Hilmi",
      "photoUrl": "https://lh3.googleusercontent.com/a-/AOh14Gj7UB8yAHzIcK8gtuCV9hf44dCQUmF8XqLkQI3C=s64",
      "userId": "02567910694508979199"
     },
     "user_tz": -420
    },
    "id": "KwJXZ-xXqXH6"
   },
   "outputs": [],
   "source": [
    "def score_word2vec(query):\n",
    "  term = query.split()\n",
    "  res = []\n",
    "  for i in range(len(word_vec)):\n",
    "    tmp = 0\n",
    "    for j in term:\n",
    "      if j not in word_vec[i]:\n",
    "        continue\n",
    "      else:\n",
    "        word_vec_value = word_vec[i][j]\n",
    "      pembilang =  np.dot(doc_vec['doc ' + str(i+1)], word_vec_value)\n",
    "      penyebut = (norm(doc_vec['doc ' + str(i+1)])*norm(word_vec_value))\n",
    "      tmp = tmp + (pembilang/penyebut)\n",
    "    res.append(('Doc ' + str(i),after_stem[i], tmp))\n",
    "  final = pd.DataFrame(res, columns=['No Doc', 'Document', 'Score'])\n",
    "  final.sort_values(by=['Score'], ascending=False,inplace=True)\n",
    "  final.reset_index(inplace=True,drop=True)\n",
    "  return final"
   ]
  },
  {
   "cell_type": "markdown",
   "metadata": {
    "id": "xn5WY0WZQxCD"
   },
   "source": [
    "## Melakukan pengetasan fungsi"
   ]
  },
  {
   "cell_type": "code",
   "execution_count": 112,
   "metadata": {
    "colab": {
     "base_uri": "https://localhost:8080/",
     "height": 357
    },
    "executionInfo": {
     "elapsed": 8,
     "status": "ok",
     "timestamp": 1636452718244,
     "user": {
      "displayName": "Naufal Hilmi",
      "photoUrl": "https://lh3.googleusercontent.com/a-/AOh14Gj7UB8yAHzIcK8gtuCV9hf44dCQUmF8XqLkQI3C=s64",
      "userId": "02567910694508979199"
     },
     "user_tz": -420
    },
    "id": "zHYBzRAMyDnW",
    "outputId": "85c30e38-2b6b-405e-8488-cea83cb4af0c"
   },
   "outputs": [
    {
     "data": {
      "text/html": [
       "<div>\n",
       "<style scoped>\n",
       "    .dataframe tbody tr th:only-of-type {\n",
       "        vertical-align: middle;\n",
       "    }\n",
       "\n",
       "    .dataframe tbody tr th {\n",
       "        vertical-align: top;\n",
       "    }\n",
       "\n",
       "    .dataframe thead th {\n",
       "        text-align: right;\n",
       "    }\n",
       "</style>\n",
       "<table border=\"1\" class=\"dataframe\">\n",
       "  <thead>\n",
       "    <tr style=\"text-align: right;\">\n",
       "      <th></th>\n",
       "      <th>No Doc</th>\n",
       "      <th>Document</th>\n",
       "      <th>Score</th>\n",
       "    </tr>\n",
       "  </thead>\n",
       "  <tbody>\n",
       "    <tr>\n",
       "      <th>0</th>\n",
       "      <td>Doc 381</td>\n",
       "      <td>[sistem, informasi, eksekutif, bagai, salah, s...</td>\n",
       "      <td>1.981903</td>\n",
       "    </tr>\n",
       "    <tr>\n",
       "      <th>1</th>\n",
       "      <td>Doc 188</td>\n",
       "      <td>[teliti, ini, rancang, dan, implementasi, prot...</td>\n",
       "      <td>1.979499</td>\n",
       "    </tr>\n",
       "    <tr>\n",
       "      <th>2</th>\n",
       "      <td>Doc 397</td>\n",
       "      <td>[oleh, informasi, lintas, bahasa, guna, korpus...</td>\n",
       "      <td>1.971094</td>\n",
       "    </tr>\n",
       "    <tr>\n",
       "      <th>3</th>\n",
       "      <td>Doc 39</td>\n",
       "      <td>[analisis, faktor, yang, pengaruh, loyalitas, ...</td>\n",
       "      <td>0.999415</td>\n",
       "    </tr>\n",
       "    <tr>\n",
       "      <th>4</th>\n",
       "      <td>Doc 80</td>\n",
       "      <td>[dampak, gamifikasi, dan, mobile, wallet, perf...</td>\n",
       "      <td>0.998600</td>\n",
       "    </tr>\n",
       "    <tr>\n",
       "      <th>5</th>\n",
       "      <td>Doc 103</td>\n",
       "      <td>[teliti, ini, tuju, kembang, sistem, informasi...</td>\n",
       "      <td>0.998491</td>\n",
       "    </tr>\n",
       "    <tr>\n",
       "      <th>6</th>\n",
       "      <td>Doc 137</td>\n",
       "      <td>[yang, pengaruh, ingin, untuk, beli, cara, imp...</td>\n",
       "      <td>0.997561</td>\n",
       "    </tr>\n",
       "    <tr>\n",
       "      <th>7</th>\n",
       "      <td>Doc 131</td>\n",
       "      <td>[kualitas, informasi, dan, kredibilitas, sumbe...</td>\n",
       "      <td>0.997420</td>\n",
       "    </tr>\n",
       "    <tr>\n",
       "      <th>8</th>\n",
       "      <td>Doc 50</td>\n",
       "      <td>[kerja, praktik, analisis, yang, pengaruh, per...</td>\n",
       "      <td>0.996258</td>\n",
       "    </tr>\n",
       "    <tr>\n",
       "      <th>9</th>\n",
       "      <td>Doc 43</td>\n",
       "      <td>[analisis, internal, dan, eksternal, yang, pen...</td>\n",
       "      <td>0.996137</td>\n",
       "    </tr>\n",
       "  </tbody>\n",
       "</table>\n",
       "</div>"
      ],
      "text/plain": [
       "    No Doc                                           Document     Score\n",
       "0  Doc 381  [sistem, informasi, eksekutif, bagai, salah, s...  1.981903\n",
       "1  Doc 188  [teliti, ini, rancang, dan, implementasi, prot...  1.979499\n",
       "2  Doc 397  [oleh, informasi, lintas, bahasa, guna, korpus...  1.971094\n",
       "3   Doc 39  [analisis, faktor, yang, pengaruh, loyalitas, ...  0.999415\n",
       "4   Doc 80  [dampak, gamifikasi, dan, mobile, wallet, perf...  0.998600\n",
       "5  Doc 103  [teliti, ini, tuju, kembang, sistem, informasi...  0.998491\n",
       "6  Doc 137  [yang, pengaruh, ingin, untuk, beli, cara, imp...  0.997561\n",
       "7  Doc 131  [kualitas, informasi, dan, kredibilitas, sumbe...  0.997420\n",
       "8   Doc 50  [kerja, praktik, analisis, yang, pengaruh, per...  0.996258\n",
       "9   Doc 43  [analisis, internal, dan, eksternal, yang, pen...  0.996137"
      ]
     },
     "execution_count": 112,
     "metadata": {},
     "output_type": "execute_result"
    }
   ],
   "source": [
    "score_word2vec('information retrieval').head(10)"
   ]
  },
  {
   "cell_type": "code",
   "execution_count": 113,
   "metadata": {
    "colab": {
     "base_uri": "https://localhost:8080/",
     "height": 357
    },
    "executionInfo": {
     "elapsed": 451,
     "status": "ok",
     "timestamp": 1636452718688,
     "user": {
      "displayName": "Naufal Hilmi",
      "photoUrl": "https://lh3.googleusercontent.com/a-/AOh14Gj7UB8yAHzIcK8gtuCV9hf44dCQUmF8XqLkQI3C=s64",
      "userId": "02567910694508979199"
     },
     "user_tz": -420
    },
    "id": "xUTEfTeb4Wvs",
    "outputId": "54fde06b-27bf-411d-bc65-d014e81d64f7"
   },
   "outputs": [
    {
     "data": {
      "text/html": [
       "<div>\n",
       "<style scoped>\n",
       "    .dataframe tbody tr th:only-of-type {\n",
       "        vertical-align: middle;\n",
       "    }\n",
       "\n",
       "    .dataframe tbody tr th {\n",
       "        vertical-align: top;\n",
       "    }\n",
       "\n",
       "    .dataframe thead th {\n",
       "        text-align: right;\n",
       "    }\n",
       "</style>\n",
       "<table border=\"1\" class=\"dataframe\">\n",
       "  <thead>\n",
       "    <tr style=\"text-align: right;\">\n",
       "      <th></th>\n",
       "      <th>No Doc</th>\n",
       "      <th>Document</th>\n",
       "      <th>Score</th>\n",
       "    </tr>\n",
       "  </thead>\n",
       "  <tbody>\n",
       "    <tr>\n",
       "      <th>0</th>\n",
       "      <td>Doc 453</td>\n",
       "      <td>[kunci, sukses, ubah, sistem, kontrol, systems...</td>\n",
       "      <td>1.973350</td>\n",
       "    </tr>\n",
       "    <tr>\n",
       "      <th>1</th>\n",
       "      <td>Doc 399</td>\n",
       "      <td>[rumus, kamus, data, kompetensi, pegawai, stud...</td>\n",
       "      <td>1.965530</td>\n",
       "    </tr>\n",
       "    <tr>\n",
       "      <th>2</th>\n",
       "      <td>Doc 264</td>\n",
       "      <td>[terap, big, data, pada, data, rekam, medis, g...</td>\n",
       "      <td>1.959426</td>\n",
       "    </tr>\n",
       "    <tr>\n",
       "      <th>3</th>\n",
       "      <td>Doc 6</td>\n",
       "      <td>[rancang, dan, implementasi, teknologi, intran...</td>\n",
       "      <td>1.951506</td>\n",
       "    </tr>\n",
       "    <tr>\n",
       "      <th>4</th>\n",
       "      <td>Doc 249</td>\n",
       "      <td>[model, arsitektur, teknologi, sistem, informa...</td>\n",
       "      <td>1.944875</td>\n",
       "    </tr>\n",
       "    <tr>\n",
       "      <th>5</th>\n",
       "      <td>Doc 461</td>\n",
       "      <td>[usability, evaluation, sistem, informasi, man...</td>\n",
       "      <td>1.941762</td>\n",
       "    </tr>\n",
       "    <tr>\n",
       "      <th>6</th>\n",
       "      <td>Doc 446</td>\n",
       "      <td>[tugas, akhir, ini, implementasi, algoritma, g...</td>\n",
       "      <td>1.000000</td>\n",
       "    </tr>\n",
       "    <tr>\n",
       "      <th>7</th>\n",
       "      <td>Doc 434</td>\n",
       "      <td>[untuk, laku, kenal, dengan, sistem, jaring, a...</td>\n",
       "      <td>0.999999</td>\n",
       "    </tr>\n",
       "    <tr>\n",
       "      <th>8</th>\n",
       "      <td>Doc 111</td>\n",
       "      <td>[ekstraksi, hubung, pada, sistem, tanya, jawab...</td>\n",
       "      <td>0.999940</td>\n",
       "    </tr>\n",
       "    <tr>\n",
       "      <th>9</th>\n",
       "      <td>Doc 428</td>\n",
       "      <td>[sistem, antarmuka, bahasa, alami, untuk, akse...</td>\n",
       "      <td>0.999882</td>\n",
       "    </tr>\n",
       "  </tbody>\n",
       "</table>\n",
       "</div>"
      ],
      "text/plain": [
       "    No Doc                                           Document     Score\n",
       "0  Doc 453  [kunci, sukses, ubah, sistem, kontrol, systems...  1.973350\n",
       "1  Doc 399  [rumus, kamus, data, kompetensi, pegawai, stud...  1.965530\n",
       "2  Doc 264  [terap, big, data, pada, data, rekam, medis, g...  1.959426\n",
       "3    Doc 6  [rancang, dan, implementasi, teknologi, intran...  1.951506\n",
       "4  Doc 249  [model, arsitektur, teknologi, sistem, informa...  1.944875\n",
       "5  Doc 461  [usability, evaluation, sistem, informasi, man...  1.941762\n",
       "6  Doc 446  [tugas, akhir, ini, implementasi, algoritma, g...  1.000000\n",
       "7  Doc 434  [untuk, laku, kenal, dengan, sistem, jaring, a...  0.999999\n",
       "8  Doc 111  [ekstraksi, hubung, pada, sistem, tanya, jawab...  0.999940\n",
       "9  Doc 428  [sistem, antarmuka, bahasa, alami, untuk, akse...  0.999882"
      ]
     },
     "execution_count": 113,
     "metadata": {},
     "output_type": "execute_result"
    }
   ],
   "source": [
    "score_word2vec('sistem manajemen pengetahuan').head(10)"
   ]
  },
  {
   "cell_type": "code",
   "execution_count": 114,
   "metadata": {
    "colab": {
     "base_uri": "https://localhost:8080/",
     "height": 357
    },
    "executionInfo": {
     "elapsed": 35,
     "status": "ok",
     "timestamp": 1636452718690,
     "user": {
      "displayName": "Naufal Hilmi",
      "photoUrl": "https://lh3.googleusercontent.com/a-/AOh14Gj7UB8yAHzIcK8gtuCV9hf44dCQUmF8XqLkQI3C=s64",
      "userId": "02567910694508979199"
     },
     "user_tz": -420
    },
    "id": "jktxGFQz4XLx",
    "outputId": "b97f4cac-fe60-47d9-a36a-48b300b55aaa"
   },
   "outputs": [
    {
     "data": {
      "text/html": [
       "<div>\n",
       "<style scoped>\n",
       "    .dataframe tbody tr th:only-of-type {\n",
       "        vertical-align: middle;\n",
       "    }\n",
       "\n",
       "    .dataframe tbody tr th {\n",
       "        vertical-align: top;\n",
       "    }\n",
       "\n",
       "    .dataframe thead th {\n",
       "        text-align: right;\n",
       "    }\n",
       "</style>\n",
       "<table border=\"1\" class=\"dataframe\">\n",
       "  <thead>\n",
       "    <tr style=\"text-align: right;\">\n",
       "      <th></th>\n",
       "      <th>No Doc</th>\n",
       "      <th>Document</th>\n",
       "      <th>Score</th>\n",
       "    </tr>\n",
       "  </thead>\n",
       "  <tbody>\n",
       "    <tr>\n",
       "      <th>0</th>\n",
       "      <td>Doc 373</td>\n",
       "      <td>[jajar, vocabulary, antara, data, tabular, pad...</td>\n",
       "      <td>0.998876</td>\n",
       "    </tr>\n",
       "    <tr>\n",
       "      <th>1</th>\n",
       "      <td>Doc 110</td>\n",
       "      <td>[ekstraksi, frase, kunci, pada, tanya, forum, ...</td>\n",
       "      <td>0.998614</td>\n",
       "    </tr>\n",
       "    <tr>\n",
       "      <th>2</th>\n",
       "      <td>Doc 417</td>\n",
       "      <td>[rancang, prediktor, akurasi, hasil, segmentas...</td>\n",
       "      <td>0.998286</td>\n",
       "    </tr>\n",
       "    <tr>\n",
       "      <th>3</th>\n",
       "      <td>Doc 158</td>\n",
       "      <td>[remembrance, agent, ra, adalah, buah, agen, y...</td>\n",
       "      <td>0.997871</td>\n",
       "    </tr>\n",
       "    <tr>\n",
       "      <th>4</th>\n",
       "      <td>Doc 211</td>\n",
       "      <td>[knowledge, graph, completeness, analytics, ca...</td>\n",
       "      <td>0.996513</td>\n",
       "    </tr>\n",
       "    <tr>\n",
       "      <th>5</th>\n",
       "      <td>Doc 421</td>\n",
       "      <td>[republikasi, data, pada, portal, data, buka, ...</td>\n",
       "      <td>0.995483</td>\n",
       "    </tr>\n",
       "    <tr>\n",
       "      <th>6</th>\n",
       "      <td>Doc 15</td>\n",
       "      <td>[dalam, bangun, suatu, aplikasi, sering, kali,...</td>\n",
       "      <td>0.995116</td>\n",
       "    </tr>\n",
       "    <tr>\n",
       "      <th>7</th>\n",
       "      <td>Doc 376</td>\n",
       "      <td>[susun, kerangka, untuk, evaluasi, dan, tingka...</td>\n",
       "      <td>0.992766</td>\n",
       "    </tr>\n",
       "    <tr>\n",
       "      <th>8</th>\n",
       "      <td>Doc 240</td>\n",
       "      <td>[bangun, knowledge, base, lalu, dekat, ekstrak...</td>\n",
       "      <td>0.992450</td>\n",
       "    </tr>\n",
       "    <tr>\n",
       "      <th>9</th>\n",
       "      <td>Doc 138</td>\n",
       "      <td>[yang, pengaruh, sukses, implementasi, knowled...</td>\n",
       "      <td>0.989497</td>\n",
       "    </tr>\n",
       "  </tbody>\n",
       "</table>\n",
       "</div>"
      ],
      "text/plain": [
       "    No Doc                                           Document     Score\n",
       "0  Doc 373  [jajar, vocabulary, antara, data, tabular, pad...  0.998876\n",
       "1  Doc 110  [ekstraksi, frase, kunci, pada, tanya, forum, ...  0.998614\n",
       "2  Doc 417  [rancang, prediktor, akurasi, hasil, segmentas...  0.998286\n",
       "3  Doc 158  [remembrance, agent, ra, adalah, buah, agen, y...  0.997871\n",
       "4  Doc 211  [knowledge, graph, completeness, analytics, ca...  0.996513\n",
       "5  Doc 421  [republikasi, data, pada, portal, data, buka, ...  0.995483\n",
       "6   Doc 15  [dalam, bangun, suatu, aplikasi, sering, kali,...  0.995116\n",
       "7  Doc 376  [susun, kerangka, untuk, evaluasi, dan, tingka...  0.992766\n",
       "8  Doc 240  [bangun, knowledge, base, lalu, dekat, ekstrak...  0.992450\n",
       "9  Doc 138  [yang, pengaruh, sukses, implementasi, knowled...  0.989497"
      ]
     },
     "execution_count": 114,
     "metadata": {},
     "output_type": "execute_result"
    }
   ],
   "source": [
    "score_word2vec('knowledge discovery').head(10)"
   ]
  },
  {
   "cell_type": "markdown",
   "metadata": {
    "id": "5-Y_dzYXQx7Z"
   },
   "source": [
    "## Penggunaan Pretrained data"
   ]
  },
  {
   "cell_type": "code",
   "execution_count": 155,
   "metadata": {
    "colab": {
     "base_uri": "https://localhost:8080/"
    },
    "executionInfo": {
     "elapsed": 23254,
     "status": "ok",
     "timestamp": 1636454672335,
     "user": {
      "displayName": "Naufal Hilmi",
      "photoUrl": "https://lh3.googleusercontent.com/a-/AOh14Gj7UB8yAHzIcK8gtuCV9hf44dCQUmF8XqLkQI3C=s64",
      "userId": "02567910694508979199"
     },
     "user_tz": -420
    },
    "id": "N8knfTTIO8BC",
    "outputId": "5c44b00d-529a-4f40-b3f2-6dc736574fe2"
   },
   "outputs": [
    {
     "name": "stdout",
     "output_type": "stream",
     "text": [
      "Downloading...\n",
      "From: https://drive.google.com/uc?id=1yoAKPzIU0VZ52xdGrcgAtOlOtMKz90zE\n",
      "To: /content/idwiki_word2vec_100.model\n",
      "100% 25.6M/25.6M [00:00<00:00, 55.0MB/s]\n",
      "Downloading...\n",
      "From: https://drive.google.com/uc?id=10XjGtwCc1hpF8lQaSREQo49Zn33LEkHu\n",
      "To: /content/idwiki_word2vec_100.model.trainables.syn1neg.npy\n",
      "100% 133M/133M [00:05<00:00, 24.8MB/s]\n",
      "Downloading...\n",
      "From: https://drive.google.com/uc?id=124S_Tros9vZ7Lo7jTB6ao1wqLd82KVz7\n",
      "To: /content/idwiki_word2vec_100.model.wv.vectors.npy\n",
      "100% 133M/133M [00:05<00:00, 23.8MB/s]\n"
     ]
    }
   ],
   "source": [
    "!gdown --id 1yoAKPzIU0VZ52xdGrcgAtOlOtMKz90zE\n",
    "!gdown --id 10XjGtwCc1hpF8lQaSREQo49Zn33LEkHu\n",
    "!gdown --id 124S_Tros9vZ7Lo7jTB6ao1wqLd82KVz7"
   ]
  },
  {
   "cell_type": "code",
   "execution_count": 153,
   "metadata": {
    "executionInfo": {
     "elapsed": 359,
     "status": "ok",
     "timestamp": 1636453818639,
     "user": {
      "displayName": "Naufal Hilmi",
      "photoUrl": "https://lh3.googleusercontent.com/a-/AOh14Gj7UB8yAHzIcK8gtuCV9hf44dCQUmF8XqLkQI3C=s64",
      "userId": "02567910694508979199"
     },
     "user_tz": -420
    },
    "id": "abOjbNV7P4u0"
   },
   "outputs": [],
   "source": [
    "import gensim"
   ]
  },
  {
   "cell_type": "code",
   "execution_count": 156,
   "metadata": {
    "executionInfo": {
     "elapsed": 2525,
     "status": "ok",
     "timestamp": 1636454740916,
     "user": {
      "displayName": "Naufal Hilmi",
      "photoUrl": "https://lh3.googleusercontent.com/a-/AOh14Gj7UB8yAHzIcK8gtuCV9hf44dCQUmF8XqLkQI3C=s64",
      "userId": "02567910694508979199"
     },
     "user_tz": -420
    },
    "id": "dDYvCbZQPmvX"
   },
   "outputs": [],
   "source": [
    "id_w2v = gensim.models.word2vec.Word2Vec.load('idwiki_word2vec_100.model')"
   ]
  },
  {
   "cell_type": "markdown",
   "metadata": {
    "id": "CnQ6A8gWTn4b"
   },
   "source": [
    "### Pembuatan Fungsi (Pretrained Ver)"
   ]
  },
  {
   "cell_type": "code",
   "execution_count": 162,
   "metadata": {
    "colab": {
     "base_uri": "https://localhost:8080/"
    },
    "executionInfo": {
     "elapsed": 935,
     "status": "ok",
     "timestamp": 1636455196678,
     "user": {
      "displayName": "Naufal Hilmi",
      "photoUrl": "https://lh3.googleusercontent.com/a-/AOh14Gj7UB8yAHzIcK8gtuCV9hf44dCQUmF8XqLkQI3C=s64",
      "userId": "02567910694508979199"
     },
     "user_tz": -420
    },
    "id": "x88FTxxCTtAq",
    "outputId": "173b1262-38d6-4716-cbe1-71f7be4d6691"
   },
   "outputs": [
    {
     "name": "stderr",
     "output_type": "stream",
     "text": [
      "/usr/local/lib/python3.7/dist-packages/ipykernel_launcher.py:7: DeprecationWarning:\n",
      "\n",
      "Call to deprecated `__getitem__` (Method will be removed in 4.0.0, use self.wv.__getitem__() instead).\n",
      "\n"
     ]
    },
    {
     "data": {
      "text/plain": [
       "0    {'analisis': [-1.3783318, 0.98533297, 3.634407...\n",
       "1    {'analisis': [-1.3783318, 0.98533297, 3.634407...\n",
       "2    {'desain': [-0.576871, 2.2023973, 1.9360865, 0...\n",
       "3    {'evaluasi': [-1.2353892, -1.4117283, -0.14876...\n",
       "4    {'evaluasi': [-1.2353892, -1.4117283, -0.14876...\n",
       "5    {'pengaruh': [0.9296937, 1.090955, 2.2612352, ...\n",
       "6    {'rancang': [0.08477639, 0.9150808, 0.24689874...\n",
       "7    {'penting': [-2.4871202, 2.1695802, 0.75053024...\n",
       "8    {'analisis': [-1.3783318, 0.98533297, 3.634407...\n",
       "9    {'adaptasi': [-0.38519314, 2.8213072, 0.511988...\n",
       "dtype: object"
      ]
     },
     "execution_count": 162,
     "metadata": {},
     "output_type": "execute_result"
    }
   ],
   "source": [
    "tmp = []\n",
    "for i in after_stem:\n",
    "  dictio = {}\n",
    "  for j in i:\n",
    "    if j not in dictio.keys():\n",
    "      try:\n",
    "        dictio[j] = id_w2v[j]\n",
    "      except:\n",
    "        dictio[j] = [0] * 100\n",
    "    else:\n",
    "      continue\n",
    "  tmp.append(dictio)\n",
    "word_vec_2 = pd.Series(tmp)\n",
    "word_vec_2.head(10)"
   ]
  },
  {
   "cell_type": "code",
   "execution_count": 163,
   "metadata": {
    "colab": {
     "base_uri": "https://localhost:8080/"
    },
    "executionInfo": {
     "elapsed": 352,
     "status": "ok",
     "timestamp": 1636455199161,
     "user": {
      "displayName": "Naufal Hilmi",
      "photoUrl": "https://lh3.googleusercontent.com/a-/AOh14Gj7UB8yAHzIcK8gtuCV9hf44dCQUmF8XqLkQI3C=s64",
      "userId": "02567910694508979199"
     },
     "user_tz": -420
    },
    "id": "JFhlUGOwTzE_",
    "outputId": "9b7fb927-5f1a-4f9b-f854-04027517a2de"
   },
   "outputs": [
    {
     "data": {
      "text/plain": [
       "doc 1     [-0.4326422824767489, 0.3224595205230591, 1.02...\n",
       "doc 2     [-0.11702854004534805, 0.6581444494988559, 1.2...\n",
       "doc 3     [-0.04014386, 0.867839, 1.1703557, -0.76829207...\n",
       "doc 4     [0.2344684022796023, 0.9359975032736086, 1.414...\n",
       "doc 5     [0.16386804, 1.1323181, 1.3494613, -0.6488402,...\n",
       "doc 6     [-0.23282531369257858, 0.38656963871238437, 1....\n",
       "doc 7     [0.0775848738822215, 0.43603060660340515, 1.01...\n",
       "doc 8     [0.265612136242756, 1.2738375561358408, 1.2253...\n",
       "doc 9     [-0.35312352357577764, -0.07674956088885665, 0...\n",
       "doc 10    [0.057268667846727066, 0.8829490233901252, 0.9...\n",
       "dtype: object"
      ]
     },
     "execution_count": 163,
     "metadata": {},
     "output_type": "execute_result"
    }
   ],
   "source": [
    "tmp = {}\n",
    "for i in range(len(word_vec_2)):\n",
    "  tmp_value = np.array(list(word_vec_2[i].values()))\n",
    "  value = tmp_value.mean(axis=0)\n",
    "  tmp['doc '+str(i+1)] = value\n",
    "doc_vec_2 = pd.Series(tmp)\n",
    "doc_vec_2.head(10)"
   ]
  },
  {
   "cell_type": "code",
   "execution_count": 165,
   "metadata": {
    "executionInfo": {
     "elapsed": 346,
     "status": "ok",
     "timestamp": 1636455232220,
     "user": {
      "displayName": "Naufal Hilmi",
      "photoUrl": "https://lh3.googleusercontent.com/a-/AOh14Gj7UB8yAHzIcK8gtuCV9hf44dCQUmF8XqLkQI3C=s64",
      "userId": "02567910694508979199"
     },
     "user_tz": -420
    },
    "id": "Lj_8_3VlTzoX"
   },
   "outputs": [],
   "source": [
    "def score_word2vec_2(query):\n",
    "  term = query.split()\n",
    "  res = []\n",
    "  for i in range(len(word_vec_2)):\n",
    "    tmp = 0\n",
    "    for j in term:\n",
    "      if j not in word_vec_2[i]:\n",
    "        continue\n",
    "      else:\n",
    "        word_vec_2_value = word_vec_2[i][j]\n",
    "      pembilang =  np.dot(doc_vec_2['doc ' + str(i+1)], word_vec_2_value)\n",
    "      penyebut = (norm(doc_vec_2['doc ' + str(i+1)])*norm(word_vec_2_value))\n",
    "      tmp = tmp + (pembilang/penyebut)\n",
    "    res.append(('Doc ' + str(i),after_stem[i], tmp))\n",
    "  final = pd.DataFrame(res, columns=['No Doc', 'Document', 'Score'])\n",
    "  final.sort_values(by=['Score'], ascending=False,inplace=True)\n",
    "  final.reset_index(inplace=True,drop=True)\n",
    "  return final"
   ]
  },
  {
   "cell_type": "markdown",
   "metadata": {
    "id": "CkviCHaoVNJP"
   },
   "source": [
    "### Pengetesan Fungsi (Pretrained Ver)"
   ]
  },
  {
   "cell_type": "code",
   "execution_count": 168,
   "metadata": {
    "colab": {
     "base_uri": "https://localhost:8080/",
     "height": 357
    },
    "executionInfo": {
     "elapsed": 342,
     "status": "ok",
     "timestamp": 1636455248889,
     "user": {
      "displayName": "Naufal Hilmi",
      "photoUrl": "https://lh3.googleusercontent.com/a-/AOh14Gj7UB8yAHzIcK8gtuCV9hf44dCQUmF8XqLkQI3C=s64",
      "userId": "02567910694508979199"
     },
     "user_tz": -420
    },
    "id": "QyiDezKoVRju",
    "outputId": "c1048c68-875c-4918-d910-2dbfed0c6e9b"
   },
   "outputs": [
    {
     "data": {
      "text/html": [
       "<div>\n",
       "<style scoped>\n",
       "    .dataframe tbody tr th:only-of-type {\n",
       "        vertical-align: middle;\n",
       "    }\n",
       "\n",
       "    .dataframe tbody tr th {\n",
       "        vertical-align: top;\n",
       "    }\n",
       "\n",
       "    .dataframe thead th {\n",
       "        text-align: right;\n",
       "    }\n",
       "</style>\n",
       "<table border=\"1\" class=\"dataframe\">\n",
       "  <thead>\n",
       "    <tr style=\"text-align: right;\">\n",
       "      <th></th>\n",
       "      <th>No Doc</th>\n",
       "      <th>Document</th>\n",
       "      <th>Score</th>\n",
       "    </tr>\n",
       "  </thead>\n",
       "  <tbody>\n",
       "    <tr>\n",
       "      <th>0</th>\n",
       "      <td>Doc 175</td>\n",
       "      <td>[tugas, akhir, ini, tuju, untuk, implementasi,...</td>\n",
       "      <td>0.257396</td>\n",
       "    </tr>\n",
       "    <tr>\n",
       "      <th>1</th>\n",
       "      <td>Doc 110</td>\n",
       "      <td>[ekstraksi, frase, kunci, pada, tanya, forum, ...</td>\n",
       "      <td>0.254229</td>\n",
       "    </tr>\n",
       "    <tr>\n",
       "      <th>2</th>\n",
       "      <td>Doc 251</td>\n",
       "      <td>[model, desain, aplikasi, software, product, l...</td>\n",
       "      <td>0.172206</td>\n",
       "    </tr>\n",
       "    <tr>\n",
       "      <th>3</th>\n",
       "      <td>Doc 188</td>\n",
       "      <td>[teliti, ini, rancang, dan, implementasi, prot...</td>\n",
       "      <td>0.131296</td>\n",
       "    </tr>\n",
       "    <tr>\n",
       "      <th>4</th>\n",
       "      <td>Doc 103</td>\n",
       "      <td>[teliti, ini, tuju, kembang, sistem, informasi...</td>\n",
       "      <td>0.118267</td>\n",
       "    </tr>\n",
       "    <tr>\n",
       "      <th>5</th>\n",
       "      <td>Doc 143</td>\n",
       "      <td>[fitur, software, product, les, guna, delta, p...</td>\n",
       "      <td>0.116578</td>\n",
       "    </tr>\n",
       "    <tr>\n",
       "      <th>6</th>\n",
       "      <td>Doc 43</td>\n",
       "      <td>[analisis, internal, dan, eksternal, yang, pen...</td>\n",
       "      <td>0.089195</td>\n",
       "    </tr>\n",
       "    <tr>\n",
       "      <th>7</th>\n",
       "      <td>Doc 381</td>\n",
       "      <td>[sistem, informasi, eksekutif, bagai, salah, s...</td>\n",
       "      <td>0.050053</td>\n",
       "    </tr>\n",
       "    <tr>\n",
       "      <th>8</th>\n",
       "      <td>Doc 416</td>\n",
       "      <td>[rancang, terap, strategi, ajar, progresif, pa...</td>\n",
       "      <td>0.044445</td>\n",
       "    </tr>\n",
       "    <tr>\n",
       "      <th>9</th>\n",
       "      <td>Doc 39</td>\n",
       "      <td>[analisis, faktor, yang, pengaruh, loyalitas, ...</td>\n",
       "      <td>0.040363</td>\n",
       "    </tr>\n",
       "  </tbody>\n",
       "</table>\n",
       "</div>"
      ],
      "text/plain": [
       "    No Doc                                           Document     Score\n",
       "0  Doc 175  [tugas, akhir, ini, tuju, untuk, implementasi,...  0.257396\n",
       "1  Doc 110  [ekstraksi, frase, kunci, pada, tanya, forum, ...  0.254229\n",
       "2  Doc 251  [model, desain, aplikasi, software, product, l...  0.172206\n",
       "3  Doc 188  [teliti, ini, rancang, dan, implementasi, prot...  0.131296\n",
       "4  Doc 103  [teliti, ini, tuju, kembang, sistem, informasi...  0.118267\n",
       "5  Doc 143  [fitur, software, product, les, guna, delta, p...  0.116578\n",
       "6   Doc 43  [analisis, internal, dan, eksternal, yang, pen...  0.089195\n",
       "7  Doc 381  [sistem, informasi, eksekutif, bagai, salah, s...  0.050053\n",
       "8  Doc 416  [rancang, terap, strategi, ajar, progresif, pa...  0.044445\n",
       "9   Doc 39  [analisis, faktor, yang, pengaruh, loyalitas, ...  0.040363"
      ]
     },
     "execution_count": 168,
     "metadata": {},
     "output_type": "execute_result"
    }
   ],
   "source": [
    "score_word2vec_2('information retrieval').head(10)"
   ]
  },
  {
   "cell_type": "code",
   "execution_count": 170,
   "metadata": {
    "colab": {
     "base_uri": "https://localhost:8080/",
     "height": 357
    },
    "executionInfo": {
     "elapsed": 384,
     "status": "ok",
     "timestamp": 1636455302055,
     "user": {
      "displayName": "Naufal Hilmi",
      "photoUrl": "https://lh3.googleusercontent.com/a-/AOh14Gj7UB8yAHzIcK8gtuCV9hf44dCQUmF8XqLkQI3C=s64",
      "userId": "02567910694508979199"
     },
     "user_tz": -420
    },
    "id": "eyqwxibJVigE",
    "outputId": "b20603c3-bbc4-4ba0-c67a-bb51015f4430"
   },
   "outputs": [
    {
     "data": {
      "text/html": [
       "<div>\n",
       "<style scoped>\n",
       "    .dataframe tbody tr th:only-of-type {\n",
       "        vertical-align: middle;\n",
       "    }\n",
       "\n",
       "    .dataframe tbody tr th {\n",
       "        vertical-align: top;\n",
       "    }\n",
       "\n",
       "    .dataframe thead th {\n",
       "        text-align: right;\n",
       "    }\n",
       "</style>\n",
       "<table border=\"1\" class=\"dataframe\">\n",
       "  <thead>\n",
       "    <tr style=\"text-align: right;\">\n",
       "      <th></th>\n",
       "      <th>No Doc</th>\n",
       "      <th>Document</th>\n",
       "      <th>Score</th>\n",
       "    </tr>\n",
       "  </thead>\n",
       "  <tbody>\n",
       "    <tr>\n",
       "      <th>0</th>\n",
       "      <td>Doc 399</td>\n",
       "      <td>[rumus, kamus, data, kompetensi, pegawai, stud...</td>\n",
       "      <td>1.256500</td>\n",
       "    </tr>\n",
       "    <tr>\n",
       "      <th>1</th>\n",
       "      <td>Doc 249</td>\n",
       "      <td>[model, arsitektur, teknologi, sistem, informa...</td>\n",
       "      <td>1.239992</td>\n",
       "    </tr>\n",
       "    <tr>\n",
       "      <th>2</th>\n",
       "      <td>Doc 6</td>\n",
       "      <td>[rancang, dan, implementasi, teknologi, intran...</td>\n",
       "      <td>1.181942</td>\n",
       "    </tr>\n",
       "    <tr>\n",
       "      <th>3</th>\n",
       "      <td>Doc 461</td>\n",
       "      <td>[usability, evaluation, sistem, informasi, man...</td>\n",
       "      <td>1.181126</td>\n",
       "    </tr>\n",
       "    <tr>\n",
       "      <th>4</th>\n",
       "      <td>Doc 264</td>\n",
       "      <td>[terap, big, data, pada, data, rekam, medis, g...</td>\n",
       "      <td>1.148060</td>\n",
       "    </tr>\n",
       "    <tr>\n",
       "      <th>5</th>\n",
       "      <td>Doc 453</td>\n",
       "      <td>[kunci, sukses, ubah, sistem, kontrol, systems...</td>\n",
       "      <td>1.140320</td>\n",
       "    </tr>\n",
       "    <tr>\n",
       "      <th>6</th>\n",
       "      <td>Doc 146</td>\n",
       "      <td>[tuju, teliti, ini, adalah, buat, suatu, frame...</td>\n",
       "      <td>0.728591</td>\n",
       "    </tr>\n",
       "    <tr>\n",
       "      <th>7</th>\n",
       "      <td>Doc 141</td>\n",
       "      <td>[faktor, integer, besar, dengan, algoritma, nu...</td>\n",
       "      <td>0.724866</td>\n",
       "    </tr>\n",
       "    <tr>\n",
       "      <th>8</th>\n",
       "      <td>Doc 214</td>\n",
       "      <td>[lattice, dan, aplikasi, pada, sistem, kripto,...</td>\n",
       "      <td>0.719235</td>\n",
       "    </tr>\n",
       "    <tr>\n",
       "      <th>9</th>\n",
       "      <td>Doc 400</td>\n",
       "      <td>[pinor, rupa, perangkat, lunak, yang, dapat, g...</td>\n",
       "      <td>0.710505</td>\n",
       "    </tr>\n",
       "  </tbody>\n",
       "</table>\n",
       "</div>"
      ],
      "text/plain": [
       "    No Doc                                           Document     Score\n",
       "0  Doc 399  [rumus, kamus, data, kompetensi, pegawai, stud...  1.256500\n",
       "1  Doc 249  [model, arsitektur, teknologi, sistem, informa...  1.239992\n",
       "2    Doc 6  [rancang, dan, implementasi, teknologi, intran...  1.181942\n",
       "3  Doc 461  [usability, evaluation, sistem, informasi, man...  1.181126\n",
       "4  Doc 264  [terap, big, data, pada, data, rekam, medis, g...  1.148060\n",
       "5  Doc 453  [kunci, sukses, ubah, sistem, kontrol, systems...  1.140320\n",
       "6  Doc 146  [tuju, teliti, ini, adalah, buat, suatu, frame...  0.728591\n",
       "7  Doc 141  [faktor, integer, besar, dengan, algoritma, nu...  0.724866\n",
       "8  Doc 214  [lattice, dan, aplikasi, pada, sistem, kripto,...  0.719235\n",
       "9  Doc 400  [pinor, rupa, perangkat, lunak, yang, dapat, g...  0.710505"
      ]
     },
     "execution_count": 170,
     "metadata": {},
     "output_type": "execute_result"
    }
   ],
   "source": [
    "score_word2vec_2('sistem manajemen pengetahuan').head(10)"
   ]
  },
  {
   "cell_type": "code",
   "execution_count": 171,
   "metadata": {
    "colab": {
     "base_uri": "https://localhost:8080/",
     "height": 357
    },
    "executionInfo": {
     "elapsed": 375,
     "status": "ok",
     "timestamp": 1636455320042,
     "user": {
      "displayName": "Naufal Hilmi",
      "photoUrl": "https://lh3.googleusercontent.com/a-/AOh14Gj7UB8yAHzIcK8gtuCV9hf44dCQUmF8XqLkQI3C=s64",
      "userId": "02567910694508979199"
     },
     "user_tz": -420
    },
    "id": "ZTNYMRQBVktl",
    "outputId": "b1dd4170-5c4c-46d6-ba23-88c8882eaad1"
   },
   "outputs": [
    {
     "data": {
      "text/html": [
       "<div>\n",
       "<style scoped>\n",
       "    .dataframe tbody tr th:only-of-type {\n",
       "        vertical-align: middle;\n",
       "    }\n",
       "\n",
       "    .dataframe tbody tr th {\n",
       "        vertical-align: top;\n",
       "    }\n",
       "\n",
       "    .dataframe thead th {\n",
       "        text-align: right;\n",
       "    }\n",
       "</style>\n",
       "<table border=\"1\" class=\"dataframe\">\n",
       "  <thead>\n",
       "    <tr style=\"text-align: right;\">\n",
       "      <th></th>\n",
       "      <th>No Doc</th>\n",
       "      <th>Document</th>\n",
       "      <th>Score</th>\n",
       "    </tr>\n",
       "  </thead>\n",
       "  <tbody>\n",
       "    <tr>\n",
       "      <th>0</th>\n",
       "      <td>Doc 43</td>\n",
       "      <td>[analisis, internal, dan, eksternal, yang, pen...</td>\n",
       "      <td>0.382445</td>\n",
       "    </tr>\n",
       "    <tr>\n",
       "      <th>1</th>\n",
       "      <td>Doc 110</td>\n",
       "      <td>[ekstraksi, frase, kunci, pada, tanya, forum, ...</td>\n",
       "      <td>0.332891</td>\n",
       "    </tr>\n",
       "    <tr>\n",
       "      <th>2</th>\n",
       "      <td>Doc 138</td>\n",
       "      <td>[yang, pengaruh, sukses, implementasi, knowled...</td>\n",
       "      <td>0.268281</td>\n",
       "    </tr>\n",
       "    <tr>\n",
       "      <th>3</th>\n",
       "      <td>Doc 376</td>\n",
       "      <td>[susun, kerangka, untuk, evaluasi, dan, tingka...</td>\n",
       "      <td>0.264598</td>\n",
       "    </tr>\n",
       "    <tr>\n",
       "      <th>4</th>\n",
       "      <td>Doc 211</td>\n",
       "      <td>[knowledge, graph, completeness, analytics, ca...</td>\n",
       "      <td>0.242070</td>\n",
       "    </tr>\n",
       "    <tr>\n",
       "      <th>5</th>\n",
       "      <td>Doc 15</td>\n",
       "      <td>[dalam, bangun, suatu, aplikasi, sering, kali,...</td>\n",
       "      <td>0.233063</td>\n",
       "    </tr>\n",
       "    <tr>\n",
       "      <th>6</th>\n",
       "      <td>Doc 417</td>\n",
       "      <td>[rancang, prediktor, akurasi, hasil, segmentas...</td>\n",
       "      <td>0.212206</td>\n",
       "    </tr>\n",
       "    <tr>\n",
       "      <th>7</th>\n",
       "      <td>Doc 240</td>\n",
       "      <td>[bangun, knowledge, base, lalu, dekat, ekstrak...</td>\n",
       "      <td>0.200676</td>\n",
       "    </tr>\n",
       "    <tr>\n",
       "      <th>8</th>\n",
       "      <td>Doc 373</td>\n",
       "      <td>[jajar, vocabulary, antara, data, tabular, pad...</td>\n",
       "      <td>0.179048</td>\n",
       "    </tr>\n",
       "    <tr>\n",
       "      <th>9</th>\n",
       "      <td>Doc 158</td>\n",
       "      <td>[remembrance, agent, ra, adalah, buah, agen, y...</td>\n",
       "      <td>0.156038</td>\n",
       "    </tr>\n",
       "  </tbody>\n",
       "</table>\n",
       "</div>"
      ],
      "text/plain": [
       "    No Doc                                           Document     Score\n",
       "0   Doc 43  [analisis, internal, dan, eksternal, yang, pen...  0.382445\n",
       "1  Doc 110  [ekstraksi, frase, kunci, pada, tanya, forum, ...  0.332891\n",
       "2  Doc 138  [yang, pengaruh, sukses, implementasi, knowled...  0.268281\n",
       "3  Doc 376  [susun, kerangka, untuk, evaluasi, dan, tingka...  0.264598\n",
       "4  Doc 211  [knowledge, graph, completeness, analytics, ca...  0.242070\n",
       "5   Doc 15  [dalam, bangun, suatu, aplikasi, sering, kali,...  0.233063\n",
       "6  Doc 417  [rancang, prediktor, akurasi, hasil, segmentas...  0.212206\n",
       "7  Doc 240  [bangun, knowledge, base, lalu, dekat, ekstrak...  0.200676\n",
       "8  Doc 373  [jajar, vocabulary, antara, data, tabular, pad...  0.179048\n",
       "9  Doc 158  [remembrance, agent, ra, adalah, buah, agen, y...  0.156038"
      ]
     },
     "execution_count": 171,
     "metadata": {},
     "output_type": "execute_result"
    }
   ],
   "source": [
    "score_word2vec_2('knowledge discovery').head(10)"
   ]
  },
  {
   "cell_type": "markdown",
   "metadata": {
    "id": "hjOOynSpVtRV"
   },
   "source": [
    "Perbedaan dari menggunakan pretrained dan tanpa menggunakan pretrained adalah yang pertama menggunakan pretrained kita hanya tinggal lihat berapa nilai vektor dari kata yang mau kita cari sedangkan jika tidak kita perlu melakukan setting model dan juga melakukan train pada corpus yang kita punya. Kedua melanjutkan point satu yaitu kelebihan tanpa menggunakan pretrained adalah model yang digunakan tentunya akan lebih akurat dibandingkan pretrained karena data yang ada pada model berdasarkan corpus yang kita miliki sedangkan data pretrained menggunakan data corpus yang bukan kita miliki untuk train."
   ]
  },
  {
   "cell_type": "markdown",
   "metadata": {
    "id": "IzGhdiO5RClJ"
   },
   "source": [
    "# Dimensionality Reduction"
   ]
  },
  {
   "cell_type": "markdown",
   "metadata": {
    "id": "9tZYeNclRELl"
   },
   "source": [
    "## Term Frequency dan Inverse Document Frequency"
   ]
  },
  {
   "cell_type": "code",
   "execution_count": 115,
   "metadata": {
    "colab": {
     "base_uri": "https://localhost:8080/"
    },
    "executionInfo": {
     "elapsed": 35,
     "status": "ok",
     "timestamp": 1636452718691,
     "user": {
      "displayName": "Naufal Hilmi",
      "photoUrl": "https://lh3.googleusercontent.com/a-/AOh14Gj7UB8yAHzIcK8gtuCV9hf44dCQUmF8XqLkQI3C=s64",
      "userId": "02567910694508979199"
     },
     "user_tz": -420
    },
    "id": "fXft256Yz-FS",
    "outputId": "010caaf8-948b-4963-c730-4bceb06381ea"
   },
   "outputs": [
    {
     "data": {
      "text/plain": [
       "0      {'analisis': 2, 'faktor': 5, 'yang': 10, 'meme...\n",
       "1      {'analisis': 1, 'perilaku': 1, 'pengguna': 3, ...\n",
       "2      {'desain': 5, 'interaksi': 1, 'aplikasi': 5, '...\n",
       "3      {'evaluasi': 3, 'dan': 4, 'pengembangan': 1, '...\n",
       "4      {'evaluasi': 2, 'desain': 5, 'materi': 5, 'ins...\n",
       "                             ...                        \n",
       "464    {'visualisasi': 3, 'informasi': 3, 'dari': 5, ...\n",
       "465    {'masalah': 6, 'transportasi': 2, 'merupakan':...\n",
       "466    {'pergerakan': 7, 'benda': 12, 'di': 3, 'atas'...\n",
       "467    {'dewasa': 1, 'ini': 3, 'bentuk': 3, 'visual':...\n",
       "468    {'telekonferensi': 2, 'digunakan': 2, 'sebagai...\n",
       "Length: 469, dtype: object"
      ]
     },
     "execution_count": 115,
     "metadata": {},
     "output_type": "execute_result"
    }
   ],
   "source": [
    "tf"
   ]
  },
  {
   "cell_type": "code",
   "execution_count": 116,
   "metadata": {
    "colab": {
     "base_uri": "https://localhost:8080/"
    },
    "executionInfo": {
     "elapsed": 25,
     "status": "ok",
     "timestamp": 1636452718692,
     "user": {
      "displayName": "Naufal Hilmi",
      "photoUrl": "https://lh3.googleusercontent.com/a-/AOh14Gj7UB8yAHzIcK8gtuCV9hf44dCQUmF8XqLkQI3C=s64",
      "userId": "02567910694508979199"
     },
     "user_tz": -420
    },
    "id": "oh31u8ejFqdF",
    "outputId": "59585e81-a964-4285-f671-c5353e5a824b"
   },
   "outputs": [
    {
     "data": {
      "text/plain": [
       "analisis        1.583190\n",
       "faktor          1.883035\n",
       "yang            0.007475\n",
       "memengaruhi     2.427039\n",
       "loyalitas       4.648655\n",
       "                  ...   \n",
       "interasksi      5.747268\n",
       "adlah           5.747268\n",
       "dimanipulasi    5.747268\n",
       "cotrol          5.747268\n",
       "conferencing    5.747268\n",
       "Length: 7185, dtype: float64"
      ]
     },
     "execution_count": 116,
     "metadata": {},
     "output_type": "execute_result"
    }
   ],
   "source": [
    "idf"
   ]
  },
  {
   "cell_type": "code",
   "execution_count": 117,
   "metadata": {
    "colab": {
     "base_uri": "https://localhost:8080/"
    },
    "executionInfo": {
     "elapsed": 22,
     "status": "ok",
     "timestamp": 1636452718693,
     "user": {
      "displayName": "Naufal Hilmi",
      "photoUrl": "https://lh3.googleusercontent.com/a-/AOh14Gj7UB8yAHzIcK8gtuCV9hf44dCQUmF8XqLkQI3C=s64",
      "userId": "02567910694508979199"
     },
     "user_tz": -420
    },
    "id": "za88sSMRGJ31",
    "outputId": "1a98f9a5-818c-453b-b224-5f64edbdbe69"
   },
   "outputs": [
    {
     "data": {
      "text/plain": [
       "0           analisis\n",
       "1             faktor\n",
       "2               yang\n",
       "3        memengaruhi\n",
       "4          loyalitas\n",
       "            ...     \n",
       "7180      interasksi\n",
       "7181           adlah\n",
       "7182    dimanipulasi\n",
       "7183          cotrol\n",
       "7184    conferencing\n",
       "Length: 7185, dtype: object"
      ]
     },
     "execution_count": 117,
     "metadata": {},
     "output_type": "execute_result"
    }
   ],
   "source": [
    "vocabulary"
   ]
  },
  {
   "cell_type": "code",
   "execution_count": 118,
   "metadata": {
    "executionInfo": {
     "elapsed": 7003,
     "status": "ok",
     "timestamp": 1636452725677,
     "user": {
      "displayName": "Naufal Hilmi",
      "photoUrl": "https://lh3.googleusercontent.com/a-/AOh14Gj7UB8yAHzIcK8gtuCV9hf44dCQUmF8XqLkQI3C=s64",
      "userId": "02567910694508979199"
     },
     "user_tz": -420
    },
    "id": "AuB57WIIGw3G"
   },
   "outputs": [],
   "source": [
    "tmp = []\n",
    "for i in tf:\n",
    "  tmp2 = []\n",
    "  for j in vocabulary:\n",
    "    if j not in idf or j not in i:\n",
    "        tmp2.append(0)\n",
    "    else:\n",
    "        idf_value = idf[j]\n",
    "        tf_value = i[j]\n",
    "        tmp2.append(tf_value*idf_value)\n",
    "  tmp.append(tmp2)\n",
    "tfidf = pd.DataFrame(tmp, columns=vocabulary)\n",
    "tfidf = tfidf.set_index(dl.keys())"
   ]
  },
  {
   "cell_type": "code",
   "execution_count": 119,
   "metadata": {
    "colab": {
     "base_uri": "https://localhost:8080/",
     "height": 605
    },
    "executionInfo": {
     "elapsed": 18,
     "status": "ok",
     "timestamp": 1636452725678,
     "user": {
      "displayName": "Naufal Hilmi",
      "photoUrl": "https://lh3.googleusercontent.com/a-/AOh14Gj7UB8yAHzIcK8gtuCV9hf44dCQUmF8XqLkQI3C=s64",
      "userId": "02567910694508979199"
     },
     "user_tz": -420
    },
    "id": "dL5d7M3ESzlq",
    "outputId": "2a3f9835-6013-441a-e55b-0c78cd93a9a8"
   },
   "outputs": [
    {
     "data": {
      "text/html": [
       "<div>\n",
       "<style scoped>\n",
       "    .dataframe tbody tr th:only-of-type {\n",
       "        vertical-align: middle;\n",
       "    }\n",
       "\n",
       "    .dataframe tbody tr th {\n",
       "        vertical-align: top;\n",
       "    }\n",
       "\n",
       "    .dataframe thead th {\n",
       "        text-align: right;\n",
       "    }\n",
       "</style>\n",
       "<table border=\"1\" class=\"dataframe\">\n",
       "  <thead>\n",
       "    <tr style=\"text-align: right;\">\n",
       "      <th></th>\n",
       "      <th>analisis</th>\n",
       "      <th>faktor</th>\n",
       "      <th>yang</th>\n",
       "      <th>memengaruhi</th>\n",
       "      <th>loyalitas</th>\n",
       "      <th>konsumen</th>\n",
       "      <th>dalam</th>\n",
       "      <th>membeli</th>\n",
       "      <th>makanan</th>\n",
       "      <th>pada</th>\n",
       "      <th>layanan</th>\n",
       "      <th>online</th>\n",
       "      <th>studi</th>\n",
       "      <th>kasus</th>\n",
       "      <th>penelitian</th>\n",
       "      <th>ini</th>\n",
       "      <th>dilakukan</th>\n",
       "      <th>untuk</th>\n",
       "      <th>menganalisis</th>\n",
       "      <th>pembelian</th>\n",
       "      <th>di</th>\n",
       "      <th>indonesia</th>\n",
       "      <th>yaitu</th>\n",
       "      <th>digunakan</th>\n",
       "      <th>model</th>\n",
       "      <th>diajukan</th>\n",
       "      <th>berasal</th>\n",
       "      <th>dari</th>\n",
       "      <th>tiga</th>\n",
       "      <th>teori</th>\n",
       "      <th>kualitas</th>\n",
       "      <th>hubungan</th>\n",
       "      <th>perceived</th>\n",
       "      <th>value</th>\n",
       "      <th>perval</th>\n",
       "      <th>dan</th>\n",
       "      <th>mobile</th>\n",
       "      <th>service</th>\n",
       "      <th>quality</th>\n",
       "      <th>total</th>\n",
       "      <th>...</th>\n",
       "      <th>berkelompok</th>\n",
       "      <th>diadakanlah</th>\n",
       "      <th>diadaptasi</th>\n",
       "      <th>metakognisinya</th>\n",
       "      <th>visualisasinya</th>\n",
       "      <th>memprihatinkan</th>\n",
       "      <th>ruas</th>\n",
       "      <th>menghalangi</th>\n",
       "      <th>kontinum</th>\n",
       "      <th>menitik</th>\n",
       "      <th>beratkan</th>\n",
       "      <th>metematis</th>\n",
       "      <th>analitis</th>\n",
       "      <th>diffrence</th>\n",
       "      <th>fuite</th>\n",
       "      <th>kedapatan</th>\n",
       "      <th>diekekusi</th>\n",
       "      <th>permsamaan</th>\n",
       "      <th>padat</th>\n",
       "      <th>lengang</th>\n",
       "      <th>ba</th>\n",
       "      <th>es</th>\n",
       "      <th>tekanan</th>\n",
       "      <th>peristiwa</th>\n",
       "      <th>seara</th>\n",
       "      <th>orde</th>\n",
       "      <th>dibawahnya</th>\n",
       "      <th>mematikannya</th>\n",
       "      <th>fft</th>\n",
       "      <th>plot</th>\n",
       "      <th>surf</th>\n",
       "      <th>dimunculkan</th>\n",
       "      <th>bendi</th>\n",
       "      <th>rentang</th>\n",
       "      <th>amati</th>\n",
       "      <th>interasksi</th>\n",
       "      <th>adlah</th>\n",
       "      <th>dimanipulasi</th>\n",
       "      <th>cotrol</th>\n",
       "      <th>conferencing</th>\n",
       "    </tr>\n",
       "  </thead>\n",
       "  <tbody>\n",
       "    <tr>\n",
       "      <th>doc 1</th>\n",
       "      <td>3.166379</td>\n",
       "      <td>9.415176</td>\n",
       "      <td>0.074747</td>\n",
       "      <td>12.135196</td>\n",
       "      <td>9.297311</td>\n",
       "      <td>7.420771</td>\n",
       "      <td>0.665444</td>\n",
       "      <td>3.901441</td>\n",
       "      <td>8.275659</td>\n",
       "      <td>0.370609</td>\n",
       "      <td>2.173051</td>\n",
       "      <td>3.579268</td>\n",
       "      <td>1.66973</td>\n",
       "      <td>1.739934</td>\n",
       "      <td>0.644635</td>\n",
       "      <td>0.033535</td>\n",
       "      <td>0.545094</td>\n",
       "      <td>0.035737</td>\n",
       "      <td>2.427039</td>\n",
       "      <td>3.411893</td>\n",
       "      <td>2.533095</td>\n",
       "      <td>1.119032</td>\n",
       "      <td>1.914004</td>\n",
       "      <td>0.678363</td>\n",
       "      <td>4.083249</td>\n",
       "      <td>3.478584</td>\n",
       "      <td>3.182318</td>\n",
       "      <td>0.232496</td>\n",
       "      <td>2.230759</td>\n",
       "      <td>4.670041</td>\n",
       "      <td>2.313280</td>\n",
       "      <td>2.735006</td>\n",
       "      <td>8.205018</td>\n",
       "      <td>24.350088</td>\n",
       "      <td>5.747268</td>\n",
       "      <td>0.073003</td>\n",
       "      <td>2.641187</td>\n",
       "      <td>2.995732</td>\n",
       "      <td>2.954060</td>\n",
       "      <td>3.132308</td>\n",
       "      <td>...</td>\n",
       "      <td>0.000000</td>\n",
       "      <td>0.000000</td>\n",
       "      <td>0.000000</td>\n",
       "      <td>0.000000</td>\n",
       "      <td>0.000000</td>\n",
       "      <td>0.000000</td>\n",
       "      <td>0.000000</td>\n",
       "      <td>0.000000</td>\n",
       "      <td>0.000000</td>\n",
       "      <td>0.000000</td>\n",
       "      <td>0.000000</td>\n",
       "      <td>0.000000</td>\n",
       "      <td>0.000000</td>\n",
       "      <td>0.000000</td>\n",
       "      <td>0.000000</td>\n",
       "      <td>0.000000</td>\n",
       "      <td>0.000000</td>\n",
       "      <td>0.000000</td>\n",
       "      <td>0.000000</td>\n",
       "      <td>0.000000</td>\n",
       "      <td>0.000000</td>\n",
       "      <td>0.000000</td>\n",
       "      <td>0.000000</td>\n",
       "      <td>0.000000</td>\n",
       "      <td>0.000000</td>\n",
       "      <td>0.000000</td>\n",
       "      <td>0.000000</td>\n",
       "      <td>0.000000</td>\n",
       "      <td>0.000000</td>\n",
       "      <td>0.000000</td>\n",
       "      <td>0.000000</td>\n",
       "      <td>0.000000</td>\n",
       "      <td>0.000000</td>\n",
       "      <td>0.000000</td>\n",
       "      <td>0.000000</td>\n",
       "      <td>0.000000</td>\n",
       "      <td>0.000000</td>\n",
       "      <td>0.000000</td>\n",
       "      <td>0.000000</td>\n",
       "      <td>0.000000</td>\n",
       "    </tr>\n",
       "    <tr>\n",
       "      <th>doc 2</th>\n",
       "      <td>1.583190</td>\n",
       "      <td>5.649106</td>\n",
       "      <td>0.022424</td>\n",
       "      <td>0.000000</td>\n",
       "      <td>0.000000</td>\n",
       "      <td>0.000000</td>\n",
       "      <td>0.221815</td>\n",
       "      <td>0.000000</td>\n",
       "      <td>0.000000</td>\n",
       "      <td>1.111828</td>\n",
       "      <td>0.000000</td>\n",
       "      <td>0.000000</td>\n",
       "      <td>0.00000</td>\n",
       "      <td>0.000000</td>\n",
       "      <td>0.966953</td>\n",
       "      <td>0.134139</td>\n",
       "      <td>0.000000</td>\n",
       "      <td>0.107212</td>\n",
       "      <td>2.427039</td>\n",
       "      <td>0.000000</td>\n",
       "      <td>0.000000</td>\n",
       "      <td>0.000000</td>\n",
       "      <td>0.957002</td>\n",
       "      <td>0.000000</td>\n",
       "      <td>0.000000</td>\n",
       "      <td>0.000000</td>\n",
       "      <td>3.182318</td>\n",
       "      <td>0.464991</td>\n",
       "      <td>0.000000</td>\n",
       "      <td>0.000000</td>\n",
       "      <td>0.000000</td>\n",
       "      <td>0.000000</td>\n",
       "      <td>0.000000</td>\n",
       "      <td>0.000000</td>\n",
       "      <td>0.000000</td>\n",
       "      <td>0.073003</td>\n",
       "      <td>0.000000</td>\n",
       "      <td>0.000000</td>\n",
       "      <td>0.000000</td>\n",
       "      <td>0.000000</td>\n",
       "      <td>...</td>\n",
       "      <td>0.000000</td>\n",
       "      <td>0.000000</td>\n",
       "      <td>0.000000</td>\n",
       "      <td>0.000000</td>\n",
       "      <td>0.000000</td>\n",
       "      <td>0.000000</td>\n",
       "      <td>0.000000</td>\n",
       "      <td>0.000000</td>\n",
       "      <td>0.000000</td>\n",
       "      <td>0.000000</td>\n",
       "      <td>0.000000</td>\n",
       "      <td>0.000000</td>\n",
       "      <td>0.000000</td>\n",
       "      <td>0.000000</td>\n",
       "      <td>0.000000</td>\n",
       "      <td>0.000000</td>\n",
       "      <td>0.000000</td>\n",
       "      <td>0.000000</td>\n",
       "      <td>0.000000</td>\n",
       "      <td>0.000000</td>\n",
       "      <td>0.000000</td>\n",
       "      <td>0.000000</td>\n",
       "      <td>0.000000</td>\n",
       "      <td>0.000000</td>\n",
       "      <td>0.000000</td>\n",
       "      <td>0.000000</td>\n",
       "      <td>0.000000</td>\n",
       "      <td>0.000000</td>\n",
       "      <td>0.000000</td>\n",
       "      <td>0.000000</td>\n",
       "      <td>0.000000</td>\n",
       "      <td>0.000000</td>\n",
       "      <td>0.000000</td>\n",
       "      <td>0.000000</td>\n",
       "      <td>0.000000</td>\n",
       "      <td>0.000000</td>\n",
       "      <td>0.000000</td>\n",
       "      <td>0.000000</td>\n",
       "      <td>0.000000</td>\n",
       "      <td>0.000000</td>\n",
       "    </tr>\n",
       "    <tr>\n",
       "      <th>doc 3</th>\n",
       "      <td>1.583190</td>\n",
       "      <td>0.000000</td>\n",
       "      <td>0.014949</td>\n",
       "      <td>0.000000</td>\n",
       "      <td>0.000000</td>\n",
       "      <td>0.000000</td>\n",
       "      <td>0.443629</td>\n",
       "      <td>0.000000</td>\n",
       "      <td>0.000000</td>\n",
       "      <td>0.741219</td>\n",
       "      <td>0.000000</td>\n",
       "      <td>0.000000</td>\n",
       "      <td>1.66973</td>\n",
       "      <td>0.000000</td>\n",
       "      <td>0.644635</td>\n",
       "      <td>0.100604</td>\n",
       "      <td>0.000000</td>\n",
       "      <td>0.107212</td>\n",
       "      <td>0.000000</td>\n",
       "      <td>0.000000</td>\n",
       "      <td>1.899821</td>\n",
       "      <td>3.357096</td>\n",
       "      <td>0.000000</td>\n",
       "      <td>1.356727</td>\n",
       "      <td>0.000000</td>\n",
       "      <td>0.000000</td>\n",
       "      <td>0.000000</td>\n",
       "      <td>0.232496</td>\n",
       "      <td>0.000000</td>\n",
       "      <td>0.000000</td>\n",
       "      <td>4.626561</td>\n",
       "      <td>0.000000</td>\n",
       "      <td>0.000000</td>\n",
       "      <td>0.000000</td>\n",
       "      <td>0.000000</td>\n",
       "      <td>0.036501</td>\n",
       "      <td>0.000000</td>\n",
       "      <td>0.000000</td>\n",
       "      <td>0.000000</td>\n",
       "      <td>0.000000</td>\n",
       "      <td>...</td>\n",
       "      <td>0.000000</td>\n",
       "      <td>0.000000</td>\n",
       "      <td>0.000000</td>\n",
       "      <td>0.000000</td>\n",
       "      <td>0.000000</td>\n",
       "      <td>0.000000</td>\n",
       "      <td>0.000000</td>\n",
       "      <td>0.000000</td>\n",
       "      <td>0.000000</td>\n",
       "      <td>0.000000</td>\n",
       "      <td>0.000000</td>\n",
       "      <td>0.000000</td>\n",
       "      <td>0.000000</td>\n",
       "      <td>0.000000</td>\n",
       "      <td>0.000000</td>\n",
       "      <td>0.000000</td>\n",
       "      <td>0.000000</td>\n",
       "      <td>0.000000</td>\n",
       "      <td>0.000000</td>\n",
       "      <td>0.000000</td>\n",
       "      <td>0.000000</td>\n",
       "      <td>0.000000</td>\n",
       "      <td>0.000000</td>\n",
       "      <td>0.000000</td>\n",
       "      <td>0.000000</td>\n",
       "      <td>0.000000</td>\n",
       "      <td>0.000000</td>\n",
       "      <td>0.000000</td>\n",
       "      <td>0.000000</td>\n",
       "      <td>0.000000</td>\n",
       "      <td>0.000000</td>\n",
       "      <td>0.000000</td>\n",
       "      <td>0.000000</td>\n",
       "      <td>0.000000</td>\n",
       "      <td>0.000000</td>\n",
       "      <td>0.000000</td>\n",
       "      <td>0.000000</td>\n",
       "      <td>0.000000</td>\n",
       "      <td>0.000000</td>\n",
       "      <td>0.000000</td>\n",
       "    </tr>\n",
       "    <tr>\n",
       "      <th>doc 4</th>\n",
       "      <td>0.000000</td>\n",
       "      <td>0.000000</td>\n",
       "      <td>0.044848</td>\n",
       "      <td>0.000000</td>\n",
       "      <td>0.000000</td>\n",
       "      <td>0.000000</td>\n",
       "      <td>0.000000</td>\n",
       "      <td>0.000000</td>\n",
       "      <td>4.137830</td>\n",
       "      <td>0.000000</td>\n",
       "      <td>6.519153</td>\n",
       "      <td>1.789634</td>\n",
       "      <td>0.00000</td>\n",
       "      <td>0.000000</td>\n",
       "      <td>0.322318</td>\n",
       "      <td>0.033535</td>\n",
       "      <td>1.090188</td>\n",
       "      <td>0.107212</td>\n",
       "      <td>0.000000</td>\n",
       "      <td>0.000000</td>\n",
       "      <td>4.432916</td>\n",
       "      <td>0.000000</td>\n",
       "      <td>0.000000</td>\n",
       "      <td>0.000000</td>\n",
       "      <td>0.000000</td>\n",
       "      <td>0.000000</td>\n",
       "      <td>0.000000</td>\n",
       "      <td>0.929983</td>\n",
       "      <td>2.230759</td>\n",
       "      <td>0.000000</td>\n",
       "      <td>4.626561</td>\n",
       "      <td>0.000000</td>\n",
       "      <td>0.000000</td>\n",
       "      <td>0.000000</td>\n",
       "      <td>0.000000</td>\n",
       "      <td>0.073003</td>\n",
       "      <td>0.000000</td>\n",
       "      <td>0.000000</td>\n",
       "      <td>0.000000</td>\n",
       "      <td>0.000000</td>\n",
       "      <td>...</td>\n",
       "      <td>0.000000</td>\n",
       "      <td>0.000000</td>\n",
       "      <td>0.000000</td>\n",
       "      <td>0.000000</td>\n",
       "      <td>0.000000</td>\n",
       "      <td>0.000000</td>\n",
       "      <td>0.000000</td>\n",
       "      <td>0.000000</td>\n",
       "      <td>0.000000</td>\n",
       "      <td>0.000000</td>\n",
       "      <td>0.000000</td>\n",
       "      <td>0.000000</td>\n",
       "      <td>0.000000</td>\n",
       "      <td>0.000000</td>\n",
       "      <td>0.000000</td>\n",
       "      <td>0.000000</td>\n",
       "      <td>0.000000</td>\n",
       "      <td>0.000000</td>\n",
       "      <td>0.000000</td>\n",
       "      <td>0.000000</td>\n",
       "      <td>0.000000</td>\n",
       "      <td>0.000000</td>\n",
       "      <td>0.000000</td>\n",
       "      <td>0.000000</td>\n",
       "      <td>0.000000</td>\n",
       "      <td>0.000000</td>\n",
       "      <td>0.000000</td>\n",
       "      <td>0.000000</td>\n",
       "      <td>0.000000</td>\n",
       "      <td>0.000000</td>\n",
       "      <td>0.000000</td>\n",
       "      <td>0.000000</td>\n",
       "      <td>0.000000</td>\n",
       "      <td>0.000000</td>\n",
       "      <td>0.000000</td>\n",
       "      <td>0.000000</td>\n",
       "      <td>0.000000</td>\n",
       "      <td>0.000000</td>\n",
       "      <td>0.000000</td>\n",
       "      <td>0.000000</td>\n",
       "    </tr>\n",
       "    <tr>\n",
       "      <th>doc 5</th>\n",
       "      <td>0.000000</td>\n",
       "      <td>0.000000</td>\n",
       "      <td>0.059797</td>\n",
       "      <td>0.000000</td>\n",
       "      <td>0.000000</td>\n",
       "      <td>0.000000</td>\n",
       "      <td>0.000000</td>\n",
       "      <td>0.000000</td>\n",
       "      <td>0.000000</td>\n",
       "      <td>0.370609</td>\n",
       "      <td>0.000000</td>\n",
       "      <td>0.000000</td>\n",
       "      <td>0.00000</td>\n",
       "      <td>0.000000</td>\n",
       "      <td>0.644635</td>\n",
       "      <td>0.100604</td>\n",
       "      <td>0.545094</td>\n",
       "      <td>0.214425</td>\n",
       "      <td>0.000000</td>\n",
       "      <td>0.000000</td>\n",
       "      <td>0.000000</td>\n",
       "      <td>0.000000</td>\n",
       "      <td>0.000000</td>\n",
       "      <td>0.678363</td>\n",
       "      <td>0.000000</td>\n",
       "      <td>0.000000</td>\n",
       "      <td>0.000000</td>\n",
       "      <td>0.000000</td>\n",
       "      <td>0.000000</td>\n",
       "      <td>0.000000</td>\n",
       "      <td>0.000000</td>\n",
       "      <td>0.000000</td>\n",
       "      <td>0.000000</td>\n",
       "      <td>0.000000</td>\n",
       "      <td>0.000000</td>\n",
       "      <td>0.054752</td>\n",
       "      <td>0.000000</td>\n",
       "      <td>0.000000</td>\n",
       "      <td>0.000000</td>\n",
       "      <td>0.000000</td>\n",
       "      <td>...</td>\n",
       "      <td>0.000000</td>\n",
       "      <td>0.000000</td>\n",
       "      <td>0.000000</td>\n",
       "      <td>0.000000</td>\n",
       "      <td>0.000000</td>\n",
       "      <td>0.000000</td>\n",
       "      <td>0.000000</td>\n",
       "      <td>0.000000</td>\n",
       "      <td>0.000000</td>\n",
       "      <td>0.000000</td>\n",
       "      <td>0.000000</td>\n",
       "      <td>0.000000</td>\n",
       "      <td>0.000000</td>\n",
       "      <td>0.000000</td>\n",
       "      <td>0.000000</td>\n",
       "      <td>0.000000</td>\n",
       "      <td>0.000000</td>\n",
       "      <td>0.000000</td>\n",
       "      <td>0.000000</td>\n",
       "      <td>0.000000</td>\n",
       "      <td>0.000000</td>\n",
       "      <td>0.000000</td>\n",
       "      <td>0.000000</td>\n",
       "      <td>0.000000</td>\n",
       "      <td>0.000000</td>\n",
       "      <td>0.000000</td>\n",
       "      <td>0.000000</td>\n",
       "      <td>0.000000</td>\n",
       "      <td>0.000000</td>\n",
       "      <td>0.000000</td>\n",
       "      <td>0.000000</td>\n",
       "      <td>0.000000</td>\n",
       "      <td>0.000000</td>\n",
       "      <td>0.000000</td>\n",
       "      <td>0.000000</td>\n",
       "      <td>0.000000</td>\n",
       "      <td>0.000000</td>\n",
       "      <td>0.000000</td>\n",
       "      <td>0.000000</td>\n",
       "      <td>0.000000</td>\n",
       "    </tr>\n",
       "    <tr>\n",
       "      <th>...</th>\n",
       "      <td>...</td>\n",
       "      <td>...</td>\n",
       "      <td>...</td>\n",
       "      <td>...</td>\n",
       "      <td>...</td>\n",
       "      <td>...</td>\n",
       "      <td>...</td>\n",
       "      <td>...</td>\n",
       "      <td>...</td>\n",
       "      <td>...</td>\n",
       "      <td>...</td>\n",
       "      <td>...</td>\n",
       "      <td>...</td>\n",
       "      <td>...</td>\n",
       "      <td>...</td>\n",
       "      <td>...</td>\n",
       "      <td>...</td>\n",
       "      <td>...</td>\n",
       "      <td>...</td>\n",
       "      <td>...</td>\n",
       "      <td>...</td>\n",
       "      <td>...</td>\n",
       "      <td>...</td>\n",
       "      <td>...</td>\n",
       "      <td>...</td>\n",
       "      <td>...</td>\n",
       "      <td>...</td>\n",
       "      <td>...</td>\n",
       "      <td>...</td>\n",
       "      <td>...</td>\n",
       "      <td>...</td>\n",
       "      <td>...</td>\n",
       "      <td>...</td>\n",
       "      <td>...</td>\n",
       "      <td>...</td>\n",
       "      <td>...</td>\n",
       "      <td>...</td>\n",
       "      <td>...</td>\n",
       "      <td>...</td>\n",
       "      <td>...</td>\n",
       "      <td>...</td>\n",
       "      <td>...</td>\n",
       "      <td>...</td>\n",
       "      <td>...</td>\n",
       "      <td>...</td>\n",
       "      <td>...</td>\n",
       "      <td>...</td>\n",
       "      <td>...</td>\n",
       "      <td>...</td>\n",
       "      <td>...</td>\n",
       "      <td>...</td>\n",
       "      <td>...</td>\n",
       "      <td>...</td>\n",
       "      <td>...</td>\n",
       "      <td>...</td>\n",
       "      <td>...</td>\n",
       "      <td>...</td>\n",
       "      <td>...</td>\n",
       "      <td>...</td>\n",
       "      <td>...</td>\n",
       "      <td>...</td>\n",
       "      <td>...</td>\n",
       "      <td>...</td>\n",
       "      <td>...</td>\n",
       "      <td>...</td>\n",
       "      <td>...</td>\n",
       "      <td>...</td>\n",
       "      <td>...</td>\n",
       "      <td>...</td>\n",
       "      <td>...</td>\n",
       "      <td>...</td>\n",
       "      <td>...</td>\n",
       "      <td>...</td>\n",
       "      <td>...</td>\n",
       "      <td>...</td>\n",
       "      <td>...</td>\n",
       "      <td>...</td>\n",
       "      <td>...</td>\n",
       "      <td>...</td>\n",
       "      <td>...</td>\n",
       "      <td>...</td>\n",
       "    </tr>\n",
       "    <tr>\n",
       "      <th>doc 465</th>\n",
       "      <td>1.583190</td>\n",
       "      <td>0.000000</td>\n",
       "      <td>0.029899</td>\n",
       "      <td>0.000000</td>\n",
       "      <td>0.000000</td>\n",
       "      <td>0.000000</td>\n",
       "      <td>0.887259</td>\n",
       "      <td>0.000000</td>\n",
       "      <td>0.000000</td>\n",
       "      <td>0.000000</td>\n",
       "      <td>0.000000</td>\n",
       "      <td>0.000000</td>\n",
       "      <td>0.00000</td>\n",
       "      <td>0.000000</td>\n",
       "      <td>1.289270</td>\n",
       "      <td>0.000000</td>\n",
       "      <td>0.545094</td>\n",
       "      <td>0.071475</td>\n",
       "      <td>0.000000</td>\n",
       "      <td>0.000000</td>\n",
       "      <td>0.000000</td>\n",
       "      <td>0.000000</td>\n",
       "      <td>0.957002</td>\n",
       "      <td>0.000000</td>\n",
       "      <td>0.000000</td>\n",
       "      <td>0.000000</td>\n",
       "      <td>0.000000</td>\n",
       "      <td>1.162478</td>\n",
       "      <td>0.000000</td>\n",
       "      <td>0.000000</td>\n",
       "      <td>0.000000</td>\n",
       "      <td>0.000000</td>\n",
       "      <td>0.000000</td>\n",
       "      <td>0.000000</td>\n",
       "      <td>0.000000</td>\n",
       "      <td>0.036501</td>\n",
       "      <td>0.000000</td>\n",
       "      <td>0.000000</td>\n",
       "      <td>0.000000</td>\n",
       "      <td>0.000000</td>\n",
       "      <td>...</td>\n",
       "      <td>5.747268</td>\n",
       "      <td>5.747268</td>\n",
       "      <td>5.747268</td>\n",
       "      <td>5.747268</td>\n",
       "      <td>5.747268</td>\n",
       "      <td>0.000000</td>\n",
       "      <td>0.000000</td>\n",
       "      <td>0.000000</td>\n",
       "      <td>0.000000</td>\n",
       "      <td>0.000000</td>\n",
       "      <td>0.000000</td>\n",
       "      <td>0.000000</td>\n",
       "      <td>0.000000</td>\n",
       "      <td>0.000000</td>\n",
       "      <td>0.000000</td>\n",
       "      <td>0.000000</td>\n",
       "      <td>0.000000</td>\n",
       "      <td>0.000000</td>\n",
       "      <td>0.000000</td>\n",
       "      <td>0.000000</td>\n",
       "      <td>0.000000</td>\n",
       "      <td>0.000000</td>\n",
       "      <td>0.000000</td>\n",
       "      <td>0.000000</td>\n",
       "      <td>0.000000</td>\n",
       "      <td>0.000000</td>\n",
       "      <td>0.000000</td>\n",
       "      <td>0.000000</td>\n",
       "      <td>0.000000</td>\n",
       "      <td>0.000000</td>\n",
       "      <td>0.000000</td>\n",
       "      <td>0.000000</td>\n",
       "      <td>0.000000</td>\n",
       "      <td>0.000000</td>\n",
       "      <td>0.000000</td>\n",
       "      <td>0.000000</td>\n",
       "      <td>0.000000</td>\n",
       "      <td>0.000000</td>\n",
       "      <td>0.000000</td>\n",
       "      <td>0.000000</td>\n",
       "    </tr>\n",
       "    <tr>\n",
       "      <th>doc 466</th>\n",
       "      <td>0.000000</td>\n",
       "      <td>0.000000</td>\n",
       "      <td>0.074747</td>\n",
       "      <td>0.000000</td>\n",
       "      <td>0.000000</td>\n",
       "      <td>0.000000</td>\n",
       "      <td>0.443629</td>\n",
       "      <td>0.000000</td>\n",
       "      <td>0.000000</td>\n",
       "      <td>1.482438</td>\n",
       "      <td>0.000000</td>\n",
       "      <td>0.000000</td>\n",
       "      <td>0.00000</td>\n",
       "      <td>0.000000</td>\n",
       "      <td>0.000000</td>\n",
       "      <td>0.268278</td>\n",
       "      <td>1.090188</td>\n",
       "      <td>0.142950</td>\n",
       "      <td>0.000000</td>\n",
       "      <td>0.000000</td>\n",
       "      <td>0.633274</td>\n",
       "      <td>0.000000</td>\n",
       "      <td>1.914004</td>\n",
       "      <td>0.678363</td>\n",
       "      <td>6.805415</td>\n",
       "      <td>0.000000</td>\n",
       "      <td>0.000000</td>\n",
       "      <td>0.697487</td>\n",
       "      <td>0.000000</td>\n",
       "      <td>0.000000</td>\n",
       "      <td>0.000000</td>\n",
       "      <td>0.000000</td>\n",
       "      <td>0.000000</td>\n",
       "      <td>0.000000</td>\n",
       "      <td>0.000000</td>\n",
       "      <td>0.036501</td>\n",
       "      <td>0.000000</td>\n",
       "      <td>0.000000</td>\n",
       "      <td>0.000000</td>\n",
       "      <td>0.000000</td>\n",
       "      <td>...</td>\n",
       "      <td>0.000000</td>\n",
       "      <td>0.000000</td>\n",
       "      <td>0.000000</td>\n",
       "      <td>0.000000</td>\n",
       "      <td>0.000000</td>\n",
       "      <td>5.747268</td>\n",
       "      <td>5.747268</td>\n",
       "      <td>5.747268</td>\n",
       "      <td>11.494535</td>\n",
       "      <td>5.747268</td>\n",
       "      <td>5.747268</td>\n",
       "      <td>5.236442</td>\n",
       "      <td>5.747268</td>\n",
       "      <td>5.747268</td>\n",
       "      <td>5.747268</td>\n",
       "      <td>5.747268</td>\n",
       "      <td>5.747268</td>\n",
       "      <td>5.747268</td>\n",
       "      <td>5.747268</td>\n",
       "      <td>5.747268</td>\n",
       "      <td>5.747268</td>\n",
       "      <td>0.000000</td>\n",
       "      <td>0.000000</td>\n",
       "      <td>0.000000</td>\n",
       "      <td>0.000000</td>\n",
       "      <td>0.000000</td>\n",
       "      <td>0.000000</td>\n",
       "      <td>0.000000</td>\n",
       "      <td>0.000000</td>\n",
       "      <td>0.000000</td>\n",
       "      <td>0.000000</td>\n",
       "      <td>0.000000</td>\n",
       "      <td>0.000000</td>\n",
       "      <td>0.000000</td>\n",
       "      <td>0.000000</td>\n",
       "      <td>0.000000</td>\n",
       "      <td>0.000000</td>\n",
       "      <td>0.000000</td>\n",
       "      <td>0.000000</td>\n",
       "      <td>0.000000</td>\n",
       "    </tr>\n",
       "    <tr>\n",
       "      <th>doc 467</th>\n",
       "      <td>0.000000</td>\n",
       "      <td>0.000000</td>\n",
       "      <td>0.119595</td>\n",
       "      <td>0.000000</td>\n",
       "      <td>0.000000</td>\n",
       "      <td>0.000000</td>\n",
       "      <td>0.665444</td>\n",
       "      <td>0.000000</td>\n",
       "      <td>0.000000</td>\n",
       "      <td>0.370609</td>\n",
       "      <td>0.000000</td>\n",
       "      <td>0.000000</td>\n",
       "      <td>0.00000</td>\n",
       "      <td>0.000000</td>\n",
       "      <td>0.000000</td>\n",
       "      <td>0.100604</td>\n",
       "      <td>1.090188</td>\n",
       "      <td>0.142950</td>\n",
       "      <td>0.000000</td>\n",
       "      <td>0.000000</td>\n",
       "      <td>1.899821</td>\n",
       "      <td>0.000000</td>\n",
       "      <td>0.000000</td>\n",
       "      <td>1.356727</td>\n",
       "      <td>8.166498</td>\n",
       "      <td>0.000000</td>\n",
       "      <td>0.000000</td>\n",
       "      <td>1.627470</td>\n",
       "      <td>2.230759</td>\n",
       "      <td>0.000000</td>\n",
       "      <td>0.000000</td>\n",
       "      <td>0.000000</td>\n",
       "      <td>0.000000</td>\n",
       "      <td>0.000000</td>\n",
       "      <td>0.000000</td>\n",
       "      <td>0.054752</td>\n",
       "      <td>0.000000</td>\n",
       "      <td>0.000000</td>\n",
       "      <td>0.000000</td>\n",
       "      <td>0.000000</td>\n",
       "      <td>...</td>\n",
       "      <td>0.000000</td>\n",
       "      <td>0.000000</td>\n",
       "      <td>0.000000</td>\n",
       "      <td>0.000000</td>\n",
       "      <td>0.000000</td>\n",
       "      <td>0.000000</td>\n",
       "      <td>0.000000</td>\n",
       "      <td>0.000000</td>\n",
       "      <td>0.000000</td>\n",
       "      <td>0.000000</td>\n",
       "      <td>0.000000</td>\n",
       "      <td>5.236442</td>\n",
       "      <td>0.000000</td>\n",
       "      <td>0.000000</td>\n",
       "      <td>0.000000</td>\n",
       "      <td>0.000000</td>\n",
       "      <td>0.000000</td>\n",
       "      <td>0.000000</td>\n",
       "      <td>0.000000</td>\n",
       "      <td>0.000000</td>\n",
       "      <td>0.000000</td>\n",
       "      <td>45.978141</td>\n",
       "      <td>5.747268</td>\n",
       "      <td>5.747268</td>\n",
       "      <td>5.747268</td>\n",
       "      <td>5.747268</td>\n",
       "      <td>5.747268</td>\n",
       "      <td>11.494535</td>\n",
       "      <td>11.494535</td>\n",
       "      <td>5.747268</td>\n",
       "      <td>5.747268</td>\n",
       "      <td>5.747268</td>\n",
       "      <td>5.747268</td>\n",
       "      <td>5.747268</td>\n",
       "      <td>5.747268</td>\n",
       "      <td>0.000000</td>\n",
       "      <td>0.000000</td>\n",
       "      <td>0.000000</td>\n",
       "      <td>0.000000</td>\n",
       "      <td>0.000000</td>\n",
       "    </tr>\n",
       "    <tr>\n",
       "      <th>doc 468</th>\n",
       "      <td>0.000000</td>\n",
       "      <td>0.000000</td>\n",
       "      <td>0.112120</td>\n",
       "      <td>0.000000</td>\n",
       "      <td>0.000000</td>\n",
       "      <td>0.000000</td>\n",
       "      <td>1.109073</td>\n",
       "      <td>0.000000</td>\n",
       "      <td>0.000000</td>\n",
       "      <td>0.185305</td>\n",
       "      <td>0.000000</td>\n",
       "      <td>0.000000</td>\n",
       "      <td>0.00000</td>\n",
       "      <td>0.000000</td>\n",
       "      <td>0.000000</td>\n",
       "      <td>0.100604</td>\n",
       "      <td>0.545094</td>\n",
       "      <td>0.071475</td>\n",
       "      <td>0.000000</td>\n",
       "      <td>0.000000</td>\n",
       "      <td>1.266548</td>\n",
       "      <td>0.000000</td>\n",
       "      <td>0.000000</td>\n",
       "      <td>0.000000</td>\n",
       "      <td>0.000000</td>\n",
       "      <td>0.000000</td>\n",
       "      <td>0.000000</td>\n",
       "      <td>0.697487</td>\n",
       "      <td>0.000000</td>\n",
       "      <td>0.000000</td>\n",
       "      <td>0.000000</td>\n",
       "      <td>0.000000</td>\n",
       "      <td>0.000000</td>\n",
       "      <td>0.000000</td>\n",
       "      <td>0.000000</td>\n",
       "      <td>0.127754</td>\n",
       "      <td>0.000000</td>\n",
       "      <td>0.000000</td>\n",
       "      <td>0.000000</td>\n",
       "      <td>0.000000</td>\n",
       "      <td>...</td>\n",
       "      <td>0.000000</td>\n",
       "      <td>0.000000</td>\n",
       "      <td>0.000000</td>\n",
       "      <td>0.000000</td>\n",
       "      <td>0.000000</td>\n",
       "      <td>0.000000</td>\n",
       "      <td>0.000000</td>\n",
       "      <td>0.000000</td>\n",
       "      <td>0.000000</td>\n",
       "      <td>0.000000</td>\n",
       "      <td>0.000000</td>\n",
       "      <td>0.000000</td>\n",
       "      <td>0.000000</td>\n",
       "      <td>0.000000</td>\n",
       "      <td>0.000000</td>\n",
       "      <td>0.000000</td>\n",
       "      <td>0.000000</td>\n",
       "      <td>0.000000</td>\n",
       "      <td>0.000000</td>\n",
       "      <td>0.000000</td>\n",
       "      <td>0.000000</td>\n",
       "      <td>0.000000</td>\n",
       "      <td>0.000000</td>\n",
       "      <td>0.000000</td>\n",
       "      <td>0.000000</td>\n",
       "      <td>0.000000</td>\n",
       "      <td>0.000000</td>\n",
       "      <td>0.000000</td>\n",
       "      <td>0.000000</td>\n",
       "      <td>0.000000</td>\n",
       "      <td>0.000000</td>\n",
       "      <td>0.000000</td>\n",
       "      <td>0.000000</td>\n",
       "      <td>0.000000</td>\n",
       "      <td>0.000000</td>\n",
       "      <td>5.747268</td>\n",
       "      <td>5.747268</td>\n",
       "      <td>5.747268</td>\n",
       "      <td>5.747268</td>\n",
       "      <td>0.000000</td>\n",
       "    </tr>\n",
       "    <tr>\n",
       "      <th>doc 469</th>\n",
       "      <td>0.000000</td>\n",
       "      <td>0.000000</td>\n",
       "      <td>0.052323</td>\n",
       "      <td>0.000000</td>\n",
       "      <td>0.000000</td>\n",
       "      <td>0.000000</td>\n",
       "      <td>0.665444</td>\n",
       "      <td>0.000000</td>\n",
       "      <td>0.000000</td>\n",
       "      <td>1.297133</td>\n",
       "      <td>2.173051</td>\n",
       "      <td>0.000000</td>\n",
       "      <td>0.00000</td>\n",
       "      <td>0.000000</td>\n",
       "      <td>0.000000</td>\n",
       "      <td>0.067070</td>\n",
       "      <td>1.090188</td>\n",
       "      <td>0.107212</td>\n",
       "      <td>0.000000</td>\n",
       "      <td>0.000000</td>\n",
       "      <td>0.000000</td>\n",
       "      <td>0.000000</td>\n",
       "      <td>0.000000</td>\n",
       "      <td>1.356727</td>\n",
       "      <td>2.722166</td>\n",
       "      <td>0.000000</td>\n",
       "      <td>0.000000</td>\n",
       "      <td>0.697487</td>\n",
       "      <td>0.000000</td>\n",
       "      <td>0.000000</td>\n",
       "      <td>0.000000</td>\n",
       "      <td>0.000000</td>\n",
       "      <td>0.000000</td>\n",
       "      <td>0.000000</td>\n",
       "      <td>0.000000</td>\n",
       "      <td>0.036501</td>\n",
       "      <td>0.000000</td>\n",
       "      <td>5.991465</td>\n",
       "      <td>5.908119</td>\n",
       "      <td>0.000000</td>\n",
       "      <td>...</td>\n",
       "      <td>0.000000</td>\n",
       "      <td>0.000000</td>\n",
       "      <td>0.000000</td>\n",
       "      <td>0.000000</td>\n",
       "      <td>0.000000</td>\n",
       "      <td>0.000000</td>\n",
       "      <td>0.000000</td>\n",
       "      <td>0.000000</td>\n",
       "      <td>0.000000</td>\n",
       "      <td>0.000000</td>\n",
       "      <td>0.000000</td>\n",
       "      <td>0.000000</td>\n",
       "      <td>0.000000</td>\n",
       "      <td>0.000000</td>\n",
       "      <td>0.000000</td>\n",
       "      <td>0.000000</td>\n",
       "      <td>0.000000</td>\n",
       "      <td>0.000000</td>\n",
       "      <td>0.000000</td>\n",
       "      <td>0.000000</td>\n",
       "      <td>0.000000</td>\n",
       "      <td>0.000000</td>\n",
       "      <td>0.000000</td>\n",
       "      <td>0.000000</td>\n",
       "      <td>0.000000</td>\n",
       "      <td>0.000000</td>\n",
       "      <td>0.000000</td>\n",
       "      <td>0.000000</td>\n",
       "      <td>0.000000</td>\n",
       "      <td>0.000000</td>\n",
       "      <td>0.000000</td>\n",
       "      <td>0.000000</td>\n",
       "      <td>0.000000</td>\n",
       "      <td>0.000000</td>\n",
       "      <td>0.000000</td>\n",
       "      <td>0.000000</td>\n",
       "      <td>0.000000</td>\n",
       "      <td>0.000000</td>\n",
       "      <td>0.000000</td>\n",
       "      <td>5.747268</td>\n",
       "    </tr>\n",
       "  </tbody>\n",
       "</table>\n",
       "<p>469 rows × 7185 columns</p>\n",
       "</div>"
      ],
      "text/plain": [
       "         analisis    faktor      yang  ...  dimanipulasi    cotrol  conferencing\n",
       "doc 1    3.166379  9.415176  0.074747  ...      0.000000  0.000000      0.000000\n",
       "doc 2    1.583190  5.649106  0.022424  ...      0.000000  0.000000      0.000000\n",
       "doc 3    1.583190  0.000000  0.014949  ...      0.000000  0.000000      0.000000\n",
       "doc 4    0.000000  0.000000  0.044848  ...      0.000000  0.000000      0.000000\n",
       "doc 5    0.000000  0.000000  0.059797  ...      0.000000  0.000000      0.000000\n",
       "...           ...       ...       ...  ...           ...       ...           ...\n",
       "doc 465  1.583190  0.000000  0.029899  ...      0.000000  0.000000      0.000000\n",
       "doc 466  0.000000  0.000000  0.074747  ...      0.000000  0.000000      0.000000\n",
       "doc 467  0.000000  0.000000  0.119595  ...      0.000000  0.000000      0.000000\n",
       "doc 468  0.000000  0.000000  0.112120  ...      5.747268  5.747268      0.000000\n",
       "doc 469  0.000000  0.000000  0.052323  ...      0.000000  0.000000      5.747268\n",
       "\n",
       "[469 rows x 7185 columns]"
      ]
     },
     "execution_count": 119,
     "metadata": {},
     "output_type": "execute_result"
    }
   ],
   "source": [
    "tfidf"
   ]
  },
  {
   "cell_type": "markdown",
   "metadata": {
    "id": "s-12tXQVRFns"
   },
   "source": [
    "## Proses dimension reduction PCA"
   ]
  },
  {
   "cell_type": "code",
   "execution_count": 120,
   "metadata": {
    "executionInfo": {
     "elapsed": 17,
     "status": "ok",
     "timestamp": 1636452725680,
     "user": {
      "displayName": "Naufal Hilmi",
      "photoUrl": "https://lh3.googleusercontent.com/a-/AOh14Gj7UB8yAHzIcK8gtuCV9hf44dCQUmF8XqLkQI3C=s64",
      "userId": "02567910694508979199"
     },
     "user_tz": -420
    },
    "id": "ncdS-p1UUbYp"
   },
   "outputs": [],
   "source": [
    "from sklearn.decomposition import PCA\n",
    "import plotly.express as px"
   ]
  },
  {
   "cell_type": "code",
   "execution_count": 121,
   "metadata": {
    "executionInfo": {
     "elapsed": 538,
     "status": "ok",
     "timestamp": 1636452726202,
     "user": {
      "displayName": "Naufal Hilmi",
      "photoUrl": "https://lh3.googleusercontent.com/a-/AOh14Gj7UB8yAHzIcK8gtuCV9hf44dCQUmF8XqLkQI3C=s64",
      "userId": "02567910694508979199"
     },
     "user_tz": -420
    },
    "id": "6z4D_Oa-UcZ6"
   },
   "outputs": [],
   "source": [
    "pca = PCA(n_components=2)\n",
    "components = pca.fit_transform(tfidf)"
   ]
  },
  {
   "cell_type": "code",
   "execution_count": 122,
   "metadata": {
    "colab": {
     "base_uri": "https://localhost:8080/",
     "height": 0
    },
    "executionInfo": {
     "elapsed": 816,
     "status": "ok",
     "timestamp": 1636452727016,
     "user": {
      "displayName": "Naufal Hilmi",
      "photoUrl": "https://lh3.googleusercontent.com/a-/AOh14Gj7UB8yAHzIcK8gtuCV9hf44dCQUmF8XqLkQI3C=s64",
      "userId": "02567910694508979199"
     },
     "user_tz": -420
    },
    "id": "UeF_-bxEVL-0",
    "outputId": "45155350-71b0-4834-d257-c4607f76e7c8"
   },
   "outputs": [
    {
     "data": {
      "text/html": [
       "<html>\n",
       "<head><meta charset=\"utf-8\" /></head>\n",
       "<body>\n",
       "    <div>\n",
       "            <script src=\"https://cdnjs.cloudflare.com/ajax/libs/mathjax/2.7.5/MathJax.js?config=TeX-AMS-MML_SVG\"></script><script type=\"text/javascript\">if (window.MathJax) {MathJax.Hub.Config({SVG: {font: \"STIX-Web\"}});}</script>\n",
       "                <script type=\"text/javascript\">window.PlotlyConfig = {MathJaxConfig: 'local'};</script>\n",
       "        <script src=\"https://cdn.plot.ly/plotly-latest.min.js\"></script>    \n",
       "            <div id=\"d66c9372-4e51-43ae-9994-014b733d01d9\" class=\"plotly-graph-div\" style=\"height:525px; width:100%;\"></div>\n",
       "            <script type=\"text/javascript\">\n",
       "                \n",
       "                    window.PLOTLYENV=window.PLOTLYENV || {};\n",
       "                    \n",
       "                if (document.getElementById(\"d66c9372-4e51-43ae-9994-014b733d01d9\")) {\n",
       "                    Plotly.newPlot(\n",
       "                        'd66c9372-4e51-43ae-9994-014b733d01d9',\n",
       "                        [{\"diagonal\": {\"visible\": false}, \"dimensions\": [{\"axis\": {\"matches\": true}, \"label\": \"PC 1 (2.3%)\", \"values\": [-4.5488682290477565, -3.4841059798442795, -3.2361880469097666, -3.025116437305253, -2.352701606986343, -3.208514799420931, -3.15340491710608, -1.6211725575594267, -3.4143553138908995, -7.833549825510043, -2.5825846878453693, -1.1736216666044983, -2.6105543636113735, -1.3095513302766661, -1.566714955459603, -2.2945766760549122, -0.2617258908559076, -2.232044209480553, -3.2298312973812062, -2.12211497623694, -2.4881676860658195, 58.473736368990856, 2.3718861264900886, -1.7948565717417242, -3.4749126820523553, 12.189646809135947, -2.876710066432724, 53.243178515277386, 38.52575473464035, 1.99308982072929, -4.221610005662943, -4.164598108653326, -3.6214714745953773, 3.8695707068895, -5.0481057995585, -3.8755918959934728, -6.667633240097316, -5.110870928817955, -5.118929523539399, -3.5671189391984197, -4.997184216181939, -4.343536846512211, -5.433321958272951, -5.157859605261477, -3.9173884307217217, -6.285338503190517, -4.31495905504276, -4.201672608521416, -3.6818396981127655, -4.957019929607111, -5.453859397248551, -2.7667751605128137, -3.7204663711924817, -4.214167785839879, -1.2795008142524587, 2.3532176078642153, -5.5976779836627335, -3.7792319001217085, -3.823126058864199, -3.4342971283005284, -4.8444338886253435, -3.8366353264716033, -4.702479540950919, -3.849968550849933, -3.7944569763033287, -2.8009640414361967, -0.3517421783076621, -2.3551104756837646, -2.479669984278508, 0.8637694122482601, -3.8010895774386775, -2.046874158786233, -2.206175418274347, -2.839062227404115, -2.5869208934707526, -1.714036199658404, 0.3182370962540006, -2.7722177768583225, -2.2673421125303284, -4.123144480583583, -6.62737387792934, -0.6900760486399904, -1.0320131102907655, -2.8469638475327548, -2.000199906085211, -3.007153695776796, -2.734666254101305, -2.7380394100967487, -3.841618558008314, -3.4962550617747596, -2.0738331269262056, -3.5320612298828413, 0.6356968345939464, -3.210744459409741, -1.5278319691407725, -0.8404670916597519, -2.7360556885849836, 6.254216087554767, -2.4682814786051472, -2.981502026885103, -2.4597823479806236, -3.2858939333153145, -2.4471826149591083, -2.3592391001311106, -0.5790782919789726, -1.5965751578178784, -1.9125913771611867, 1.945556654193305, 0.9877212890198999, -1.1677636494722246, -3.141485362916803, -0.4447102017925348, -2.9444811892463245, -3.898522946079398, -3.240652511171355, -3.3869111182419864, -3.296769658195376, -3.0000436487284476, -2.1617221671476505, 0.512890546537705, -3.2925276456147095, -4.050578138768703, -3.68620795713296, -3.5421442198415685, -3.6575238394592904, -3.8113059297202962, -4.397885892059034, -4.590846828991136, -4.444362139418558, -3.5873874559027303, -2.845051902268367, -4.894046709512839, -3.0122360116440015, -2.795861514869594, -5.629776020509813, -4.546548745272472, -4.342915093208526, -4.198193960195235, -3.991662001854876, -4.320006821596156, -5.952842750309139, -0.8583782422316304, -0.49677385995872364, -2.470513597569362, -2.3001319179540927, -2.4962481511589107, -2.6463739420379, 6.04659399346522, 3.943010395937508, -3.018322447189171, -0.8339785218041152, -0.055025279550262776, -1.3262323425561173, -0.15565528440610718, -1.3043816477149117, -2.986728276873394, -3.7955847946312398, -1.757586698708288, -1.8357765329021827, 1.078962798218739, -2.460744423485875, -2.0651743425647884, -2.5310770234543076, -0.7729999582883683, 0.4354138421169222, 1.4443204726218049, 15.266008490632958, 12.772495760599112, 6.647803815384892, -2.6594732206973384, -1.529613280043223, -2.8237068031271852, -0.513703976721598, -4.020335771043109, -1.5110740824366804, -0.49639212239231273, 0.12387040744020428, 10.738429469696898, -1.864161679367432, 0.6702881008422067, -1.4815290269317587, -2.582808309799257, -1.2345347385616638, -1.6263051036646103, 5.795031092141469, -2.6409193163606344, -2.0898665954811046, -3.460940374383419, -3.266923721700465, -1.9257345917922402, -3.648713936310643, -2.552635926813645, -5.096653638363299, -2.52834873133214, -2.468519296132435, 1.1881144488338486, -0.2000898040366809, -3.0157053166734826, -4.753782987314641, 2.6015959174039835, 0.4219141576381464, -4.368551607124825, 4.957372925789248, -1.6194705874643243, -2.4462635905249006, -0.8971000859969839, 5.804230521747936, -2.065192837294508, -2.4192918308368316, -3.0731612619686963, -2.3274105743368048, -2.6313687613992784, -2.8857405278427133, -0.4674729554999898, -1.4116823271651133, -0.7536183631271322, -2.437417268322487, -1.4761014446299736, -2.9412484447817233, 0.49943198916530607, -2.555824929629928, -2.188137685578994, -1.7205772200060407, -0.10124327345383834, -1.8390680362653378, -2.0060335860616814, -2.733161102234752, -6.037503582586522, 3.0337811979075724, 13.685949563340666, 16.301951286727263, 6.250287228676282, -3.406357213469401, -2.7637225135092387, -1.8565032883672625, 0.1982806335500484, 3.67959022112073, 4.273788838527543, -1.2438426574141956, -2.848214670735565, -2.8179077595762467, -2.0582966589337626, -4.331406163156206, -2.960599529329973, -2.048077446145274, -4.186533780860247, -2.8069220821989647, -0.2939258333933893, -0.004903711665007672, -2.7280889577905962, -1.9335373737946786, -3.426182286564843, -2.3922597649407487, -6.864829344413852, 0.4220799236120086, -0.8578297140314075, -2.1421001079367077, -1.7324028204766349, -3.618466184899358, -4.284467990134572, -2.2038500967603456, -2.2064657168049657, 47.90478198248714, 7.287090900923711, -1.1494640536719998, -1.3847945648737616, -1.1743357096355707, -2.572617412377148, -2.51179945051827, 23.992786706469335, 1.5587927487732924, -1.5538150799298622, -0.9391226120702793, -2.6532450649702337, -2.4766652018961604, -3.4258664193249837, 1.485057279129651, -3.6490433574323986, -3.4891643217660966, -5.393843657851505, -3.9276427086798744, -3.747674173201494, -3.642910721807525, -1.90349165693005, -3.9584121286457146, -4.348471707168304, -2.705634311643133, -3.2215552440910526, -6.117562623374385, -5.295423482838288, -3.8984308452974417, 1.3255110114596371, -3.9681118414524588, -1.8933854331366655, -1.5075136314703534, -2.0071666354698023, -0.11716449800005521, -2.612817664962854, -4.081949143133019, -4.6293188782957335, -2.628812503979229, -2.5303807315053746, -2.082639871362057, -3.8015187132695982, -3.3102750734226074, -3.1667920222033863, -2.9395660013451086, -3.6366044146236733, -3.627220479213579, -3.7205935937363126, -3.2584884501880023, -4.9401202889807925, -3.0329978976973515, -0.7811194641962438, -2.0714876185393214, -3.198655207661, -1.5044323632293615, -3.215817428463733, -2.614845320702198, 4.103007934789169, 15.242379676783495, -2.8967718757490584, -2.2696975154303938, -2.466536329668089, -3.1821123011491643, -4.52369394667905, -1.6142085571418667, -3.5121094119078617, -3.0347738721467565, -2.239500721230419, -1.7157341077508133, -2.647481617533741, -2.2846627784397344, -3.40020886746869, -2.958881490792489, -2.0332512402093563, -3.1861993888686833, -2.691236401962356, -2.885376882909752, -3.5688890598356733, -2.1917981834382494, -2.757361756113428, -0.8075273780388303, -2.159211328897471, -2.735930346888396, -2.0503492000534917, -2.9709276641028075, -2.3785945314162302, -2.956759322151909, 13.124584312915319, 4.919473053765581, 7.2658081401221155, 3.758784299866983, -1.2437532154828521, 70.60899233114492, 92.3175081363718, 32.721960886197415, 41.26369465270263, 31.173668474035328, 25.970600985694812, 3.2600956985398177, -2.336767323683151, 0.7084566517892061, 1.6804638838258372, 13.305587483056621, 1.5300717657696803, -1.5002539119798493, -1.6800961071450806, 30.81320303142126, 2.0678680042415616, 81.47254473845027, 43.66588782865247, -3.1825049027442565, -0.9933685186223695, 0.9493310788054946, -0.6948281518117683, -3.5005240193477087, -3.6996668148690737, -3.177742202572541, -2.2924360885195907, -3.100774118875037, -3.052558439471221, -2.7704607143552322, -2.1215723017270105, 15.160591481032517, 14.755393869748199, -3.0702477222839217, 0.7995977285717524, -2.345869809991739, -1.5325769257829056, -1.4092441882425844, -3.884067435518118, -2.5350705070799218, -2.5826530821466838, -2.1815602943732295, -3.661936536499752, -5.984412656269503, -2.6653097542390576, -3.686174008518807, -1.4145896539082603, -1.9675292339061103, -3.4679874045119226, -3.723949690395918, -3.2964981241332003, -2.9616100664762226, -2.1990005037522815, -2.332035984594695, -2.689051825059449, -2.1817418194702634, -2.2884458581051237, -2.1053626352718373, -1.7241779642190445, -3.505053314871435, -3.446903889603702, -1.645220910426383, -2.021168094516871, -2.6235132213425216, -1.5740531138172347, -1.7056697027662475, 3.55319479345756, -0.6276036546187761, -1.2950716989893394, 0.9844508838914885, -2.590235356278234, -2.7140583557658475, -1.4255467620279803, -2.3653286159343647, -2.6205569902197516, -2.33496242994478, 0.22535289178074405, -0.3365390708395726, -3.8285153022663763, -0.013703432145810815, -1.197959278917109, 36.749624921763754, 9.70870680664823, -1.8651865952966105, -3.486114716375791, -2.2880115040524553, -2.941349745169629, -2.247682432025223, -0.8367370589435582, -3.5261350279391044, -3.26778049793525, -1.6440332946741745, -2.120827426048562, 26.465685435972677, 4.462196943780626, -2.1249676956835613, -1.7083399898631115, -2.7298861901706193, -1.6685185888143301, -2.031922445137241, -2.4707073740536143, 32.749145976992494, -2.906470257512554, -2.9916314923768415, -0.3768931577670545, -3.8619207311156756, 6.45213674387148, -4.454106920406315, -3.4117408205418096, -2.156770174461786, -3.4545588788079313, -3.139787345431047, -1.9381556089475709, 1.958983966248448, -2.2910953992973053, -2.227478554290055]}, {\"axis\": {\"matches\": true}, \"label\": \"PC 2 (1.5%)\", \"values\": [-5.746107625717289, -3.352045391418528, -1.8751763526792444, -2.725370445885596, -2.556354331380931, -4.158990075588331, 0.35524234506936314, 1.3902346543563064, -3.4802556570916123, -13.429058258379083, -1.9670851949148158, 3.4507290460959874, 0.7922839415033053, 1.7380323729169547, 2.7493242527227864, 2.2714043283329435, 7.834266684062401, 2.234027827773177, 6.026525998209648, 2.4113795176585637, 0.7359811064791415, -3.134435548511157, -0.4314908551730326, 9.198487628108369, -3.6722863573498494, -0.9388164084445292, -0.8287847009194038, 0.13096048667890037, -0.7533835173340707, 1.0819746574181017, -3.768483784808047, -2.8251608269949373, -1.8856719023239334, -5.788264977536728, -6.281283808440522, -2.7984589301603244, -9.171110629078997, -7.657036806378305, -6.980584204361793, -3.90671477276594, -7.240299159377077, -5.616458344477844, -8.768244267861704, -9.626279957653699, -6.422114892313712, -8.724883852304707, -6.098550031456269, -5.503021812669951, -4.562990878953849, -7.930020237706017, -5.83122937938654, -0.9453852227327868, -3.500295827785023, -3.7976642688408986, -2.102728976535896, 0.2495064778942789, -6.748489844379696, -2.8665699925792802, -3.0203275555912374, -1.226256355096455, -6.954782233913701, -3.667322048988961, -5.610175268115081, -4.449942462187186, -4.719013449226599, -3.2865480455806546, -0.7860535039791866, -1.046610664939899, -2.3474234689202245, -1.7501742312690758, -3.2232169936236277, -0.899724462569857, 3.5116972843880085, -0.17693070451313136, 1.9932632606900595, -2.1713868990325316, 4.033492658626014, 0.410832003900546, 3.1757009006100603, -5.805192321673511, -10.437521036670942, 3.795727127946504, -1.2780320585205693, -0.2888043867794491, 5.410833516266905, -2.256025956339714, -2.02455216810158, -1.4308847839496555, 1.4173044628019686, -2.2977922491000804, 0.12488840708375754, -2.3649030580717105, 4.254002109382339, -1.301460989556563, 1.9719745272235187, 0.557284787563984, -0.6950150301280378, 0.49775605769534653, -1.177506808432987, -1.1818406993537536, -1.1894834931275584, -1.9145604755010035, 0.37947094285928873, 3.7748233641288502, 3.17057816329324, 0.38586075433361366, -0.048393291502655617, -3.8998970223057245, 8.017159184858032, 17.130802163831607, -1.7284188449034135, 6.270771083869208, 0.057969815074127316, -2.7792753472753975, -1.5319766749237798, -3.413164230039394, -2.5259127313746097, -2.4182519505152182, 1.2158649208668104, -3.3071555426559556, -3.8350528881490376, -2.690089689998119, -3.395026855962206, -2.5740032148341188, -3.1084545075169165, -2.875555486583647, -3.9202471800256107, -3.7374371113167326, -3.7001168263188537, -3.183583609374515, -2.1650727790618367, -6.1326492898682705, -2.2318794842332554, -2.845953881885986, -8.791512287521435, -6.069417784070611, -4.1954081448303056, -4.759011958081212, -2.2927651187412934, -4.949853494109766, -10.788484252045032, 3.6734261867859965, 1.7958217798943805, 1.0870159791814664, -0.7458941597211431, -0.7020668674039539, 1.3092379265012226, 2.057596239600911, -5.165371919876319, 8.512415146697144, -1.5374865289954318, -0.6808925114526625, -2.0982526145587617, 0.3954449908889144, -0.4632367723503723, -0.6678949158402836, -0.7173673466453543, -0.6437715480236621, 3.9681234640016396, 2.4878743853247602, 4.085917608473691, -0.9973195997550599, -2.1529907787254263, 2.095517382320657, -1.39072869092589, -0.0668192132981556, -0.5968487266926883, 0.08247435797712893, 0.1234854433615171, -1.3187506697110674, 0.5148296045034291, -1.3571310672487489, -0.49991662064844344, 16.321741388659333, -1.8172123958806816, 1.8227166343563506, 1.2455887110248793, -0.44930557205011734, 0.6185616673765179, 0.803515391113495, 4.755745772089816, -1.1611588813745746, 3.8899581143152284, 0.5588756690706321, -1.188371949852917, 2.539836090230802, -0.9535636272372461, -1.425447414679581, 1.3331912523865983, -0.5982601578111555, -2.67574286280515, -0.6360763628026728, -6.075088734978556, 1.371772180822958, 0.31663976597798915, 2.5012847981128794, 1.8273928511834812, -2.4009248324010044, -7.149136337508952, -0.01702646922799262, 4.190942606662073, -5.763401514766813, -0.6060580081580548, -1.02822742597196, -2.511122556173322, 3.2882968703876116, -0.3802947809011666, -1.4315325301101134, 0.7157570862692254, 0.25035769492964444, 4.231071362504525, -1.2999265288665158, 0.681476625406524, 1.3721174393265076, 3.74537432369542, -0.9990836152729463, 3.9599172137388536, -1.2503766387187762, -1.9257665661631012, 3.700072527297394, -4.433952994931161, -3.027754665289662, 0.0406608474847786, 1.9419171595452305, 7.150882424311185, -0.011731666939612759, 1.2749083244921642, -7.867885761472429, 0.04965281131029873, 1.5705290851395244, 1.2255481132706487, -0.8397415842879428, -0.8679889063954603, -2.373156215402177, 1.5619289198924988, 1.3322181916856404, 0.2848395289470055, 0.963992220137222, 2.4613013175803, 8.62406892237669, -0.37871003006483067, 3.9947140995394, -3.9215481488511545, -0.15856511192954234, -0.5788684220527025, -5.651559116436603, 5.8038926858061055, -0.9921887106603214, 0.8650336133246922, -2.037326092998001, 2.255234516524009, -1.385878936313119, 0.23698435302253518, -8.18506007733557, 1.251496758966609, 4.003264336096896, 4.799762227009591, 0.23214875984781624, 0.1803285559057264, -6.455547687339206, 2.8178796379217257, 27.115144211983463, 0.20471803500682714, -1.1858982012049968, 1.2163349352753723, -0.7429523365462386, 2.7012554113238774, 4.744999232322379, -0.9465697100506475, -0.9133734427615638, -0.88113228056395, 0.05107536119053571, -0.6187351930046635, -1.630076145020549, -1.8084828782866162, -3.1571943348426843, 141.95051155153547, -2.5875641086151293, -2.920667242185344, -7.055941373120228, -3.3120449281717006, -3.627345736711232, -4.47403208320796, -8.091351634671355, -4.594202676858119, -5.298761593000656, -4.766188256333648, -3.3837588995682966, -8.85594807131657, -8.383500163511773, -5.484591391562258, -7.160566066684343, -4.335725710765686, -0.7180608209433705, 1.4360435286303401, 1.1908250033904273, 0.42903292966008366, 3.637037582295897, -4.254727554099188, -3.766802995583912, -0.3706035480410832, -1.1576272923560065, 0.3355565298430319, -2.273577538646977, -2.3450455554248517, -1.918241522227103, -2.0513082272883016, -1.9082398931636877, -3.4378954149284375, -2.9141858105112832, -2.573425016089035, -3.579806321090574, -2.2391702396445967, -0.8340737632758309, -0.6150817859945164, -1.9835978773121326, -0.5163578862200997, -2.6636444749982826, -0.8874397521456572, -0.9198228854309487, -0.9620120934958136, 5.705578318539257, 3.864269074948914, 25.89001988354956, 23.141421745044237, -3.874722716011477, 7.752156517807819, -0.7646185885238646, -2.2256529306223927, 8.749379878941655, -0.4748222701192102, 0.13836925559891347, -1.015941807476352, -1.8698165057307243, -1.4894382090108473, 1.744058649140754, -2.3453171216554694, -1.4084272241521167, -1.9606573719328002, -2.5155648993012876, 0.7415829569380897, -0.3398674941851738, -1.192750734134866, -0.5731538122264354, -0.932649013306181, 1.4310537411376074, -0.8594116540984614, 0.9419742373701573, -0.401659293428807, 0.4928603378283367, 0.2610049936915024, -0.47200957349593653, -1.222162279897022, 2.202445611011866, -2.2816959177935936, -5.283405725617135, -2.393598890464161, -3.2694652395449193, -2.1799653498734015, 0.6579840945571375, 0.7848535617829118, -3.2556351460291, 3.368472148374594, 0.8908074182842051, 0.29134121292898263, -0.6421367070837602, -0.6362456228280396, 4.106968775505369, -2.5045695153896106, -1.6463217517067739, -5.303925510244256, -2.685860977015411, 2.7071028850911296, 0.03191212268348493, -0.6388193234122919, 2.3546114880537257, -1.8162728129810237, -4.455900029370826, -7.6844535893008175, -0.31605789549781016, 7.968396760371869, 0.9859864078355604, -1.2987206493244488, -0.965512005884065, -0.5454219507715995, -1.4530578798992966, 17.334377307691803, 32.16587042483802, 21.51408129006252, 23.213337238054795, -0.06758401395448599, -3.1483000401882943, 4.015951571833058, -1.1971103658834958, 0.23725890841172087, -5.650455039198305, -5.600567724821808, 4.2922153832847645, -2.33209552031532, -0.8334904012653545, 0.20190274430943012, -1.8971579328727899, -3.1520979965572957, -3.683404755819301, -1.1857222554724316, 2.8626118489175396, 0.19789756759051239, -0.5498087704852405, -0.13333107431701963, 1.297764415414121, 1.2199009730303934, -0.3642651189560938, -2.1563648430936904, 2.100734705418538, -2.4461938450436076, 0.5218763563559327, -2.592175323546248, -0.16490992216893394, -1.584475665206377, 1.30330036427546, -1.8909781881665537, -1.1879218678530037, -1.3399097564695321, 4.525680594928697, -2.0833251487449935, -0.2283210622983193, -1.014923838000306, 7.081556569435085, 6.345260787026238, 2.3242607176989796, 3.2466431092741854, -1.3264239142534353, 0.7342747036706375, 7.209967123019728, -2.399951911441108, 1.4618885440875946, 1.3536143992282244, -2.038651073027249, -1.2014791307037063, 1.242004007859333, 7.771152842633047, 15.204678454843927, -1.4608621578696954, -1.752445772863546, 0.9718118876073237, 10.571141729597993, -0.3750643892311901, -0.20569194586657566, 5.049556796797415, 1.2846681851479458, -0.8505399246201575, 19.946991991735278, -1.6163470275333645, 6.7839900557459965, -2.2137840184530466, 2.1422050959465264, 2.9500514220720886, 3.9115428013196465, 1.7025434164929028, 2.8728504531939807, -8.077450206371665, -2.5317178987799975, -0.8116146111472933, -2.1317440112373482, -1.4814719514332866, 0.9178487697698993, 2.1318147434129364, 5.450970535646994, -0.0005847621514396143]}], \"hoverlabel\": {\"namelength\": 0}, \"hovertemplate\": \"%{xaxis.title.text}=%{x}<br>%{yaxis.title.text}=%{y}\", \"legendgroup\": \"\", \"marker\": {\"color\": \"#636efa\", \"symbol\": \"circle\"}, \"name\": \"\", \"showlegend\": false, \"type\": \"splom\"}],\n",
       "                        {\"dragmode\": \"select\", \"legend\": {\"tracegroupgap\": 0}, \"margin\": {\"t\": 60}, \"template\": {\"data\": {\"bar\": [{\"error_x\": {\"color\": \"#2a3f5f\"}, \"error_y\": {\"color\": \"#2a3f5f\"}, \"marker\": {\"line\": {\"color\": \"#E5ECF6\", \"width\": 0.5}}, \"type\": \"bar\"}], \"barpolar\": [{\"marker\": {\"line\": {\"color\": \"#E5ECF6\", \"width\": 0.5}}, \"type\": \"barpolar\"}], \"carpet\": [{\"aaxis\": {\"endlinecolor\": \"#2a3f5f\", \"gridcolor\": \"white\", \"linecolor\": \"white\", \"minorgridcolor\": \"white\", \"startlinecolor\": \"#2a3f5f\"}, \"baxis\": {\"endlinecolor\": \"#2a3f5f\", \"gridcolor\": \"white\", \"linecolor\": \"white\", \"minorgridcolor\": \"white\", \"startlinecolor\": \"#2a3f5f\"}, \"type\": \"carpet\"}], \"choropleth\": [{\"colorbar\": {\"outlinewidth\": 0, \"ticks\": \"\"}, \"type\": \"choropleth\"}], \"contour\": [{\"colorbar\": {\"outlinewidth\": 0, \"ticks\": \"\"}, \"colorscale\": [[0.0, \"#0d0887\"], [0.1111111111111111, \"#46039f\"], [0.2222222222222222, \"#7201a8\"], [0.3333333333333333, \"#9c179e\"], [0.4444444444444444, \"#bd3786\"], [0.5555555555555556, \"#d8576b\"], [0.6666666666666666, \"#ed7953\"], [0.7777777777777778, \"#fb9f3a\"], [0.8888888888888888, \"#fdca26\"], [1.0, \"#f0f921\"]], \"type\": \"contour\"}], \"contourcarpet\": [{\"colorbar\": {\"outlinewidth\": 0, \"ticks\": \"\"}, \"type\": \"contourcarpet\"}], \"heatmap\": [{\"colorbar\": {\"outlinewidth\": 0, \"ticks\": \"\"}, \"colorscale\": [[0.0, \"#0d0887\"], [0.1111111111111111, \"#46039f\"], [0.2222222222222222, \"#7201a8\"], [0.3333333333333333, \"#9c179e\"], [0.4444444444444444, \"#bd3786\"], [0.5555555555555556, \"#d8576b\"], [0.6666666666666666, \"#ed7953\"], [0.7777777777777778, \"#fb9f3a\"], [0.8888888888888888, \"#fdca26\"], [1.0, \"#f0f921\"]], \"type\": \"heatmap\"}], \"heatmapgl\": [{\"colorbar\": {\"outlinewidth\": 0, \"ticks\": \"\"}, \"colorscale\": [[0.0, \"#0d0887\"], [0.1111111111111111, \"#46039f\"], [0.2222222222222222, \"#7201a8\"], [0.3333333333333333, \"#9c179e\"], [0.4444444444444444, \"#bd3786\"], [0.5555555555555556, \"#d8576b\"], [0.6666666666666666, \"#ed7953\"], [0.7777777777777778, \"#fb9f3a\"], [0.8888888888888888, \"#fdca26\"], [1.0, \"#f0f921\"]], \"type\": \"heatmapgl\"}], \"histogram\": [{\"marker\": {\"colorbar\": {\"outlinewidth\": 0, \"ticks\": \"\"}}, \"type\": \"histogram\"}], \"histogram2d\": [{\"colorbar\": {\"outlinewidth\": 0, \"ticks\": \"\"}, \"colorscale\": [[0.0, \"#0d0887\"], [0.1111111111111111, \"#46039f\"], [0.2222222222222222, \"#7201a8\"], [0.3333333333333333, \"#9c179e\"], [0.4444444444444444, \"#bd3786\"], [0.5555555555555556, \"#d8576b\"], [0.6666666666666666, \"#ed7953\"], [0.7777777777777778, \"#fb9f3a\"], [0.8888888888888888, \"#fdca26\"], [1.0, \"#f0f921\"]], \"type\": \"histogram2d\"}], \"histogram2dcontour\": [{\"colorbar\": {\"outlinewidth\": 0, \"ticks\": \"\"}, \"colorscale\": [[0.0, \"#0d0887\"], [0.1111111111111111, \"#46039f\"], [0.2222222222222222, \"#7201a8\"], [0.3333333333333333, \"#9c179e\"], [0.4444444444444444, \"#bd3786\"], [0.5555555555555556, \"#d8576b\"], [0.6666666666666666, \"#ed7953\"], [0.7777777777777778, \"#fb9f3a\"], [0.8888888888888888, \"#fdca26\"], [1.0, \"#f0f921\"]], \"type\": \"histogram2dcontour\"}], \"mesh3d\": [{\"colorbar\": {\"outlinewidth\": 0, \"ticks\": \"\"}, \"type\": \"mesh3d\"}], \"parcoords\": [{\"line\": {\"colorbar\": {\"outlinewidth\": 0, \"ticks\": \"\"}}, \"type\": \"parcoords\"}], \"pie\": [{\"automargin\": true, \"type\": \"pie\"}], \"scatter\": [{\"marker\": {\"colorbar\": {\"outlinewidth\": 0, \"ticks\": \"\"}}, \"type\": \"scatter\"}], \"scatter3d\": [{\"line\": {\"colorbar\": {\"outlinewidth\": 0, \"ticks\": \"\"}}, \"marker\": {\"colorbar\": {\"outlinewidth\": 0, \"ticks\": \"\"}}, \"type\": \"scatter3d\"}], \"scattercarpet\": [{\"marker\": {\"colorbar\": {\"outlinewidth\": 0, \"ticks\": \"\"}}, \"type\": \"scattercarpet\"}], \"scattergeo\": [{\"marker\": {\"colorbar\": {\"outlinewidth\": 0, \"ticks\": \"\"}}, \"type\": \"scattergeo\"}], \"scattergl\": [{\"marker\": {\"colorbar\": {\"outlinewidth\": 0, \"ticks\": \"\"}}, \"type\": \"scattergl\"}], \"scattermapbox\": [{\"marker\": {\"colorbar\": {\"outlinewidth\": 0, \"ticks\": \"\"}}, \"type\": \"scattermapbox\"}], \"scatterpolar\": [{\"marker\": {\"colorbar\": {\"outlinewidth\": 0, \"ticks\": \"\"}}, \"type\": \"scatterpolar\"}], \"scatterpolargl\": [{\"marker\": {\"colorbar\": {\"outlinewidth\": 0, \"ticks\": \"\"}}, \"type\": \"scatterpolargl\"}], \"scatterternary\": [{\"marker\": {\"colorbar\": {\"outlinewidth\": 0, \"ticks\": \"\"}}, \"type\": \"scatterternary\"}], \"surface\": [{\"colorbar\": {\"outlinewidth\": 0, \"ticks\": \"\"}, \"colorscale\": [[0.0, \"#0d0887\"], [0.1111111111111111, \"#46039f\"], [0.2222222222222222, \"#7201a8\"], [0.3333333333333333, \"#9c179e\"], [0.4444444444444444, \"#bd3786\"], [0.5555555555555556, \"#d8576b\"], [0.6666666666666666, \"#ed7953\"], [0.7777777777777778, \"#fb9f3a\"], [0.8888888888888888, \"#fdca26\"], [1.0, \"#f0f921\"]], \"type\": \"surface\"}], \"table\": [{\"cells\": {\"fill\": {\"color\": \"#EBF0F8\"}, \"line\": {\"color\": \"white\"}}, \"header\": {\"fill\": {\"color\": \"#C8D4E3\"}, \"line\": {\"color\": \"white\"}}, \"type\": \"table\"}]}, \"layout\": {\"annotationdefaults\": {\"arrowcolor\": \"#2a3f5f\", \"arrowhead\": 0, \"arrowwidth\": 1}, \"coloraxis\": {\"colorbar\": {\"outlinewidth\": 0, \"ticks\": \"\"}}, \"colorscale\": {\"diverging\": [[0, \"#8e0152\"], [0.1, \"#c51b7d\"], [0.2, \"#de77ae\"], [0.3, \"#f1b6da\"], [0.4, \"#fde0ef\"], [0.5, \"#f7f7f7\"], [0.6, \"#e6f5d0\"], [0.7, \"#b8e186\"], [0.8, \"#7fbc41\"], [0.9, \"#4d9221\"], [1, \"#276419\"]], \"sequential\": [[0.0, \"#0d0887\"], [0.1111111111111111, \"#46039f\"], [0.2222222222222222, \"#7201a8\"], [0.3333333333333333, \"#9c179e\"], [0.4444444444444444, \"#bd3786\"], [0.5555555555555556, \"#d8576b\"], [0.6666666666666666, \"#ed7953\"], [0.7777777777777778, \"#fb9f3a\"], [0.8888888888888888, \"#fdca26\"], [1.0, \"#f0f921\"]], \"sequentialminus\": [[0.0, \"#0d0887\"], [0.1111111111111111, \"#46039f\"], [0.2222222222222222, \"#7201a8\"], [0.3333333333333333, \"#9c179e\"], [0.4444444444444444, \"#bd3786\"], [0.5555555555555556, \"#d8576b\"], [0.6666666666666666, \"#ed7953\"], [0.7777777777777778, \"#fb9f3a\"], [0.8888888888888888, \"#fdca26\"], [1.0, \"#f0f921\"]]}, \"colorway\": [\"#636efa\", \"#EF553B\", \"#00cc96\", \"#ab63fa\", \"#FFA15A\", \"#19d3f3\", \"#FF6692\", \"#B6E880\", \"#FF97FF\", \"#FECB52\"], \"font\": {\"color\": \"#2a3f5f\"}, \"geo\": {\"bgcolor\": \"white\", \"lakecolor\": \"white\", \"landcolor\": \"#E5ECF6\", \"showlakes\": true, \"showland\": true, \"subunitcolor\": \"white\"}, \"hoverlabel\": {\"align\": \"left\"}, \"hovermode\": \"closest\", \"mapbox\": {\"style\": \"light\"}, \"paper_bgcolor\": \"white\", \"plot_bgcolor\": \"#E5ECF6\", \"polar\": {\"angularaxis\": {\"gridcolor\": \"white\", \"linecolor\": \"white\", \"ticks\": \"\"}, \"bgcolor\": \"#E5ECF6\", \"radialaxis\": {\"gridcolor\": \"white\", \"linecolor\": \"white\", \"ticks\": \"\"}}, \"scene\": {\"xaxis\": {\"backgroundcolor\": \"#E5ECF6\", \"gridcolor\": \"white\", \"gridwidth\": 2, \"linecolor\": \"white\", \"showbackground\": true, \"ticks\": \"\", \"zerolinecolor\": \"white\"}, \"yaxis\": {\"backgroundcolor\": \"#E5ECF6\", \"gridcolor\": \"white\", \"gridwidth\": 2, \"linecolor\": \"white\", \"showbackground\": true, \"ticks\": \"\", \"zerolinecolor\": \"white\"}, \"zaxis\": {\"backgroundcolor\": \"#E5ECF6\", \"gridcolor\": \"white\", \"gridwidth\": 2, \"linecolor\": \"white\", \"showbackground\": true, \"ticks\": \"\", \"zerolinecolor\": \"white\"}}, \"shapedefaults\": {\"line\": {\"color\": \"#2a3f5f\"}}, \"ternary\": {\"aaxis\": {\"gridcolor\": \"white\", \"linecolor\": \"white\", \"ticks\": \"\"}, \"baxis\": {\"gridcolor\": \"white\", \"linecolor\": \"white\", \"ticks\": \"\"}, \"bgcolor\": \"#E5ECF6\", \"caxis\": {\"gridcolor\": \"white\", \"linecolor\": \"white\", \"ticks\": \"\"}}, \"title\": {\"x\": 0.05}, \"xaxis\": {\"automargin\": true, \"gridcolor\": \"white\", \"linecolor\": \"white\", \"ticks\": \"\", \"title\": {\"standoff\": 15}, \"zerolinecolor\": \"white\", \"zerolinewidth\": 2}, \"yaxis\": {\"automargin\": true, \"gridcolor\": \"white\", \"linecolor\": \"white\", \"ticks\": \"\", \"title\": {\"standoff\": 15}, \"zerolinecolor\": \"white\", \"zerolinewidth\": 2}}}},\n",
       "                        {\"responsive\": true}\n",
       "                    ).then(function(){\n",
       "                            \n",
       "var gd = document.getElementById('d66c9372-4e51-43ae-9994-014b733d01d9');\n",
       "var x = new MutationObserver(function (mutations, observer) {{\n",
       "        var display = window.getComputedStyle(gd).display;\n",
       "        if (!display || display === 'none') {{\n",
       "            console.log([gd, 'removed!']);\n",
       "            Plotly.purge(gd);\n",
       "            observer.disconnect();\n",
       "        }}\n",
       "}});\n",
       "\n",
       "// Listen for the removal of the full notebook cells\n",
       "var notebookContainer = gd.closest('#notebook-container');\n",
       "if (notebookContainer) {{\n",
       "    x.observe(notebookContainer, {childList: true});\n",
       "}}\n",
       "\n",
       "// Listen for the clearing of the current output cell\n",
       "var outputEl = gd.closest('.output');\n",
       "if (outputEl) {{\n",
       "    x.observe(outputEl, {childList: true});\n",
       "}}\n",
       "\n",
       "                        })\n",
       "                };\n",
       "                \n",
       "            </script>\n",
       "        </div>\n",
       "</body>\n",
       "</html>"
      ]
     },
     "metadata": {},
     "output_type": "display_data"
    }
   ],
   "source": [
    "labels = {\n",
    "    str(i): f\"PC {i+1} ({var:.1f}%)\"\n",
    "    for i, var in enumerate(pca.explained_variance_ratio_ * 100)\n",
    "}\n",
    "\n",
    "fig = px.scatter_matrix(\n",
    "    components,\n",
    "    labels=labels,\n",
    "    dimensions=range(2)\n",
    ")\n",
    "fig.update_traces(diagonal_visible=False)\n",
    "fig.show()"
   ]
  },
  {
   "cell_type": "markdown",
   "metadata": {
    "id": "eNek0_XQRGmm"
   },
   "source": [
    "## Dimension Reduction TruncatedSVD"
   ]
  },
  {
   "cell_type": "code",
   "execution_count": 123,
   "metadata": {
    "executionInfo": {
     "elapsed": 5,
     "status": "ok",
     "timestamp": 1636452727016,
     "user": {
      "displayName": "Naufal Hilmi",
      "photoUrl": "https://lh3.googleusercontent.com/a-/AOh14Gj7UB8yAHzIcK8gtuCV9hf44dCQUmF8XqLkQI3C=s64",
      "userId": "02567910694508979199"
     },
     "user_tz": -420
    },
    "id": "zGPzZdmQXAOS"
   },
   "outputs": [],
   "source": [
    "from sklearn.decomposition import TruncatedSVD"
   ]
  },
  {
   "cell_type": "code",
   "execution_count": 124,
   "metadata": {
    "executionInfo": {
     "elapsed": 817,
     "status": "ok",
     "timestamp": 1636452727829,
     "user": {
      "displayName": "Naufal Hilmi",
      "photoUrl": "https://lh3.googleusercontent.com/a-/AOh14Gj7UB8yAHzIcK8gtuCV9hf44dCQUmF8XqLkQI3C=s64",
      "userId": "02567910694508979199"
     },
     "user_tz": -420
    },
    "id": "sqS2mc8TXPKn"
   },
   "outputs": [],
   "source": [
    "svd = TruncatedSVD(n_components=2)\n",
    "components_svd = svd.fit_transform(tfidf)"
   ]
  },
  {
   "cell_type": "code",
   "execution_count": 125,
   "metadata": {
    "colab": {
     "base_uri": "https://localhost:8080/",
     "height": 542
    },
    "executionInfo": {
     "elapsed": 15,
     "status": "ok",
     "timestamp": 1636452727829,
     "user": {
      "displayName": "Naufal Hilmi",
      "photoUrl": "https://lh3.googleusercontent.com/a-/AOh14Gj7UB8yAHzIcK8gtuCV9hf44dCQUmF8XqLkQI3C=s64",
      "userId": "02567910694508979199"
     },
     "user_tz": -420
    },
    "id": "IBcOkBr2XfDI",
    "outputId": "a19d32cd-3ea6-4da6-b79c-a8e525ca1405"
   },
   "outputs": [
    {
     "data": {
      "text/html": [
       "<html>\n",
       "<head><meta charset=\"utf-8\" /></head>\n",
       "<body>\n",
       "    <div>\n",
       "            <script src=\"https://cdnjs.cloudflare.com/ajax/libs/mathjax/2.7.5/MathJax.js?config=TeX-AMS-MML_SVG\"></script><script type=\"text/javascript\">if (window.MathJax) {MathJax.Hub.Config({SVG: {font: \"STIX-Web\"}});}</script>\n",
       "                <script type=\"text/javascript\">window.PlotlyConfig = {MathJaxConfig: 'local'};</script>\n",
       "        <script src=\"https://cdn.plot.ly/plotly-latest.min.js\"></script>    \n",
       "            <div id=\"f76b506e-0776-4dd2-b24e-8c4ee572d87f\" class=\"plotly-graph-div\" style=\"height:525px; width:100%;\"></div>\n",
       "            <script type=\"text/javascript\">\n",
       "                \n",
       "                    window.PLOTLYENV=window.PLOTLYENV || {};\n",
       "                    \n",
       "                if (document.getElementById(\"f76b506e-0776-4dd2-b24e-8c4ee572d87f\")) {\n",
       "                    Plotly.newPlot(\n",
       "                        'f76b506e-0776-4dd2-b24e-8c4ee572d87f',\n",
       "                        [{\"diagonal\": {\"visible\": false}, \"dimensions\": [{\"axis\": {\"matches\": true}, \"label\": \"PC 1 (1.4%)\", \"values\": [5.401532129948711, 2.732212818658413, 4.807674049960727, 4.603867226589205, 4.774686602221181, 3.7930697100618755, 5.293447774805568, 5.196373117879647, 4.176372060601547, 12.51435178307218, 4.209525312253307, 7.134920746815066, 5.2365162006720505, 6.674623196659819, 7.569819678629778, 9.281866890269217, 11.19033827159917, 6.35258990342699, 7.3513552687748405, 6.538244289001142, 4.473463596526419, 52.70998198806122, 6.7583479241513675, 7.360917220214993, 4.196260792811203, 15.229537539494837, 3.572880673208758, 48.06054681853333, 35.05135364866567, 10.449107195550027, 7.569473128275789, 9.435951545149774, 5.679555603073495, 12.098852001698347, 7.43349876395835, 5.251038893198819, 9.599375872613889, 6.638483465676276, 6.565828577809002, 4.278096065409055, 5.02951721847525, 5.186473287514432, 5.815901475051343, 11.20312323681167, 6.684594043255679, 9.392740321629542, 5.565386783606451, 5.20854420089367, 3.612857327311807, 9.617010334085489, 8.070305981652877, 5.2620196350174275, 3.5852382685263837, 11.28064253061956, 7.475465923348741, 7.194612071622365, 9.39401542863995, 4.7113210463130075, 6.6388372419826345, 4.232301730881848, 5.731758290253868, 5.285387723507952, 7.011369637162974, 3.269179972087617, 3.9427090088741394, 5.856804666829477, 4.9907292302428345, 3.7958330069150334, 5.227109326376236, 5.805403223322162, 3.707233501802148, 3.8098205220853707, 7.4540370147426405, 7.300540008908553, 5.403131074621881, 7.587480937886286, 8.043191376282142, 5.285251631330711, 5.255586110724498, 6.29802510027791, 10.087789318145157, 6.441104444893665, 4.232683424556472, 4.6222049790840005, 5.634973112616879, 8.356664567756, 7.027725366036996, 4.427818533827976, 6.626997548852781, 6.322376124576621, 4.429930685912243, 6.511776423764026, 10.33307374172962, 6.6978121361146865, 5.335876157084481, 4.085049789504843, 3.4684283471059056, 11.199525954791437, 3.817888967355183, 5.495977232478558, 3.1891671899162706, 3.8649009906378455, 3.6947562486167502, 7.570663256276974, 8.247816435319555, 4.4245794166034935, 8.934995057796772, 8.697200752727655, 11.851507874505428, 16.468695908040885, 4.636979697429165, 11.863507156007726, 4.029226429054735, 5.5912596414954265, 4.277518736409637, 4.643360780225242, 4.369285753972654, 3.209836391137067, 4.980291859801673, 6.902855549239095, 6.128249181132597, 5.77065134985055, 3.3905910210928436, 5.944911050242559, 6.2084347201090875, 4.220279571243538, 6.0246908578549645, 6.168187322555149, 6.793381236247471, 3.813838468833249, 3.154210429842374, 7.769277110078475, 3.417050496131377, 6.469526201965468, 8.140815013063415, 4.5302484919632455, 7.197332826667352, 4.672489812855676, 7.442640343805394, 6.439981311096972, 10.35785750353686, 9.935806045570722, 7.372244045481578, 5.209439162455281, 3.0304099451584356, 1.8245207114449011, 7.225560111693567, 11.685535548096077, 10.765486492504186, 5.145352820717238, 9.014478963165564, 7.363384037062775, 10.405444149831952, 7.486661415644946, 5.292484555985266, 4.511983964223009, 5.251038003636729, 5.515004369210378, 10.71234487131496, 8.262861209871135, 4.538389678888978, 3.9764478782419355, 5.088190641245223, 4.950522273747315, 4.853916386865823, 6.581555990596585, 17.090617696787625, 15.246370506812408, 12.0574891800136, 2.257005832515127, 6.807106037394054, 2.919518164566672, 5.946004950344042, 16.28952375097788, 6.604051091441297, 8.617673262970275, 7.32792899367003, 15.658370030186065, 7.718616505732636, 7.8309846714368785, 9.124351213711718, 4.048948617036136, 4.118293559140257, 4.010421722965769, 10.790320485662946, 5.150613215529042, 3.0086603527981066, 4.766572450113028, 8.143458217111576, 5.227246345139111, 5.043178799737558, 4.64699194930013, 7.539856325752669, 4.345104388063179, 7.1166942018468795, 8.130650625067751, 5.931529602651597, 2.850828835455368, 6.666666041330168, 8.216213462163767, 11.68955844500433, 4.247511133222019, 9.598314151546747, 3.7574026623106893, 5.503986277671315, 8.448225466821427, 10.545836011460587, 4.197838100823473, 4.967216832412268, 6.605654558521459, 7.3029862008993325, 5.332834565608024, 5.248061800240361, 7.1186129647227245, 5.970192747886469, 6.237657851929875, 5.055740955511018, 4.4057534665294265, 9.297612563620827, 9.380430829464249, 5.106134805561359, 4.636722165408901, 7.224097955472224, 7.941588554363395, 8.493418331098272, 3.5058895173294253, 7.636194790627456, 9.090663646940943, 8.256108276604229, 22.254298059867068, 22.783906715866653, 10.210908351665102, 5.180401729951944, 4.412864716517716, 4.582833960100766, 5.775757767586216, 8.790622982865974, 9.196839319417421, 7.2086699273530055, 7.380288623528304, 4.60159835211502, 6.257250459558502, 4.713052345911101, 5.41542945175703, 3.984657253797986, 6.746323764172429, 6.108820687540906, 9.687416557576212, 7.4601368631788985, 4.080832252880908, 2.8157778625207843, 4.165447803423862, 3.186118060653369, 12.428318199232717, 4.8357157261502515, 7.869544843107204, 8.122186632129152, 7.407709756239624, 7.297031350235666, 5.356948652245519, 4.117382557950801, 13.144905173600286, 43.42694088989279, 10.89392005066999, 9.006233735955767, 4.458741082711558, 10.07266310661066, 7.797019719929339, 6.8700401176959165, 25.416621413720662, 7.2888807499935515, 5.205184572553748, 4.36541637556445, 2.371681285534039, 4.840138742873393, 3.557536015629879, 45.25146790330972, 4.228768204064714, 4.364055900603683, 8.55404094108835, 6.588489216514093, 4.250546016570524, 3.7525719414397756, 9.149334396930342, 5.161481122019233, 6.076318315113064, 5.0190407249918225, 2.8026832069275667, 9.136208044320954, 8.223646104488624, 5.725062791288775, 11.05545919195888, 3.5649528013391736, 4.037407373207049, 8.822426497074645, 3.9983433641598682, 7.913595429557259, 6.203117924946192, 7.319146723078654, 6.436826058891959, 6.0571839479354885, 4.520822289525551, 5.0648516146191245, 4.551613284845704, 5.82635584853421, 3.423323729973851, 1.0056361594502898, 7.088067436622984, 5.591771123899189, 5.559179679915889, 4.843546065354019, 9.359407571595392, 4.160435390803873, 4.671331951053925, 5.163373706465752, 3.6968062690449175, 6.29259975741721, 3.380745694487185, 2.90357414108311, 7.611447665900727, 18.841254481236597, 5.764943717818289, 4.791551657414371, 11.774417479887195, 10.72589306486898, 7.431404875459357, 9.426242766385437, 6.000345527975422, 5.860362443718095, 5.896721970747439, 3.5832615855810364, 3.1637473350441487, 4.066969951065323, 6.601091187934161, 5.513997050881652, 6.255727008911812, 8.436497223601426, 5.989631764892681, 8.511842137819617, 4.986074884229321, 4.704966274971324, 4.732473611282716, 5.308861560590491, 4.246028905744456, 6.375134027212463, 5.699953635453852, 3.4292734277087127, 4.516642753128293, 4.644105063626825, 17.282108658839395, 9.800199492314619, 10.00360694878132, 9.38690727445327, 8.922966744832777, 59.957920154375145, 75.82571683800451, 29.846603658785117, 36.57539269233052, 28.628377237741176, 30.69615114631186, 8.888639710287118, 5.374864434666215, 20.16924020128414, 7.449768799163372, 16.449135428232186, 7.33399336506056, 2.7059274266679387, 6.391721673799789, 27.83282667340375, 6.740975615553392, 67.92665825544759, 40.188876842077775, 5.344429220323969, 9.353825844408442, 5.934624149806404, 8.761637388135945, 6.5841584944385865, 10.423432336611157, 7.187798750469812, 5.0776582329391635, 7.737378468721748, 8.714509819291402, 4.318286920572629, 4.474915427294689, 17.63686213795523, 17.151581340995108, 17.36876295838738, 18.18403846317237, 10.228723323460024, 12.55353174225495, 8.390834102517958, 4.4859566009386675, 7.393424235933185, 4.320824885611755, 8.92645761620851, 6.101528414448069, 10.446688347864532, 6.778693887626505, 4.483444176072917, 7.895556017210433, 4.288432930767979, 6.535217807889602, 5.438546467672823, 7.491268097215673, 6.374375342295707, 4.170222793973781, 5.350578771103882, 6.60755429857549, 4.404440297587017, 6.849958970825743, 5.535470246549043, 4.958013475145327, 4.318224183183019, 6.047120485156916, 11.275941076307141, 5.736801334451561, 6.5734734331371305, 6.787594874790039, 6.724903506422201, 8.794564927631653, 7.27556370525855, 7.588409507082956, 7.099011771243968, 3.4172015139863, 4.3856474773701475, 6.861032357146676, 3.331884490939155, 4.344485153816554, 4.956512798278149, 7.89950465655946, 11.043919980526852, 6.67507331557613, 12.709832238314103, 12.71826510928563, 33.77125693351698, 13.74996743209035, 8.963281322075604, 8.022245565062308, 6.132915793799138, 6.4720686887998715, 11.45502866427608, 19.78137861323804, 6.440886061840457, 6.915748862511007, 5.462958786903913, 8.600717600928608, 26.267605910652836, 11.687900909684462, 6.346493727564185, 8.244583808999177, 5.817497792593281, 14.4527340552127, 5.69706621181608, 11.362993324033143, 30.077404673900645, 7.259080212219687, 8.024494801095285, 10.22778885218746, 7.765660114028447, 12.664734055665505, 10.055679044006581, 4.940907585629049, 3.2765043702289103, 4.588308581846826, 6.038910452048675, 6.423469777368949, 11.591881273881297, 6.56908627096369, 5.348405239730259]}, {\"axis\": {\"matches\": true}, \"label\": \"PC 2 (1.5%)\", \"values\": [7.779552744962616, 3.8494399404789, 5.2867550137823764, 4.883461107984674, 3.8719240366034757, 4.379083718255485, 5.912562492192312, 4.118071846814463, 5.014988200220934, 18.771893746457067, 4.005224907182997, 5.501367418322738, 5.313175942412566, 4.857834337117304, 6.606759684549608, 8.635828599497346, 8.989075703622637, 5.8281252678010755, 9.196057118389986, 6.190548149740028, 4.339118624221627, -33.52131184624672, -0.17068538075510034, 7.645442358458587, 5.009878220185022, -5.711585128334196, 3.7924200805825183, -30.020239744435607, -22.370451791764275, 3.6839863821222423, 9.272074668934819, 10.942768536922241, 6.648541644301266, 2.4284369145166034, 10.47359242326048, 6.7217419351643475, 14.474719437695901, 9.581395499577761, 9.473325187847681, 5.537209255784966, 8.056530245597742, 7.360556916822277, 9.295938250641067, 14.496735006359602, 8.005531053871724, 14.350983489709524, 7.582633607792265, 7.044457460859633, 4.926151470704576, 12.533922258714055, 11.73068176530519, 5.296368241857811, 4.810672985294142, 12.691238156566977, 5.039622790010956, 0.22077124607574217, 12.87059540017161, 6.254061883348979, 7.677905396807796, 5.233122331475629, 8.528911480414939, 6.753557579946084, 9.5884120295043, 4.851533491817952, 5.437714524630572, 6.020951186835802, 1.7754152337684834, 3.3995856046559347, 4.699242421937797, 0.7483477404484211, 5.154517240309281, 2.9571100429058497, 7.2766297449958515, 7.413159797477218, 5.350212037707216, 5.616856521878584, 4.43443398113554, 5.151154026467391, 5.32571176379166, 7.884152415246414, 14.925411712889856, 4.376312934227194, 1.951019932089544, 4.9172280287181955, 5.721584792640875, 7.973467019001018, 6.425025483041879, 4.369261370777853, 8.325658443266489, 6.810802547954788, 3.8772448022157535, 7.2371595657089, 6.291081590557661, 7.066343962846448, 4.011232229567011, 1.8573805802239303, 3.553616817155252, -1.317504886407901, 3.28466273081124, 5.419927134123367, 2.9597540795611277, 4.554233613861627, 3.546292491126292, 8.0659732415593, 6.263595271258971, 3.2371427307962057, 7.591401487826899, 2.068853820300241, 7.9144654326950175, 16.950460431660872, 5.227853145641147, 9.436293089079788, 4.3901740153167275, 6.855496600716487, 4.880659599468179, 4.995955743771097, 4.878543947129284, 3.558376248776364, 4.587951283892566, 2.326629859467839, 6.113156794105479, 7.144657455848963, 4.3995835877846154, 6.551258042100746, 6.966915828662157, 5.389327460480001, 7.698749977537294, 7.92263646941081, 8.375449079693617, 4.712910662664662, 3.3083995477248136, 10.407156176934608, 3.9107682467703095, 6.34961521800714, 11.616470718484262, 6.9498615986666845, 9.212690741650407, 6.520868739379618, 8.96804862405585, 8.466968618347625, 14.489167355774024, 7.55919051905821, 4.318901512541731, 5.159333098131879, 2.52362771650314, 1.8696925253376973, 7.174916667387529, -0.7010892122615948, 1.2996495548992193, 7.264362051181794, 5.131867623192208, 3.2695350142129613, 8.100758885463769, 3.9475194350678264, 3.3061426939176672, 4.7459751053728745, 6.463676191666744, 3.99058830555299, 10.40427486601643, 3.207669657154259, 5.064998621003927, 3.1348199473559655, 4.768088998538889, 2.8199250525811492, 0.39380497778287704, 0.9044940783619865, -7.995141523009374, -6.266731702646708, -1.13625186970773, 2.304442554909759, 5.128814672242828, 3.0464817380282327, 2.825599613597251, 21.64558994493375, 4.711461522619306, 5.860563958600318, 3.3563036827644153, -3.4215620263696813, 6.56427244770021, 2.884160969595348, 8.674942148777442, 3.9810846157395647, 3.134463751660693, 2.8847393355906616, -1.3525146075383683, 5.315136561773191, 2.255495073279651, 5.487644599067212, 9.461601237370589, 4.159806296303643, 6.098967267922342, 4.260318479721034, 10.681666503475624, 4.4098625997911345, 6.8839414471963885, 2.8441309222003563, 2.8397407067798155, 3.127455401260466, 8.765360586450303, 0.8798767125359147, 8.395794822534796, 6.3565800183347765, -1.1714380924021393, 2.3350596783500452, 4.739484424416244, 6.700317377959571, -1.390009556149701, 3.217342901199339, 4.762061121163269, 7.118050457242432, 7.239276629561919, 4.999526610562279, 5.55384765001233, 3.893973185136181, 4.9037909358209335, 3.577797533550383, 5.373263149366296, 2.6063941432356903, 8.950729800594946, 5.615890091534805, 4.869575896070209, 3.944984359639642, 5.855926957650678, 4.553573139909501, 8.197725672839416, 2.7877582498644458, 7.7683929449264495, 13.273982853380632, 0.38281928889611444, -0.9980320418920142, -4.1091576820287194, -2.2827092261784854, 6.073709884368536, 4.396087172498281, 3.891703012366292, 1.8331479834991078, -0.32557585375143816, -0.6716424328375818, 5.4272928913871, 8.91965270482981, 4.735997808516528, 6.003847330580588, 6.890598244542753, 5.864627294497282, 3.192725089200666, 8.59023329278662, 7.366946802246016, 6.470134743793057, 3.8002020833870542, 4.085009236481498, 2.5353557347523727, 5.133075869849392, 3.018863876687182, 18.379557103951118, 1.1017570039172624, 6.033761853448132, 8.613885832885671, 5.981227877295821, 8.833598441925957, 6.973734147709805, 4.102372577761871, 16.837745953420193, -27.05385956282065, -3.190294825632094, 6.977378585950121, 2.59604389747727, 8.535163783717241, 8.33378897872742, 6.409290120724736, -12.068762824418615, 1.1282944916667808, 3.681172540112547, 2.1069690659243716, 2.389590632383824, 4.559186258595598, 4.28830748181518, 63.98678638195297, 5.108818301236705, 5.2314737569682785, 12.197475718179895, 8.004947402491847, 5.695549651026701, 4.8450154507744205, 7.472452112968095, 6.804019697422518, 8.115667204857765, 4.826790254191987, 3.6372394072600387, 13.668788837039866, 11.349638280788465, 7.054500080665965, 5.2267624045063314, 5.323699787274801, 2.9292917551363984, 6.7996874687898545, 3.4736022155799033, 4.204426009229667, 6.619453043615673, 8.616145105956676, 8.531770001797902, 5.724325499967656, 4.26057187666323, 4.430835180698139, 5.876672011052379, 6.23450965214068, 3.996113515186176, 1.5329565174491333, 8.003304568262383, 6.315366858757408, 6.301438587762879, 5.446127488256234, 11.547126873759703, 4.2524824791541525, 2.1606801547696306, 4.1542964960526545, 4.230367927338173, 4.617277875111713, 3.8936932991318, 2.836214663030125, -1.8240662207535001, -6.559927058620494, 7.059220494549774, 4.90361646089918, 15.57550582680004, 15.124861227797364, 9.64155683353833, 9.149650021484304, 6.903066876635413, 5.855704884809927, 6.776740899486144, 2.4515451069335548, 3.2639599708025395, 3.3360284029693053, 7.165841020018049, 5.625066073359657, 5.59279935154126, 8.412209831108779, 5.779101339386665, 8.079918777833095, 5.851529610565151, 4.461954513370086, 4.703294530986369, 2.459599994141315, 3.4386799804417425, 6.3299542592390186, 5.063547799817031, 3.744717786898017, 4.444378864552361, 5.026208961632574, -4.803259800681292, -0.6269979635441926, -3.850635455843571, 0.10689526288275285, 7.137131430128723, -42.685903668499876, -57.604010889466956, -19.7585300427628, -25.193136732899262, -18.848310314957725, -10.05594219772193, 0.656922845462325, 4.746814628493657, 15.560523678197704, 1.4883029755657364, -5.883419588591532, 1.3022246114428735, 1.2767123397082178, 5.643362138360092, -19.186960449151442, 0.022923675716610185, -50.49027058118788, -25.155082554745167, 6.298669426827167, 6.554618073286799, 0.8869086810674146, 5.973523962763825, 7.4697020252813005, 11.163868951329706, 7.117634972376222, 4.524892945348409, 9.239320600148137, 9.224990496752126, 4.167691201683525, 3.6119071650256593, -7.567290130026272, -7.621929275580272, 21.98996147606418, 18.17976919309523, 13.25852190173507, 14.595361606820283, 6.511273344453107, 5.840551706984067, 7.619236838886677, 3.9407365432877994, 7.919875971102354, 7.497521921168636, 14.443581268950586, 7.525939929801626, 5.507176554861665, 5.884646169902536, 3.401427859346792, 7.253961056512356, 6.695052414935407, 7.830985690309082, 6.447981062172113, 4.252564992210623, 4.717934938930945, 6.269689791928608, 3.7533043736464036, 6.191189467600177, 5.128838144423259, 3.6460630634902484, 5.250211622762554, 7.3648379700712265, 9.2782285973633, 4.959501423937349, 6.118452928596917, 5.1007602606014775, 5.212722477511684, 0.4328362631813976, 3.971487919293403, 5.245721210014965, 1.6310604808480749, 4.365199236601249, 4.159071804184538, 4.899318356350428, 2.834803353023496, 5.689986554742479, 5.753109603112692, 4.1527359115814155, 7.845741394697818, 7.762271741971753, 8.861654082723408, 11.270956604625558, -21.568470747725716, -3.4084121404200602, 8.218855112497458, 8.658349480523158, 5.312166530176322, 7.163598205457689, 12.605331078314979, 19.86814147700958, 7.285856760258885, 7.41446148193695, 3.9974762872193272, 9.717149681914245, -14.525808957512123, 1.4449562246341943, 6.197683412431339, 6.851373887572735, 5.615946799243607, 16.27118181946304, 4.486281115476162, 11.87305831355556, -19.755849916692185, 7.796072576906678, 8.549581076963285, 7.758127437968899, 9.566024421761346, -0.02044112911406067, 11.908546586307828, 5.754750083311291, 2.563829192883856, 5.311184884332707, 6.417796389804056, 5.350033019222961, 5.543425449483396, 6.96032088088527, 4.788170416787694]}], \"hoverlabel\": {\"namelength\": 0}, \"hovertemplate\": \"%{xaxis.title.text}=%{x}<br>%{yaxis.title.text}=%{y}\", \"legendgroup\": \"\", \"marker\": {\"color\": \"#636efa\", \"symbol\": \"circle\"}, \"name\": \"\", \"showlegend\": false, \"type\": \"splom\"}],\n",
       "                        {\"dragmode\": \"select\", \"legend\": {\"tracegroupgap\": 0}, \"margin\": {\"t\": 60}, \"template\": {\"data\": {\"bar\": [{\"error_x\": {\"color\": \"#2a3f5f\"}, \"error_y\": {\"color\": \"#2a3f5f\"}, \"marker\": {\"line\": {\"color\": \"#E5ECF6\", \"width\": 0.5}}, \"type\": \"bar\"}], \"barpolar\": [{\"marker\": {\"line\": {\"color\": \"#E5ECF6\", \"width\": 0.5}}, \"type\": \"barpolar\"}], \"carpet\": [{\"aaxis\": {\"endlinecolor\": \"#2a3f5f\", \"gridcolor\": \"white\", \"linecolor\": \"white\", \"minorgridcolor\": \"white\", \"startlinecolor\": \"#2a3f5f\"}, \"baxis\": {\"endlinecolor\": \"#2a3f5f\", \"gridcolor\": \"white\", \"linecolor\": \"white\", \"minorgridcolor\": \"white\", \"startlinecolor\": \"#2a3f5f\"}, \"type\": \"carpet\"}], \"choropleth\": [{\"colorbar\": {\"outlinewidth\": 0, \"ticks\": \"\"}, \"type\": \"choropleth\"}], \"contour\": [{\"colorbar\": {\"outlinewidth\": 0, \"ticks\": \"\"}, \"colorscale\": [[0.0, \"#0d0887\"], [0.1111111111111111, \"#46039f\"], [0.2222222222222222, \"#7201a8\"], [0.3333333333333333, \"#9c179e\"], [0.4444444444444444, \"#bd3786\"], [0.5555555555555556, \"#d8576b\"], [0.6666666666666666, \"#ed7953\"], [0.7777777777777778, \"#fb9f3a\"], [0.8888888888888888, \"#fdca26\"], [1.0, \"#f0f921\"]], \"type\": \"contour\"}], \"contourcarpet\": [{\"colorbar\": {\"outlinewidth\": 0, \"ticks\": \"\"}, \"type\": \"contourcarpet\"}], \"heatmap\": [{\"colorbar\": {\"outlinewidth\": 0, \"ticks\": \"\"}, \"colorscale\": [[0.0, \"#0d0887\"], [0.1111111111111111, \"#46039f\"], [0.2222222222222222, \"#7201a8\"], [0.3333333333333333, \"#9c179e\"], [0.4444444444444444, \"#bd3786\"], [0.5555555555555556, \"#d8576b\"], [0.6666666666666666, \"#ed7953\"], [0.7777777777777778, \"#fb9f3a\"], [0.8888888888888888, \"#fdca26\"], [1.0, \"#f0f921\"]], \"type\": \"heatmap\"}], \"heatmapgl\": [{\"colorbar\": {\"outlinewidth\": 0, \"ticks\": \"\"}, \"colorscale\": [[0.0, \"#0d0887\"], [0.1111111111111111, \"#46039f\"], [0.2222222222222222, \"#7201a8\"], [0.3333333333333333, \"#9c179e\"], [0.4444444444444444, \"#bd3786\"], [0.5555555555555556, \"#d8576b\"], [0.6666666666666666, \"#ed7953\"], [0.7777777777777778, \"#fb9f3a\"], [0.8888888888888888, \"#fdca26\"], [1.0, \"#f0f921\"]], \"type\": \"heatmapgl\"}], \"histogram\": [{\"marker\": {\"colorbar\": {\"outlinewidth\": 0, \"ticks\": \"\"}}, \"type\": \"histogram\"}], \"histogram2d\": [{\"colorbar\": {\"outlinewidth\": 0, \"ticks\": \"\"}, \"colorscale\": [[0.0, \"#0d0887\"], [0.1111111111111111, \"#46039f\"], [0.2222222222222222, \"#7201a8\"], [0.3333333333333333, \"#9c179e\"], [0.4444444444444444, \"#bd3786\"], [0.5555555555555556, \"#d8576b\"], [0.6666666666666666, \"#ed7953\"], [0.7777777777777778, \"#fb9f3a\"], [0.8888888888888888, \"#fdca26\"], [1.0, \"#f0f921\"]], \"type\": \"histogram2d\"}], \"histogram2dcontour\": [{\"colorbar\": {\"outlinewidth\": 0, \"ticks\": \"\"}, \"colorscale\": [[0.0, \"#0d0887\"], [0.1111111111111111, \"#46039f\"], [0.2222222222222222, \"#7201a8\"], [0.3333333333333333, \"#9c179e\"], [0.4444444444444444, \"#bd3786\"], [0.5555555555555556, \"#d8576b\"], [0.6666666666666666, \"#ed7953\"], [0.7777777777777778, \"#fb9f3a\"], [0.8888888888888888, \"#fdca26\"], [1.0, \"#f0f921\"]], \"type\": \"histogram2dcontour\"}], \"mesh3d\": [{\"colorbar\": {\"outlinewidth\": 0, \"ticks\": \"\"}, \"type\": \"mesh3d\"}], \"parcoords\": [{\"line\": {\"colorbar\": {\"outlinewidth\": 0, \"ticks\": \"\"}}, \"type\": \"parcoords\"}], \"pie\": [{\"automargin\": true, \"type\": \"pie\"}], \"scatter\": [{\"marker\": {\"colorbar\": {\"outlinewidth\": 0, \"ticks\": \"\"}}, \"type\": \"scatter\"}], \"scatter3d\": [{\"line\": {\"colorbar\": {\"outlinewidth\": 0, \"ticks\": \"\"}}, \"marker\": {\"colorbar\": {\"outlinewidth\": 0, \"ticks\": \"\"}}, \"type\": \"scatter3d\"}], \"scattercarpet\": [{\"marker\": {\"colorbar\": {\"outlinewidth\": 0, \"ticks\": \"\"}}, \"type\": \"scattercarpet\"}], \"scattergeo\": [{\"marker\": {\"colorbar\": {\"outlinewidth\": 0, \"ticks\": \"\"}}, \"type\": \"scattergeo\"}], \"scattergl\": [{\"marker\": {\"colorbar\": {\"outlinewidth\": 0, \"ticks\": \"\"}}, \"type\": \"scattergl\"}], \"scattermapbox\": [{\"marker\": {\"colorbar\": {\"outlinewidth\": 0, \"ticks\": \"\"}}, \"type\": \"scattermapbox\"}], \"scatterpolar\": [{\"marker\": {\"colorbar\": {\"outlinewidth\": 0, \"ticks\": \"\"}}, \"type\": \"scatterpolar\"}], \"scatterpolargl\": [{\"marker\": {\"colorbar\": {\"outlinewidth\": 0, \"ticks\": \"\"}}, \"type\": \"scatterpolargl\"}], \"scatterternary\": [{\"marker\": {\"colorbar\": {\"outlinewidth\": 0, \"ticks\": \"\"}}, \"type\": \"scatterternary\"}], \"surface\": [{\"colorbar\": {\"outlinewidth\": 0, \"ticks\": \"\"}, \"colorscale\": [[0.0, \"#0d0887\"], [0.1111111111111111, \"#46039f\"], [0.2222222222222222, \"#7201a8\"], [0.3333333333333333, \"#9c179e\"], [0.4444444444444444, \"#bd3786\"], [0.5555555555555556, \"#d8576b\"], [0.6666666666666666, \"#ed7953\"], [0.7777777777777778, \"#fb9f3a\"], [0.8888888888888888, \"#fdca26\"], [1.0, \"#f0f921\"]], \"type\": \"surface\"}], \"table\": [{\"cells\": {\"fill\": {\"color\": \"#EBF0F8\"}, \"line\": {\"color\": \"white\"}}, \"header\": {\"fill\": {\"color\": \"#C8D4E3\"}, \"line\": {\"color\": \"white\"}}, \"type\": \"table\"}]}, \"layout\": {\"annotationdefaults\": {\"arrowcolor\": \"#2a3f5f\", \"arrowhead\": 0, \"arrowwidth\": 1}, \"coloraxis\": {\"colorbar\": {\"outlinewidth\": 0, \"ticks\": \"\"}}, \"colorscale\": {\"diverging\": [[0, \"#8e0152\"], [0.1, \"#c51b7d\"], [0.2, \"#de77ae\"], [0.3, \"#f1b6da\"], [0.4, \"#fde0ef\"], [0.5, \"#f7f7f7\"], [0.6, \"#e6f5d0\"], [0.7, \"#b8e186\"], [0.8, \"#7fbc41\"], [0.9, \"#4d9221\"], [1, \"#276419\"]], \"sequential\": [[0.0, \"#0d0887\"], [0.1111111111111111, \"#46039f\"], [0.2222222222222222, \"#7201a8\"], [0.3333333333333333, \"#9c179e\"], [0.4444444444444444, \"#bd3786\"], [0.5555555555555556, \"#d8576b\"], [0.6666666666666666, \"#ed7953\"], [0.7777777777777778, \"#fb9f3a\"], [0.8888888888888888, \"#fdca26\"], [1.0, \"#f0f921\"]], \"sequentialminus\": [[0.0, \"#0d0887\"], [0.1111111111111111, \"#46039f\"], [0.2222222222222222, \"#7201a8\"], [0.3333333333333333, \"#9c179e\"], [0.4444444444444444, \"#bd3786\"], [0.5555555555555556, \"#d8576b\"], [0.6666666666666666, \"#ed7953\"], [0.7777777777777778, \"#fb9f3a\"], [0.8888888888888888, \"#fdca26\"], [1.0, \"#f0f921\"]]}, \"colorway\": [\"#636efa\", \"#EF553B\", \"#00cc96\", \"#ab63fa\", \"#FFA15A\", \"#19d3f3\", \"#FF6692\", \"#B6E880\", \"#FF97FF\", \"#FECB52\"], \"font\": {\"color\": \"#2a3f5f\"}, \"geo\": {\"bgcolor\": \"white\", \"lakecolor\": \"white\", \"landcolor\": \"#E5ECF6\", \"showlakes\": true, \"showland\": true, \"subunitcolor\": \"white\"}, \"hoverlabel\": {\"align\": \"left\"}, \"hovermode\": \"closest\", \"mapbox\": {\"style\": \"light\"}, \"paper_bgcolor\": \"white\", \"plot_bgcolor\": \"#E5ECF6\", \"polar\": {\"angularaxis\": {\"gridcolor\": \"white\", \"linecolor\": \"white\", \"ticks\": \"\"}, \"bgcolor\": \"#E5ECF6\", \"radialaxis\": {\"gridcolor\": \"white\", \"linecolor\": \"white\", \"ticks\": \"\"}}, \"scene\": {\"xaxis\": {\"backgroundcolor\": \"#E5ECF6\", \"gridcolor\": \"white\", \"gridwidth\": 2, \"linecolor\": \"white\", \"showbackground\": true, \"ticks\": \"\", \"zerolinecolor\": \"white\"}, \"yaxis\": {\"backgroundcolor\": \"#E5ECF6\", \"gridcolor\": \"white\", \"gridwidth\": 2, \"linecolor\": \"white\", \"showbackground\": true, \"ticks\": \"\", \"zerolinecolor\": \"white\"}, \"zaxis\": {\"backgroundcolor\": \"#E5ECF6\", \"gridcolor\": \"white\", \"gridwidth\": 2, \"linecolor\": \"white\", \"showbackground\": true, \"ticks\": \"\", \"zerolinecolor\": \"white\"}}, \"shapedefaults\": {\"line\": {\"color\": \"#2a3f5f\"}}, \"ternary\": {\"aaxis\": {\"gridcolor\": \"white\", \"linecolor\": \"white\", \"ticks\": \"\"}, \"baxis\": {\"gridcolor\": \"white\", \"linecolor\": \"white\", \"ticks\": \"\"}, \"bgcolor\": \"#E5ECF6\", \"caxis\": {\"gridcolor\": \"white\", \"linecolor\": \"white\", \"ticks\": \"\"}}, \"title\": {\"x\": 0.05}, \"xaxis\": {\"automargin\": true, \"gridcolor\": \"white\", \"linecolor\": \"white\", \"ticks\": \"\", \"title\": {\"standoff\": 15}, \"zerolinecolor\": \"white\", \"zerolinewidth\": 2}, \"yaxis\": {\"automargin\": true, \"gridcolor\": \"white\", \"linecolor\": \"white\", \"ticks\": \"\", \"title\": {\"standoff\": 15}, \"zerolinecolor\": \"white\", \"zerolinewidth\": 2}}}},\n",
       "                        {\"responsive\": true}\n",
       "                    ).then(function(){\n",
       "                            \n",
       "var gd = document.getElementById('f76b506e-0776-4dd2-b24e-8c4ee572d87f');\n",
       "var x = new MutationObserver(function (mutations, observer) {{\n",
       "        var display = window.getComputedStyle(gd).display;\n",
       "        if (!display || display === 'none') {{\n",
       "            console.log([gd, 'removed!']);\n",
       "            Plotly.purge(gd);\n",
       "            observer.disconnect();\n",
       "        }}\n",
       "}});\n",
       "\n",
       "// Listen for the removal of the full notebook cells\n",
       "var notebookContainer = gd.closest('#notebook-container');\n",
       "if (notebookContainer) {{\n",
       "    x.observe(notebookContainer, {childList: true});\n",
       "}}\n",
       "\n",
       "// Listen for the clearing of the current output cell\n",
       "var outputEl = gd.closest('.output');\n",
       "if (outputEl) {{\n",
       "    x.observe(outputEl, {childList: true});\n",
       "}}\n",
       "\n",
       "                        })\n",
       "                };\n",
       "                \n",
       "            </script>\n",
       "        </div>\n",
       "</body>\n",
       "</html>"
      ]
     },
     "metadata": {},
     "output_type": "display_data"
    }
   ],
   "source": [
    "labels = {\n",
    "    str(i): f\"PC {i+1} ({var:.1f}%)\"\n",
    "    for i, var in enumerate(svd.explained_variance_ratio_ * 100)\n",
    "}\n",
    "\n",
    "fig = px.scatter_matrix(\n",
    "    components_svd,\n",
    "    labels=labels,\n",
    "    dimensions=range(2)\n",
    ")\n",
    "fig.update_traces(diagonal_visible=False)\n",
    "fig.show()"
   ]
  },
  {
   "cell_type": "markdown",
   "metadata": {
    "id": "PD0BySkYRHb4"
   },
   "source": [
    "## Perbedaan PCA dan SVD"
   ]
  },
  {
   "cell_type": "markdown",
   "metadata": {
    "id": "VCfEI2P_YMR9"
   },
   "source": [
    "Dari hasil PCA dan SVD yang didapatkan 2 visualisasi yang cukup berbeda. Untuk PCA component yang terbentuk cukup sama dikarenakan PCA akan menghilangkan element yang kurang memiliki impact dan menyimpan element atau component yang berimpact tinggi. Maka bentuk visualisasi dari PCA hampir mirip dikarenakan 2 visualisasi inilah yag menggambarkan component yang berdampak tinggi terhadap data.\n",
    "\n",
    "Sedangkan untuk SVD memiliki perbedaan dikarenakan dalam perhitungan SVD tidak dilakukan proses memilih center dari component sehingga bentuknya cukup berbeda antara component 1 dan 2 nya. SVD sendiri juga cukup baik untuk mengelola data yang sparse seperti tf-idf data."
   ]
  },
  {
   "cell_type": "markdown",
   "metadata": {
    "id": "10Y1ot3TRKMj"
   },
   "source": [
    "# IR Model Evaluation"
   ]
  },
  {
   "cell_type": "code",
   "execution_count": 126,
   "metadata": {
    "executionInfo": {
     "elapsed": 14,
     "status": "ok",
     "timestamp": 1636452727830,
     "user": {
      "displayName": "Naufal Hilmi",
      "photoUrl": "https://lh3.googleusercontent.com/a-/AOh14Gj7UB8yAHzIcK8gtuCV9hf44dCQUmF8XqLkQI3C=s64",
      "userId": "02567910694508979199"
     },
     "user_tz": -420
    },
    "id": "nt_MEmprjGjZ"
   },
   "outputs": [],
   "source": [
    "bm25 = score('information retrieval', 1.2, 0.75).head(10)"
   ]
  },
  {
   "cell_type": "code",
   "execution_count": 127,
   "metadata": {
    "executionInfo": {
     "elapsed": 14,
     "status": "ok",
     "timestamp": 1636452727831,
     "user": {
      "displayName": "Naufal Hilmi",
      "photoUrl": "https://lh3.googleusercontent.com/a-/AOh14Gj7UB8yAHzIcK8gtuCV9hf44dCQUmF8XqLkQI3C=s64",
      "userId": "02567910694508979199"
     },
     "user_tz": -420
    },
    "id": "V0_baXNKjCsx"
   },
   "outputs": [],
   "source": [
    "word2vec = score_word2vec('information retrieval').head(10)"
   ]
  },
  {
   "cell_type": "code",
   "execution_count": 128,
   "metadata": {
    "colab": {
     "base_uri": "https://localhost:8080/",
     "height": 357
    },
    "executionInfo": {
     "elapsed": 14,
     "status": "ok",
     "timestamp": 1636452727832,
     "user": {
      "displayName": "Naufal Hilmi",
      "photoUrl": "https://lh3.googleusercontent.com/a-/AOh14Gj7UB8yAHzIcK8gtuCV9hf44dCQUmF8XqLkQI3C=s64",
      "userId": "02567910694508979199"
     },
     "user_tz": -420
    },
    "id": "VDKOXQesqjfO",
    "outputId": "81758311-987e-4859-8163-9a9a1483a471"
   },
   "outputs": [
    {
     "data": {
      "text/html": [
       "<div>\n",
       "<style scoped>\n",
       "    .dataframe tbody tr th:only-of-type {\n",
       "        vertical-align: middle;\n",
       "    }\n",
       "\n",
       "    .dataframe tbody tr th {\n",
       "        vertical-align: top;\n",
       "    }\n",
       "\n",
       "    .dataframe thead th {\n",
       "        text-align: right;\n",
       "    }\n",
       "</style>\n",
       "<table border=\"1\" class=\"dataframe\">\n",
       "  <thead>\n",
       "    <tr style=\"text-align: right;\">\n",
       "      <th></th>\n",
       "      <th>No Doc</th>\n",
       "      <th>Document</th>\n",
       "      <th>Score</th>\n",
       "    </tr>\n",
       "  </thead>\n",
       "  <tbody>\n",
       "    <tr>\n",
       "      <th>0</th>\n",
       "      <td>Doc 397</td>\n",
       "      <td>[perolehan, informasi, lintas, bahasa, menggun...</td>\n",
       "      <td>4.641979</td>\n",
       "    </tr>\n",
       "    <tr>\n",
       "      <th>1</th>\n",
       "      <td>Doc 188</td>\n",
       "      <td>[penelitian, ini, merancang, dan, mengimplemen...</td>\n",
       "      <td>3.208014</td>\n",
       "    </tr>\n",
       "    <tr>\n",
       "      <th>2</th>\n",
       "      <td>Doc 381</td>\n",
       "      <td>[sistem, informasi, eksekutif, sebagai, salah,...</td>\n",
       "      <td>3.126866</td>\n",
       "    </tr>\n",
       "    <tr>\n",
       "      <th>3</th>\n",
       "      <td>Doc 50</td>\n",
       "      <td>[kerja, praktik, analisis, yang, memengaruhi, ...</td>\n",
       "      <td>2.605500</td>\n",
       "    </tr>\n",
       "    <tr>\n",
       "      <th>4</th>\n",
       "      <td>Doc 36</td>\n",
       "      <td>[analisis, faktor, pengaruh, jenis, interaksi,...</td>\n",
       "      <td>2.543279</td>\n",
       "    </tr>\n",
       "    <tr>\n",
       "      <th>5</th>\n",
       "      <td>Doc 131</td>\n",
       "      <td>[kualitas, informasi, dan, kredibilitas, sumbe...</td>\n",
       "      <td>2.350693</td>\n",
       "    </tr>\n",
       "    <tr>\n",
       "      <th>6</th>\n",
       "      <td>Doc 110</td>\n",
       "      <td>[ekstraksi, frase, kunci, pada, pertanyaan, fo...</td>\n",
       "      <td>2.223079</td>\n",
       "    </tr>\n",
       "    <tr>\n",
       "      <th>7</th>\n",
       "      <td>Doc 416</td>\n",
       "      <td>[rancangan, penerapan, strategi, pembelajaran,...</td>\n",
       "      <td>2.050269</td>\n",
       "    </tr>\n",
       "    <tr>\n",
       "      <th>8</th>\n",
       "      <td>Doc 143</td>\n",
       "      <td>[fitur, software, product, lines, menggunakan,...</td>\n",
       "      <td>2.031361</td>\n",
       "    </tr>\n",
       "    <tr>\n",
       "      <th>9</th>\n",
       "      <td>Doc 19</td>\n",
       "      <td>[information, strategy, planning, atau, alat, ...</td>\n",
       "      <td>2.002853</td>\n",
       "    </tr>\n",
       "  </tbody>\n",
       "</table>\n",
       "</div>"
      ],
      "text/plain": [
       "    No Doc                                           Document     Score\n",
       "0  Doc 397  [perolehan, informasi, lintas, bahasa, menggun...  4.641979\n",
       "1  Doc 188  [penelitian, ini, merancang, dan, mengimplemen...  3.208014\n",
       "2  Doc 381  [sistem, informasi, eksekutif, sebagai, salah,...  3.126866\n",
       "3   Doc 50  [kerja, praktik, analisis, yang, memengaruhi, ...  2.605500\n",
       "4   Doc 36  [analisis, faktor, pengaruh, jenis, interaksi,...  2.543279\n",
       "5  Doc 131  [kualitas, informasi, dan, kredibilitas, sumbe...  2.350693\n",
       "6  Doc 110  [ekstraksi, frase, kunci, pada, pertanyaan, fo...  2.223079\n",
       "7  Doc 416  [rancangan, penerapan, strategi, pembelajaran,...  2.050269\n",
       "8  Doc 143  [fitur, software, product, lines, menggunakan,...  2.031361\n",
       "9   Doc 19  [information, strategy, planning, atau, alat, ...  2.002853"
      ]
     },
     "execution_count": 128,
     "metadata": {},
     "output_type": "execute_result"
    }
   ],
   "source": [
    "bm25"
   ]
  },
  {
   "cell_type": "code",
   "execution_count": 129,
   "metadata": {
    "colab": {
     "base_uri": "https://localhost:8080/",
     "height": 357
    },
    "executionInfo": {
     "elapsed": 12,
     "status": "ok",
     "timestamp": 1636452727832,
     "user": {
      "displayName": "Naufal Hilmi",
      "photoUrl": "https://lh3.googleusercontent.com/a-/AOh14Gj7UB8yAHzIcK8gtuCV9hf44dCQUmF8XqLkQI3C=s64",
      "userId": "02567910694508979199"
     },
     "user_tz": -420
    },
    "id": "as0WlUH7qkJv",
    "outputId": "0f3efa71-f67f-468c-b1c0-6f6a158af086"
   },
   "outputs": [
    {
     "data": {
      "text/html": [
       "<div>\n",
       "<style scoped>\n",
       "    .dataframe tbody tr th:only-of-type {\n",
       "        vertical-align: middle;\n",
       "    }\n",
       "\n",
       "    .dataframe tbody tr th {\n",
       "        vertical-align: top;\n",
       "    }\n",
       "\n",
       "    .dataframe thead th {\n",
       "        text-align: right;\n",
       "    }\n",
       "</style>\n",
       "<table border=\"1\" class=\"dataframe\">\n",
       "  <thead>\n",
       "    <tr style=\"text-align: right;\">\n",
       "      <th></th>\n",
       "      <th>No Doc</th>\n",
       "      <th>Document</th>\n",
       "      <th>Score</th>\n",
       "    </tr>\n",
       "  </thead>\n",
       "  <tbody>\n",
       "    <tr>\n",
       "      <th>0</th>\n",
       "      <td>Doc 381</td>\n",
       "      <td>[sistem, informasi, eksekutif, bagai, salah, s...</td>\n",
       "      <td>1.981903</td>\n",
       "    </tr>\n",
       "    <tr>\n",
       "      <th>1</th>\n",
       "      <td>Doc 188</td>\n",
       "      <td>[teliti, ini, rancang, dan, implementasi, prot...</td>\n",
       "      <td>1.979499</td>\n",
       "    </tr>\n",
       "    <tr>\n",
       "      <th>2</th>\n",
       "      <td>Doc 397</td>\n",
       "      <td>[oleh, informasi, lintas, bahasa, guna, korpus...</td>\n",
       "      <td>1.971094</td>\n",
       "    </tr>\n",
       "    <tr>\n",
       "      <th>3</th>\n",
       "      <td>Doc 39</td>\n",
       "      <td>[analisis, faktor, yang, pengaruh, loyalitas, ...</td>\n",
       "      <td>0.999415</td>\n",
       "    </tr>\n",
       "    <tr>\n",
       "      <th>4</th>\n",
       "      <td>Doc 80</td>\n",
       "      <td>[dampak, gamifikasi, dan, mobile, wallet, perf...</td>\n",
       "      <td>0.998600</td>\n",
       "    </tr>\n",
       "    <tr>\n",
       "      <th>5</th>\n",
       "      <td>Doc 103</td>\n",
       "      <td>[teliti, ini, tuju, kembang, sistem, informasi...</td>\n",
       "      <td>0.998491</td>\n",
       "    </tr>\n",
       "    <tr>\n",
       "      <th>6</th>\n",
       "      <td>Doc 137</td>\n",
       "      <td>[yang, pengaruh, ingin, untuk, beli, cara, imp...</td>\n",
       "      <td>0.997561</td>\n",
       "    </tr>\n",
       "    <tr>\n",
       "      <th>7</th>\n",
       "      <td>Doc 131</td>\n",
       "      <td>[kualitas, informasi, dan, kredibilitas, sumbe...</td>\n",
       "      <td>0.997420</td>\n",
       "    </tr>\n",
       "    <tr>\n",
       "      <th>8</th>\n",
       "      <td>Doc 50</td>\n",
       "      <td>[kerja, praktik, analisis, yang, pengaruh, per...</td>\n",
       "      <td>0.996258</td>\n",
       "    </tr>\n",
       "    <tr>\n",
       "      <th>9</th>\n",
       "      <td>Doc 43</td>\n",
       "      <td>[analisis, internal, dan, eksternal, yang, pen...</td>\n",
       "      <td>0.996137</td>\n",
       "    </tr>\n",
       "  </tbody>\n",
       "</table>\n",
       "</div>"
      ],
      "text/plain": [
       "    No Doc                                           Document     Score\n",
       "0  Doc 381  [sistem, informasi, eksekutif, bagai, salah, s...  1.981903\n",
       "1  Doc 188  [teliti, ini, rancang, dan, implementasi, prot...  1.979499\n",
       "2  Doc 397  [oleh, informasi, lintas, bahasa, guna, korpus...  1.971094\n",
       "3   Doc 39  [analisis, faktor, yang, pengaruh, loyalitas, ...  0.999415\n",
       "4   Doc 80  [dampak, gamifikasi, dan, mobile, wallet, perf...  0.998600\n",
       "5  Doc 103  [teliti, ini, tuju, kembang, sistem, informasi...  0.998491\n",
       "6  Doc 137  [yang, pengaruh, ingin, untuk, beli, cara, imp...  0.997561\n",
       "7  Doc 131  [kualitas, informasi, dan, kredibilitas, sumbe...  0.997420\n",
       "8   Doc 50  [kerja, praktik, analisis, yang, pengaruh, per...  0.996258\n",
       "9   Doc 43  [analisis, internal, dan, eksternal, yang, pen...  0.996137"
      ]
     },
     "execution_count": 129,
     "metadata": {},
     "output_type": "execute_result"
    }
   ],
   "source": [
    "word2vec"
   ]
  },
  {
   "cell_type": "markdown",
   "metadata": {
    "id": "siF8XaClRL0r"
   },
   "source": [
    "## Human Judgement"
   ]
  },
  {
   "cell_type": "markdown",
   "metadata": {
    "id": "jyC9oLkNF1Z0"
   },
   "source": [
    "List dokumen yang menurut saya relevan = \n",
    "[397, 188, 381, 110, 73, 43, 50]:"
   ]
  },
  {
   "cell_type": "code",
   "execution_count": 130,
   "metadata": {
    "executionInfo": {
     "elapsed": 13,
     "status": "ok",
     "timestamp": 1636452727833,
     "user": {
      "displayName": "Naufal Hilmi",
      "photoUrl": "https://lh3.googleusercontent.com/a-/AOh14Gj7UB8yAHzIcK8gtuCV9hf44dCQUmF8XqLkQI3C=s64",
      "userId": "02567910694508979199"
     },
     "user_tz": -420
    },
    "id": "JHOpYOLv722K"
   },
   "outputs": [],
   "source": [
    "def label(df):\n",
    "  lst_doc = [397, 188, 381, 110, 73, 43, 50]\n",
    "  for i, row in df.iterrows():\n",
    "    if int(row['No Doc'].split()[1]) in lst_doc:\n",
    "      df.at[i,'Label'] = '1'\n",
    "    else:\n",
    "      df.at[i,'Label'] = '0'\n",
    "  return df"
   ]
  },
  {
   "cell_type": "markdown",
   "metadata": {
    "id": "XZj-jlkG8JLL"
   },
   "source": [
    "BM25"
   ]
  },
  {
   "cell_type": "code",
   "execution_count": 131,
   "metadata": {
    "colab": {
     "base_uri": "https://localhost:8080/",
     "height": 357
    },
    "executionInfo": {
     "elapsed": 820,
     "status": "ok",
     "timestamp": 1636452728641,
     "user": {
      "displayName": "Naufal Hilmi",
      "photoUrl": "https://lh3.googleusercontent.com/a-/AOh14Gj7UB8yAHzIcK8gtuCV9hf44dCQUmF8XqLkQI3C=s64",
      "userId": "02567910694508979199"
     },
     "user_tz": -420
    },
    "id": "3MGu1U1X8dwl",
    "outputId": "e98ebb35-1392-409d-f03c-917f3591e676"
   },
   "outputs": [
    {
     "data": {
      "text/html": [
       "<div>\n",
       "<style scoped>\n",
       "    .dataframe tbody tr th:only-of-type {\n",
       "        vertical-align: middle;\n",
       "    }\n",
       "\n",
       "    .dataframe tbody tr th {\n",
       "        vertical-align: top;\n",
       "    }\n",
       "\n",
       "    .dataframe thead th {\n",
       "        text-align: right;\n",
       "    }\n",
       "</style>\n",
       "<table border=\"1\" class=\"dataframe\">\n",
       "  <thead>\n",
       "    <tr style=\"text-align: right;\">\n",
       "      <th></th>\n",
       "      <th>No Doc</th>\n",
       "      <th>Document</th>\n",
       "      <th>Score</th>\n",
       "      <th>Label</th>\n",
       "    </tr>\n",
       "  </thead>\n",
       "  <tbody>\n",
       "    <tr>\n",
       "      <th>0</th>\n",
       "      <td>Doc 397</td>\n",
       "      <td>[perolehan, informasi, lintas, bahasa, menggun...</td>\n",
       "      <td>4.641979</td>\n",
       "      <td>1</td>\n",
       "    </tr>\n",
       "    <tr>\n",
       "      <th>1</th>\n",
       "      <td>Doc 188</td>\n",
       "      <td>[penelitian, ini, merancang, dan, mengimplemen...</td>\n",
       "      <td>3.208014</td>\n",
       "      <td>1</td>\n",
       "    </tr>\n",
       "    <tr>\n",
       "      <th>2</th>\n",
       "      <td>Doc 381</td>\n",
       "      <td>[sistem, informasi, eksekutif, sebagai, salah,...</td>\n",
       "      <td>3.126866</td>\n",
       "      <td>1</td>\n",
       "    </tr>\n",
       "    <tr>\n",
       "      <th>3</th>\n",
       "      <td>Doc 50</td>\n",
       "      <td>[kerja, praktik, analisis, yang, memengaruhi, ...</td>\n",
       "      <td>2.605500</td>\n",
       "      <td>1</td>\n",
       "    </tr>\n",
       "    <tr>\n",
       "      <th>4</th>\n",
       "      <td>Doc 36</td>\n",
       "      <td>[analisis, faktor, pengaruh, jenis, interaksi,...</td>\n",
       "      <td>2.543279</td>\n",
       "      <td>0</td>\n",
       "    </tr>\n",
       "    <tr>\n",
       "      <th>5</th>\n",
       "      <td>Doc 131</td>\n",
       "      <td>[kualitas, informasi, dan, kredibilitas, sumbe...</td>\n",
       "      <td>2.350693</td>\n",
       "      <td>0</td>\n",
       "    </tr>\n",
       "    <tr>\n",
       "      <th>6</th>\n",
       "      <td>Doc 110</td>\n",
       "      <td>[ekstraksi, frase, kunci, pada, pertanyaan, fo...</td>\n",
       "      <td>2.223079</td>\n",
       "      <td>1</td>\n",
       "    </tr>\n",
       "    <tr>\n",
       "      <th>7</th>\n",
       "      <td>Doc 416</td>\n",
       "      <td>[rancangan, penerapan, strategi, pembelajaran,...</td>\n",
       "      <td>2.050269</td>\n",
       "      <td>0</td>\n",
       "    </tr>\n",
       "    <tr>\n",
       "      <th>8</th>\n",
       "      <td>Doc 143</td>\n",
       "      <td>[fitur, software, product, lines, menggunakan,...</td>\n",
       "      <td>2.031361</td>\n",
       "      <td>0</td>\n",
       "    </tr>\n",
       "    <tr>\n",
       "      <th>9</th>\n",
       "      <td>Doc 19</td>\n",
       "      <td>[information, strategy, planning, atau, alat, ...</td>\n",
       "      <td>2.002853</td>\n",
       "      <td>0</td>\n",
       "    </tr>\n",
       "  </tbody>\n",
       "</table>\n",
       "</div>"
      ],
      "text/plain": [
       "    No Doc                                           Document     Score Label\n",
       "0  Doc 397  [perolehan, informasi, lintas, bahasa, menggun...  4.641979     1\n",
       "1  Doc 188  [penelitian, ini, merancang, dan, mengimplemen...  3.208014     1\n",
       "2  Doc 381  [sistem, informasi, eksekutif, sebagai, salah,...  3.126866     1\n",
       "3   Doc 50  [kerja, praktik, analisis, yang, memengaruhi, ...  2.605500     1\n",
       "4   Doc 36  [analisis, faktor, pengaruh, jenis, interaksi,...  2.543279     0\n",
       "5  Doc 131  [kualitas, informasi, dan, kredibilitas, sumbe...  2.350693     0\n",
       "6  Doc 110  [ekstraksi, frase, kunci, pada, pertanyaan, fo...  2.223079     1\n",
       "7  Doc 416  [rancangan, penerapan, strategi, pembelajaran,...  2.050269     0\n",
       "8  Doc 143  [fitur, software, product, lines, menggunakan,...  2.031361     0\n",
       "9   Doc 19  [information, strategy, planning, atau, alat, ...  2.002853     0"
      ]
     },
     "execution_count": 131,
     "metadata": {},
     "output_type": "execute_result"
    }
   ],
   "source": [
    "label(bm25)"
   ]
  },
  {
   "cell_type": "markdown",
   "metadata": {
    "id": "3RpCIa4exrNt"
   },
   "source": [
    "Word2Vec"
   ]
  },
  {
   "cell_type": "code",
   "execution_count": 132,
   "metadata": {
    "colab": {
     "base_uri": "https://localhost:8080/",
     "height": 357
    },
    "executionInfo": {
     "elapsed": 50,
     "status": "ok",
     "timestamp": 1636452728643,
     "user": {
      "displayName": "Naufal Hilmi",
      "photoUrl": "https://lh3.googleusercontent.com/a-/AOh14Gj7UB8yAHzIcK8gtuCV9hf44dCQUmF8XqLkQI3C=s64",
      "userId": "02567910694508979199"
     },
     "user_tz": -420
    },
    "id": "iENZxpQUyiE_",
    "outputId": "491ea6cc-c689-40e4-a0a9-d0cc32e1eae1"
   },
   "outputs": [
    {
     "data": {
      "text/html": [
       "<div>\n",
       "<style scoped>\n",
       "    .dataframe tbody tr th:only-of-type {\n",
       "        vertical-align: middle;\n",
       "    }\n",
       "\n",
       "    .dataframe tbody tr th {\n",
       "        vertical-align: top;\n",
       "    }\n",
       "\n",
       "    .dataframe thead th {\n",
       "        text-align: right;\n",
       "    }\n",
       "</style>\n",
       "<table border=\"1\" class=\"dataframe\">\n",
       "  <thead>\n",
       "    <tr style=\"text-align: right;\">\n",
       "      <th></th>\n",
       "      <th>No Doc</th>\n",
       "      <th>Document</th>\n",
       "      <th>Score</th>\n",
       "      <th>Label</th>\n",
       "    </tr>\n",
       "  </thead>\n",
       "  <tbody>\n",
       "    <tr>\n",
       "      <th>0</th>\n",
       "      <td>Doc 381</td>\n",
       "      <td>[sistem, informasi, eksekutif, bagai, salah, s...</td>\n",
       "      <td>1.981903</td>\n",
       "      <td>1</td>\n",
       "    </tr>\n",
       "    <tr>\n",
       "      <th>1</th>\n",
       "      <td>Doc 188</td>\n",
       "      <td>[teliti, ini, rancang, dan, implementasi, prot...</td>\n",
       "      <td>1.979499</td>\n",
       "      <td>1</td>\n",
       "    </tr>\n",
       "    <tr>\n",
       "      <th>2</th>\n",
       "      <td>Doc 397</td>\n",
       "      <td>[oleh, informasi, lintas, bahasa, guna, korpus...</td>\n",
       "      <td>1.971094</td>\n",
       "      <td>1</td>\n",
       "    </tr>\n",
       "    <tr>\n",
       "      <th>3</th>\n",
       "      <td>Doc 39</td>\n",
       "      <td>[analisis, faktor, yang, pengaruh, loyalitas, ...</td>\n",
       "      <td>0.999415</td>\n",
       "      <td>0</td>\n",
       "    </tr>\n",
       "    <tr>\n",
       "      <th>4</th>\n",
       "      <td>Doc 80</td>\n",
       "      <td>[dampak, gamifikasi, dan, mobile, wallet, perf...</td>\n",
       "      <td>0.998600</td>\n",
       "      <td>0</td>\n",
       "    </tr>\n",
       "    <tr>\n",
       "      <th>5</th>\n",
       "      <td>Doc 103</td>\n",
       "      <td>[teliti, ini, tuju, kembang, sistem, informasi...</td>\n",
       "      <td>0.998491</td>\n",
       "      <td>0</td>\n",
       "    </tr>\n",
       "    <tr>\n",
       "      <th>6</th>\n",
       "      <td>Doc 137</td>\n",
       "      <td>[yang, pengaruh, ingin, untuk, beli, cara, imp...</td>\n",
       "      <td>0.997561</td>\n",
       "      <td>0</td>\n",
       "    </tr>\n",
       "    <tr>\n",
       "      <th>7</th>\n",
       "      <td>Doc 131</td>\n",
       "      <td>[kualitas, informasi, dan, kredibilitas, sumbe...</td>\n",
       "      <td>0.997420</td>\n",
       "      <td>0</td>\n",
       "    </tr>\n",
       "    <tr>\n",
       "      <th>8</th>\n",
       "      <td>Doc 50</td>\n",
       "      <td>[kerja, praktik, analisis, yang, pengaruh, per...</td>\n",
       "      <td>0.996258</td>\n",
       "      <td>1</td>\n",
       "    </tr>\n",
       "    <tr>\n",
       "      <th>9</th>\n",
       "      <td>Doc 43</td>\n",
       "      <td>[analisis, internal, dan, eksternal, yang, pen...</td>\n",
       "      <td>0.996137</td>\n",
       "      <td>1</td>\n",
       "    </tr>\n",
       "  </tbody>\n",
       "</table>\n",
       "</div>"
      ],
      "text/plain": [
       "    No Doc                                           Document     Score Label\n",
       "0  Doc 381  [sistem, informasi, eksekutif, bagai, salah, s...  1.981903     1\n",
       "1  Doc 188  [teliti, ini, rancang, dan, implementasi, prot...  1.979499     1\n",
       "2  Doc 397  [oleh, informasi, lintas, bahasa, guna, korpus...  1.971094     1\n",
       "3   Doc 39  [analisis, faktor, yang, pengaruh, loyalitas, ...  0.999415     0\n",
       "4   Doc 80  [dampak, gamifikasi, dan, mobile, wallet, perf...  0.998600     0\n",
       "5  Doc 103  [teliti, ini, tuju, kembang, sistem, informasi...  0.998491     0\n",
       "6  Doc 137  [yang, pengaruh, ingin, untuk, beli, cara, imp...  0.997561     0\n",
       "7  Doc 131  [kualitas, informasi, dan, kredibilitas, sumbe...  0.997420     0\n",
       "8   Doc 50  [kerja, praktik, analisis, yang, pengaruh, per...  0.996258     1\n",
       "9   Doc 43  [analisis, internal, dan, eksternal, yang, pen...  0.996137     1"
      ]
     },
     "execution_count": 132,
     "metadata": {},
     "output_type": "execute_result"
    }
   ],
   "source": [
    "label(word2vec)"
   ]
  },
  {
   "cell_type": "markdown",
   "metadata": {
    "id": "r5GrKOygyztR"
   },
   "source": [
    "## Precision@K, MAP Macro, MAP Micro"
   ]
  },
  {
   "cell_type": "code",
   "execution_count": 133,
   "metadata": {
    "executionInfo": {
     "elapsed": 50,
     "status": "ok",
     "timestamp": 1636452728644,
     "user": {
      "displayName": "Naufal Hilmi",
      "photoUrl": "https://lh3.googleusercontent.com/a-/AOh14Gj7UB8yAHzIcK8gtuCV9hf44dCQUmF8XqLkQI3C=s64",
      "userId": "02567910694508979199"
     },
     "user_tz": -420
    },
    "id": "pxs3KObdxHWv"
   },
   "outputs": [],
   "source": [
    "def precisionk(data,k):\n",
    "  tmp = data.iloc[:k]\n",
    "  relevance = tmp[tmp['Label'] == '1']\n",
    "  value_presicion = len(relevance) / len(tmp['Label'])\n",
    "  return value_presicion"
   ]
  },
  {
   "cell_type": "code",
   "execution_count": 134,
   "metadata": {
    "executionInfo": {
     "elapsed": 51,
     "status": "ok",
     "timestamp": 1636452728645,
     "user": {
      "displayName": "Naufal Hilmi",
      "photoUrl": "https://lh3.googleusercontent.com/a-/AOh14Gj7UB8yAHzIcK8gtuCV9hf44dCQUmF8XqLkQI3C=s64",
      "userId": "02567910694508979199"
     },
     "user_tz": -420
    },
    "id": "DnxnXblrO13x"
   },
   "outputs": [],
   "source": [
    "def MAPMacro(lst_data):\n",
    "  hasil = 0\n",
    "  for data in lst_data:\n",
    "    recall = 0\n",
    "    lst_of_pres = []\n",
    "    actual = len(data[data['Label'] == '1'])\n",
    "    for i, row in data.iterrows():\n",
    "      tmp = data.iloc[:i+1]\n",
    "      recall = len(tmp[tmp['Label'] == '1'])/actual\n",
    "      precision = len(tmp[tmp['Label'] == '1'])/len(tmp)\n",
    "      if row['Label'] == '1':\n",
    "        lst_of_pres.append(precision)\n",
    "      if recall == 1:\n",
    "        break\n",
    "    hasil = hasil + (sum(lst_of_pres) / len(lst_of_pres))\n",
    "  return (hasil / len(lst_data))"
   ]
  },
  {
   "cell_type": "code",
   "execution_count": 135,
   "metadata": {
    "executionInfo": {
     "elapsed": 51,
     "status": "ok",
     "timestamp": 1636452728646,
     "user": {
      "displayName": "Naufal Hilmi",
      "photoUrl": "https://lh3.googleusercontent.com/a-/AOh14Gj7UB8yAHzIcK8gtuCV9hf44dCQUmF8XqLkQI3C=s64",
      "userId": "02567910694508979199"
     },
     "user_tz": -420
    },
    "id": "Er188gaqz1ak"
   },
   "outputs": [],
   "source": [
    "def MAPMicro(lst_data):\n",
    "  hasil = 0\n",
    "  lst_of_pres = []\n",
    "  for data in lst_data:\n",
    "    recall = 0\n",
    "    actual = len(data[data['Label'] == '1'])\n",
    "    for i, row in data.iterrows():\n",
    "      tmp = data.iloc[:i+1]\n",
    "      recall = len(tmp[tmp['Label'] == '1'])/actual\n",
    "      precision = len(tmp[tmp['Label'] == '1'])/len(tmp)\n",
    "      if row['Label'] == '1':\n",
    "        lst_of_pres.append(precision)\n",
    "      if recall == 1:\n",
    "        break\n",
    "  hasil = sum(lst_of_pres) / len(lst_of_pres)\n",
    "  return hasil"
   ]
  },
  {
   "cell_type": "markdown",
   "metadata": {
    "id": "PAWpWCh5wV6k"
   },
   "source": [
    "BM25"
   ]
  },
  {
   "cell_type": "code",
   "execution_count": 136,
   "metadata": {
    "colab": {
     "base_uri": "https://localhost:8080/"
    },
    "executionInfo": {
     "elapsed": 52,
     "status": "ok",
     "timestamp": 1636452728647,
     "user": {
      "displayName": "Naufal Hilmi",
      "photoUrl": "https://lh3.googleusercontent.com/a-/AOh14Gj7UB8yAHzIcK8gtuCV9hf44dCQUmF8XqLkQI3C=s64",
      "userId": "02567910694508979199"
     },
     "user_tz": -420
    },
    "id": "fWSS4fCR76Qo",
    "outputId": "e5169c19-aeb4-4916-9526-a3ad27d6b16e"
   },
   "outputs": [
    {
     "data": {
      "text/plain": [
       "1.0"
      ]
     },
     "execution_count": 136,
     "metadata": {},
     "output_type": "execute_result"
    }
   ],
   "source": [
    "precisionk(bm25,1)"
   ]
  },
  {
   "cell_type": "code",
   "execution_count": 137,
   "metadata": {
    "colab": {
     "base_uri": "https://localhost:8080/"
    },
    "executionInfo": {
     "elapsed": 50,
     "status": "ok",
     "timestamp": 1636452728648,
     "user": {
      "displayName": "Naufal Hilmi",
      "photoUrl": "https://lh3.googleusercontent.com/a-/AOh14Gj7UB8yAHzIcK8gtuCV9hf44dCQUmF8XqLkQI3C=s64",
      "userId": "02567910694508979199"
     },
     "user_tz": -420
    },
    "id": "9Fha4yrI9GVM",
    "outputId": "eca7f271-cc29-4d6a-94bb-21920255991b"
   },
   "outputs": [
    {
     "data": {
      "text/plain": [
       "1.0"
      ]
     },
     "execution_count": 137,
     "metadata": {},
     "output_type": "execute_result"
    }
   ],
   "source": [
    "precisionk(bm25,3)"
   ]
  },
  {
   "cell_type": "code",
   "execution_count": 138,
   "metadata": {
    "colab": {
     "base_uri": "https://localhost:8080/"
    },
    "executionInfo": {
     "elapsed": 49,
     "status": "ok",
     "timestamp": 1636452728648,
     "user": {
      "displayName": "Naufal Hilmi",
      "photoUrl": "https://lh3.googleusercontent.com/a-/AOh14Gj7UB8yAHzIcK8gtuCV9hf44dCQUmF8XqLkQI3C=s64",
      "userId": "02567910694508979199"
     },
     "user_tz": -420
    },
    "id": "o_Fm9QmB8cmw",
    "outputId": "6770c7e4-b459-4ba5-99b9-49f13112e15e"
   },
   "outputs": [
    {
     "data": {
      "text/plain": [
       "0.8"
      ]
     },
     "execution_count": 138,
     "metadata": {},
     "output_type": "execute_result"
    }
   ],
   "source": [
    "precisionk(bm25,5)"
   ]
  },
  {
   "cell_type": "markdown",
   "metadata": {
    "id": "pOssc-Ug99l_"
   },
   "source": [
    "Word2Vec"
   ]
  },
  {
   "cell_type": "code",
   "execution_count": 139,
   "metadata": {
    "colab": {
     "base_uri": "https://localhost:8080/"
    },
    "executionInfo": {
     "elapsed": 48,
     "status": "ok",
     "timestamp": 1636452728649,
     "user": {
      "displayName": "Naufal Hilmi",
      "photoUrl": "https://lh3.googleusercontent.com/a-/AOh14Gj7UB8yAHzIcK8gtuCV9hf44dCQUmF8XqLkQI3C=s64",
      "userId": "02567910694508979199"
     },
     "user_tz": -420
    },
    "id": "o2gp9Lb99_fR",
    "outputId": "b7025a22-7682-460e-a144-013af36925fe"
   },
   "outputs": [
    {
     "data": {
      "text/plain": [
       "1.0"
      ]
     },
     "execution_count": 139,
     "metadata": {},
     "output_type": "execute_result"
    }
   ],
   "source": [
    "precisionk(word2vec,1)"
   ]
  },
  {
   "cell_type": "code",
   "execution_count": 140,
   "metadata": {
    "colab": {
     "base_uri": "https://localhost:8080/"
    },
    "executionInfo": {
     "elapsed": 46,
     "status": "ok",
     "timestamp": 1636452728649,
     "user": {
      "displayName": "Naufal Hilmi",
      "photoUrl": "https://lh3.googleusercontent.com/a-/AOh14Gj7UB8yAHzIcK8gtuCV9hf44dCQUmF8XqLkQI3C=s64",
      "userId": "02567910694508979199"
     },
     "user_tz": -420
    },
    "id": "xPIupxmV-Ck6",
    "outputId": "7478ddb9-7633-4399-cb94-e9f4cb51fbd9"
   },
   "outputs": [
    {
     "data": {
      "text/plain": [
       "1.0"
      ]
     },
     "execution_count": 140,
     "metadata": {},
     "output_type": "execute_result"
    }
   ],
   "source": [
    "precisionk(word2vec,3)"
   ]
  },
  {
   "cell_type": "code",
   "execution_count": 141,
   "metadata": {
    "colab": {
     "base_uri": "https://localhost:8080/"
    },
    "executionInfo": {
     "elapsed": 45,
     "status": "ok",
     "timestamp": 1636452728650,
     "user": {
      "displayName": "Naufal Hilmi",
      "photoUrl": "https://lh3.googleusercontent.com/a-/AOh14Gj7UB8yAHzIcK8gtuCV9hf44dCQUmF8XqLkQI3C=s64",
      "userId": "02567910694508979199"
     },
     "user_tz": -420
    },
    "id": "7DLpD0_C-C7G",
    "outputId": "1be6dba9-78d5-43d2-ef85-86038f64e910"
   },
   "outputs": [
    {
     "data": {
      "text/plain": [
       "0.6"
      ]
     },
     "execution_count": 141,
     "metadata": {},
     "output_type": "execute_result"
    }
   ],
   "source": [
    "precisionk(word2vec,5)"
   ]
  },
  {
   "cell_type": "markdown",
   "metadata": {
    "id": "btZI5xNUxWZX"
   },
   "source": [
    "MAP Macro"
   ]
  },
  {
   "cell_type": "code",
   "execution_count": 142,
   "metadata": {
    "colab": {
     "base_uri": "https://localhost:8080/"
    },
    "executionInfo": {
     "elapsed": 42,
     "status": "ok",
     "timestamp": 1636452728651,
     "user": {
      "displayName": "Naufal Hilmi",
      "photoUrl": "https://lh3.googleusercontent.com/a-/AOh14Gj7UB8yAHzIcK8gtuCV9hf44dCQUmF8XqLkQI3C=s64",
      "userId": "02567910694508979199"
     },
     "user_tz": -420
    },
    "id": "eG3Pe_AkxbSJ",
    "outputId": "8b17465b-f249-4f76-f2fe-f28ebacbfa11"
   },
   "outputs": [
    {
     "data": {
      "text/plain": [
       "0.8658730158730159"
      ]
     },
     "execution_count": 142,
     "metadata": {},
     "output_type": "execute_result"
    }
   ],
   "source": [
    "lst_data = [bm25,word2vec]\n",
    "MAPMacro(lst_data)"
   ]
  },
  {
   "cell_type": "markdown",
   "metadata": {
    "id": "F8fZa0UgzydA"
   },
   "source": [
    "MAP Micro"
   ]
  },
  {
   "cell_type": "code",
   "execution_count": 143,
   "metadata": {
    "colab": {
     "base_uri": "https://localhost:8080/"
    },
    "executionInfo": {
     "elapsed": 38,
     "status": "ok",
     "timestamp": 1636452728651,
     "user": {
      "displayName": "Naufal Hilmi",
      "photoUrl": "https://lh3.googleusercontent.com/a-/AOh14Gj7UB8yAHzIcK8gtuCV9hf44dCQUmF8XqLkQI3C=s64",
      "userId": "02567910694508979199"
     },
     "user_tz": -420
    },
    "id": "xXo2EilUzz-W",
    "outputId": "85505a36-1992-4140-9f65-54f37b443476"
   },
   "outputs": [
    {
     "data": {
      "text/plain": [
       "0.8658730158730158"
      ]
     },
     "execution_count": 143,
     "metadata": {},
     "output_type": "execute_result"
    }
   ],
   "source": [
    "lst_data = [bm25,word2vec]\n",
    "MAPMicro(lst_data)"
   ]
  },
  {
   "cell_type": "markdown",
   "metadata": {
    "id": "0jKwGI37ROoD"
   },
   "source": [
    "## Recall Evaluation"
   ]
  },
  {
   "cell_type": "code",
   "execution_count": 144,
   "metadata": {
    "executionInfo": {
     "elapsed": 36,
     "status": "ok",
     "timestamp": 1636452728652,
     "user": {
      "displayName": "Naufal Hilmi",
      "photoUrl": "https://lh3.googleusercontent.com/a-/AOh14Gj7UB8yAHzIcK8gtuCV9hf44dCQUmF8XqLkQI3C=s64",
      "userId": "02567910694508979199"
     },
     "user_tz": -420
    },
    "id": "Mw-GMDjZ0ma-"
   },
   "outputs": [],
   "source": [
    "def recallk(data,k,gt):\n",
    "  tmp = data.iloc[:k]\n",
    "  relevance = tmp[tmp['Label'] == '1']\n",
    "  value_recall = len(relevance) / gt\n",
    "  return value_recall"
   ]
  },
  {
   "cell_type": "markdown",
   "metadata": {
    "id": "hPDODTyc36Y8"
   },
   "source": [
    "BM25"
   ]
  },
  {
   "cell_type": "code",
   "execution_count": 145,
   "metadata": {
    "colab": {
     "base_uri": "https://localhost:8080/"
    },
    "executionInfo": {
     "elapsed": 36,
     "status": "ok",
     "timestamp": 1636452728652,
     "user": {
      "displayName": "Naufal Hilmi",
      "photoUrl": "https://lh3.googleusercontent.com/a-/AOh14Gj7UB8yAHzIcK8gtuCV9hf44dCQUmF8XqLkQI3C=s64",
      "userId": "02567910694508979199"
     },
     "user_tz": -420
    },
    "id": "OkLaWjFD3xA2",
    "outputId": "9dd61e2d-d7cc-4f3b-dff2-ff031fd24f45"
   },
   "outputs": [
    {
     "data": {
      "text/plain": [
       "0.2"
      ]
     },
     "execution_count": 145,
     "metadata": {},
     "output_type": "execute_result"
    }
   ],
   "source": [
    "recallk(bm25,1,5)"
   ]
  },
  {
   "cell_type": "code",
   "execution_count": 146,
   "metadata": {
    "colab": {
     "base_uri": "https://localhost:8080/"
    },
    "executionInfo": {
     "elapsed": 34,
     "status": "ok",
     "timestamp": 1636452728653,
     "user": {
      "displayName": "Naufal Hilmi",
      "photoUrl": "https://lh3.googleusercontent.com/a-/AOh14Gj7UB8yAHzIcK8gtuCV9hf44dCQUmF8XqLkQI3C=s64",
      "userId": "02567910694508979199"
     },
     "user_tz": -420
    },
    "id": "kQYOuWBx3zNi",
    "outputId": "4614674a-be9b-441c-d986-b47f3d691c03"
   },
   "outputs": [
    {
     "data": {
      "text/plain": [
       "0.6"
      ]
     },
     "execution_count": 146,
     "metadata": {},
     "output_type": "execute_result"
    }
   ],
   "source": [
    "recallk(bm25,3,5)"
   ]
  },
  {
   "cell_type": "code",
   "execution_count": 147,
   "metadata": {
    "colab": {
     "base_uri": "https://localhost:8080/"
    },
    "executionInfo": {
     "elapsed": 33,
     "status": "ok",
     "timestamp": 1636452728654,
     "user": {
      "displayName": "Naufal Hilmi",
      "photoUrl": "https://lh3.googleusercontent.com/a-/AOh14Gj7UB8yAHzIcK8gtuCV9hf44dCQUmF8XqLkQI3C=s64",
      "userId": "02567910694508979199"
     },
     "user_tz": -420
    },
    "id": "t5A41ctn3zef",
    "outputId": "842fb4aa-c9db-4845-9c08-9923d045590a"
   },
   "outputs": [
    {
     "data": {
      "text/plain": [
       "0.8"
      ]
     },
     "execution_count": 147,
     "metadata": {},
     "output_type": "execute_result"
    }
   ],
   "source": [
    "recallk(bm25,5,5)"
   ]
  },
  {
   "cell_type": "markdown",
   "metadata": {
    "id": "Bc7JBeUG37Z6"
   },
   "source": [
    "Word2Vec"
   ]
  },
  {
   "cell_type": "code",
   "execution_count": 148,
   "metadata": {
    "colab": {
     "base_uri": "https://localhost:8080/"
    },
    "executionInfo": {
     "elapsed": 31,
     "status": "ok",
     "timestamp": 1636452728654,
     "user": {
      "displayName": "Naufal Hilmi",
      "photoUrl": "https://lh3.googleusercontent.com/a-/AOh14Gj7UB8yAHzIcK8gtuCV9hf44dCQUmF8XqLkQI3C=s64",
      "userId": "02567910694508979199"
     },
     "user_tz": -420
    },
    "id": "bPX_CSM_38ik",
    "outputId": "84e321bf-5d45-4007-835d-58693b928a1b"
   },
   "outputs": [
    {
     "data": {
      "text/plain": [
       "0.2"
      ]
     },
     "execution_count": 148,
     "metadata": {},
     "output_type": "execute_result"
    }
   ],
   "source": [
    "recallk(word2vec,1,5)"
   ]
  },
  {
   "cell_type": "code",
   "execution_count": 149,
   "metadata": {
    "colab": {
     "base_uri": "https://localhost:8080/"
    },
    "executionInfo": {
     "elapsed": 30,
     "status": "ok",
     "timestamp": 1636452728654,
     "user": {
      "displayName": "Naufal Hilmi",
      "photoUrl": "https://lh3.googleusercontent.com/a-/AOh14Gj7UB8yAHzIcK8gtuCV9hf44dCQUmF8XqLkQI3C=s64",
      "userId": "02567910694508979199"
     },
     "user_tz": -420
    },
    "id": "zfhYfXdl392C",
    "outputId": "b2c5db66-1b4e-4c0a-a06f-ba9eae0b3cb6"
   },
   "outputs": [
    {
     "data": {
      "text/plain": [
       "0.6"
      ]
     },
     "execution_count": 149,
     "metadata": {},
     "output_type": "execute_result"
    }
   ],
   "source": [
    "recallk(word2vec,3,5)"
   ]
  },
  {
   "cell_type": "code",
   "execution_count": 150,
   "metadata": {
    "colab": {
     "base_uri": "https://localhost:8080/"
    },
    "executionInfo": {
     "elapsed": 29,
     "status": "ok",
     "timestamp": 1636452728655,
     "user": {
      "displayName": "Naufal Hilmi",
      "photoUrl": "https://lh3.googleusercontent.com/a-/AOh14Gj7UB8yAHzIcK8gtuCV9hf44dCQUmF8XqLkQI3C=s64",
      "userId": "02567910694508979199"
     },
     "user_tz": -420
    },
    "id": "It7loeDZ3-Sa",
    "outputId": "c2745bc8-fac4-4d12-ca5f-9b86182c6eb9"
   },
   "outputs": [
    {
     "data": {
      "text/plain": [
       "0.6"
      ]
     },
     "execution_count": 150,
     "metadata": {},
     "output_type": "execute_result"
    }
   ],
   "source": [
    "recallk(word2vec,5,5)"
   ]
  },
  {
   "cell_type": "markdown",
   "metadata": {
    "id": "1Uuw21NMRPir"
   },
   "source": [
    "## Summary"
   ]
  },
  {
   "cell_type": "markdown",
   "metadata": {
    "id": "TQKP3J6S4VfS"
   },
   "source": [
    "Dilihat dari hasil precision@k dan recall@k dari BM25 dan Word2Vec memiliki kemiripan. Menurut hasil MAP micro maupun macro juga mendapatkan hasil yang cukup besar. Precision dari BM25 dan Word2Vec sudah cukup baik pada 3 element pertama dikarenakan element yang di retrieve oleh 2 query ini sudah memberikan document yang menurut saya releven terhadap query 'information retrieval'. Namun tentu saja untuk 10 document yang di retrieve tidak semuanya merupakan dokumen yang relevan.\n",
    "\n",
    "Melihat perbandingan hasil precision@k dan recall@k, Hasil yang berbeda hanyalah pada precision@5 dan recall@5 dimana BM25 memiliki nilai yang lebih besar. Hal ini dikarenakan pada 5 elemen teratas BM25 memiliki document relevan yang di retrieve dibandingkan Word2Vec.\n",
    "\n",
    "Secara keseluruhan nilai dari jumlah document relevan yang di retrieve Word2Vec terkadang lebih banyak dibandingkan BM25 dimana hal ini tergantung terhadap hasil dari model Word2Vec. Ini mempengaruhi hasil dari precision dan recall Word2Vec yang akan menghasilkan nilai yang berbeda sedangkan BM25 akan konstan karena nilai perhitungan sudah pasti."
   ]
  }
 ],
 "metadata": {
  "colab": {
   "authorship_tag": "ABX9TyNMBuEmUmEag0yQgfiu1dhz",
   "collapsed_sections": [
    "W4bxNWeGrQGt",
    "xsircK_R2Z4v",
    "07wxPZRZQmPK",
    "shuZDNO6QpS9",
    "TmQ4HjhQQsUH",
    "IlQO0IziQuUQ",
    "uRaUBaATQvNl",
    "AHy0MdE9Qv_S",
    "xn5WY0WZQxCD",
    "5-Y_dzYXQx7Z",
    "CnQ6A8gWTn4b",
    "CkviCHaoVNJP",
    "IzGhdiO5RClJ",
    "9tZYeNclRELl",
    "s-12tXQVRFns",
    "10Y1ot3TRKMj"
   ],
   "name": "Tugas3_1806186673_NaufalHilmiIrfandi.ipynb",
   "provenance": []
  },
  "kernelspec": {
   "display_name": "Python 3",
   "name": "python3"
  },
  "language_info": {
   "name": "python"
  }
 },
 "nbformat": 4,
 "nbformat_minor": 0
}
